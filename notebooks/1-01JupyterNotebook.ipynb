{
 "cells": [
  {
   "cell_type": "markdown",
   "id": "fbeb42a3-60d2-4de2-9c1d-c5ae59efe2a5",
   "metadata": {
    "slideshow": {
     "slide_type": "slide"
    }
   },
   "source": [
    "# Jupyter Notebook\n",
    "\n",
    "<img src=\"https://jupyter.org/assets/logos/rectanglelogo-greytext-orangebody-greymoons.svg\" width=\"200\" />\n",
    "\n",
    "> 수정 2022.05"
   ]
  },
  {
   "cell_type": "markdown",
   "id": "3e44635b-0c54-4c92-a9bb-6d84831925b7",
   "metadata": {
    "slideshow": {
     "slide_type": "slide"
    }
   },
   "source": [
    "브라우저 기반 인터랙티브 파이썬 환경\n",
    "* 인터랙티브 파이썬 코딩\n",
    "* 매직 명령어\n",
    "* 시스템 쉘\n",
    "* 마크다운 문법\n",
    "* 수학식 표현 (Latex)\n",
    "* 슬라이드, HTML, PDF\n",
    "* 대규모 병렬 컴퓨팅 (IPython.parallel)"
   ]
  },
  {
   "cell_type": "markdown",
   "id": "15ca0516-5834-48c9-ba83-756cafdc5163",
   "metadata": {},
   "source": [
    "**iPython 동작**\n",
    "\n",
    "<img src='https://ipython.org/ipython-doc/3/_images/notebook_components.png' width='500'>\n",
    "- https://ipython.org/ipython-doc/3/development/how_ipython_works.html\n",
    "\n"
   ]
  },
  {
   "cell_type": "markdown",
   "id": "6758c974-fb58-4adb-964d-cbd30e8c756f",
   "metadata": {
    "slideshow": {
     "slide_type": "slide"
    }
   },
   "source": [
    "# 특징\n",
    "\n",
    "* 웹기반의 대화적\n",
    "* 노트 정리하듯 정리, 손쉽게 공유\n",
    "* 개발, 문서화 환경\n",
    "* **매우 혁신적인 도구**\n",
    "* 웹 응용프로그램과 문서를 결합한 형태\n",
    "* 실행 코드, 설명 텍스트, 수학식, 미디어도 문서에 포함"
   ]
  },
  {
   "cell_type": "markdown",
   "id": "a9d961a8-b4c3-4c0c-8aab-9e91fc3183fb",
   "metadata": {
    "slideshow": {
     "slide_type": "slide"
    }
   },
   "source": [
    "# 코드 작성\n",
    "\n",
    "* 코드 편집, 자동구문강조 syntax hilighting, 자동 들여쓰기, 탭 완성\n",
    "* 실행결과를 브라우저내 inline 에 표시\n",
    "* HTML, LaTex 수학식, PNG, SVG 등 표현, matplotlib을 중간 삽입\n",
    "* Markdowm 편집하여 간단한 서식있는 문서를 작성\n",
    "* 수학적 표기법을 포함하고, 표현 Mathjax"
   ]
  },
  {
   "cell_type": "markdown",
   "id": "bd6ee474-92c1-4a43-ba12-fd2a0e5791d4",
   "metadata": {
    "slideshow": {
     "slide_type": "slide"
    }
   },
   "source": [
    "# 시작과 종료\n",
    "\n",
    "시작 (로컬 혹은 서버로 실행)\n",
    "\n",
    "쥬피터 노트북\n",
    "\n",
    "```bash\n",
    "# 서버로 실행\n",
    "$ jupyter notebook --ip=0.0.0.0 --port=8080\n",
    "```"
   ]
  },
  {
   "cell_type": "markdown",
   "id": "05b3aca5-2a79-45e1-ab0f-636cb39245d3",
   "metadata": {
    "slideshow": {
     "slide_type": "slide"
    }
   },
   "source": [
    "쥬피터 랩\n",
    "\n",
    "```bash\n",
    "$ jupyter-lab --no-browser --port=8080 DIR\n",
    "```\n",
    "\n",
    "\n",
    "종료는 Ctrl+C"
   ]
  },
  {
   "cell_type": "markdown",
   "id": "94f08c2a-fb82-4b09-a43e-c3ae95bfbf81",
   "metadata": {
    "slideshow": {
     "slide_type": "slide"
    }
   },
   "source": [
    "# 명령모드와 편집모드\n",
    "\n",
    "Jupyter Notebook 키보드 입력에는 두 가지 모드가 있다.\n",
    "* 명령모드(Command mode): 노트북의 셀을 편집 (파란색+회색 테두리) \n",
    "* 편집모드(Edit mode): 셀에 있는 텍스트나 코드를 편집 (녹색 테두리)\n",
    "\n",
    "\n",
    "모드 전환\n",
    "* Esc키를 누르면 명령모드로, Enter를 누르면 편집모드로 상호전환\n",
    "* 명령 모드에서 j,k 키로 아래/위로 이동 (vi 에디터, 대부분 SNS 동일)\n",
    "* 도움말 표시: 명령 모드에서 h 키"
   ]
  },
  {
   "cell_type": "markdown",
   "id": "a5ca95f1-2411-413a-93c3-85fde66d3c2d",
   "metadata": {
    "slideshow": {
     "slide_type": "slide"
    }
   },
   "source": [
    "# 실행과 저장(명령모드, 편집모드 공통)\n",
    "자주 사용되는 키보드를 확인하고 익혀두자\n",
    "\n",
    "* Ctrl-Enter 현재 셀 실행 \n",
    "* Shift-Enter 셀 실행 + 아래로 이동 \n",
    "* Ctrl-s: 노트북 저장 "
   ]
  },
  {
   "cell_type": "markdown",
   "id": "47a8c273-2c97-4440-b0a7-4a5124270cc6",
   "metadata": {
    "slideshow": {
     "slide_type": "slide"
    }
   },
   "source": [
    "# 명령모드(Esc를 눌러 활성화)\n",
    "자주 사용되는 키보드를 확인하고 익혀두자\n",
    "\n",
    "* Enter 편집 모드 \n",
    "* y: 코드로 전환 \n",
    "* m: 마크다운으로 전환 \n",
    "* ↑, k : 위로, \n",
    "* ↓, j : 아래로 \n",
    "* Ctrl-k: 셀을 위로 이동 \n",
    "* Ctrl-j: 셀을 아래로 이동 \n",
    "* a: 위에 셀 추가 (b는 아래에 셀 추가)\n",
    "* c: 셀 복사 \n",
    "* v: 아래에 셀 붙여넣기 \n",
    "* Shift-m: 셀 아래 병합 \n",
    "* h: 키보드 바로가기 도움말 "
   ]
  },
  {
   "cell_type": "markdown",
   "id": "6b2e3429-0358-4959-8648-db95df48b9ad",
   "metadata": {
    "slideshow": {
     "slide_type": "slide"
    }
   },
   "source": [
    "# 편집모드(Enter를 눌러 활성화)\n",
    "자주 사용되는 키보드를 확인하고 익혀두자\n",
    "\n",
    "* Esc: 명령모드 \n",
    "* Ctrl-Shift--: 셀 분할 \n",
    "* Ctrl-Left: 단어 단위 왼쪽으로 \n",
    "* Ctrl-Right: 단어 단위 오른쪽으로 "
   ]
  },
  {
   "cell_type": "markdown",
   "id": "e86e4258-ada0-4ef7-b07a-94c2ccef7231",
   "metadata": {
    "slideshow": {
     "slide_type": "slide"
    }
   },
   "source": [
    "# 콤보 응용\n",
    "* 예를 들어: 편집하는 도중에 아래에 빈 셀을 추가하고 싶다면, Esc, b \n",
    "* 키보드 명령을 훨씬 빠르게 그리고 편리하게 사용할 수 있다."
   ]
  },
  {
   "cell_type": "markdown",
   "id": "95c6145d-11d9-41c4-869b-8d08f8257f4d",
   "metadata": {},
   "source": [
    "# Python help"
   ]
  },
  {
   "cell_type": "code",
   "execution_count": null,
   "id": "77b7d38d-db3a-4f46-8bbc-4b8c88edca1a",
   "metadata": {},
   "outputs": [],
   "source": [
    "import numpy as np"
   ]
  },
  {
   "cell_type": "code",
   "execution_count": null,
   "id": "2b318b04-fd0d-4ae7-a835-5ed2f444be72",
   "metadata": {},
   "outputs": [],
   "source": [
    "np.exp"
   ]
  },
  {
   "cell_type": "code",
   "execution_count": null,
   "id": "1d9aeb67-7300-4290-9c8a-c83e6622bf60",
   "metadata": {
    "tags": []
   },
   "outputs": [],
   "source": [
    "help(np.exp)   # docstrings"
   ]
  },
  {
   "cell_type": "code",
   "execution_count": null,
   "id": "c461127b-79e1-4c70-970f-a8e21f9ef4e8",
   "metadata": {},
   "outputs": [],
   "source": [
    "def add(x:int, y:int) -> int:\n",
    "    \"\"\"add()는 두 수를 더한 결과를 반환한다.\n",
    "    \"\"\"\n",
    "    return x+y"
   ]
  },
  {
   "cell_type": "markdown",
   "id": "25750862-8e8f-4a16-944a-d6112a3602b1",
   "metadata": {},
   "source": [
    "### 노트북 도움말 `?` 이용"
   ]
  },
  {
   "cell_type": "code",
   "execution_count": null,
   "id": "9642506b-e53a-4872-aa56-da980a9111a9",
   "metadata": {},
   "outputs": [],
   "source": [
    "add?"
   ]
  },
  {
   "cell_type": "code",
   "execution_count": null,
   "id": "1d02528e-c90f-4825-94b0-1c97bc074f18",
   "metadata": {},
   "outputs": [],
   "source": [
    "add??"
   ]
  },
  {
   "cell_type": "markdown",
   "id": "242e8619-9e49-4d7a-af88-34a87e6e182b",
   "metadata": {},
   "source": [
    "### 노트북 도움말 : **Shift + TAB**\n"
   ]
  },
  {
   "cell_type": "code",
   "execution_count": null,
   "id": "6a096922-3704-4827-a8d2-c27a2dd50fff",
   "metadata": {},
   "outputs": [],
   "source": [
    "add    # Shift+tab"
   ]
  },
  {
   "cell_type": "markdown",
   "id": "23a25057-a626-4c41-9d44-f01b06826da0",
   "metadata": {},
   "source": [
    "# 매직커맨드"
   ]
  },
  {
   "cell_type": "code",
   "execution_count": null,
   "id": "62d7e7c3-7663-4b6d-a14b-ee7da3ef0022",
   "metadata": {
    "tags": []
   },
   "outputs": [],
   "source": [
    "%lsmagic"
   ]
  },
  {
   "cell_type": "code",
   "execution_count": null,
   "id": "6211f88c-f9e7-4346-b141-e2e855e5a586",
   "metadata": {},
   "outputs": [],
   "source": [
    "%reset"
   ]
  },
  {
   "cell_type": "code",
   "execution_count": null,
   "id": "9afc4e2e-6451-4ed7-9fc5-6150ec779e49",
   "metadata": {},
   "outputs": [],
   "source": [
    "np"
   ]
  },
  {
   "cell_type": "code",
   "execution_count": null,
   "id": "ab0b9c69-b0be-4ab7-b509-a8d8db544d35",
   "metadata": {},
   "outputs": [],
   "source": [
    "%cd Jupyter-AI/"
   ]
  },
  {
   "cell_type": "code",
   "execution_count": null,
   "id": "d4f52f2e-edd0-4053-b984-380bffb7fdaf",
   "metadata": {},
   "outputs": [],
   "source": [
    "%reset"
   ]
  },
  {
   "cell_type": "code",
   "execution_count": null,
   "id": "858ce59a-1ac6-4b6c-b5fc-de79ddc7c52b",
   "metadata": {},
   "outputs": [],
   "source": [
    "%whos"
   ]
  },
  {
   "cell_type": "code",
   "execution_count": null,
   "id": "ca886b5c-fe28-4702-ac61-39a2f45fa219",
   "metadata": {},
   "outputs": [],
   "source": [
    "%%writefile add.py\n",
    "\n",
    "def add(x:int, y:int) -> int:\n",
    "    \"\"\"add()는 두 수를 더한 결과를 반환한다.\n",
    "    \"\"\"\n",
    "    return x+y\n",
    "\n",
    "print(add(100, 20))"
   ]
  },
  {
   "cell_type": "code",
   "execution_count": null,
   "id": "f96b14b7-eaf2-4e9d-8b41-e94651806c97",
   "metadata": {},
   "outputs": [],
   "source": [
    "%ls add.py"
   ]
  },
  {
   "cell_type": "code",
   "execution_count": null,
   "id": "0016a3f3-1dfc-4fc0-899d-9b0644b8d02c",
   "metadata": {},
   "outputs": [],
   "source": [
    "%run add.py"
   ]
  },
  {
   "cell_type": "code",
   "execution_count": null,
   "id": "7741b8ec-10a4-4edc-ac67-396cf0265b27",
   "metadata": {},
   "outputs": [],
   "source": [
    "! python add.py"
   ]
  },
  {
   "cell_type": "code",
   "execution_count": null,
   "id": "d8ca5f15-d6ac-4727-b94c-d5c0169e7098",
   "metadata": {},
   "outputs": [],
   "source": []
  },
  {
   "cell_type": "code",
   "execution_count": null,
   "id": "21758526-f8c9-4f95-9fa8-8d3c8eb31bcb",
   "metadata": {},
   "outputs": [],
   "source": [
    "%mkdir test"
   ]
  },
  {
   "cell_type": "code",
   "execution_count": null,
   "id": "707c22e1-94b9-449a-9b9e-8c7c4db5bfde",
   "metadata": {},
   "outputs": [],
   "source": [
    "!mkdir test2"
   ]
  },
  {
   "cell_type": "code",
   "execution_count": null,
   "id": "c4d7068b-d3ed-4621-95ae-3e11b96b521e",
   "metadata": {},
   "outputs": [],
   "source": [
    "!mv test2 test3"
   ]
  },
  {
   "cell_type": "code",
   "execution_count": null,
   "id": "d166377b-54da-4080-a2db-a4c203ddf391",
   "metadata": {},
   "outputs": [],
   "source": [
    "%mv test2 test3"
   ]
  },
  {
   "cell_type": "markdown",
   "id": "60f8e7b7-ac13-4083-8c46-38441873809f",
   "metadata": {},
   "source": [
    "### ex) 외부명령 실행 결과 저장하는 방법 찾아보세요!!!"
   ]
  },
  {
   "cell_type": "code",
   "execution_count": null,
   "id": "194ba128-6688-4743-bfd3-c08fc17cb7a8",
   "metadata": {},
   "outputs": [],
   "source": []
  },
  {
   "cell_type": "code",
   "execution_count": null,
   "id": "38611fdf-369c-4dc7-8b7c-1df57fdc3271",
   "metadata": {},
   "outputs": [],
   "source": []
  },
  {
   "cell_type": "code",
   "execution_count": null,
   "id": "04616778-ab35-4451-8ea0-bf7d90e50645",
   "metadata": {},
   "outputs": [],
   "source": []
  },
  {
   "cell_type": "markdown",
   "id": "3ba71c6d-c85c-4e38-9d74-f76dbcea5969",
   "metadata": {},
   "source": [
    "## 수행시간 프로파일링\n",
    "\n",
    " - `%time`: 코드를 한번 수행되는 시간\n",
    " - `%timeit` , `%%timeit`: 코드를 여러번 수행해 평균을 측정"
   ]
  },
  {
   "cell_type": "code",
   "execution_count": null,
   "id": "5da43163-9e86-4489-9dea-29b85fe317df",
   "metadata": {},
   "outputs": [],
   "source": [
    "from collections import deque"
   ]
  },
  {
   "cell_type": "code",
   "execution_count": null,
   "id": "32c1a7f3-0ac5-432d-b60b-1d7332ee9c30",
   "metadata": {},
   "outputs": [],
   "source": []
  },
  {
   "cell_type": "markdown",
   "id": "4493e420-7a46-4a15-bee1-df7658b58b03",
   "metadata": {},
   "source": [
    "### `%time` 과 `%%time`\n",
    "\n",
    "코드가 한번 실행하는 수행시간을 측정"
   ]
  },
  {
   "cell_type": "code",
   "execution_count": null,
   "id": "346caefe-c556-403a-87d0-729660eeb873",
   "metadata": {
    "tags": []
   },
   "outputs": [],
   "source": [
    "%time deque([i for i in range(100)])"
   ]
  },
  {
   "cell_type": "code",
   "execution_count": null,
   "id": "d39acd76-7ee4-4a07-91dc-06438d1d768b",
   "metadata": {},
   "outputs": [],
   "source": [
    "%time sum(range(100))"
   ]
  },
  {
   "cell_type": "code",
   "execution_count": null,
   "id": "afc05683-411d-4ece-b47c-7f966f8df652",
   "metadata": {},
   "outputs": [],
   "source": [
    "%%time\n",
    "sum(range(100))\n",
    "sum(range(1000))"
   ]
  },
  {
   "cell_type": "markdown",
   "id": "1cca44cb-d022-415d-b1fe-dd13ebca0603",
   "metadata": {},
   "source": [
    "### `%timeit` 과 `%%timeit`\n",
    "\n",
    "코드를 여러번 수행한 평균 시간을 측정"
   ]
  },
  {
   "cell_type": "code",
   "execution_count": null,
   "id": "efb2ad7f-4f1c-4145-90e5-b9d0bde664f6",
   "metadata": {},
   "outputs": [],
   "source": [
    "import numpy as np"
   ]
  },
  {
   "cell_type": "code",
   "execution_count": null,
   "id": "84b3f556-638f-4f7b-bffb-dbedd5f54c3e",
   "metadata": {},
   "outputs": [],
   "source": [
    "%timeit np.sum(1000)"
   ]
  },
  {
   "cell_type": "code",
   "execution_count": null,
   "id": "849e8e63-323b-4a04-bb5a-d365f112cb8f",
   "metadata": {},
   "outputs": [],
   "source": [
    "%%timeit"
   ]
  },
  {
   "cell_type": "code",
   "execution_count": null,
   "id": "b5b143e2-5823-4fe7-830e-6ad7eaed2faf",
   "metadata": {},
   "outputs": [],
   "source": [
    "%timeit deque([i for i in range(100)])\n",
    "%timeit deque([i for i in range(10000)])\n",
    "%timeit deque([i for i in range(1000000)])\n",
    "%timeit deque([i for i in range(100000000)])"
   ]
  },
  {
   "cell_type": "code",
   "execution_count": null,
   "id": "8b69a831-c397-4e82-96ce-130677378398",
   "metadata": {},
   "outputs": [],
   "source": [
    "%timeit deque(i for i in range(100))\n",
    "%timeit deque(i for i in range(10000))\n",
    "%timeit deque(i for i in range(1000000))\n",
    "%timeit deque(i for i in range(100000000))"
   ]
  },
  {
   "cell_type": "code",
   "execution_count": null,
   "id": "25922ccd-3417-49ec-a71a-1865855525f3",
   "metadata": {},
   "outputs": [],
   "source": [
    "%timeit deque(range(100))\n",
    "%timeit deque(range(10000))\n",
    "%timeit deque(range(1000000))\n",
    "%timeit deque(range(100000000))"
   ]
  },
  {
   "cell_type": "code",
   "execution_count": null,
   "id": "cc4c4c03-c0c4-45e0-9617-6453c736e08d",
   "metadata": {},
   "outputs": [],
   "source": [
    "%timeit [i for i in range(100)]\n",
    "%timeit [i for i in range(10000)]\n",
    "%timeit [i for i in range(1000000)]\n",
    "%timeit [i for i in range(100000000)]"
   ]
  },
  {
   "cell_type": "code",
   "execution_count": null,
   "id": "67681ea2-6e8b-4e73-8335-4cd282c4f601",
   "metadata": {},
   "outputs": [],
   "source": [
    "%timeit list(range(100))\n",
    "%timeit list(range(10000))\n",
    "%timeit list(range(1000000))\n",
    "%timeit list(range(100000000))"
   ]
  },
  {
   "cell_type": "code",
   "execution_count": null,
   "id": "a77e3437-693a-44fa-a373-0e709ff30379",
   "metadata": {},
   "outputs": [],
   "source": [
    "%%timeit\n",
    "\n",
    "list(range(100))\n",
    "list(range(10000))\n",
    "list(range(1000000))\n",
    "list(range(100000000))"
   ]
  },
  {
   "cell_type": "markdown",
   "id": "27857e4a-3b23-4ecb-b31d-2561c7e2ec4c",
   "metadata": {},
   "source": [
    "### `%timeit` 의 옵션\n",
    "\n",
    "- `-n` : 한 루프당 몇 번 실행할 것인지 지정한다. 지정하지 않으면 알아서 적당히 충분히 정확한 데이터가 나올 정도로 실행함\n",
    "- `-r` : %timeit은 여러번 반복해서 그 평균값과 오차범위를 보여주는데, 몇 번 반복할 것인지를 지정할 수 있다.  기본값으로 7번 반복."
   ]
  },
  {
   "cell_type": "code",
   "execution_count": null,
   "id": "41a66fab-d351-4435-b92e-55efc7798cd1",
   "metadata": {},
   "outputs": [],
   "source": [
    "#  3(loops) * 3(runs)로 총 9번 실행이 된다\n",
    "%%timeit -n 3 -r 3\n",
    "\n",
    "list(range(100))\n",
    "list(range(10000))\n",
    "list(range(1000000))\n",
    "list(range(100000000))"
   ]
  },
  {
   "cell_type": "code",
   "execution_count": null,
   "id": "fa6624b8-8139-4959-abe1-fda8884cec0a",
   "metadata": {},
   "outputs": [],
   "source": [
    "%timeit -n 3 -r 3 sum(range(1000))"
   ]
  },
  {
   "cell_type": "code",
   "execution_count": null,
   "id": "de90d0e0-b208-44f5-99f4-32eb5cba6ae8",
   "metadata": {},
   "outputs": [],
   "source": [
    "%timeit -n 1 -r 3 sum(range(1000))"
   ]
  },
  {
   "cell_type": "markdown",
   "id": "99221f36-8731-42e2-bb1f-e3c3db1ada47",
   "metadata": {},
   "source": [
    " - `-t` : 시간계산에 time.time 모듈을 사용하게 된다. Unix 시스템에서 디폴트값이다\n",
    " - `-c` : 시간계산에 time.clock 모듈을 사용하게 된다. Windows 시스템에서 디폴트값이다. Unix시스템에서 이 옵션을 주면 Wall time(사람이 인지할 수 있는 시간) 대신 CPU time으로 계산된다\n",
    " - `-p` : 소숫점 몇자리까지 표시되는지 설정할 수 있다. 디폴트값은 3이다\n",
    " - `-q` : Quiet, 즉 결과값이 출력되지 않는다\n",
    " - `-o` : 결과를 TimeitResult객체로 반환한다"
   ]
  },
  {
   "cell_type": "code",
   "execution_count": null,
   "id": "d51e882b-21b3-4974-a244-692e559d6a8b",
   "metadata": {},
   "outputs": [],
   "source": []
  },
  {
   "cell_type": "markdown",
   "id": "9b15688f-f8d9-4980-8a09-f97364872687",
   "metadata": {},
   "source": [
    "# Markdown 사용\n",
    "\n",
    "https://guides.github.com/features/mastering-markdown/"
   ]
  },
  {
   "cell_type": "markdown",
   "id": "9e060e02-9ed3-481e-ab2c-4b39e290d04c",
   "metadata": {},
   "source": [
    "## 헤딩\n",
    "\n",
    "`#` 으로 `<h>` 태그 표현\n",
    "\n",
    "\n",
    "\n",
    "```html\n",
    "<h1></h1>\n",
    "<h2></h2>\n",
    "<h3></h3>\n",
    "<h4></h4>\n",
    "<h5></h5>\n",
    "```\n"
   ]
  },
  {
   "cell_type": "markdown",
   "id": "61b9cc23-3cc6-433d-9dee-0e9d3d19f858",
   "metadata": {},
   "source": [
    "## 텍스트 스타일\n",
    "\n",
    "```\n",
    "*안녕하세요*\n",
    "\n",
    "_안녕하세요_\n",
    "\n",
    "\n",
    "**안녕하세요**\n",
    "\n",
    "__안녕하세요__\n",
    "\n",
    "안녕하세요. **IoT** **_과정_** 여러분 ***반갑***습니다.\n",
    "```\n",
    "\n",
    "\n"
   ]
  },
  {
   "cell_type": "markdown",
   "id": "74aa4580-325e-496f-9358-9bf11c4e1471",
   "metadata": {},
   "source": [
    "## 인용\n",
    "\n",
    "```\n",
    "> 인용은 해당 문서 내용중 외부에서 얻은 자료...\n",
    "자료....\n",
    "\n",
    ">인용은 해당 문서 내용중 외부에서\n",
    "> ```java\n",
    "> public class java {\n",
    "> \n",
    "> }\n",
    "> ```\n",
    "```"
   ]
  },
  {
   "cell_type": "markdown",
   "id": "9b0aeaa6-6ca4-4f34-892c-a2269b686d8a",
   "metadata": {},
   "source": [
    "## 코드\n",
    "\n",
    "```\n",
    "def foo():\n",
    "    if not bar:\n",
    "        return True\n",
    "```\n"
   ]
  },
  {
   "cell_type": "markdown",
   "id": "23bc71dc-91b2-4ce5-a05f-534e4a182ee0",
   "metadata": {},
   "source": [
    "## Syntax highlighting\n",
    "\n",
    "\n",
    "```python\n",
    "def foo():\n",
    "    if not bar:\n",
    "        return True\n",
    "```"
   ]
  },
  {
   "cell_type": "markdown",
   "id": "33f8a76d-a8ac-467b-9c45-d0906753b8f1",
   "metadata": {},
   "source": [
    "## 링크\n",
    "\n",
    "```\n",
    "[서브1](./sub1.md)\n",
    "\n",
    "[서브1](sub1.md)\n",
    "\n",
    "[서브1](/day2/sub1.md)\n",
    "\n",
    "[깃헙](https://guides.github.com/features/mastering-markdown/)\n",
    "```\n",
    "\n",
    "a link\n",
    "\n",
    "```\n",
    "<a href=\"./sub1.md\">a link 서브1</a>\n",
    "```\n"
   ]
  },
  {
   "cell_type": "markdown",
   "id": "2be52248-76b2-434f-bbf9-bede7ae4e24b",
   "metadata": {},
   "source": [
    "[서브1](./sub1.md)\n",
    "\n",
    "[서브1](sub1.md)\n",
    "\n",
    "[서브1](/day2/sub1.md)\n",
    "\n",
    "[깃헙](https://guides.github.com/features/mastering-markdown/)\n",
    "```\n",
    "\n",
    "a link\n",
    "\n",
    "<a href=\"./sub1.md\">a link 서브1</a>\n"
   ]
  },
  {
   "cell_type": "markdown",
   "id": "d9ea8e5c-df3c-4409-a374-34043633ab3a",
   "metadata": {},
   "source": [
    "## 이미지\n",
    "\n",
    "```\n",
    "![](https://octodex.github.com/images/yaktocat.png)\n",
    "\n",
    "<img src='https://octodex.github.com/images/yaktocat.png' width=200>\n",
    "```\n"
   ]
  },
  {
   "cell_type": "markdown",
   "id": "bd4aa348-916e-4c18-9bd9-9ee2c74a3456",
   "metadata": {},
   "source": [
    "## 리스트\n",
    "\n",
    "HTML 리스트\n",
    "\n",
    "```\n",
    "<ul>\n",
    " <li>하나\n",
    " <li>둘\n",
    "</ul>\n",
    "\n",
    "<ol>\n",
    " <li>하나\n",
    " <li>둘\n",
    "</ol>\n",
    "```"
   ]
  },
  {
   "cell_type": "markdown",
   "id": "8d813ea5-d0b7-4dc1-af9f-a54c8a3630f8",
   "metadata": {},
   "source": [
    "마크다운 리스트\n",
    "\n",
    "```\n",
    "- 아이템1\n",
    "- 아이템2\n",
    "    - 아이템22\n",
    "\n",
    "+ 아이템1\n",
    "+ 아이템2\n",
    "    - 아이템3\n",
    "    - 아이템4\n",
    "\n",
    "- 아이템1\n",
    "    - 아이템 중에 **중요**한 것으..\n",
    "```"
   ]
  },
  {
   "cell_type": "markdown",
   "id": "3285930b-89cd-45f4-8300-ec278a7c3725",
   "metadata": {},
   "source": [
    "마크다운 순서있는 리스트\n",
    "\n",
    "```\n",
    "1. 하나\n",
    "2. 둘\n",
    "3. 셋\n",
    "\n",
    "문장을 써주시거나.\n",
    "\n",
    "1. 하나\n",
    "1. 둘\n",
    "1. 셋\n",
    "    1. 들여쓰기\n",
    "    1. 들여쓰기\n",
    "    1. 들여쓰기\n",
    "        - 순서없는\n",
    "        - 순서없는\n",
    "        \n",
    "```\n"
   ]
  },
  {
   "cell_type": "markdown",
   "id": "8688c1fc-7197-4d61-a2cf-a512b38610c3",
   "metadata": {},
   "source": [
    "## Task lists\n",
    "\n",
    "```\n",
    "- [x] @mentions, #refs, [links](), **formatting**, and <del>tags</del> supported\n",
    "- [x] list syntax required (any unordered or ordered list supported)\n",
    "- [x] this is a complete item\n",
    "- [ ] this is an incomplete item\n",
    "\n",
    "```"
   ]
  },
  {
   "cell_type": "markdown",
   "id": "03766371-6205-4df6-ba59-34868ec96d3c",
   "metadata": {},
   "source": [
    "- [x] @mentions, #refs, [links](), **formatting**, and <del>tags</del> supported\n",
    "- [x] list syntax required (any unordered or ordered list supported)\n",
    "- [x] this is a complete item\n",
    "- [ ] this is an incomplete item"
   ]
  },
  {
   "cell_type": "markdown",
   "id": "715a7226-a6ae-42ba-90e0-478f2daa8a22",
   "metadata": {
    "slideshow": {
     "slide_type": "slide"
    }
   },
   "source": [
    "## LaTex\n",
    "\n",
    "* Mathjax를 포함하고 있다. LaTeX를 그대로 사용\n",
    "* [위키백과:TeX 문법](https://ko.wikipedia.org/wiki/%EC%9C%84%ED%82%A4%EB%B0%B1%EA%B3%BC:TeX_%EB%AC%B8%EB%B2%95)\n",
    "* 온라인 라텍스 편집기:  https://www.codecogs.com/latex/eqneditor.php\n",
    "\n",
    "\n",
    "```\n",
    "$$c = \\sqrt{a^2 + b^2}$$\n",
    "```\n",
    "\n",
    "$$c = \\sqrt{a^2 + b^2}$$\n",
    "\n",
    "```\n",
    "$$N(\\mu ,\\sigma )$$\n",
    "```\n",
    "\n",
    "$$N(\\mu ,\\sigma )$$"
   ]
  },
  {
   "cell_type": "code",
   "execution_count": null,
   "id": "c36f8690-c5b0-45ac-b847-2e29457f50cb",
   "metadata": {},
   "outputs": [],
   "source": []
  }
 ],
 "metadata": {
  "kernelspec": {
   "display_name": "Python 3 (ipykernel)",
   "language": "python",
   "name": "python3"
  },
  "language_info": {
   "codemirror_mode": {
    "name": "ipython",
    "version": 3
   },
   "file_extension": ".py",
   "mimetype": "text/x-python",
   "name": "python",
   "nbconvert_exporter": "python",
   "pygments_lexer": "ipython3",
   "version": "3.10.3"
  }
 },
 "nbformat": 4,
 "nbformat_minor": 5
}
