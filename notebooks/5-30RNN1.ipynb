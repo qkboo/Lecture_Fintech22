{
 "cells": [
  {
   "cell_type": "code",
   "execution_count": null,
   "metadata": {
    "colab": {
     "base_uri": "https://localhost:8080/",
     "height": 35
    },
    "colab_type": "code",
    "executionInfo": {
     "elapsed": 4211,
     "status": "ok",
     "timestamp": 1575820913129,
     "user": {
      "displayName": "Hwanhee Kim",
      "photoUrl": "https://lh3.googleusercontent.com/a-/AAuE7mAJC9PPBoQ91glDwFjxm3TlW5EqGy0BIAJ52D-ekw=s64",
      "userId": "04863080312902369470"
     },
     "user_tz": -540
    },
    "id": "gl58Zr-ZKjRE",
    "outputId": "e79e9d7f-37e0-4e15-ba28-62661df716f3"
   },
   "outputs": [],
   "source": [
    "# 텐서플로 2 버전 선택\n",
    "try:\n",
    "    # %tensorflow_version only exists in Colab.\n",
    "    %tensorflow_version 2.x\n",
    "except Exception:\n",
    "    pass\n",
    "import tensorflow as tf\n",
    "import numpy as np\n",
    "\n",
    "print(tf.__version__, np.__version__)"
   ]
  },
  {
   "cell_type": "markdown",
   "metadata": {
    "colab_type": "text",
    "id": "OSciZqogK0Mg",
    "tags": []
   },
   "source": [
    "# 주요 레이어 정리"
   ]
  },
  {
   "cell_type": "markdown",
   "metadata": {
    "colab_type": "text",
    "id": "8DmYqaWfcxJa"
   },
   "source": [
    "## 1 SimpleRNN 레이어"
   ]
  },
  {
   "cell_type": "code",
   "execution_count": null,
   "metadata": {
    "colab": {},
    "colab_type": "code",
    "id": "s0f2FG66cx27"
   },
   "outputs": [],
   "source": [
    "# SimpleRNN 레이어 생성 코드\n",
    "rnn1 = tf.keras.layers.SimpleRNN(units=1, activation='tanh', return_sequences=True)"
   ]
  },
  {
   "cell_type": "code",
   "execution_count": null,
   "metadata": {
    "colab": {
     "base_uri": "https://localhost:8080/",
     "height": 449
    },
    "colab_type": "code",
    "executionInfo": {
     "elapsed": 43014,
     "status": "ok",
     "timestamp": 1565400947872,
     "user": {
      "displayName": "Hwanhee Kim",
      "photoUrl": "https://lh6.googleusercontent.com/-nodxsDvEvZo/AAAAAAAAAAI/AAAAAAAABHE/Ybrj2myvr5Q/s64/photo.jpg",
      "userId": "04863080312902369470"
     },
     "user_tz": -540
    },
    "id": "vU4_rMdw47Au",
    "outputId": "c395215a-9a07-4a78-f9d2-d088c9c8a0a9"
   },
   "outputs": [],
   "source": [
    "# 7.2 시퀀스 예측 데이터 생성\n",
    "X = []\n",
    "Y = []\n",
    "for i in range(6):\n",
    "    # [0,1,2,3], [1,2,3,4] 같은 정수의 시퀀스를 만듭니다.\n",
    "    lst = list(range(i,i+4))\n",
    "\n",
    "    # 위에서 구한 시퀀스의 숫자들을 각각 10으로 나눈 다음 저장합니다.\n",
    "    # SimpleRNN 에 각 타임스텝에 하나씩 숫자가 들어가기 때문에 여기서도 하나씩 분리해서 배열에 저장합니다.\n",
    "    X.append(list(map(lambda c: [c/10], lst)))\n",
    "\n",
    "    # 정답에 해당하는 4, 5 등의 정수를 역시 위처럼 10으로 나눠서 저장합니다.\n",
    "    Y.append((i+4)/10)\n",
    "    \n",
    "X = np.array(X)\n",
    "Y = np.array(Y)\n",
    "for i in range(len(X)):\n",
    "    print(X[i], Y[i])"
   ]
  },
  {
   "cell_type": "code",
   "execution_count": null,
   "metadata": {},
   "outputs": [],
   "source": []
  },
  {
   "attachments": {
    "2bcb0772-f89a-41f3-b1e0-452ee8526535.png": {
     "image/png": "[encoded data removed]"
    }
   },
   "cell_type": "markdown",
   "metadata": {},
   "source": [
    "### `*` 경고\n",
    "\n",
    "최신 tensorflow 설치시  numpy 버전이 1.2x 이상 설치되는데 아래 같은 문제가 발생할 수 있다.\n",
    "\n",
    "![image.png](attachment:2bcb0772-f89a-41f3-b1e0-452ee8526535.png)\n",
    "\n",
    "이는 numpy 버전이 너무 높아서 tensorflow에서 아직 구현을 못한 것이다.  numpy 버전을 낮추면 된다. \n",
    "\n",
    "```\n",
    "pip uninstall numpy\n",
    "```\n",
    "\n",
    "```\n",
    "conda install numpy=1.19 -c conda-forge\n",
    "```\n",
    "\n",
    "\n",
    "혹은 새 가상환경\n",
    "\n",
    "> conda create -n Lec11_AI2 tensorflow numpy=1.19"
   ]
  },
  {
   "cell_type": "code",
   "execution_count": null,
   "metadata": {
    "colab": {
     "base_uri": "https://localhost:8080/",
     "height": 233
    },
    "colab_type": "code",
    "executionInfo": {
     "elapsed": 3098,
     "status": "ok",
     "timestamp": 1565420204501,
     "user": {
      "displayName": "Hwanhee Kim",
      "photoUrl": "https://lh6.googleusercontent.com/-nodxsDvEvZo/AAAAAAAAAAI/AAAAAAAABHE/Ybrj2myvr5Q/s64/photo.jpg",
      "userId": "04863080312902369470"
     },
     "user_tz": -540
    },
    "id": "yFdjOc6G5kO1",
    "outputId": "b1f16a66-1bc5-439e-e51b-89709bd3a85f"
   },
   "outputs": [],
   "source": [
    "# 시퀀스 예측 모델 정의\n",
    "model = tf.keras.Sequential([\n",
    "    tf.keras.layers.SimpleRNN(units=10, return_sequences=False, input_shape=[4,1]),\n",
    "    tf.keras.layers.Dense(1)\n",
    "])\n",
    "\n",
    "model.compile(optimizer='adam', loss='mse')\n",
    "model.summary()"
   ]
  },
  {
   "cell_type": "code",
   "execution_count": null,
   "metadata": {
    "colab": {
     "base_uri": "https://localhost:8080/",
     "height": 125
    },
    "colab_type": "code",
    "executionInfo": {
     "elapsed": 3394,
     "status": "ok",
     "timestamp": 1565095662369,
     "user": {
      "displayName": "Hwanhee Kim",
      "photoUrl": "https://lh6.googleusercontent.com/-nodxsDvEvZo/AAAAAAAAAAI/AAAAAAAABHE/Ybrj2myvr5Q/s64/photo.jpg",
      "userId": "04863080312902369470"
     },
     "user_tz": -540
    },
    "id": "7odqgVWw5oyH",
    "outputId": "c67cc65e-2ea1-4f8a-b979-9977d5827747"
   },
   "outputs": [],
   "source": [
    "# 네트워크 훈련 및 결과 확인\n",
    "model.fit(X, Y, epochs=100, verbose=0)\n",
    "print(model.predict(X))"
   ]
  },
  {
   "cell_type": "code",
   "execution_count": null,
   "metadata": {
    "colab": {
     "base_uri": "https://localhost:8080/",
     "height": 53
    },
    "colab_type": "code",
    "executionInfo": {
     "elapsed": 805,
     "status": "ok",
     "timestamp": 1565095663313,
     "user": {
      "displayName": "Hwanhee Kim",
      "photoUrl": "https://lh6.googleusercontent.com/-nodxsDvEvZo/AAAAAAAAAAI/AAAAAAAABHE/Ybrj2myvr5Q/s64/photo.jpg",
      "userId": "04863080312902369470"
     },
     "user_tz": -540
    },
    "id": "KQUaYRRG7aWA",
    "outputId": "c5baa2e9-e25c-4195-98a6-2b58d1b0fdb1"
   },
   "outputs": [],
   "source": [
    "# 학습되지 않은 시퀀스에 대한 예측 결과\n",
    "print(model.predict(np.array([[[0.6],[0.7],[0.8],[0.9]]])))\n",
    "print(model.predict(np.array([[[-0.1],[0.0],[0.1],[0.2]]])))"
   ]
  },
  {
   "cell_type": "markdown",
   "metadata": {
    "colab_type": "text",
    "id": "HGzdLJHZvSUg"
   },
   "source": [
    "## 2 LSTM 레이어"
   ]
  },
  {
   "cell_type": "code",
   "execution_count": null,
   "metadata": {
    "colab": {
     "base_uri": "https://localhost:8080/",
     "height": 1000
    },
    "colab_type": "code",
    "executionInfo": {
     "elapsed": 40878,
     "status": "ok",
     "timestamp": 1565400949229,
     "user": {
      "displayName": "Hwanhee Kim",
      "photoUrl": "https://lh6.googleusercontent.com/-nodxsDvEvZo/AAAAAAAAAAI/AAAAAAAABHE/Ybrj2myvr5Q/s64/photo.jpg",
      "userId": "04863080312902369470"
     },
     "user_tz": -540
    },
    "id": "iYyU1BKZFDvo",
    "outputId": "579631eb-65e7-4e6f-96ef-a1b15fd83823"
   },
   "outputs": [],
   "source": [
    "# 곱셈 문제 데이터 생성\n",
    "X = []\n",
    "Y = []\n",
    "for i in range(3000):\n",
    "    # 0~1 사이의 랜덤한 숫자 100 개를 만듭니다.\n",
    "    lst = np.random.rand(100)\n",
    "    # 마킹할 숫자 2개의 인덱스를 뽑습니다.\n",
    "    idx = np.random.choice(100, 2, replace=False)\n",
    "    # 마킹 인덱스가 저장된 원-핫 인코딩 벡터를 만듭니다.\n",
    "    zeros = np.zeros(100)\n",
    "    zeros[idx] = 1\n",
    "    # 마킹 인덱스와 랜덤한 숫자를 합쳐서 X 에 저장합니다.\n",
    "    X.append(np.array(list(zip(zeros, lst))))\n",
    "    # 마킹 인덱스가 1인 값들만 서로 곱해서 Y 에 저장합니다.\n",
    "    Y.append(np.prod(lst[idx]))\n",
    "    \n",
    "print(X[0], Y[0])"
   ]
  },
  {
   "cell_type": "code",
   "execution_count": null,
   "metadata": {
    "colab": {
     "base_uri": "https://localhost:8080/",
     "height": 269
    },
    "colab_type": "code",
    "executionInfo": {
     "elapsed": 1081,
     "status": "ok",
     "timestamp": 1565420208111,
     "user": {
      "displayName": "Hwanhee Kim",
      "photoUrl": "https://lh6.googleusercontent.com/-nodxsDvEvZo/AAAAAAAAAAI/AAAAAAAABHE/Ybrj2myvr5Q/s64/photo.jpg",
      "userId": "04863080312902369470"
     },
     "user_tz": -540
    },
    "id": "doitxA8uOm5i",
    "outputId": "d2cf0fe0-2497-4fb0-91e9-35f82da28b8c"
   },
   "outputs": [],
   "source": [
    "# SimpleRNN 레이어를 사용한 곱셈 문제 모델 정의\n",
    "model = tf.keras.Sequential([\n",
    "    tf.keras.layers.SimpleRNN(units=30, return_sequences=True, input_shape=[100,2]),\n",
    "    tf.keras.layers.SimpleRNN(units=30),\n",
    "    tf.keras.layers.Dense(1)\n",
    "])\n",
    "\n",
    "model.compile(optimizer='adam', loss='mse')\n",
    "model.summary()"
   ]
  },
  {
   "cell_type": "code",
   "execution_count": null,
   "metadata": {
    "colab": {
     "base_uri": "https://localhost:8080/",
     "height": 1000
    },
    "colab_type": "code",
    "executionInfo": {
     "elapsed": 1863900,
     "status": "ok",
     "timestamp": 1565017987773,
     "user": {
      "displayName": "Hwanhee Kim",
      "photoUrl": "https://lh6.googleusercontent.com/-nodxsDvEvZo/AAAAAAAAAAI/AAAAAAAABHE/Ybrj2myvr5Q/s64/photo.jpg",
      "userId": "04863080312902369470"
     },
     "user_tz": -540
    },
    "id": "HTp4nvHYOqOZ",
    "outputId": "eb794c29-17b8-4a37-8d37-36fce66569fa",
    "tags": []
   },
   "outputs": [],
   "source": [
    "# SimpleRNN 네트워크 학습\n",
    "X = np.array(X)\n",
    "Y = np.array(Y)\n",
    "# 2560개의 데이터만 학습시킵니다. validation 데이터는 20% 로 지정합니다.\n",
    "history = model.fit(X[:2560], Y[:2560], epochs=100, validation_split=0.2)"
   ]
  },
  {
   "cell_type": "code",
   "execution_count": null,
   "metadata": {
    "colab": {
     "base_uri": "https://localhost:8080/",
     "height": 283
    },
    "colab_type": "code",
    "executionInfo": {
     "elapsed": 1323,
     "status": "ok",
     "timestamp": 1565020968714,
     "user": {
      "displayName": "Hwanhee Kim",
      "photoUrl": "https://lh6.googleusercontent.com/-nodxsDvEvZo/AAAAAAAAAAI/AAAAAAAABHE/Ybrj2myvr5Q/s64/photo.jpg",
      "userId": "04863080312902369470"
     },
     "user_tz": -540
    },
    "id": "3EiSvd5rOsIV",
    "outputId": "5b51499b-b5cd-4a94-b733-424f4e46faeb"
   },
   "outputs": [],
   "source": [
    "# SimpleRNN 네트워크 학습 결과 확인\n",
    "import matplotlib.pyplot as plt\n",
    "plt.plot(history.history['loss'], 'b-', label='loss')\n",
    "plt.plot(history.history['val_loss'], 'r--', label='val_loss')\n",
    "plt.xlabel('Epoch')\n",
    "plt.legend()\n",
    "plt.show()"
   ]
  },
  {
   "cell_type": "code",
   "execution_count": null,
   "metadata": {
    "colab": {
     "base_uri": "https://localhost:8080/",
     "height": 143
    },
    "colab_type": "code",
    "executionInfo": {
     "elapsed": 3140,
     "status": "ok",
     "timestamp": 1565020973154,
     "user": {
      "displayName": "Hwanhee Kim",
      "photoUrl": "https://lh6.googleusercontent.com/-nodxsDvEvZo/AAAAAAAAAAI/AAAAAAAABHE/Ybrj2myvr5Q/s64/photo.jpg",
      "userId": "04863080312902369470"
     },
     "user_tz": -540
    },
    "id": "g5OnirteOyut",
    "outputId": "09b4541d-aa7e-4906-b950-b119ac841168"
   },
   "outputs": [],
   "source": [
    "# Test 데이터에 대한 예측 정확도 확인\n",
    "model.evaluate(X[2560:], Y[2560:])\n",
    "prediction = model.predict(X[2560:2560+5])\n",
    "# 5개 테스트 데이터에 대한 예측을 표시합니다.\n",
    "for i in range(5):\n",
    "    print(Y[2560+i], '\\t', prediction[i][0], '\\tdiff:', abs(prediction[i][0] - Y[2560+i]))\n",
    "    \n",
    "prediction = model.predict(X[2560:])\n",
    "fail = 0\n",
    "for i in range(len(prediction)):\n",
    "    # 오차가 0.04 이상이면 오답입니다.\n",
    "    if abs(prediction[i][0] - Y[2560+i]) > 0.04:\n",
    "        fail += 1\n",
    "print('correctness:', (440 - fail) / 440 * 100, '%')"
   ]
  },
  {
   "cell_type": "code",
   "execution_count": null,
   "metadata": {
    "colab": {
     "base_uri": "https://localhost:8080/",
     "height": 325
    },
    "colab_type": "code",
    "executionInfo": {
     "elapsed": 1051,
     "status": "ok",
     "timestamp": 1565420214041,
     "user": {
      "displayName": "Hwanhee Kim",
      "photoUrl": "https://lh6.googleusercontent.com/-nodxsDvEvZo/AAAAAAAAAAI/AAAAAAAABHE/Ybrj2myvr5Q/s64/photo.jpg",
      "userId": "04863080312902369470"
     },
     "user_tz": -540
    },
    "id": "6o1z24gWIe4B",
    "outputId": "7124a02f-34bb-4114-8b9e-d8168c576e7d"
   },
   "outputs": [],
   "source": [
    "# LSTM 레이어를 사용한 곱셈 문제 모델 정의\n",
    "model = tf.keras.Sequential([\n",
    "    tf.keras.layers.LSTM(units=30, return_sequences=True, input_shape=[100,2]),\n",
    "    tf.keras.layers.LSTM(units=30),\n",
    "    tf.keras.layers.Dense(1)\n",
    "])\n",
    "\n",
    "model.compile(optimizer='adam', loss='mse')\n",
    "model.summary()"
   ]
  },
  {
   "cell_type": "code",
   "execution_count": null,
   "metadata": {
    "colab": {
     "base_uri": "https://localhost:8080/",
     "height": 1000
    },
    "colab_type": "code",
    "executionInfo": {
     "elapsed": 285145,
     "status": "ok",
     "timestamp": 1565249375352,
     "user": {
      "displayName": "Hwanhee Kim",
      "photoUrl": "https://lh6.googleusercontent.com/-nodxsDvEvZo/AAAAAAAAAAI/AAAAAAAABHE/Ybrj2myvr5Q/s64/photo.jpg",
      "userId": "04863080312902369470"
     },
     "user_tz": -540
    },
    "id": "XavhYhX4Imax",
    "outputId": "d6f20c85-3fdd-4115-fbfc-56a91ef82c4f",
    "tags": []
   },
   "outputs": [],
   "source": [
    "# LSTM 네트워크 학습\n",
    "X = np.array(X)\n",
    "Y = np.array(Y)\n",
    "history = model.fit(X[:2560], Y[:2560], epochs=100, validation_split=0.2)"
   ]
  },
  {
   "cell_type": "code",
   "execution_count": null,
   "metadata": {
    "colab": {
     "base_uri": "https://localhost:8080/",
     "height": 283
    },
    "colab_type": "code",
    "executionInfo": {
     "elapsed": 80481,
     "status": "ok",
     "timestamp": 1565015931206,
     "user": {
      "displayName": "Hwanhee Kim",
      "photoUrl": "https://lh6.googleusercontent.com/-nodxsDvEvZo/AAAAAAAAAAI/AAAAAAAABHE/Ybrj2myvr5Q/s64/photo.jpg",
      "userId": "04863080312902369470"
     },
     "user_tz": -540
    },
    "id": "NJSlA-z7NRHE",
    "outputId": "7a17b10f-139b-4afc-be65-a70dd039bf30"
   },
   "outputs": [],
   "source": [
    "# LSTM 네트워크 학습 결과 확인\n",
    "import matplotlib.pyplot as plt\n",
    "plt.plot(history.history['loss'], 'b-', label='loss')\n",
    "plt.plot(history.history['val_loss'], 'r--', label='val_loss')\n",
    "plt.xlabel('Epoch')\n",
    "plt.legend()\n",
    "plt.show()"
   ]
  },
  {
   "cell_type": "code",
   "execution_count": null,
   "metadata": {
    "colab": {
     "base_uri": "https://localhost:8080/",
     "height": 143
    },
    "colab_type": "code",
    "executionInfo": {
     "elapsed": 761,
     "status": "ok",
     "timestamp": 1565016079805,
     "user": {
      "displayName": "Hwanhee Kim",
      "photoUrl": "https://lh6.googleusercontent.com/-nodxsDvEvZo/AAAAAAAAAAI/AAAAAAAABHE/Ybrj2myvr5Q/s64/photo.jpg",
      "userId": "04863080312902369470"
     },
     "user_tz": -540
    },
    "id": "Ob1VbaYzJCWa",
    "outputId": "74c30022-c570-4a34-ecc9-4e964573e661"
   },
   "outputs": [],
   "source": [
    "# Test 데이터에 대한 예측 정확도 확인\n",
    "model.evaluate(X[2560:], Y[2560:])\n",
    "prediction = model.predict(X[2560:2560+5])\n",
    "for i in range(5):\n",
    "    print(Y[2560+i], '\\t', prediction[i][0], '\\tdiff:', abs(prediction[i][0] - Y[2560+i]))\n",
    "    \n",
    "prediction = model.predict(X[2560:])\n",
    "cnt = 0\n",
    "for i in range(len(prediction)):\n",
    "    if abs(prediction[i][0] - Y[2560+i]) > 0.04:\n",
    "        cnt += 1\n",
    "print('correctness:', (440 - cnt) / 440 * 100, '%')"
   ]
  },
  {
   "cell_type": "markdown",
   "metadata": {
    "colab_type": "text",
    "id": "VxV7T14AvXkH"
   },
   "source": [
    "## 3 GRU 레이어"
   ]
  },
  {
   "cell_type": "code",
   "execution_count": null,
   "metadata": {
    "colab": {
     "base_uri": "https://localhost:8080/",
     "height": 269
    },
    "colab_type": "code",
    "executionInfo": {
     "elapsed": 1059,
     "status": "ok",
     "timestamp": 1565420218129,
     "user": {
      "displayName": "Hwanhee Kim",
      "photoUrl": "https://lh6.googleusercontent.com/-nodxsDvEvZo/AAAAAAAAAAI/AAAAAAAABHE/Ybrj2myvr5Q/s64/photo.jpg",
      "userId": "04863080312902369470"
     },
     "user_tz": -540
    },
    "id": "8WjH-A0WvNAO",
    "outputId": "454743b1-553a-47ae-fe0e-c02ffa31d098"
   },
   "outputs": [],
   "source": [
    "# GRU 레이어를 사용한 곱셈 문제 모델 정의\n",
    "model = tf.keras.Sequential([\n",
    "    tf.keras.layers.GRU(units=30, return_sequences=True, input_shape=[100,2]),\n",
    "    tf.keras.layers.GRU(units=30),\n",
    "    tf.keras.layers.Dense(1)\n",
    "])\n",
    "\n",
    "model.compile(optimizer='adam', loss='mse')\n",
    "model.summary()"
   ]
  },
  {
   "cell_type": "code",
   "execution_count": null,
   "metadata": {
    "colab": {
     "base_uri": "https://localhost:8080/",
     "height": 1000
    },
    "colab_type": "code",
    "executionInfo": {
     "elapsed": 515269,
     "status": "ok",
     "timestamp": 1565249609835,
     "user": {
      "displayName": "Hwanhee Kim",
      "photoUrl": "https://lh6.googleusercontent.com/-nodxsDvEvZo/AAAAAAAAAAI/AAAAAAAABHE/Ybrj2myvr5Q/s64/photo.jpg",
      "userId": "04863080312902369470"
     },
     "user_tz": -540
    },
    "id": "vd6C4gvUvdQS",
    "outputId": "efd36828-7906-4dc2-c92d-197230073c83",
    "tags": []
   },
   "outputs": [],
   "source": [
    "# GRU 네트워크 학습\n",
    "X = np.array(X)\n",
    "Y = np.array(Y)\n",
    "history = model.fit(X[:2560], Y[:2560], epochs=100, validation_split=0.2)"
   ]
  },
  {
   "cell_type": "code",
   "execution_count": null,
   "metadata": {
    "colab": {
     "base_uri": "https://localhost:8080/",
     "height": 283
    },
    "colab_type": "code",
    "executionInfo": {
     "elapsed": 1853,
     "status": "ok",
     "timestamp": 1565176283841,
     "user": {
      "displayName": "Hwanhee Kim",
      "photoUrl": "https://lh6.googleusercontent.com/-nodxsDvEvZo/AAAAAAAAAAI/AAAAAAAABHE/Ybrj2myvr5Q/s64/photo.jpg",
      "userId": "04863080312902369470"
     },
     "user_tz": -540
    },
    "id": "-SHz_LHExkH3",
    "outputId": "89a43f72-ea39-450c-d88b-a7da9208e72a"
   },
   "outputs": [],
   "source": [
    "# GRU 네트워크 학습 결과 확인\n",
    "import matplotlib.pyplot as plt\n",
    "plt.plot(history.history['loss'], 'b-', label='loss')\n",
    "plt.plot(history.history['val_loss'], 'r--', label='val_loss')\n",
    "plt.xlabel('Epoch')\n",
    "plt.legend()\n",
    "plt.show()"
   ]
  },
  {
   "cell_type": "code",
   "execution_count": null,
   "metadata": {
    "colab": {
     "base_uri": "https://localhost:8080/",
     "height": 143
    },
    "colab_type": "code",
    "executionInfo": {
     "elapsed": 1717,
     "status": "ok",
     "timestamp": 1565176412723,
     "user": {
      "displayName": "Hwanhee Kim",
      "photoUrl": "https://lh6.googleusercontent.com/-nodxsDvEvZo/AAAAAAAAAAI/AAAAAAAABHE/Ybrj2myvr5Q/s64/photo.jpg",
      "userId": "04863080312902369470"
     },
     "user_tz": -540
    },
    "id": "JdecdSb0xkDj",
    "outputId": "8695a72f-4f0c-4fe0-f8ce-b4159ca249f4"
   },
   "outputs": [],
   "source": [
    "# Test 데이터에 대한 예측 정확도 확인\n",
    "model.evaluate(X[2560:], Y[2560:])\n",
    "prediction = model.predict(X[2560:2560+5])\n",
    "for i in range(5):\n",
    "    print(Y[2560+i], '\\t', prediction[i][0], '\\tdiff:', abs(prediction[i][0] - Y[2560+i]))\n",
    "    \n",
    "prediction = model.predict(X[2560:])\n",
    "cnt = 0\n",
    "for i in range(len(prediction)):\n",
    "    if abs(prediction[i][0] - Y[2560+i]) > 0.04:\n",
    "        cnt += 1\n",
    "print('correctness:', (440 - cnt) / 440 * 100, '%')"
   ]
  },
  {
   "cell_type": "markdown",
   "metadata": {},
   "source": [
    "## 텍스트 토큰\n"
   ]
  },
  {
   "cell_type": "code",
   "execution_count": null,
   "metadata": {},
   "outputs": [],
   "source": [
    "t = tf.keras.preprocessing.text.Tokenizer() \n",
    "fit_text = \"I love Deep Learning\" \n",
    "t.fit_on_texts([fit_text]) \n",
    "test_text = \"I like Deep Learning\" \n",
    "sequences = t.texts_to_sequences([test_text])[0] \n",
    "\n",
    "print(\"sequences : \",sequences) # great는 단어 집합(vocabulary)에 없으므로 출력되지 않는다. \n",
    "print(\"word_index : \",t.word_index) # 단어 집합(vocabulary) 출력\n"
   ]
  },
  {
   "cell_type": "markdown",
   "metadata": {},
   "source": [
    "#### 패딩"
   ]
  },
  {
   "cell_type": "code",
   "execution_count": null,
   "metadata": {},
   "outputs": [],
   "source": [
    "tf.keras.preprocessing.sequence.pad_sequences([[1, 2, 3], [3, 4, 5, 6], [7, 8]], maxlen=3, padding='pre')"
   ]
  },
  {
   "cell_type": "markdown",
   "metadata": {
    "colab_type": "text",
    "id": "b4rFl018T7Py"
   },
   "source": [
    "# 3 긍정, 부정 감성 분석"
   ]
  },
  {
   "cell_type": "code",
   "execution_count": null,
   "metadata": {
    "colab": {
     "base_uri": "https://localhost:8080/",
     "height": 89
    },
    "colab_type": "code",
    "executionInfo": {
     "elapsed": 7711,
     "status": "ok",
     "timestamp": 1575820930037,
     "user": {
      "displayName": "Hwanhee Kim",
      "photoUrl": "https://lh3.googleusercontent.com/a-/AAuE7mAJC9PPBoQ91glDwFjxm3TlW5EqGy0BIAJ52D-ekw=s64",
      "userId": "04863080312902369470"
     },
     "user_tz": -540
    },
    "id": "srjpifEqUAx3",
    "outputId": "512b0ae7-097f-4760-8a38-eb0c145d7c4c"
   },
   "outputs": [],
   "source": [
    "# Naver Sentiment Movie Corpus v1.0 다운로드\n",
    "path_to_train_file = tf.keras.utils.get_file('train.txt', 'https://raw.githubusercontent.com/e9t/nsmc/master/ratings_train.txt')\n",
    "path_to_test_file = tf.keras.utils.get_file('test.txt', 'https://raw.githubusercontent.com/e9t/nsmc/master/ratings_test.txt')"
   ]
  },
  {
   "cell_type": "code",
   "execution_count": null,
   "metadata": {
    "colab": {
     "base_uri": "https://localhost:8080/",
     "height": 215
    },
    "colab_type": "code",
    "executionInfo": {
     "elapsed": 1412,
     "status": "ok",
     "timestamp": 1575820932961,
     "user": {
      "displayName": "Hwanhee Kim",
      "photoUrl": "https://lh3.googleusercontent.com/a-/AAuE7mAJC9PPBoQ91glDwFjxm3TlW5EqGy0BIAJ52D-ekw=s64",
      "userId": "04863080312902369470"
     },
     "user_tz": -540
    },
    "id": "8e3_cWrjcZ8X",
    "outputId": "d43321b8-60f9-4976-e6e8-51358ad42ee4"
   },
   "outputs": [],
   "source": [
    "# 데이터 로드 및 확인\n",
    "# 데이터를 메모리에 불러옵니다. encoding 형식으로 utf-8 을 지정해야합니다.\n",
    "train_text = open(path_to_train_file, 'rb').read().decode(encoding='utf-8')\n",
    "test_text = open(path_to_test_file, 'rb').read().decode(encoding='utf-8')\n",
    "\n",
    "# 텍스트가 총 몇 자인지 확인합니다.\n",
    "print(f'Length of text: {len(train_text)} characters'\n",
    "print(f'Length of text: {len(test_text)} characters'\n",
    "print()\n",
    "\n",
    "# 처음 300 자를 확인해봅니다.\n",
    "print(train_text[:300])"
   ]
  },
  {
   "cell_type": "code",
   "execution_count": null,
   "metadata": {
    "colab": {
     "base_uri": "https://localhost:8080/",
     "height": 125
    },
    "colab_type": "code",
    "executionInfo": {
     "elapsed": 1501,
     "status": "ok",
     "timestamp": 1575820941539,
     "user": {
      "displayName": "Hwanhee Kim",
      "photoUrl": "https://lh3.googleusercontent.com/a-/AAuE7mAJC9PPBoQ91glDwFjxm3TlW5EqGy0BIAJ52D-ekw=s64",
      "userId": "04863080312902369470"
     },
     "user_tz": -540
    },
    "id": "3R4G9NAekYsE",
    "outputId": "10821adf-ba4c-4b52-8b9f-76f2af204691"
   },
   "outputs": [],
   "source": [
    "# 학습을 위한 정답 데이터(Y) 만들기\n",
    "train_Y = np.array([[int(row.split('\\t')[2])] for row in train_text.split('\\n')[1:] if row.count('\\t') > 0])\n",
    "test_Y = np.array([[int(row.split('\\t')[2])] for row in test_text.split('\\n')[1:] if row.count('\\t') > 0])\n",
    "print(train_Y.shape, test_Y.shape)\n",
    "print(train_Y[:5])"
   ]
  },
  {
   "cell_type": "code",
   "execution_count": null,
   "metadata": {
    "colab": {
     "base_uri": "https://localhost:8080/",
     "height": 107
    },
    "colab_type": "code",
    "executionInfo": {
     "elapsed": 4604,
     "status": "ok",
     "timestamp": 1575820949497,
     "user": {
      "displayName": "Hwanhee Kim",
      "photoUrl": "https://lh3.googleusercontent.com/a-/AAuE7mAJC9PPBoQ91glDwFjxm3TlW5EqGy0BIAJ52D-ekw=s64",
      "userId": "04863080312902369470"
     },
     "user_tz": -540
    },
    "id": "IlrwaPyJ06V5",
    "outputId": "0cdb25ca-b6fd-4f2b-f071-e1e1b732a667"
   },
   "outputs": [],
   "source": [
    "# train 데이터의 입력(X)에 대한 정제(Cleaning)\n",
    "import re\n",
    "# From https://github.com/yoonkim/CNN_sentence/blob/master/process_data.py\n",
    "def clean_str(string):    \n",
    "    string = re.sub(r\"[^가-힣A-Za-z0-9(),!?\\'\\`]\", \" \", string)\n",
    "    string = re.sub(r\"\\'s\", \" \\'s\", string)\n",
    "    string = re.sub(r\"\\'ve\", \" \\'ve\", string)\n",
    "    string = re.sub(r\"n\\'t\", \" n\\'t\", string)\n",
    "    string = re.sub(r\"\\'re\", \" \\'re\", string)\n",
    "    string = re.sub(r\"\\'d\", \" \\'d\", string)\n",
    "    string = re.sub(r\"\\'ll\", \" \\'ll\", string)\n",
    "    string = re.sub(r\",\", \" , \", string)\n",
    "    string = re.sub(r\"!\", \" ! \", string)\n",
    "    string = re.sub(r\"\\(\", \" \\( \", string)\n",
    "    string = re.sub(r\"\\)\", \" \\) \", string)\n",
    "    string = re.sub(r\"\\?\", \" \\? \", string)\n",
    "    string = re.sub(r\"\\s{2,}\", \" \", string)\n",
    "    string = re.sub(r\"\\'{2,}\", \"\\'\", string)\n",
    "    string = re.sub(r\"\\'\", \"\", string)\n",
    "\n",
    "    return string.lower()\n",
    "\n",
    "\n",
    "train_text_X = [row.split('\\t')[1] for row in train_text.split('\\n')[1:] if row.count('\\t') > 0]\n",
    "train_text_X = [clean_str(sentence) for sentence in train_text_X]\n",
    "# 문장을 띄어쓰기 단위로 단어 분리\n",
    "sentences = [sentence.split(' ') for sentence in train_text_X]\n",
    "for i in range(5):\n",
    "    print(sentences[i])"
   ]
  },
  {
   "cell_type": "code",
   "execution_count": null,
   "metadata": {
    "colab": {
     "base_uri": "https://localhost:8080/",
     "height": 287
    },
    "colab_type": "code",
    "executionInfo": {
     "elapsed": 4592,
     "status": "ok",
     "timestamp": 1565420230262,
     "user": {
      "displayName": "Hwanhee Kim",
      "photoUrl": "https://lh6.googleusercontent.com/-nodxsDvEvZo/AAAAAAAAAAI/AAAAAAAABHE/Ybrj2myvr5Q/s64/photo.jpg",
      "userId": "04863080312902369470"
     },
     "user_tz": -540
    },
    "id": "zwtf77CE0xPi",
    "outputId": "4dacfde9-2015-4092-8d3f-cabaf6e2bc65"
   },
   "outputs": [],
   "source": [
    "# 각 문장의 단어 길이 확인\n",
    "import matplotlib.pyplot as plt\n",
    "sentence_len = [len(sentence) for sentence in sentences]\n",
    "sentence_len.sort()\n",
    "plt.plot(sentence_len)\n",
    "plt.show()\n",
    "\n",
    "print(sum([int(l<=25) for l in sentence_len]))"
   ]
  },
  {
   "cell_type": "code",
   "execution_count": null,
   "metadata": {
    "colab": {
     "base_uri": "https://localhost:8080/",
     "height": 107
    },
    "colab_type": "code",
    "executionInfo": {
     "elapsed": 1132,
     "status": "ok",
     "timestamp": 1575820955978,
     "user": {
      "displayName": "Hwanhee Kim",
      "photoUrl": "https://lh3.googleusercontent.com/a-/AAuE7mAJC9PPBoQ91glDwFjxm3TlW5EqGy0BIAJ52D-ekw=s64",
      "userId": "04863080312902369470"
     },
     "user_tz": -540
    },
    "id": "c9F0OQSB71Az",
    "outputId": "5319762b-c8e9-4227-abc8-879f4373e2af"
   },
   "outputs": [],
   "source": [
    "# 단어 정제 및 문장 길이 줄임\n",
    "sentences_new = []\n",
    "for sentence in sentences:\n",
    "    sentences_new.append([word[:5] for word in sentence][:25])\n",
    "sentences = sentences_new\n",
    "for i in range(5):\n",
    "    print(sentences[i])"
   ]
  },
  {
   "cell_type": "code",
   "execution_count": null,
   "metadata": {
    "colab": {
     "base_uri": "https://localhost:8080/",
     "height": 287
    },
    "colab_type": "code",
    "executionInfo": {
     "elapsed": 4189,
     "status": "ok",
     "timestamp": 1575820961410,
     "user": {
      "displayName": "Hwanhee Kim",
      "photoUrl": "https://lh3.googleusercontent.com/a-/AAuE7mAJC9PPBoQ91glDwFjxm3TlW5EqGy0BIAJ52D-ekw=s64",
      "userId": "04863080312902369470"
     },
     "user_tz": -540
    },
    "id": "9iHRApH_SxJz",
    "outputId": "056cfd8f-5603-4924-bc22-1bff886b0469"
   },
   "outputs": [],
   "source": [
    "# Tokenizer와 pad_sequences를 사용한 문장 전처리\n",
    "from tensorflow.keras.preprocessing.text import Tokenizer\n",
    "from tensorflow.keras.preprocessing.sequence import pad_sequences\n",
    "\n",
    "tokenizer = Tokenizer(num_words=20000)\n",
    "tokenizer.fit_on_texts(sentences)\n",
    "train_X = tokenizer.texts_to_sequences(sentences)\n",
    "train_X = pad_sequences(train_X, padding='post')\n",
    "\n",
    "print(train_X[:5])"
   ]
  },
  {
   "cell_type": "code",
   "execution_count": null,
   "metadata": {
    "colab": {
     "base_uri": "https://localhost:8080/",
     "height": 143
    },
    "colab_type": "code",
    "executionInfo": {
     "elapsed": 3597,
     "status": "ok",
     "timestamp": 1565420237085,
     "user": {
      "displayName": "Hwanhee Kim",
      "photoUrl": "https://lh6.googleusercontent.com/-nodxsDvEvZo/AAAAAAAAAAI/AAAAAAAABHE/Ybrj2myvr5Q/s64/photo.jpg",
      "userId": "04863080312902369470"
     },
     "user_tz": -540
    },
    "id": "Id3SzN7350CB",
    "outputId": "260569cf-9119-4a51-d65a-bf5bf4aa0c3c"
   },
   "outputs": [],
   "source": [
    "# Tokenizer의 동작 확인\n",
    "print(tokenizer.index_word[19999])\n",
    "print(tokenizer.index_word[20000])\n",
    "temp = tokenizer.texts_to_sequences(['#$#$#', '경우는', '잊혀질', '연기가'])\n",
    "print(temp)\n",
    "temp = pad_sequences(temp, padding='post')\n",
    "print(temp)"
   ]
  },
  {
   "cell_type": "code",
   "execution_count": null,
   "metadata": {
    "colab": {
     "base_uri": "https://localhost:8080/",
     "height": 269
    },
    "colab_type": "code",
    "executionInfo": {
     "elapsed": 4286,
     "status": "ok",
     "timestamp": 1575820976746,
     "user": {
      "displayName": "Hwanhee Kim",
      "photoUrl": "https://lh3.googleusercontent.com/a-/AAuE7mAJC9PPBoQ91glDwFjxm3TlW5EqGy0BIAJ52D-ekw=s64",
      "userId": "04863080312902369470"
     },
     "user_tz": -540
    },
    "id": "qHkCAL4QpVAF",
    "outputId": "4805b775-d77a-49ba-bd6c-b2a98d3d0285"
   },
   "outputs": [],
   "source": [
    "# 감성 분석을 위한 모델 정의\n",
    "model = tf.keras.Sequential([\n",
    "    tf.keras.layers.Embedding(20000, 300, input_length=25),\n",
    "    tf.keras.layers.LSTM(units=50),\n",
    "    tf.keras.layers.Dense(2, activation='softmax')\n",
    "])\n",
    "\n",
    "model.compile(optimizer='adam', loss='sparse_categorical_crossentropy', metrics=['accuracy'])\n",
    "model.summary()"
   ]
  },
  {
   "cell_type": "code",
   "execution_count": null,
   "metadata": {
    "colab": {
     "base_uri": "https://localhost:8080/",
     "height": 215
    },
    "colab_type": "code",
    "executionInfo": {
     "elapsed": 351765,
     "status": "ok",
     "timestamp": 1575821336811,
     "user": {
      "displayName": "Hwanhee Kim",
      "photoUrl": "https://lh3.googleusercontent.com/a-/AAuE7mAJC9PPBoQ91glDwFjxm3TlW5EqGy0BIAJ52D-ekw=s64",
      "userId": "04863080312902369470"
     },
     "user_tz": -540
    },
    "id": "DG5bZtehpU8O",
    "outputId": "28868beb-1759-4b61-911b-d2a0fdee4365"
   },
   "outputs": [],
   "source": [
    "# 감성 분석 모델 학습\n",
    "history = model.fit(train_X, train_Y, epochs=5, batch_size=128, validation_split=0.2)"
   ]
  },
  {
   "cell_type": "code",
   "execution_count": null,
   "metadata": {
    "colab": {
     "base_uri": "https://localhost:8080/",
     "height": 283
    },
    "colab_type": "code",
    "executionInfo": {
     "elapsed": 1119,
     "status": "ok",
     "timestamp": 1575821337948,
     "user": {
      "displayName": "Hwanhee Kim",
      "photoUrl": "https://lh3.googleusercontent.com/a-/AAuE7mAJC9PPBoQ91glDwFjxm3TlW5EqGy0BIAJ52D-ekw=s64",
      "userId": "04863080312902369470"
     },
     "user_tz": -540
    },
    "id": "-N83MOKFpU4a",
    "outputId": "51b3157e-569c-4a8c-a4ab-53ec8cb99c4f"
   },
   "outputs": [],
   "source": [
    "# 감성 분석 모델 학습 결과 확인\n",
    "import matplotlib.pyplot as plt\n",
    "plt.figure(figsize=(12, 4))\n",
    "\n",
    "plt.subplot(1, 2, 1)\n",
    "plt.plot(history.history['loss'], 'b-', label='loss')\n",
    "plt.plot(history.history['val_loss'], 'r--', label='val_loss')\n",
    "plt.xlabel('Epoch')\n",
    "plt.legend()\n",
    "\n",
    "plt.subplot(1, 2, 2)\n",
    "plt.plot(history.history['accuracy'], 'g-', label='accuracy')\n",
    "plt.plot(history.history['val_accuracy'], 'k--', label='val_accuracy')\n",
    "plt.xlabel('Epoch')\n",
    "plt.ylim(0.7, 1)\n",
    "plt.legend()\n",
    "\n",
    "plt.show()"
   ]
  },
  {
   "cell_type": "code",
   "execution_count": null,
   "metadata": {
    "colab": {
     "base_uri": "https://localhost:8080/",
     "height": 35
    },
    "colab_type": "code",
    "executionInfo": {
     "elapsed": 18470,
     "status": "ok",
     "timestamp": 1575821789255,
     "user": {
      "displayName": "Hwanhee Kim",
      "photoUrl": "https://lh3.googleusercontent.com/a-/AAuE7mAJC9PPBoQ91glDwFjxm3TlW5EqGy0BIAJ52D-ekw=s64",
      "userId": "04863080312902369470"
     },
     "user_tz": -540
    },
    "id": "dS4Bw55e1HQa",
    "outputId": "3d4de552-203e-483d-83f0-7d009f175d0b"
   },
   "outputs": [],
   "source": [
    "# 스트 데이터 평가\n",
    "test_text_X = [row.split('\\t')[1] for row in test_text.split('\\n')[1:] if row.count('\\t') > 0]\n",
    "test_text_X = [clean_str(sentence) for sentence in test_text_X]\n",
    "sentences = [sentence.split(' ') for sentence in test_text_X]\n",
    "sentences_new = []\n",
    "for sentence in sentences:\n",
    "    sentences_new.append([word[:5] for word in sentence][:25])\n",
    "sentences = sentences_new\n",
    "\n",
    "test_X = tokenizer.texts_to_sequences(sentences)\n",
    "test_X = pad_sequences(test_X, padding='post')\n",
    "\n",
    "model.evaluate(test_X, test_Y, verbose=0)"
   ]
  },
  {
   "cell_type": "code",
   "execution_count": null,
   "metadata": {
    "colab": {
     "base_uri": "https://localhost:8080/",
     "height": 341
    },
    "colab_type": "code",
    "executionInfo": {
     "elapsed": 1041,
     "status": "ok",
     "timestamp": 1565429969185,
     "user": {
      "displayName": "Hwanhee Kim",
      "photoUrl": "https://lh6.googleusercontent.com/-nodxsDvEvZo/AAAAAAAAAAI/AAAAAAAABHE/Ybrj2myvr5Q/s64/photo.jpg",
      "userId": "04863080312902369470"
     },
     "user_tz": -540
    },
    "id": "S_gWAXeb1HM0",
    "outputId": "f04c63d8-bef8-48c7-ca68-57b1e0f56581"
   },
   "outputs": [],
   "source": [
    "# 임의의 문장 감성 분석 결과 확인\n",
    "test_sentence = '재미있을 줄 알았는데 완전 실망했다. 너무 졸리고 돈이 아까웠다.'\n",
    "test_sentence = test_sentence.split(' ')\n",
    "test_sentences = []\n",
    "now_sentence = []\n",
    "for word in test_sentence:\n",
    "    now_sentence.append(word)\n",
    "    test_sentences.append(now_sentence[:])\n",
    "    \n",
    "test_X_1 = tokenizer.texts_to_sequences(test_sentences)\n",
    "test_X_1 = pad_sequences(test_X_1, padding='post', maxlen=25)\n",
    "prediction = model.predict(test_X_1)\n",
    "for idx, sentence in enumerate(test_sentences):\n",
    "    print(sentence)\n",
    "    print(prediction[idx])"
   ]
  },
  {
   "cell_type": "markdown",
   "metadata": {
    "colab_type": "text",
    "id": "GbJuXY19T-vd"
   },
   "source": [
    "# 4 자연어 생성"
   ]
  },
  {
   "cell_type": "markdown",
   "metadata": {
    "colab_type": "text",
    "id": "f3eau9dNxOgR"
   },
   "source": [
    "## 4.1 단어 단위 생성"
   ]
  },
  {
   "cell_type": "code",
   "execution_count": null,
   "metadata": {
    "colab": {
     "base_uri": "https://localhost:8080/",
     "height": 53
    },
    "colab_type": "code",
    "executionInfo": {
     "elapsed": 56235,
     "status": "ok",
     "timestamp": 1565835933297,
     "user": {
      "displayName": "Hwanhee Kim",
      "photoUrl": "https://lh6.googleusercontent.com/-nodxsDvEvZo/AAAAAAAAAAI/AAAAAAAABHE/Ybrj2myvr5Q/s64/photo.jpg",
      "userId": "04863080312902369470"
     },
     "user_tz": -540
    },
    "id": "HWbhqXUTUBJj",
    "outputId": "d8e799e0-7a73-4b7b-db38-316eced55718"
   },
   "outputs": [],
   "source": [
    "# 조선왕조실록 데이터 파일 다운로드\n",
    "path_to_file = tf.keras.utils.get_file('input.txt', 'http://bit.ly/2Mc3SOV')"
   ]
  },
  {
   "cell_type": "code",
   "execution_count": null,
   "metadata": {
    "colab": {
     "base_uri": "https://localhost:8080/",
     "height": 89
    },
    "colab_type": "code",
    "executionInfo": {
     "elapsed": 30419,
     "status": "ok",
     "timestamp": 1565652867225,
     "user": {
      "displayName": "Hwanhee Kim",
      "photoUrl": "https://lh6.googleusercontent.com/-nodxsDvEvZo/AAAAAAAAAAI/AAAAAAAABHE/Ybrj2myvr5Q/s64/photo.jpg",
      "userId": "04863080312902369470"
     },
     "user_tz": -540
    },
    "id": "8uFbN0cwulLE",
    "outputId": "d303ec7d-2e75-42f5-a078-62f0c52768ba"
   },
   "outputs": [],
   "source": [
    "# 데이터 로드 및 확인\n",
    "# 데이터를 메모리에 불러옵니다. encoding 형식으로 utf-8 을 지정해야합니다.\n",
    "train_text = open(path_to_file, 'rb').read().decode(encoding='utf-8')\n",
    "\n",
    "# 텍스트가 총 몇 자인지 확인합니다.\n",
    "print('Length of text: {} characters'.format(len(train_text)))\n",
    "print()\n",
    "\n",
    "# 처음 100 자를 확인해봅니다.\n",
    "print(train_text[:100])"
   ]
  },
  {
   "cell_type": "code",
   "execution_count": null,
   "metadata": {
    "colab": {
     "base_uri": "https://localhost:8080/",
     "height": 35
    },
    "colab_type": "code",
    "executionInfo": {
     "elapsed": 35361,
     "status": "ok",
     "timestamp": 1565652875099,
     "user": {
      "displayName": "Hwanhee Kim",
      "photoUrl": "https://lh6.googleusercontent.com/-nodxsDvEvZo/AAAAAAAAAAI/AAAAAAAABHE/Ybrj2myvr5Q/s64/photo.jpg",
      "userId": "04863080312902369470"
     },
     "user_tz": -540
    },
    "id": "qYpvgEtfulIe",
    "outputId": "742b9275-b7ce-4ca4-8d7f-dd327e390236"
   },
   "outputs": [],
   "source": [
    "# 훈련 데이터 입력 정제\n",
    "import re\n",
    "# From https://github.com/yoonkim/CNN_sentence/blob/master/process_data.py\n",
    "def clean_str(string):    \n",
    "    string = re.sub(r\"[^가-힣A-Za-z0-9(),!?\\'\\`]\", \" \", string)\n",
    "    string = re.sub(r\"\\'ll\", \" \\'ll\", string)\n",
    "    string = re.sub(r\",\", \" , \", string)\n",
    "    string = re.sub(r\"!\", \" ! \", string)\n",
    "    string = re.sub(r\"\\(\", \"\", string)\n",
    "    string = re.sub(r\"\\)\", \"\", string)\n",
    "    string = re.sub(r\"\\?\", \" \\? \", string)\n",
    "    string = re.sub(r\"\\s{2,}\", \" \", string)\n",
    "    string = re.sub(r\"\\'{2,}\", \"\\'\", string)\n",
    "    string = re.sub(r\"\\'\", \"\", string)\n",
    "\n",
    "    return string\n",
    "\n",
    "\n",
    "train_text = train_text.split('\\n')\n",
    "train_text = [clean_str(sentence) for sentence in train_text]\n",
    "train_text_X = []\n",
    "for sentence in train_text:\n",
    "    train_text_X.extend(sentence.split(' '))\n",
    "    train_text_X.append('\\n')\n",
    "    \n",
    "train_text_X = [word for word in train_text_X if word != '']\n",
    "\n",
    "print(train_text_X[:20])"
   ]
  },
  {
   "cell_type": "code",
   "execution_count": null,
   "metadata": {
    "colab": {
     "base_uri": "https://localhost:8080/",
     "height": 287
    },
    "colab_type": "code",
    "executionInfo": {
     "elapsed": 37220,
     "status": "ok",
     "timestamp": 1565652879266,
     "user": {
      "displayName": "Hwanhee Kim",
      "photoUrl": "https://lh6.googleusercontent.com/-nodxsDvEvZo/AAAAAAAAAAI/AAAAAAAABHE/Ybrj2myvr5Q/s64/photo.jpg",
      "userId": "04863080312902369470"
     },
     "user_tz": -540
    },
    "id": "DWMq4C-qulCn",
    "outputId": "f88c9028-c5f8-4d04-fd25-0d6dfc12c9b9"
   },
   "outputs": [],
   "source": [
    "# 단어 토큰화\n",
    "# 단어의 set을 만듭니다.\n",
    "vocab = sorted(set(train_text_X))\n",
    "vocab.append('UNK')\n",
    "print ('{} unique words'.format(len(vocab)))\n",
    "\n",
    "# vocab list를 숫자로 맵핑하고, 반대도 실행합니다.\n",
    "word2idx = {u:i for i, u in enumerate(vocab)}\n",
    "idx2word = np.array(vocab)\n",
    "\n",
    "text_as_int = np.array([word2idx[c] for c in train_text_X])\n",
    "\n",
    "# word2idx 의 일부를 알아보기 쉽게 print 해봅니다.\n",
    "print('{')\n",
    "for word,_ in zip(word2idx, range(10)):\n",
    "    print('  {:4s}: {:3d},'.format(repr(word), word2idx[word]))\n",
    "print('  ...\\n}')\n",
    "\n",
    "print('index of UNK: {}'.format(word2idx['UNK']))"
   ]
  },
  {
   "cell_type": "code",
   "execution_count": null,
   "metadata": {
    "colab": {
     "base_uri": "https://localhost:8080/",
     "height": 71
    },
    "colab_type": "code",
    "executionInfo": {
     "elapsed": 35589,
     "status": "ok",
     "timestamp": 1565652879267,
     "user": {
      "displayName": "Hwanhee Kim",
      "photoUrl": "https://lh6.googleusercontent.com/-nodxsDvEvZo/AAAAAAAAAAI/AAAAAAAABHE/Ybrj2myvr5Q/s64/photo.jpg",
      "userId": "04863080312902369470"
     },
     "user_tz": -540
    },
    "id": "dIOkvMpd_7Wd",
    "outputId": "5fc29cf4-f965-4899-e954-a490e859420d"
   },
   "outputs": [],
   "source": [
    "# 토큰 데이터 확인\n",
    "print(train_text_X[:20])\n",
    "print(text_as_int[:20])"
   ]
  },
  {
   "cell_type": "code",
   "execution_count": null,
   "metadata": {
    "colab": {
     "base_uri": "https://localhost:8080/",
     "height": 107
    },
    "colab_type": "code",
    "executionInfo": {
     "elapsed": 34165,
     "status": "ok",
     "timestamp": 1565652879267,
     "user": {
      "displayName": "Hwanhee Kim",
      "photoUrl": "https://lh6.googleusercontent.com/-nodxsDvEvZo/AAAAAAAAAAI/AAAAAAAABHE/Ybrj2myvr5Q/s64/photo.jpg",
      "userId": "04863080312902369470"
     },
     "user_tz": -540
    },
    "id": "hKeZRJsM_7Tx",
    "outputId": "b5d1a3f5-47f9-4fbc-8d38-c159b4aff2fe"
   },
   "outputs": [],
   "source": [
    "# 기본 데이터셋 만들기\n",
    "seq_length = 25\n",
    "examples_per_epoch = len(text_as_int) // seq_length\n",
    "sentence_dataset = tf.data.Dataset.from_tensor_slices(text_as_int)\n",
    "\n",
    "sentence_dataset = sentence_dataset.batch(seq_length+1, drop_remainder=True)\n",
    "for item in sentence_dataset.take(1):\n",
    "    print(idx2word[item.numpy()])\n",
    "    print(item.numpy())"
   ]
  },
  {
   "cell_type": "code",
   "execution_count": null,
   "metadata": {
    "colab": {
     "base_uri": "https://localhost:8080/",
     "height": 143
    },
    "colab_type": "code",
    "executionInfo": {
     "elapsed": 32900,
     "status": "ok",
     "timestamp": 1565652879672,
     "user": {
      "displayName": "Hwanhee Kim",
      "photoUrl": "https://lh6.googleusercontent.com/-nodxsDvEvZo/AAAAAAAAAAI/AAAAAAAABHE/Ybrj2myvr5Q/s64/photo.jpg",
      "userId": "04863080312902369470"
     },
     "user_tz": -540
    },
    "id": "WCgSGJTQ_7QH",
    "outputId": "d8df3831-c7b8-4913-8b6c-7f8713fa3a84"
   },
   "outputs": [],
   "source": [
    "# 학습 데이터셋 만들기\n",
    "def split_input_target(chunk):\n",
    "    return [chunk[:-1], chunk[-1]]\n",
    "\n",
    "train_dataset = sentence_dataset.map(split_input_target)\n",
    "for x,y in train_dataset.take(1):\n",
    "    print(idx2word[x.numpy()])\n",
    "    print(x.numpy())\n",
    "    print(idx2word[y.numpy()])\n",
    "    print(y.numpy())"
   ]
  },
  {
   "cell_type": "code",
   "execution_count": null,
   "metadata": {
    "colab": {},
    "colab_type": "code",
    "id": "X6LSzyUgS72O"
   },
   "outputs": [],
   "source": [
    "# 데이터셋 shuffle, batch 설정\n",
    "BATCH_SIZE = 512\n",
    "steps_per_epoch = examples_per_epoch // BATCH_SIZE\n",
    "BUFFER_SIZE = 10000\n",
    "\n",
    "train_dataset = train_dataset.shuffle(BUFFER_SIZE).batch(BATCH_SIZE, drop_remainder=True)"
   ]
  },
  {
   "cell_type": "code",
   "execution_count": null,
   "metadata": {
    "colab": {
     "base_uri": "https://localhost:8080/",
     "height": 415
    },
    "colab_type": "code",
    "executionInfo": {
     "elapsed": 27222,
     "status": "ok",
     "timestamp": 1565652880071,
     "user": {
      "displayName": "Hwanhee Kim",
      "photoUrl": "https://lh6.googleusercontent.com/-nodxsDvEvZo/AAAAAAAAAAI/AAAAAAAABHE/Ybrj2myvr5Q/s64/photo.jpg",
      "userId": "04863080312902369470"
     },
     "user_tz": -540
    },
    "id": "bGDQMKzZRz9k",
    "outputId": "bb7bed08-62e9-4aab-9a1d-c11e4f9e6442"
   },
   "outputs": [],
   "source": [
    "# 단어 단위 생성 모델 정의\n",
    "total_words = len(vocab)\n",
    "model = tf.keras.Sequential([\n",
    "    tf.keras.layers.Embedding(total_words, 100, input_length=seq_length),\n",
    "    tf.keras.layers.LSTM(units=100, return_sequences=True),\n",
    "    tf.keras.layers.Dropout(0.2),\n",
    "    tf.keras.layers.LSTM(units=100),\n",
    "    tf.keras.layers.Dense(total_words, activation='softmax')\n",
    "])\n",
    "\n",
    "model.compile(optimizer='adam', loss='sparse_categorical_crossentropy', metrics=['accuracy'])\n",
    "model.summary()"
   ]
  },
  {
   "cell_type": "code",
   "execution_count": null,
   "metadata": {
    "colab": {
     "base_uri": "https://localhost:8080/",
     "height": 1000
    },
    "colab_type": "code",
    "executionInfo": {
     "elapsed": 8458911,
     "status": "ok",
     "timestamp": 1565665345719,
     "user": {
      "displayName": "Hwanhee Kim",
      "photoUrl": "https://lh6.googleusercontent.com/-nodxsDvEvZo/AAAAAAAAAAI/AAAAAAAABHE/Ybrj2myvr5Q/s64/photo.jpg",
      "userId": "04863080312902369470"
     },
     "user_tz": -540
    },
    "id": "xCF1_hcARz6g",
    "outputId": "211c953f-b098-485f-baea-6feae75f069d"
   },
   "outputs": [],
   "source": [
    "# 단어 단위 생성 모델 학습\n",
    "from tensorflow.keras.preprocessing.sequence import pad_sequences\n",
    "\n",
    "def testmodel(epoch, logs):\n",
    "    if epoch % 5 != 0 and epoch != 49:\n",
    "        return\n",
    "    test_sentence = train_text[0]\n",
    "\n",
    "    next_words = 100\n",
    "    for _ in range(next_words):\n",
    "        test_text_X = test_sentence.split(' ')[-seq_length:]\n",
    "        test_text_X = np.array([word2idx[c] if c in word2idx else word2idx['UNK'] for c in test_text_X])\n",
    "        test_text_X = pad_sequences([test_text_X], maxlen=seq_length, padding='pre', value=word2idx['UNK'])\n",
    "\n",
    "        output_idx = model.predict_classes(test_text_X)\n",
    "        test_sentence += ' ' + idx2word[output_idx[0]]\n",
    "    \n",
    "    print()\n",
    "    print(test_sentence)\n",
    "    print()\n",
    "\n",
    "testmodelcb = tf.keras.callbacks.LambdaCallback(on_epoch_end=testmodel)\n",
    "\n",
    "history = model.fit(train_dataset.repeat(), epochs=50, steps_per_epoch=steps_per_epoch, callbacks=[testmodelcb], verbose=2)"
   ]
  },
  {
   "cell_type": "code",
   "execution_count": null,
   "metadata": {
    "colab": {
     "base_uri": "https://localhost:8080/",
     "height": 73
    },
    "colab_type": "code",
    "executionInfo": {
     "elapsed": 547,
     "status": "ok",
     "timestamp": 1565665346246,
     "user": {
      "displayName": "Hwanhee Kim",
      "photoUrl": "https://lh6.googleusercontent.com/-nodxsDvEvZo/AAAAAAAAAAI/AAAAAAAABHE/Ybrj2myvr5Q/s64/photo.jpg",
      "userId": "04863080312902369470"
     },
     "user_tz": -540
    },
    "id": "Zz6UCaidRz2b",
    "outputId": "484d36b1-5218-4dc9-d5f6-5392269d1ab5"
   },
   "outputs": [],
   "source": [
    "# 임의의 문장을 사용한 생성 결과 확인\n",
    "from tensorflow.keras.preprocessing.sequence import pad_sequences\n",
    "test_sentence = '동헌에 나가 공무를 본 후 활 십오 순을 쏘았다'\n",
    "\n",
    "next_words = 100\n",
    "for _ in range(next_words):\n",
    "    test_text_X = test_sentence.split(' ')[-seq_length:]\n",
    "    test_text_X = np.array([word2idx[c] if c in word2idx else word2idx['UNK'] for c in test_text_X])\n",
    "    test_text_X = pad_sequences([test_text_X], maxlen=seq_length, padding='pre', value=word2idx['UNK'])\n",
    "    \n",
    "    output_idx = model.predict_classes(test_text_X)\n",
    "    test_sentence += ' ' + idx2word[output_idx[0]]\n",
    "\n",
    "print(test_sentence)"
   ]
  },
  {
   "cell_type": "markdown",
   "metadata": {
    "colab_type": "text",
    "id": "9Hzr8inp0Go4"
   },
   "source": [
    "## 4.2 자소 단위 생성"
   ]
  },
  {
   "cell_type": "code",
   "execution_count": null,
   "metadata": {
    "colab": {
     "base_uri": "https://localhost:8080/",
     "height": 143
    },
    "colab_type": "code",
    "executionInfo": {
     "elapsed": 56544,
     "status": "ok",
     "timestamp": 1565835939617,
     "user": {
      "displayName": "Hwanhee Kim",
      "photoUrl": "https://lh6.googleusercontent.com/-nodxsDvEvZo/AAAAAAAAAAI/AAAAAAAABHE/Ybrj2myvr5Q/s64/photo.jpg",
      "userId": "04863080312902369470"
     },
     "user_tz": -540
    },
    "id": "pPw8MxlxvE66",
    "outputId": "aead5501-3f0f-4278-981e-9c9aabf10025"
   },
   "outputs": [],
   "source": [
    "# jamotools 설치\n",
    "# !conda install -c conda-forge jamotools"
   ]
  },
  {
   "cell_type": "code",
   "execution_count": null,
   "metadata": {
    "colab": {
     "base_uri": "https://localhost:8080/",
     "height": 89
    },
    "colab_type": "code",
    "executionInfo": {
     "elapsed": 56871,
     "status": "ok",
     "timestamp": 1565835939952,
     "user": {
      "displayName": "Hwanhee Kim",
      "photoUrl": "https://lh6.googleusercontent.com/-nodxsDvEvZo/AAAAAAAAAAI/AAAAAAAABHE/Ybrj2myvr5Q/s64/photo.jpg",
      "userId": "04863080312902369470"
     },
     "user_tz": -540
    },
    "id": "Xq6XfbRpvEz5",
    "outputId": "983099ed-d1e6-44d5-9546-360eaf9d3900"
   },
   "outputs": [],
   "source": [
    "# 자모 분리 테스트\n",
    "import jamotools\n",
    "\n",
    "train_text = open(path_to_file, 'rb').read().decode(encoding='utf-8')\n",
    "s = train_text[:100]\n",
    "print(s)\n",
    "\n",
    "# 한글 텍스트를 자모 단위로 분리해줍니다. 한자 등에는 영향이 없습니다.\n",
    "s_split = jamotools.split_syllables(s)\n",
    "print(s_split)"
   ]
  },
  {
   "cell_type": "code",
   "execution_count": null,
   "metadata": {
    "colab": {
     "base_uri": "https://localhost:8080/",
     "height": 71
    },
    "colab_type": "code",
    "executionInfo": {
     "elapsed": 56863,
     "status": "ok",
     "timestamp": 1565835939953,
     "user": {
      "displayName": "Hwanhee Kim",
      "photoUrl": "https://lh6.googleusercontent.com/-nodxsDvEvZo/AAAAAAAAAAI/AAAAAAAABHE/Ybrj2myvr5Q/s64/photo.jpg",
      "userId": "04863080312902369470"
     },
     "user_tz": -540
    },
    "id": "-Ivfd0G5RRLJ",
    "outputId": "a12708bf-2d79-47bd-b225-c65ac5624797"
   },
   "outputs": [],
   "source": [
    "# 자모 결합 테스트\n",
    "s2 = jamotools.join_jamos(s_split)\n",
    "print(s2)\n",
    "print(s == s2)"
   ]
  },
  {
   "cell_type": "code",
   "execution_count": null,
   "metadata": {
    "colab": {
     "base_uri": "https://localhost:8080/",
     "height": 287
    },
    "colab_type": "code",
    "executionInfo": {
     "elapsed": 104878,
     "status": "ok",
     "timestamp": 1565835987976,
     "user": {
      "displayName": "Hwanhee Kim",
      "photoUrl": "https://lh6.googleusercontent.com/-nodxsDvEvZo/AAAAAAAAAAI/AAAAAAAABHE/Ybrj2myvr5Q/s64/photo.jpg",
      "userId": "04863080312902369470"
     },
     "user_tz": -540
    },
    "id": "wtl5EkcrRRIV",
    "outputId": "e1082c46-af08-40c6-9e49-98e760cd0ac3"
   },
   "outputs": [],
   "source": [
    "# 자모 토큰화\n",
    "# 텍스트를 자모 단위로 나눕니다. 데이터가 크기 때문에 약간 시간이 걸립니다.\n",
    "train_text_X = jamotools.split_syllables(train_text)\n",
    "vocab = sorted(set(train_text_X))\n",
    "vocab.append('UNK')\n",
    "print ('{} unique characters'.format(len(vocab)))\n",
    "\n",
    "# vocab list를 숫자로 맵핑하고, 반대도 실행합니다.\n",
    "char2idx = {u:i for i, u in enumerate(vocab)}\n",
    "idx2char = np.array(vocab)\n",
    "\n",
    "text_as_int = np.array([char2idx[c] for c in train_text_X])\n",
    "\n",
    "# word2idx 의 일부를 알아보기 쉽게 print 해봅니다.\n",
    "print('{')\n",
    "for char,_ in zip(char2idx, range(10)):\n",
    "    print('  {:4s}: {:3d},'.format(repr(char), char2idx[char]))\n",
    "print('  ...\\n}')\n",
    "\n",
    "print('index of UNK: {}'.format(char2idx['UNK']))"
   ]
  },
  {
   "cell_type": "code",
   "execution_count": null,
   "metadata": {
    "colab": {
     "base_uri": "https://localhost:8080/",
     "height": 71
    },
    "colab_type": "code",
    "executionInfo": {
     "elapsed": 104873,
     "status": "ok",
     "timestamp": 1565835987977,
     "user": {
      "displayName": "Hwanhee Kim",
      "photoUrl": "https://lh6.googleusercontent.com/-nodxsDvEvZo/AAAAAAAAAAI/AAAAAAAABHE/Ybrj2myvr5Q/s64/photo.jpg",
      "userId": "04863080312902369470"
     },
     "user_tz": -540
    },
    "id": "opyAlE-ZR4-o",
    "outputId": "af7f9ba2-5e74-4315-c0f2-d029f74ec092"
   },
   "outputs": [],
   "source": [
    "# 토큰 데이터 확인\n",
    "print(train_text_X[:20])\n",
    "print(text_as_int[:20])"
   ]
  },
  {
   "cell_type": "code",
   "execution_count": null,
   "metadata": {
    "colab": {
     "base_uri": "https://localhost:8080/",
     "height": 449
    },
    "colab_type": "code",
    "executionInfo": {
     "elapsed": 105224,
     "status": "ok",
     "timestamp": 1565835988335,
     "user": {
      "displayName": "Hwanhee Kim",
      "photoUrl": "https://lh6.googleusercontent.com/-nodxsDvEvZo/AAAAAAAAAAI/AAAAAAAABHE/Ybrj2myvr5Q/s64/photo.jpg",
      "userId": "04863080312902369470"
     },
     "user_tz": -540
    },
    "id": "MP0hfUCVRsp7",
    "outputId": "478819d1-4c00-4fa8-a4ed-ddb48b927e82"
   },
   "outputs": [],
   "source": [
    "# 학습 데이터세트 생성\n",
    "seq_length = 80\n",
    "examples_per_epoch = len(text_as_int) // seq_length\n",
    "char_dataset = tf.data.Dataset.from_tensor_slices(text_as_int)\n",
    "\n",
    "char_dataset = char_dataset.batch(seq_length+1, drop_remainder=True)\n",
    "for item in char_dataset.take(1):\n",
    "    print(idx2char[item.numpy()])\n",
    "    print(item.numpy())\n",
    "    \n",
    "def split_input_target(chunk):\n",
    "    return [chunk[:-1], chunk[-1]]\n",
    "\n",
    "train_dataset = char_dataset.map(split_input_target)\n",
    "for x,y in train_dataset.take(1):\n",
    "    print(idx2char[x.numpy()])\n",
    "    print(x.numpy())\n",
    "    print(idx2char[y.numpy()])\n",
    "    print(y.numpy())\n",
    "    \n",
    "BATCH_SIZE = 256\n",
    "steps_per_epoch = examples_per_epoch // BATCH_SIZE\n",
    "BUFFER_SIZE = 10000\n",
    "\n",
    "train_dataset = train_dataset.shuffle(BUFFER_SIZE).batch(BATCH_SIZE, drop_remainder=True)"
   ]
  },
  {
   "cell_type": "code",
   "execution_count": null,
   "metadata": {
    "colab": {
     "base_uri": "https://localhost:8080/",
     "height": 325
    },
    "colab_type": "code",
    "executionInfo": {
     "elapsed": 105638,
     "status": "ok",
     "timestamp": 1565835988755,
     "user": {
      "displayName": "Hwanhee Kim",
      "photoUrl": "https://lh6.googleusercontent.com/-nodxsDvEvZo/AAAAAAAAAAI/AAAAAAAABHE/Ybrj2myvr5Q/s64/photo.jpg",
      "userId": "04863080312902369470"
     },
     "user_tz": -540
    },
    "id": "TazYgfrsRsly",
    "outputId": "d1f0f38f-0dd8-4d86-db84-a35afa447388"
   },
   "outputs": [],
   "source": [
    "# 자소 단위 생성 모델 정의\n",
    "total_chars = len(vocab)\n",
    "model = tf.keras.Sequential([\n",
    "    tf.keras.layers.Embedding(total_chars, 100, input_length=seq_length),\n",
    "    tf.keras.layers.LSTM(units=400),\n",
    "    tf.keras.layers.Dense(total_chars, activation='softmax')\n",
    "])\n",
    "\n",
    "model.compile(optimizer='adam', loss='sparse_categorical_crossentropy', metrics=['accuracy'])\n",
    "model.summary()"
   ]
  },
  {
   "cell_type": "code",
   "execution_count": null,
   "metadata": {
    "colab": {
     "base_uri": "https://localhost:8080/",
     "height": 1000
    },
    "colab_type": "code",
    "executionInfo": {
     "elapsed": 23141912,
     "status": "ok",
     "timestamp": 1565863012352,
     "user": {
      "displayName": "Hwanhee Kim",
      "photoUrl": "https://lh6.googleusercontent.com/-nodxsDvEvZo/AAAAAAAAAAI/AAAAAAAABHE/Ybrj2myvr5Q/s64/photo.jpg",
      "userId": "04863080312902369470"
     },
     "user_tz": -540
    },
    "id": "Xjv4zsxFRRF9",
    "outputId": "bea65cf1-5cd4-406b-de71-2866f01208b6"
   },
   "outputs": [],
   "source": [
    "# 자소 단위 생성 모델 학습\n",
    "from tensorflow.keras.preprocessing.sequence import pad_sequences\n",
    "\n",
    "def testmodel(epoch, logs):\n",
    "    if epoch % 5 != 0 and epoch != 99:\n",
    "        return\n",
    "    \n",
    "    test_sentence = train_text[:48]\n",
    "    test_sentence = jamotools.split_syllables(test_sentence)\n",
    "\n",
    "    next_chars = 300\n",
    "    for _ in range(next_chars):\n",
    "        test_text_X = test_sentence[-seq_length:]\n",
    "        test_text_X = np.array([char2idx[c] if c in char2idx else char2idx['UNK'] for c in test_text_X])\n",
    "        test_text_X = pad_sequences([test_text_X], maxlen=seq_length, padding='pre', value=char2idx['UNK'])\n",
    "\n",
    "        output_idx = model.predict_classes(test_text_X)\n",
    "        test_sentence += idx2char[output_idx[0]]\n",
    "    \n",
    "    print()\n",
    "    print(jamotools.join_jamos(test_sentence))\n",
    "    print()\n",
    "\n",
    "testmodelcb = tf.keras.callbacks.LambdaCallback(on_epoch_end=testmodel)\n",
    "\n",
    "history = model.fit(train_dataset.repeat(), epochs=100, steps_per_epoch=steps_per_epoch, callbacks=[testmodelcb], verbose=2)"
   ]
  },
  {
   "cell_type": "code",
   "execution_count": null,
   "metadata": {
    "colab": {
     "base_uri": "https://localhost:8080/",
     "height": 143
    },
    "colab_type": "code",
    "executionInfo": {
     "elapsed": 2109,
     "status": "ok",
     "timestamp": 1565863014452,
     "user": {
      "displayName": "Hwanhee Kim",
      "photoUrl": "https://lh6.googleusercontent.com/-nodxsDvEvZo/AAAAAAAAAAI/AAAAAAAABHE/Ybrj2myvr5Q/s64/photo.jpg",
      "userId": "04863080312902369470"
     },
     "user_tz": -540
    },
    "id": "i2PIJeXRvEw-",
    "outputId": "9d2d26bd-2645-4330-eb4c-ef9276844bd0"
   },
   "outputs": [],
   "source": [
    "# 임의의 문장을 사용한 생성 결과 확인\n",
    "from tensorflow.keras.preprocessing.sequence import pad_sequences\n",
    "test_sentence = '동헌에 나가 공무를 본 후 활 십오 순을 쏘았다'\n",
    "test_sentence = jamotools.split_syllables(test_sentence)\n",
    "\n",
    "next_chars = 300\n",
    "for _ in range(next_chars):\n",
    "    test_text_X = test_sentence[-seq_length:]\n",
    "    test_text_X = np.array([char2idx[c] if c in char2idx else char2idx['UNK'] for c in test_text_X])\n",
    "    test_text_X = pad_sequences([test_text_X], maxlen=seq_length, padding='pre', value=char2idx['UNK'])\n",
    "    \n",
    "    output_idx = model.predict_classes(test_text_X)\n",
    "    test_sentence += idx2char[output_idx[0]]\n",
    "    \n",
    "\n",
    "print(jamotools.join_jamos(test_sentence))"
   ]
  }
 ],
 "metadata": {
  "accelerator": "GPU",
  "colab": {
   "collapsed_sections": [],
   "name": "Chapter7.ipynb",
   "provenance": [
    {
     "file_id": "148SI-wpi5Z3vDvYyOrNwGKsQQLZnVF-S",
     "timestamp": 1565493431491
    }
   ],
   "toc_visible": true
  },
  "kernelspec": {
   "display_name": "Python 3 (ipykernel)",
   "language": "python",
   "name": "python3"
  },
  "language_info": {
   "codemirror_mode": {
    "name": "ipython",
    "version": 3
   },
   "file_extension": ".py",
   "mimetype": "text/x-python",
   "name": "python",
   "nbconvert_exporter": "python",
   "pygments_lexer": "ipython3",
   "version": "3.8.12"
  }
 },
 "nbformat": 4,
 "nbformat_minor": 4
}
