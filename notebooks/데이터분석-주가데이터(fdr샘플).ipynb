{
 "cells": [
  {
   "cell_type": "markdown",
   "metadata": {},
   "source": [
    "# 시가총액 데이터 분석 I\n",
    "\n",
    "> `강의_비즈데이터분석_2204/02-데이터처리/`pd-Cookbook3(2020시가총액파일).ipynb"
   ]
  },
  {
   "cell_type": "markdown",
   "metadata": {},
   "source": [
    "1. pandas if conditions\n",
    "1. 새열 추가\n",
    "1. pandas where()\n",
    "1. np.where 결합\n",
    "1. loc,iloc 인덱싱\n",
    "1. loc if-then\n",
    "1. applymap\n",
    "1. Grouping\n",
    "1. Pivot"
   ]
  },
  {
   "cell_type": "markdown",
   "metadata": {
    "id": "xxL7u94xBWtY",
    "tags": []
   },
   "source": [
    "### 코랩: 한글 폰트 설치"
   ]
  },
  {
   "cell_type": "markdown",
   "metadata": {
    "colab": {
     "base_uri": "https://localhost:8080/"
    },
    "id": "s2FJvPltgmrh",
    "outputId": "f3935ecc-73c1-492c-dbd3-8ede4eb9921f"
   },
   "source": [
    "1. 한글 폰트 설치\n",
    "\n",
    "```sh\n",
    "#폰트 설치\n",
    "! apt install fonts-nanum*\n",
    "```\n",
    "\n",
    "```sh\n",
    "! apt install fontconfig\n",
    "```\n",
    "\n",
    "2. 폰트 캐시 생성\n",
    "\n",
    "```sh\n",
    "#폰트 캐시 생성\n",
    "!fc-cache -fv\n",
    "```\n",
    "\n",
    "3. matplotlib에 남아있는 font 캐시 삭제\n",
    "\n",
    "```sh\n",
    "# matplotlib에 남아있는 font 캐시 삭제\n",
    "!rm -rf ~/.cache/matplotlib/*\n",
    "```\n",
    "\n",
    "4. Runtime 재실행\n",
    "\n",
    "5. matplotlib 에서 Nanum 한글 폰트 검색 확인\n",
    "\n",
    "```python\n",
    "import matplotlib.pyplot as plt\n",
    "import matplotlib.font_manager as fm\n",
    "\n",
    "# 폰트 목록에서 폰트 찾기\n",
    "for font in fm.fontManager.ttflist:\n",
    "    if 'Nanum' in font.name:\n",
    "        print(font.name, font.fname)\n",
    "```"
   ]
  },
  {
   "cell_type": "markdown",
   "metadata": {},
   "source": [
    "### 필요 라이브러리"
   ]
  },
  {
   "cell_type": "code",
   "execution_count": null,
   "metadata": {
    "tags": []
   },
   "outputs": [],
   "source": [
    "import numpy as np\n",
    "import pandas as pd\n",
    "import pickle"
   ]
  },
  {
   "cell_type": "code",
   "execution_count": null,
   "metadata": {},
   "outputs": [],
   "source": [
    "import matplotlib.pyplot as plt\n",
    "import matplotlib.font_manager as fm\n",
    "%matplotlib inline"
   ]
  },
  {
   "cell_type": "code",
   "execution_count": null,
   "metadata": {
    "tags": []
   },
   "outputs": [],
   "source": [
    "# 전역 폰트 설정 사용\n",
    "# font_path = 'C:/Windows/Fonts/NanumGothic.ttf'\n",
    "# font_path = '/Users/qkboo/Library/Fonts/NanumGothic.otf'\n",
    "font_path = \"/usr/share/fonts/truetype/nanum/NanumGothic.ttf\"\n",
    "\n",
    "fontname = fm.FontProperties(fname=font_path, size=18).get_name()  # 폰트 패밀리 이름!\n",
    "# plt.rc('font', family=fontname)\n",
    "plt.rcParams[\"font.family\"] = fontname\n",
    "plt.rcParams[\"font.size\"] = 12\n",
    "\n",
    "# matplotlib 설정\n",
    "plt.rcParams[\"axes.grid\"] = True\n",
    "plt.rcParams[\"figure.figsize\"] = (10,3)\n",
    "plt.rcParams[\"axes.formatter.useoffset\"] = False\n",
    "plt.rcParams['axes.unicode_minus'] = False\n",
    "plt.rcParams[\"axes.formatter.limits\"] = -10000, 10000\n",
    "\n",
    "plt.title('한글 타이틀...')"
   ]
  },
  {
   "cell_type": "code",
   "execution_count": null,
   "metadata": {},
   "outputs": [],
   "source": []
  },
  {
   "cell_type": "markdown",
   "metadata": {},
   "source": [
    "# 2. FinanceDataReader 활용"
   ]
  },
  {
   "cell_type": "code",
   "execution_count": null,
   "metadata": {},
   "outputs": [],
   "source": [
    "! pip install finance-datareader"
   ]
  },
  {
   "cell_type": "code",
   "execution_count": null,
   "metadata": {},
   "outputs": [],
   "source": [
    "import FinanceDataReader as fdr"
   ]
  },
  {
   "cell_type": "code",
   "execution_count": null,
   "metadata": {},
   "outputs": [],
   "source": [
    "pd.options.display.float_format = '{:.1f}'.format\n",
    "\n",
    "# df2021 = pd.read_csv('../data/stocks/marcap-2021.csv.gz')\n",
    "# df2021.head(3)"
   ]
  },
  {
   "cell_type": "code",
   "execution_count": null,
   "metadata": {},
   "outputs": [],
   "source": [
    "df005930 = fdr.DataReader('005930', '2000-01-01', '2021-12-31')"
   ]
  },
  {
   "cell_type": "markdown",
   "metadata": {},
   "source": [
    "자료의 전체 정보를 보자"
   ]
  },
  {
   "cell_type": "code",
   "execution_count": null,
   "metadata": {},
   "outputs": [],
   "source": [
    "df005930.info()"
   ]
  },
  {
   "cell_type": "markdown",
   "metadata": {},
   "source": [
    "## if conditions\n",
    "\n",
    "컬럼에 대해 if 처리"
   ]
  },
  {
   "cell_type": "code",
   "execution_count": null,
   "metadata": {},
   "outputs": [],
   "source": [
    "# 6만전자\n",
    "df6 = df005930.loc[df005930.Close <60000]\n",
    "df6.head(3)"
   ]
  },
  {
   "cell_type": "code",
   "execution_count": null,
   "metadata": {},
   "outputs": [],
   "source": [
    "df6.index.min(), df6.index.max()"
   ]
  },
  {
   "cell_type": "code",
   "execution_count": null,
   "metadata": {},
   "outputs": [],
   "source": [
    "# 종목중 종가가 80000 이상 경우만 추출\n",
    "df8 = df005930.loc[df005930.Close >= 80000]\n",
    "df8.index.min(), df.index.max()"
   ]
  },
  {
   "cell_type": "markdown",
   "metadata": {},
   "source": [
    "6만전자에서 8만 전자까지 기간"
   ]
  },
  {
   "cell_type": "code",
   "execution_count": null,
   "metadata": {},
   "outputs": [],
   "source": [
    "df6.index.max() - df8.index.min()"
   ]
  },
  {
   "cell_type": "markdown",
   "metadata": {},
   "source": [
    "조건에 대한 결과는 여러 연산을 연결 할 수 있다."
   ]
  },
  {
   "cell_type": "code",
   "execution_count": null,
   "metadata": {},
   "outputs": [],
   "source": [
    "# 종가가 80000 미만인 날짜만 출력.\n",
    "df005930.loc[df005930.Close <= 80000]"
   ]
  },
  {
   "cell_type": "markdown",
   "metadata": {},
   "source": [
    "다중 조건도 가능"
   ]
  },
  {
   "cell_type": "code",
   "execution_count": null,
   "metadata": {},
   "outputs": [],
   "source": [
    "# 종가가 80000원 미만이고 5/1일 이후만 출력!\n",
    "df005930.loc[(df005930.Close <= 80000) & (df005930.Date >= '2020-05-01')].head(3)"
   ]
  },
  {
   "cell_type": "markdown",
   "metadata": {},
   "source": [
    "### 연습) 5/1일 이전 10일 시가와 종가를 그래프로 그려보자"
   ]
  },
  {
   "cell_type": "code",
   "execution_count": null,
   "metadata": {},
   "outputs": [],
   "source": [
    "df005930.loc[(df005930.index < '2021-05-01')][['Close']].plot()\n",
    "# df005930.loc[(df005930.Date < '2021-05-01')][['Date','Close']].plot(x='Date')"
   ]
  },
  {
   "cell_type": "code",
   "execution_count": null,
   "metadata": {},
   "outputs": [],
   "source": [
    "# 여러 종속변수를 지정\n",
    "# df005930.loc[(df005930.Date < '2021-05-01')].plot(x='Date', y=['Open', 'Close'])\n",
    "df005930.loc[(df005930.index < '2021-05-01')].plot( y=['Open', 'Close'])"
   ]
  },
  {
   "cell_type": "markdown",
   "metadata": {},
   "source": [
    "10일 이전 데이터"
   ]
  },
  {
   "cell_type": "code",
   "execution_count": null,
   "metadata": {},
   "outputs": [],
   "source": [
    "df005930.loc[(df005930.Date < '2021-05-01')][-10:].plot(x='Date', y=['Open', 'Close'])"
   ]
  },
  {
   "cell_type": "markdown",
   "metadata": {},
   "source": [
    "## `pd.where()` 기본"
   ]
  },
  {
   "cell_type": "markdown",
   "metadata": {},
   "source": [
    "### mask 로 사용: `pd.where()`\n"
   ]
  },
  {
   "cell_type": "code",
   "execution_count": null,
   "metadata": {},
   "outputs": [],
   "source": [
    "dfmask = df005930['Close'] > 80000"
   ]
  },
  {
   "cell_type": "code",
   "execution_count": null,
   "metadata": {},
   "outputs": [],
   "source": [
    "dfmask.info()"
   ]
  },
  {
   "cell_type": "code",
   "execution_count": null,
   "metadata": {},
   "outputs": [],
   "source": [
    "df005930.where(dfmask)"
   ]
  },
  {
   "cell_type": "code",
   "execution_count": null,
   "metadata": {},
   "outputs": [],
   "source": [
    "df005930.where(dfmask != np.NaN)"
   ]
  },
  {
   "cell_type": "code",
   "execution_count": null,
   "metadata": {},
   "outputs": [],
   "source": [
    "df005930.where( (df005930['Close'] > 80000) != np.NaN )"
   ]
  },
  {
   "cell_type": "markdown",
   "metadata": {},
   "source": [
    "## if-then : `pd.where()`"
   ]
  },
  {
   "cell_type": "code",
   "execution_count": null,
   "metadata": {},
   "outputs": [],
   "source": [
    "df005930.where( (df005930['Close'] > 80000), 'Oppps' )"
   ]
  },
  {
   "cell_type": "markdown",
   "metadata": {},
   "source": [
    "##  if-then-else: `np.where()`\n",
    "\n",
    "if-then-else 는 `numpy`의 where() 와 함께 가능하다.\n",
    "\n",
    "```python\n",
    "np.where(condition, [x, y])\n",
    "```"
   ]
  },
  {
   "cell_type": "code",
   "execution_count": null,
   "metadata": {},
   "outputs": [],
   "source": [
    "# 종가가 5만 이상이면 5만전자, 아니면 4만전자\n",
    "dfcopy = df005930.copy()\n",
    "dfcopy['Nickname'] = np.where(dfcopy.Close > 80000, \"8만전자\", \"7만전자\")\n",
    "dfcopy.loc[dfcopy.Nickname == '7만전자'].head(5)"
   ]
  },
  {
   "cell_type": "markdown",
   "metadata": {},
   "source": [
    "## 조건 결합\n"
   ]
  },
  {
   "cell_type": "code",
   "execution_count": null,
   "metadata": {},
   "outputs": [],
   "source": [
    "dfcopy = df005930.copy()\n",
    "# 프레임을 등락율이 0.1 이상인 프레임으로 나눈다.\n",
    "dfcopy[dfcopy.Change > 0.1][:5]"
   ]
  },
  {
   "cell_type": "markdown",
   "metadata": {},
   "source": [
    "하나 혹은 다중 컬럼 조건은 `&`, `|` 로 묶어서 기준을 정하고, 나누어진 프레임 결과에서 보고자 하는 컬럼이름을 지정할 수 있다. 반환 컬럼이 하나면 Series 객체를 반환하고, 여러 컬럼을 지정하면 DataFrame 을 반환한다."
   ]
  },
  {
   "cell_type": "code",
   "execution_count": null,
   "metadata": {},
   "outputs": [],
   "source": [
    "# AND 조건\n",
    "# 시가 7만 이상, 고가 7만 이상인 날짜의 종가를 출력\n",
    "dfcopy.loc[(dfcopy.Open > 70000) & (dfcopy.High > 70000), \"Close\"][:4]"
   ]
  },
  {
   "cell_type": "code",
   "execution_count": null,
   "metadata": {},
   "outputs": [],
   "source": [
    "# 여러 컬럼을 지정하면 DataFrame 객체를 반환한다.\n",
    "dfcopy.loc[(dfcopy.Open > 70000) & (dfcopy.High > 70000), [\"Close\"]][:4]"
   ]
  },
  {
   "cell_type": "code",
   "execution_count": null,
   "metadata": {},
   "outputs": [],
   "source": [
    "# OR 조건\n",
    "dfcopy.loc[(dfcopy.Open > 70000) | (dfcopy.Low < 65000), [\"Close\"]][:4]"
   ]
  },
  {
   "cell_type": "markdown",
   "metadata": {},
   "source": [
    "앞의 예제 처럼, 조건 일치한 결과에 대해서 컬럼을 수정할 수 있다."
   ]
  },
  {
   "cell_type": "code",
   "execution_count": null,
   "metadata": {},
   "outputs": [],
   "source": [
    "dfcopy.loc[(dfcopy.Open > 70000) | (dfcopy.Low < 65000), [\"Changes\"]] = 'HIGH'\n",
    "dfcopy.loc[dfcopy.Changes == 'HIGH'][:5]"
   ]
  },
  {
   "cell_type": "code",
   "execution_count": null,
   "metadata": {},
   "outputs": [],
   "source": []
  },
  {
   "cell_type": "markdown",
   "metadata": {},
   "source": [
    "### `argsort()` 를 사용해 지정한 값에 근접한 데이터를 선택한다.\n",
    "\n",
    " - https://stackoverflow.com/questions/17758023/return-rows-in-a-dataframe-closest-to-a-user-defined-number"
   ]
  },
  {
   "cell_type": "markdown",
   "metadata": {},
   "source": [
    "기준으로 바이너리 연산자 사용해서 대상을 줄일 수 도 있다(매스킹의 일부), 이런 기준들을 하나로 묶어 사용할 수 있다."
   ]
  },
  {
   "cell_type": "code",
   "execution_count": null,
   "metadata": {},
   "outputs": [],
   "source": [
    "crit1 = dfcopy.Close <= 50000\n",
    "crit2 = (dfcopy.Open > 50000) & (dfcopy.Close < 60000 )\n",
    "crit3 = dfcopy.High > 60000\n",
    "allcrits = crit1 & crit2 & crit3"
   ]
  },
  {
   "cell_type": "code",
   "execution_count": null,
   "metadata": {},
   "outputs": [],
   "source": [
    "dfcopy[crit2][:5]"
   ]
  },
  {
   "cell_type": "code",
   "execution_count": null,
   "metadata": {},
   "outputs": [],
   "source": [
    "dfcopy[allcrits]"
   ]
  },
  {
   "cell_type": "markdown",
   "metadata": {},
   "source": [
    "혹은 동적으로 기준을 리스트로 두고 `functools.reduce()` 에 저굥할수 있다."
   ]
  },
  {
   "cell_type": "code",
   "execution_count": null,
   "metadata": {},
   "outputs": [],
   "source": [
    "import functools\n",
    "\n",
    "critlist = [crit1, crit2, crit3]\n",
    "allcrits = functools.reduce(lambda x, y: x & y, critlist)\n",
    "dfcopy[allcrits]"
   ]
  },
  {
   "cell_type": "markdown",
   "metadata": {},
   "source": [
    "## loc, iloc 인덱싱\n",
    "\n",
    " - 전통적인 행 라벨과 값 상태를 이용할 수 있다.\n",
    " - `.loc[]` 를 사용해 라벨 지향과 `.iloc[]` 로 위치 값 기반"
   ]
  },
  {
   "cell_type": "code",
   "execution_count": null,
   "metadata": {},
   "outputs": [],
   "source": [
    "# 종가가 5만원 미만이면서 변동폭이 2% 이상인 것\n",
    "df005930[ (df005930.Close <= 50000) & (df005930.ChagesRatio > 2.0)]"
   ]
  },
  {
   "cell_type": "markdown",
   "metadata": {},
   "source": [
    "행 라벨과 값 상태 양쪽을 사용할 수 있다."
   ]
  },
  {
   "cell_type": "code",
   "execution_count": null,
   "metadata": {},
   "outputs": [],
   "source": [
    "df005930[(df005930.Close <= 50000) & (df005930.index.isin([127182, 131872]))]"
   ]
  },
  {
   "cell_type": "markdown",
   "metadata": {},
   "source": [
    "슬라이싱은 `.loc[]` 로 레이블 지향과 `.iloc[]` 로 인덱스 위치 슬라이싱을 사용할 때는 ,두 가지 명시적인 슬라이싱 방법과  세 번째 일반 슬라이싱 방법이 있다.\n",
    "\n",
    "1. 위치 지향(Python 슬라이싱 스타일: 끝 제외)\n",
    "2. 레이블 지향(비-파이톤 슬라이싱 스타일: 끝 포함)\n",
    "3. 일반(슬라이싱 스타일 : 슬라이스에 레이블 또는 위치가 포함되어 있는지 여부에 따라 다름)"
   ]
  },
  {
   "cell_type": "markdown",
   "metadata": {},
   "source": [
    "1. 위치 지향으로 인덱스 값을 기반으로 한다.\n"
   ]
  },
  {
   "cell_type": "code",
   "execution_count": null,
   "metadata": {},
   "outputs": [],
   "source": [
    "# 인덱스에서 005930~006000 을 찾는다.\n",
    "df005930.set_index([\"Code\", \"Name\"]).loc[\"005930\":\"006000\"][:4]"
   ]
  },
  {
   "cell_type": "code",
   "execution_count": null,
   "metadata": {},
   "outputs": [],
   "source": [
    "# 2. 일반 슬라이싱 스타일: 인덱스 위치 기반\n",
    "df005930[2:5]"
   ]
  },
  {
   "cell_type": "code",
   "execution_count": null,
   "metadata": {},
   "outputs": [],
   "source": [
    "# .iloc[] 인덱스 위치 기반 - 인덱스 위치 값이다.\n",
    "df005930.iloc[2:5]"
   ]
  },
  {
   "cell_type": "markdown",
   "metadata": {},
   "source": [
    "인덱스를 이름으로 변경하고, 위치 값 [2:5] 을 찾아보자,"
   ]
  },
  {
   "cell_type": "code",
   "execution_count": null,
   "metadata": {},
   "outputs": [],
   "source": [
    "# 인덱스를 변경하면 위치값이 다르므로 결과가 다르다.\n",
    "df005930.set_index(['Name']).iloc[2:5]"
   ]
  },
  {
   "cell_type": "code",
   "execution_count": null,
   "metadata": {},
   "outputs": [],
   "source": [
    "# 인덱스 라벨로 2~5 라는 라벨이 없으므로 결과가 없다.\n",
    "df005930.loc[2:5]"
   ]
  },
  {
   "cell_type": "code",
   "execution_count": null,
   "metadata": {},
   "outputs": [],
   "source": [
    "# 인덱스를 날짜로 바꾸고 라벨로 슬라이싱을 해보자.\n",
    "df005930.set_index(['Date'], inplace=True)\n",
    "df005930.head(3)"
   ]
  },
  {
   "cell_type": "code",
   "execution_count": null,
   "metadata": {},
   "outputs": [],
   "source": [
    "# 날짜형식으로 인덱스 범위를 지정.\n",
    "df005930.loc[\"2020-02-03\":\"2020-02-06\"]"
   ]
  },
  {
   "cell_type": "code",
   "execution_count": null,
   "metadata": {},
   "outputs": [],
   "source": [
    "# 인덱스가 날짜 상태에서 위치 값으로 슬라이싱\n",
    "df005930.iloc[1:4]"
   ]
  },
  {
   "cell_type": "markdown",
   "metadata": {},
   "source": [
    "## `loc` 조건 if-then\n",
    "\n",
    "컬럼에 대해 if 조건이 맞으면 대상 컬럼에 then 처리. \n",
    "\n",
    "```python\n",
    "df.loc[ IF조건, \"THEN\"] = value\n",
    "```\n",
    "\n",
    "예를 들어 종가가 50000원 밑이면 Low 컬럼에 True 값을 주어 보자."
   ]
  },
  {
   "cell_type": "code",
   "execution_count": null,
   "metadata": {},
   "outputs": [],
   "source": [
    "df2 = df005930.copy()\n",
    "df2.loc[df2.Close < 80000, \"FOUR\"] = True\n",
    "df2.head(3)"
   ]
  },
  {
   "cell_type": "code",
   "execution_count": null,
   "metadata": {},
   "outputs": [],
   "source": [
    "# 종가 80000 아래인 날짜\n",
    "df2.loc[df2.FOUR == True]['Date'].unique()"
   ]
  },
  {
   "cell_type": "markdown",
   "metadata": {},
   "source": [
    "if-then은 여러 컬럼에 대해서도 적용이 가능하다"
   ]
  },
  {
   "cell_type": "code",
   "execution_count": null,
   "metadata": {},
   "outputs": [],
   "source": [
    "df2 = df005930.copy()\n",
    "\n",
    "df2.loc[df2.Close > 50000, ['FOUR','SIX']] = (False,True)\n",
    "df2.loc[df2.SIX == True].shape"
   ]
  },
  {
   "cell_type": "markdown",
   "metadata": {},
   "source": [
    "### 보수 연산 `~` 사용\n",
    "\n",
    "반대 연산자 `~` 를 사용해 매스크의 보수를 얻는다."
   ]
  },
  {
   "cell_type": "code",
   "execution_count": null,
   "metadata": {},
   "outputs": [],
   "source": [
    "# 50000원 이하이고 등락률이 2% 이상이 아닌 모든것\n",
    "df005930[~((df005930.Close < 50000) & (df005930.ChagesRatio > 2.0))][:5]"
   ]
  },
  {
   "cell_type": "code",
   "execution_count": null,
   "metadata": {},
   "outputs": [],
   "source": []
  },
  {
   "cell_type": "markdown",
   "metadata": {},
   "source": [
    "# 참고\n",
    "\n",
    "FinanceDataReader 사용\n",
    "\n",
    " - 설치 및 사용: https://github.com/financedata-org/FinanceDataReader\n",
    " - 사용 설명서: https://financedata.github.io/posts/finance-data-reader-users-guide.html\n"
   ]
  }
 ],
 "metadata": {
  "kernelspec": {
   "display_name": "Python 3 (ipykernel)",
   "language": "python",
   "name": "python3"
  },
  "language_info": {
   "codemirror_mode": {
    "name": "ipython",
    "version": 3
   },
   "file_extension": ".py",
   "mimetype": "text/x-python",
   "name": "python",
   "nbconvert_exporter": "python",
   "pygments_lexer": "ipython3",
   "version": "3.10.5"
  }
 },
 "nbformat": 4,
 "nbformat_minor": 4
}
