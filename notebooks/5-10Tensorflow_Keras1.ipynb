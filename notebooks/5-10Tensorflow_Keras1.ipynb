{
 "cells": [
  {
   "cell_type": "markdown",
   "metadata": {},
   "source": [
    "`교안tf2-03-1Tensorflow와_Keras.pdf (202201`"
   ]
  },
  {
   "cell_type": "markdown",
   "metadata": {
    "tags": []
   },
   "source": [
    "# Tensorflow와 Keras\n",
    "\n",
    "텐서플로우는 대규모 수치 계산 라이브러리로 텐서는 다차원 행렬 계산을 의미한다. 딥러닝의 특징데로 계산식을 만들고 데이터를 넣어 실행하는 구조를 가지고 있다.\n",
    "\n",
    "다차원 행렬 계산 라이브러리로서 영상처리 라이브러리도 제공하고, OpenCV 라이브러리와 함게 사용된다.\n"
   ]
  },
  {
   "cell_type": "code",
   "execution_count": 1,
   "metadata": {
    "colab": {
     "base_uri": "https://localhost:8080/",
     "height": 35
    },
    "colab_type": "code",
    "executionInfo": {
     "elapsed": 8222,
     "status": "ok",
     "timestamp": 1574604897916,
     "user": {
      "displayName": "Hwanhee Kim",
      "photoUrl": "https://lh3.googleusercontent.com/a-/AAuE7mAJC9PPBoQ91glDwFjxm3TlW5EqGy0BIAJ52D-ekw=s64",
      "userId": "04863080312902369470"
     },
     "user_tz": -540
    },
    "id": "CklSGCkG2v22",
    "outputId": "da686fd5-14f1-476b-c337-d13a9afe4874"
   },
   "outputs": [
    {
     "name": "stdout",
     "output_type": "stream",
     "text": [
      "2.9.1 2.9.0\n"
     ]
    }
   ],
   "source": [
    "# 텐서플로 2.0 버전 선택\n",
    "try:\n",
    "    # %tensorflow_version only exists in Colab.\n",
    "    %tensorflow_version 2.x\n",
    "except Exception:\n",
    "    pass\n",
    "import tensorflow as tf\n",
    "from tensorflow import keras\n",
    "print(tf.__version__, keras.__version__)"
   ]
  },
  {
   "cell_type": "code",
   "execution_count": 2,
   "metadata": {},
   "outputs": [],
   "source": [
    "import numpy as np\n",
    "import pandas as pd"
   ]
  },
  {
   "cell_type": "code",
   "execution_count": 3,
   "metadata": {
    "colab": {
     "base_uri": "https://localhost:8080/",
     "height": 35
    },
    "colab_type": "code",
    "executionInfo": {
     "elapsed": 4647,
     "status": "ok",
     "timestamp": 1573269556884,
     "user": {
      "displayName": "Hwanhee Kim",
      "photoUrl": "https://lh3.googleusercontent.com/a-/AAuE7mAJC9PPBoQ91glDwFjxm3TlW5EqGy0BIAJ52D-ekw=s64",
      "userId": "04863080312902369470"
     },
     "user_tz": -540
    },
    "id": "1nyZokK7MKTd",
    "outputId": "33e64265-e980-424b-eef4-41198d02d914"
   },
   "outputs": [
    {
     "name": "stdout",
     "output_type": "stream",
     "text": [
      "Linux-5.10.102.1-microsoft-standard-WSL2-x86_64-with-glibc2.31\n"
     ]
    }
   ],
   "source": [
    "# Google Colab 운영체제 확인\n",
    "import platform\n",
    "print(platform.platform())"
   ]
  },
  {
   "cell_type": "code",
   "execution_count": 4,
   "metadata": {},
   "outputs": [],
   "source": [
    "# 외부라이브러리\n",
    "import sys\n",
    "sys.path.append('../../Libraries') "
   ]
  },
  {
   "cell_type": "code",
   "execution_count": 5,
   "metadata": {},
   "outputs": [],
   "source": [
    "from lib_ml_visual import get_clf_eval"
   ]
  },
  {
   "cell_type": "markdown",
   "metadata": {
    "colab_type": "text",
    "id": "2ooF5dOI0cJc",
    "tags": []
   },
   "source": [
    "# 1. 텐서플로우와 신경망\n",
    "\n",
    "퍼셉트론의 한계인 AND, OR, Xor 연산을 신경망으로 할 수 있다."
   ]
  },
  {
   "cell_type": "markdown",
   "metadata": {
    "colab_type": "text",
    "id": "2dR8mqitUEfH"
   },
   "source": [
    "## 01. 랜덤한 수 생성\n",
    "\n",
    "신"
   ]
  },
  {
   "cell_type": "code",
   "execution_count": null,
   "metadata": {
    "colab": {
     "base_uri": "https://localhost:8080/",
     "height": 35
    },
    "colab_type": "code",
    "executionInfo": {
     "elapsed": 765,
     "status": "ok",
     "timestamp": 1573269978631,
     "user": {
      "displayName": "Hwanhee Kim",
      "photoUrl": "https://lh3.googleusercontent.com/a-/AAuE7mAJC9PPBoQ91glDwFjxm3TlW5EqGy0BIAJ52D-ekw=s64",
      "userId": "04863080312902369470"
     },
     "user_tz": -540
    },
    "id": "Mq2AtFOl0hS1",
    "outputId": "78da706a-e7f3-483a-c97d-0cfeb36c456d"
   },
   "outputs": [],
   "source": [
    "# 랜덤한 수 얻기 (균일 분포)\n",
    "rand = tf.random.uniform([1],0,1)\n",
    "print(rand)"
   ]
  },
  {
   "cell_type": "code",
   "execution_count": null,
   "metadata": {},
   "outputs": [],
   "source": [
    "type(rand)"
   ]
  },
  {
   "cell_type": "code",
   "execution_count": null,
   "metadata": {
    "colab": {
     "base_uri": "https://localhost:8080/",
     "height": 35
    },
    "colab_type": "code",
    "executionInfo": {
     "elapsed": 650,
     "status": "ok",
     "timestamp": 1573270737911,
     "user": {
      "displayName": "Hwanhee Kim",
      "photoUrl": "https://lh3.googleusercontent.com/a-/AAuE7mAJC9PPBoQ91glDwFjxm3TlW5EqGy0BIAJ52D-ekw=s64",
      "userId": "04863080312902369470"
     },
     "user_tz": -540
    },
    "id": "7Fb7DLjQ4i4C",
    "outputId": "2017c692-0715-4efa-dd30-741f7c08ef71"
   },
   "outputs": [],
   "source": [
    "# `랜덤한 수 여러 개 얻기 (균일 분포)\n",
    "rand = tf.random.uniform([4],0,1)\n",
    "print(rand)"
   ]
  },
  {
   "cell_type": "code",
   "execution_count": null,
   "metadata": {
    "colab": {
     "base_uri": "https://localhost:8080/",
     "height": 35
    },
    "colab_type": "code",
    "executionInfo": {
     "elapsed": 1368,
     "status": "ok",
     "timestamp": 1574604904460,
     "user": {
      "displayName": "Hwanhee Kim",
      "photoUrl": "https://lh3.googleusercontent.com/a-/AAuE7mAJC9PPBoQ91glDwFjxm3TlW5EqGy0BIAJ52D-ekw=s64",
      "userId": "04863080312902369470"
     },
     "user_tz": -540
    },
    "id": "jcmeN0232BUz",
    "outputId": "ba22b87c-3b20-4c94-913b-ff8bbb7bfae1"
   },
   "outputs": [],
   "source": [
    "# 랜덤한 수 여러 개 얻기 (정규 분포)\n",
    "rand = tf.random.normal([4],0,1)\n",
    "print(rand)"
   ]
  },
  {
   "cell_type": "markdown",
   "metadata": {
    "colab_type": "text",
    "id": "goJriV4SUL4F"
   },
   "source": [
    "## 02. 뉴런 만들기"
   ]
  },
  {
   "cell_type": "markdown",
   "metadata": {},
   "source": [
    "시그모이드 함수 선언"
   ]
  },
  {
   "cell_type": "code",
   "execution_count": null,
   "metadata": {
    "colab": {},
    "colab_type": "code",
    "id": "ilkTV9SKmyP5"
   },
   "outputs": [],
   "source": [
    "# 3.10 sigmoid 함수\n",
    "import numpy as np\n",
    "import math\n",
    "\n",
    "\n",
    "def sigmoid(x):\n",
    "    return 1 / (1 + math.exp(-x))"
   ]
  },
  {
   "cell_type": "markdown",
   "metadata": {},
   "source": [
    "뉴런에 임의의 수를 입력\n",
    "\n",
    "시그모이드 입력에 x 값고 임의의 가중치 w로 정규분포한 값을 입력하면 출력은 시그모이드 계산 결과이다. "
   ]
  },
  {
   "cell_type": "code",
   "execution_count": null,
   "metadata": {
    "colab": {
     "base_uri": "https://localhost:8080/",
     "height": 35
    },
    "colab_type": "code",
    "executionInfo": {
     "elapsed": 824,
     "status": "ok",
     "timestamp": 1556809447757,
     "user": {
      "displayName": "Hwanhee Kim",
      "photoUrl": "https://lh6.googleusercontent.com/-nodxsDvEvZo/AAAAAAAAAAI/AAAAAAAABHE/Ybrj2myvr5Q/s64/photo.jpg",
      "userId": "04863080312902369470"
     },
     "user_tz": -540
    },
    "id": "bmOY52Sj3p0a",
    "outputId": "13582d69-c251-4c5c-c3f5-2ce1c2536992"
   },
   "outputs": [],
   "source": [
    "# 3.11 뉴런의 입력과 출력 정의\n",
    "x = 1\n",
    "y = 0\n",
    "w = tf.random.normal([1],0,1)\n",
    "\n",
    "output = sigmoid(x * w)\n",
    "print(output)"
   ]
  },
  {
   "cell_type": "markdown",
   "metadata": {},
   "source": [
    "#### softmax\n",
    "\n",
    "활성화 함수로 softmax를 쓰는데 소프트맥스 함수는 여러 유닛의 출력값을 정규화하기 위한 것이다. \n",
    "\n",
    " - [참고 Softmax 함수](/my/nbconvert/html/%EC%8B%9C%EC%9E%91%ED%95%98%EC%84%B8%EC%9A%94_%ED%85%90%EC%84%9C%ED%94%8C%EB%A1%9C%EC%9A%B02/%EC%B0%B8%EA%B3%A0-%ED%99%9C%EC%84%B1%ED%99%94.ipynb?download=false#Softmax-%ED%95%A8%EC%88%98)\n",
    "\n"
   ]
  },
  {
   "cell_type": "markdown",
   "metadata": {},
   "source": [
    "지수 함수는 큰 값을 강조하고 작은 값을 약화하는 효과가 가있다ㅣ. 소프트맥스는 분류 문제나 언어 RNN 에서 다음 토큰 예측, 강화 학습에서 에이전트 행동 확률을 구하는 등 결과 값으로 확률이 필요한 다양한 분야에서 쓰인다."
   ]
  },
  {
   "cell_type": "code",
   "execution_count": null,
   "metadata": {},
   "outputs": [],
   "source": [
    "#  SoftMax 그래프\n",
    "import matplotlib.pyplot as plt\n",
    "import math\n",
    "import numpy as np\n",
    "x = np.arange(-2, 2, 0.01)\n",
    "e_x = math.e ** x\n",
    "\n",
    "plt.axhline(0, color='gray')\n",
    "plt.axvline(0, color='gray')\n",
    "plt.plot(x, x, 'b-', label='y=x')\n",
    "plt.plot(x, e_x, 'g.', label='y=e^x')\n",
    "plt.xlabel('X')\n",
    "plt.ylabel('Y')\n",
    "plt.legend()\n",
    "plt.show()"
   ]
  },
  {
   "cell_type": "code",
   "execution_count": null,
   "metadata": {},
   "outputs": [],
   "source": [
    "# 에러 = 기대출력 - 출력\n",
    "y - output"
   ]
  },
  {
   "cell_type": "markdown",
   "metadata": {},
   "source": [
    "#### 경사하강법 적용\n",
    "\n",
    "가중체에 입력, 에러 및 학습률을 곱해서 더해준다."
   ]
  },
  {
   "cell_type": "markdown",
   "metadata": {},
   "source": [
    ">  아래는 에러가 발생..."
   ]
  },
  {
   "cell_type": "code",
   "execution_count": null,
   "metadata": {
    "colab": {
     "base_uri": "https://localhost:8080/",
     "height": 197
    },
    "colab_type": "code",
    "executionInfo": {
     "elapsed": 654,
     "status": "ok",
     "timestamp": 1556809450874,
     "user": {
      "displayName": "Hwanhee Kim",
      "photoUrl": "https://lh6.googleusercontent.com/-nodxsDvEvZo/AAAAAAAAAAI/AAAAAAAABHE/Ybrj2myvr5Q/s64/photo.jpg",
      "userId": "04863080312902369470"
     },
     "user_tz": -540
    },
    "id": "SQOfPrld8cde",
    "outputId": "007db597-d430-4e63-a6c4-ed8c5f001233"
   },
   "outputs": [],
   "source": [
    "# 3.12 경사 하강법을 이용한 뉴런의 학습\n",
    "lr = 0.1 # 학습률\n",
    "for i in range(1000):\n",
    "    output = sigmoid(x * w)\n",
    "    error = y - output\n",
    "    w = w + x * lr * error\n",
    "    \n",
    "    if i % 100 == 99:\n",
    "        print(i, error, output)"
   ]
  },
  {
   "cell_type": "markdown",
   "metadata": {},
   "source": [
    "x=0 일 때 y=1 을 얻는 뉴런의 학습"
   ]
  },
  {
   "cell_type": "code",
   "execution_count": null,
   "metadata": {
    "colab": {
     "base_uri": "https://localhost:8080/",
     "height": 197
    },
    "colab_type": "code",
    "executionInfo": {
     "elapsed": 885,
     "status": "ok",
     "timestamp": 1556809452957,
     "user": {
      "displayName": "Hwanhee Kim",
      "photoUrl": "https://lh6.googleusercontent.com/-nodxsDvEvZo/AAAAAAAAAAI/AAAAAAAABHE/Ybrj2myvr5Q/s64/photo.jpg",
      "userId": "04863080312902369470"
     },
     "user_tz": -540
    },
    "id": "v6QTKN-Y_Pej",
    "outputId": "eab797bb-27cf-4e76-e9e0-cfa33663b48e"
   },
   "outputs": [],
   "source": [
    "# x=0 일 때 y=1 을 얻는 뉴런의 학습\n",
    "x = 0\n",
    "y = 1\n",
    "w = tf.random.normal([1],0,1)\n",
    "\n",
    "for i in range(1000):\n",
    "    output = sigmoid(x * w)\n",
    "    error = y - output\n",
    "    w = w + x * 0.1 * error\n",
    "    \n",
    "    if i % 100 == 99:\n",
    "        print(i, error, output)"
   ]
  },
  {
   "cell_type": "markdown",
   "metadata": {},
   "source": [
    "편향"
   ]
  },
  {
   "cell_type": "code",
   "execution_count": null,
   "metadata": {
    "colab": {
     "base_uri": "https://localhost:8080/",
     "height": 197
    },
    "colab_type": "code",
    "executionInfo": {
     "elapsed": 597,
     "status": "ok",
     "timestamp": 1557401303125,
     "user": {
      "displayName": "Hwanhee Kim",
      "photoUrl": "https://lh6.googleusercontent.com/-nodxsDvEvZo/AAAAAAAAAAI/AAAAAAAABHE/Ybrj2myvr5Q/s64/photo.jpg",
      "userId": "04863080312902369470"
     },
     "user_tz": -540
    },
    "id": "RDkgV0si_CEM",
    "outputId": "bfc07d0d-f6c4-480a-c8d9-c3c98cae7b83"
   },
   "outputs": [],
   "source": [
    "#  x=0 일 때 y=1 을 얻는 뉴런의 학습에 편향을 더함\n",
    "x = 0\n",
    "y = 1\n",
    "\n",
    "w = tf.random.normal([1],0,1)\n",
    "b = tf.random.normal([1],0,1)\n",
    "\n",
    "for i in range(1000):\n",
    "    output = sigmoid(x * w + 1 * b)\n",
    "    error = y - output\n",
    "    w = w + x * 0.1 * error\n",
    "    b = b + 1 * 0.1 * error\n",
    "    \n",
    "    if i % 100 == 99:\n",
    "        print(i, error, output)"
   ]
  },
  {
   "cell_type": "markdown",
   "metadata": {
    "colab_type": "text",
    "id": "6LBFLGQsUR2w"
   },
   "source": [
    "## 03. 첫번째 신경망 네트워크 : AND"
   ]
  },
  {
   "cell_type": "code",
   "execution_count": null,
   "metadata": {
    "colab": {
     "base_uri": "https://localhost:8080/",
     "height": 53
    },
    "colab_type": "code",
    "executionInfo": {
     "elapsed": 602,
     "status": "ok",
     "timestamp": 1557401312495,
     "user": {
      "displayName": "Hwanhee Kim",
      "photoUrl": "https://lh6.googleusercontent.com/-nodxsDvEvZo/AAAAAAAAAAI/AAAAAAAABHE/Ybrj2myvr5Q/s64/photo.jpg",
      "userId": "04863080312902369470"
     },
     "user_tz": -540
    },
    "id": "-SwLUNk1-VbY",
    "outputId": "67856048-8e26-4085-91ad-326d3abb4ea4"
   },
   "outputs": [],
   "source": [
    "# True, False 의 정수값 확인\n",
    "print(int(True))\n",
    "print(int(False))"
   ]
  },
  {
   "cell_type": "code",
   "execution_count": null,
   "metadata": {},
   "outputs": [],
   "source": [
    "# 3.16 첫번째 신경망 네트워크 : AND\n",
    "x = np.array([[1,1], [1,0], [0,1], [0,0]])\n",
    "y = np.array([[1], [0], [0], [0]])\n",
    "w = tf.random.normal([2],0,1)\n",
    "b = tf.random.normal([1],0,1)"
   ]
  },
  {
   "cell_type": "code",
   "execution_count": null,
   "metadata": {
    "colab": {
     "base_uri": "https://localhost:8080/",
     "height": 197
    },
    "colab_type": "code",
    "executionInfo": {
     "elapsed": 3175,
     "status": "ok",
     "timestamp": 1557402692825,
     "user": {
      "displayName": "Hwanhee Kim",
      "photoUrl": "https://lh6.googleusercontent.com/-nodxsDvEvZo/AAAAAAAAAAI/AAAAAAAABHE/Ybrj2myvr5Q/s64/photo.jpg",
      "userId": "04863080312902369470"
     },
     "user_tz": -540
    },
    "id": "o5zrs_IeB6gn",
    "outputId": "5743cab1-248d-4714-fea1-07c2dcc7702c"
   },
   "outputs": [],
   "source": [
    "b_x = 1\n",
    "\n",
    "for i in range(2000):\n",
    "    error_sum = 0\n",
    "\n",
    "    for j in range(4):\n",
    "        output = sigmoid(np.sum(x[j]*w)+b_x*b)\n",
    "        error = y[j][0] - output\n",
    "        w = w + x[j] * 0.1 * error\n",
    "        b = b + b_x * 0.1 * error\n",
    "        error_sum += error\n",
    "        \n",
    "    if i % 200 == 199:\n",
    "        print(i, error_sum, output)"
   ]
  },
  {
   "cell_type": "code",
   "execution_count": null,
   "metadata": {},
   "outputs": [],
   "source": [
    "w, b  # 해로 구한 기울기, 절편"
   ]
  },
  {
   "cell_type": "markdown",
   "metadata": {},
   "source": [
    "이렇게 학습한 네트워크가 정상적으로 동작하는지 확인해 보자."
   ]
  },
  {
   "cell_type": "markdown",
   "metadata": {},
   "source": [
    "\n",
    "이렇게 얻은 값에 시그모이드를 취하면 최종값이 된다. 중간 합계와 최종 출력을 평가해 보면, 가중치 2 값으로 중간값 계산이 0에 가까와 지기 때문에 시그모이드 적용한 출력이 0.5에 가까와 지는 것이다."
   ]
  },
  {
   "cell_type": "code",
   "execution_count": null,
   "metadata": {
    "colab": {
     "base_uri": "https://localhost:8080/",
     "height": 89
    },
    "colab_type": "code",
    "executionInfo": {
     "elapsed": 984,
     "status": "ok",
     "timestamp": 1557402695010,
     "user": {
      "displayName": "Hwanhee Kim",
      "photoUrl": "https://lh6.googleusercontent.com/-nodxsDvEvZo/AAAAAAAAAAI/AAAAAAAABHE/Ybrj2myvr5Q/s64/photo.jpg",
      "userId": "04863080312902369470"
     },
     "user_tz": -540
    },
    "id": "l6maf-59at7S",
    "outputId": "96f9185f-f484-400c-b139-32b57e92bd49"
   },
   "outputs": [],
   "source": [
    "# AND 네트워크의 평가\n",
    "for i in range(4):\n",
    "    print('X:', x[i], 'Y:', y[i], 'Output:', sigmoid(np.sum(x[i]*w)+b))"
   ]
  },
  {
   "cell_type": "code",
   "execution_count": null,
   "metadata": {
    "colab": {
     "base_uri": "https://localhost:8080/",
     "height": 89
    },
    "colab_type": "code",
    "executionInfo": {
     "elapsed": 637,
     "status": "ok",
     "timestamp": 1557708105621,
     "user": {
      "displayName": "Hwanhee Kim",
      "photoUrl": "https://lh6.googleusercontent.com/-nodxsDvEvZo/AAAAAAAAAAI/AAAAAAAABHE/Ybrj2myvr5Q/s64/photo.jpg",
      "userId": "04863080312902369470"
     },
     "user_tz": -540
    },
    "id": "K77eQ8FYo04H",
    "outputId": "6fbb92d4-5d90-4dc6-d63e-9fee59d17ef9"
   },
   "outputs": [],
   "source": [
    "# AND 네트워크의 평가\n",
    "for i in range(4):\n",
    "    _sum = np.sum(x[i]*w)+b\n",
    "    print('X:', x[i], 'Y:', y[i], 'Sum:', _sum, 'Output:', sigmoid(_sum))"
   ]
  },
  {
   "cell_type": "code",
   "execution_count": null,
   "metadata": {},
   "outputs": [],
   "source": [
    "w.numpy(), b.numpy()"
   ]
  },
  {
   "cell_type": "markdown",
   "metadata": {
    "colab_type": "text",
    "id": "GYepj949D6nc"
   },
   "source": [
    "## 04. 두번째 신경망 네트워크 : OR"
   ]
  },
  {
   "cell_type": "code",
   "execution_count": null,
   "metadata": {},
   "outputs": [],
   "source": [
    "# 두번째 신경망 네트워크 : OR\n",
    "x = np.array([[1,1], [1,0], [0,1], [0,0]])\n",
    "y = np.array([[1], [1], [1], [0]])\n",
    "w = tf.random.normal([2],0,1)\n",
    "b = tf.random.normal([1],0,1)\n"
   ]
  },
  {
   "cell_type": "code",
   "execution_count": null,
   "metadata": {
    "colab": {
     "base_uri": "https://localhost:8080/",
     "height": 197
    },
    "colab_type": "code",
    "executionInfo": {
     "elapsed": 2656,
     "status": "ok",
     "timestamp": 1557707165225,
     "user": {
      "displayName": "Hwanhee Kim",
      "photoUrl": "https://lh6.googleusercontent.com/-nodxsDvEvZo/AAAAAAAAAAI/AAAAAAAABHE/Ybrj2myvr5Q/s64/photo.jpg",
      "userId": "04863080312902369470"
     },
     "user_tz": -540
    },
    "id": "orVUfaGAXEr5",
    "outputId": "043c8e84-cf11-4432-ef50-aee3e69258f8"
   },
   "outputs": [],
   "source": [
    "b_x = 1\n",
    "\n",
    "for i in range(2000):\n",
    "    error_sum = 0\n",
    "    for j in range(4):\n",
    "        output = sigmoid(np.sum(x[j]*w)+b_x*b)\n",
    "        error = y[j][0] - output\n",
    "        w = w + x[j] * 0.1 * error\n",
    "        b = b + b_x * 0.1 * error\n",
    "        error_sum += error\n",
    "        \n",
    "    if i % 200 == 199:\n",
    "        print(i, error_sum)"
   ]
  },
  {
   "cell_type": "code",
   "execution_count": null,
   "metadata": {
    "colab": {
     "base_uri": "https://localhost:8080/",
     "height": 89
    },
    "colab_type": "code",
    "executionInfo": {
     "elapsed": 637,
     "status": "ok",
     "timestamp": 1557708105621,
     "user": {
      "displayName": "Hwanhee Kim",
      "photoUrl": "https://lh6.googleusercontent.com/-nodxsDvEvZo/AAAAAAAAAAI/AAAAAAAABHE/Ybrj2myvr5Q/s64/photo.jpg",
      "userId": "04863080312902369470"
     },
     "user_tz": -540
    },
    "id": "K77eQ8FYo04H",
    "outputId": "6fbb92d4-5d90-4dc6-d63e-9fee59d17ef9"
   },
   "outputs": [],
   "source": [
    "# 3.22 OR 네트워크의 평가\n",
    "for i in range(4):\n",
    "    _sum = np.sum(x[i]*w)+b\n",
    "    print('X:', x[i], 'Y:', y[i], 'Sum:', _sum, 'Output:', sigmoid(_sum))"
   ]
  },
  {
   "cell_type": "markdown",
   "metadata": {},
   "source": [
    "평가를 해본 결과 중간 계산 값이 1보다 큰 값은 출력 Y 값은 1 근처 임을 알 수 있다."
   ]
  },
  {
   "cell_type": "markdown",
   "metadata": {
    "colab_type": "text",
    "id": "QgOO48DlEELV"
   },
   "source": [
    "## 05. 세번째 신경망 네트워크 : XOR"
   ]
  },
  {
   "cell_type": "code",
   "execution_count": null,
   "metadata": {},
   "outputs": [],
   "source": [
    "# 세번째 신경망 네트워크 : XOR\n",
    "\n",
    "x = np.array([[1,1], [1,0], [0,1], [0,0]])\n",
    "y = np.array([[0], [1], [1], [0]])\n",
    "w = tf.random.normal([2],0,1)\n",
    "b = tf.random.normal([1],0,1)"
   ]
  },
  {
   "cell_type": "code",
   "execution_count": null,
   "metadata": {
    "colab": {
     "base_uri": "https://localhost:8080/",
     "height": 197
    },
    "colab_type": "code",
    "executionInfo": {
     "elapsed": 2494,
     "status": "ok",
     "timestamp": 1557708084919,
     "user": {
      "displayName": "Hwanhee Kim",
      "photoUrl": "https://lh6.googleusercontent.com/-nodxsDvEvZo/AAAAAAAAAAI/AAAAAAAABHE/Ybrj2myvr5Q/s64/photo.jpg",
      "userId": "04863080312902369470"
     },
     "user_tz": -540
    },
    "id": "50OujnLhouap",
    "outputId": "c5b01dad-39e7-467c-b677-a52a82a20abe"
   },
   "outputs": [],
   "source": [
    "b_x = 1\n",
    "\n",
    "for i in range(2000):\n",
    "    error_sum = 0\n",
    "    for j in range(4):\n",
    "        output = sigmoid(np.sum(x[j]*w)+b_x*b)\n",
    "        error = y[j][0] - output\n",
    "        w = w + x[j] * 0.1 * error\n",
    "        b = b + b_x * 0.1 * error\n",
    "        error_sum += error\n",
    "        \n",
    "    if i % 200 == 199:\n",
    "        print(i, error_sum)"
   ]
  },
  {
   "cell_type": "markdown",
   "metadata": {},
   "source": [
    "에러 값이 줄다가 어느 순간 변하지 않는다."
   ]
  },
  {
   "cell_type": "markdown",
   "metadata": {},
   "source": [
    "XOR 네트워크의 평가\n"
   ]
  },
  {
   "cell_type": "markdown",
   "metadata": {},
   "source": [
    "w, b 값을 확인해 보면 아래 같아서 w의 첫번째 입력이 영향을 크게 미치고, 편향도 거의 영향이 없을 것 으로 보인다. \n"
   ]
  },
  {
   "cell_type": "code",
   "execution_count": null,
   "metadata": {
    "colab": {
     "base_uri": "https://localhost:8080/",
     "height": 53
    },
    "colab_type": "code",
    "executionInfo": {
     "elapsed": 665,
     "status": "ok",
     "timestamp": 1557711429852,
     "user": {
      "displayName": "Hwanhee Kim",
      "photoUrl": "https://lh6.googleusercontent.com/-nodxsDvEvZo/AAAAAAAAAAI/AAAAAAAABHE/Ybrj2myvr5Q/s64/photo.jpg",
      "userId": "04863080312902369470"
     },
     "user_tz": -540
    },
    "id": "0HsT3BKW1ajx",
    "outputId": "d135ba44-6caa-46e6-facf-802fb75cdce8"
   },
   "outputs": [],
   "source": [
    "print('w:', w)\n",
    "print('b:', b)"
   ]
  },
  {
   "cell_type": "markdown",
   "metadata": {},
   "source": [
    "\n",
    "이렇게 얻은 값에 시그모이드를 취하면 최종값이 된다. 중간 합계와 최종 출력을 평가해 보면, 가중치 2 값으로 중간값 계산이 0에 가까와 지기 때문에 시그모이드 적용한 출력이 0.5에 가까와 지는 것이다."
   ]
  },
  {
   "cell_type": "code",
   "execution_count": null,
   "metadata": {
    "colab": {
     "base_uri": "https://localhost:8080/",
     "height": 89
    },
    "colab_type": "code",
    "executionInfo": {
     "elapsed": 637,
     "status": "ok",
     "timestamp": 1557708105621,
     "user": {
      "displayName": "Hwanhee Kim",
      "photoUrl": "https://lh6.googleusercontent.com/-nodxsDvEvZo/AAAAAAAAAAI/AAAAAAAABHE/Ybrj2myvr5Q/s64/photo.jpg",
      "userId": "04863080312902369470"
     },
     "user_tz": -540
    },
    "id": "K77eQ8FYo04H",
    "outputId": "6fbb92d4-5d90-4dc6-d63e-9fee59d17ef9"
   },
   "outputs": [],
   "source": [
    "# XOR 네트워크의 평가\n",
    "for i in range(4):\n",
    "    _sum = np.sum(x[i]*w)+b\n",
    "    print('X:', x[i], 'Y:', y[i], 'Sum:', _sum, 'Output:', sigmoid(_sum))"
   ]
  },
  {
   "cell_type": "markdown",
   "metadata": {},
   "source": [
    "평가를 해본 결과 중간 계산 값이 0에 가까와 지므로 출력 Y 값은 0.5 근처 임을 알 수 있다.\n",
    "\n",
    "이것을 AND 중간값 평가와 비교하면, 2개의 가중치가 비슷해서 입력 2개는 거의 비슷한 중요도를 갖는다. 편향은 음수로 중간값 계산을 음수로 보내는 경향을 갖고 두 가중치를 합해야 음수 편향을 이겨낸다."
   ]
  },
  {
   "attachments": {
    "8240c0f7-61bb-42e8-a321-e337091d6322.png": {
     "image/png": "[encoded data removed]"
    }
   },
   "cell_type": "markdown",
   "metadata": {},
   "source": [
    "\n",
    "<img src='attachment:8240c0f7-61bb-42e8-a321-e337091d6322.png' width='670'>\n"
   ]
  },
  {
   "cell_type": "markdown",
   "metadata": {},
   "source": [
    "XOR의 문제는 인공지능의 겨울을 가져왔다. 하나의 퍼셉트론으론 XOR 문제를 해결 할 수 없다는 것이다."
   ]
  },
  {
   "cell_type": "markdown",
   "metadata": {},
   "source": [
    "## 06. Keras 딥러닝 XOR 학습\n",
    "\n",
    "\n",
    "여기서 kera 를 사용해 세 개의 퍼셉트론과 뉴런을 사용해 본다. 아래 같이 네트워크를 만든다."
   ]
  },
  {
   "cell_type": "markdown",
   "metadata": {},
   "source": [
    "1. 모델\n",
    "\n",
    " - 케라스는 딥러닝 계산을 위해 추상 클래스인 model 이 있ㄷ.\n",
    " - 딥러닝 계산을 위한 여러 함수, 변수 묶음"
   ]
  },
  {
   "cell_type": "markdown",
   "metadata": {},
   "source": [
    "2. Sequencial\n",
    "\n",
    " - 모델중 가장 기본 구조.\n",
    " - 순차적으로 레이어(뉴런과 뉴런이 합쳐진 단위)를 직선으로 배치\n",
    "\n",
    "\n",
    "시퀀셜 모델로 Dense 레이어를 사용해 정의한다. Dense 레이어는 가장 기본 레이어이다.\n",
    "\n",
    "```python\n",
    "\n",
    "model = tf.keras.Sequential([\n",
    "    tf.keras.layers.Dense(units=2, activation='sigmoid', input_shape=(2,)),\n",
    "    tf.keras.layers.Dense(units=1, activation='sigmoid')\n",
    "])\n",
    "```"
   ]
  },
  {
   "cell_type": "markdown",
   "metadata": {},
   "source": [
    "\n",
    "units 로 레이어의 뉴런의 수를 지정한다. 뉴런의 수가 많아지면 일반적으로 레이어 성능이 좋아지지만 계산량 또한 많아지고 메모리도 많이 차지한다.\n",
    "\n",
    "\n",
    "<img src='https://i.imgur.com/IWuQn1b.jpg' width='400'>"
   ]
  },
  {
   "cell_type": "markdown",
   "metadata": {},
   "source": [
    "이렇게 정의된 XOR 네트워크 구조 Dense 네트워크는 편향을 포함하고 있다.\n",
    "\n",
    "<img src='https://i.imgur.com/absgfjI.png' width='450'>"
   ]
  },
  {
   "cell_type": "markdown",
   "metadata": {},
   "source": [
    "이렇게 구성된 시퀀셜 네트워크의 출력, Dense 레이어의 파라미터 수는 ***`(입력측 뉴런 수 + 1) x (출력측 뉴런 수)`*** 식으로 구한다.\n",
    "\n",
    "1. 레이어 1\n",
    " - 입력 2, 출력 2: (2+1)x2\n",
    "\n",
    "2. 레이어 2\n",
    "\n",
    "- 입력 2, 출력 1: (2+1)x1"
   ]
  },
  {
   "cell_type": "code",
   "execution_count": null,
   "metadata": {},
   "outputs": [],
   "source": [
    "import numpy as np\n",
    "import tensorflow as tf\n",
    "\n",
    "# tf.keras 를 이용한 XOR 네트워크 계산\n",
    "x = np.array([[1,1], [1,0], [0,1], [0,0]])\n",
    "y = np.array([[0], [1], [1], [0]])\n",
    "\n",
    "model = tf.keras.Sequential([\n",
    "    tf.keras.layers.Dense(units=2, activation='sigmoid', input_shape=(2,)),\n",
    "    tf.keras.layers.Dense(units=1, activation='sigmoid')\n",
    "])"
   ]
  },
  {
   "cell_type": "markdown",
   "metadata": {},
   "source": [
    "이제 모델을 구성하기 위해서 compile 로 최적화 함수와 손실함수를 지정한다.\n",
    "  - 손실함수(loss function): 훈련 데이터에서 신경망 성능을 측정하는 방법\n",
    "  - 옵티마이저: 입력 데이터와 손실 함수를 기반으로 네트워크를 업데이트하는 메커니즘\n",
    "  - 측정 지표: 정확도"
   ]
  },
  {
   "cell_type": "code",
   "execution_count": null,
   "metadata": {},
   "outputs": [],
   "source": [
    "# model.compile(optimizer=tf.keras.optimizers.SGD(lr=0.3), loss='mse')\n",
    "model.compile(optimizer=tf.keras.optimizers.SGD(learning_rate=0.3), loss='mse')"
   ]
  },
  {
   "cell_type": "code",
   "execution_count": null,
   "metadata": {
    "colab": {
     "base_uri": "https://localhost:8080/",
     "height": 233
    },
    "colab_type": "code",
    "executionInfo": {
     "elapsed": 843,
     "status": "ok",
     "timestamp": 1558017514570,
     "user": {
      "displayName": "Hwanhee Kim",
      "photoUrl": "https://lh6.googleusercontent.com/-nodxsDvEvZo/AAAAAAAAAAI/AAAAAAAABHE/Ybrj2myvr5Q/s64/photo.jpg",
      "userId": "04863080312902369470"
     },
     "user_tz": -540
    },
    "id": "mmyyA5XpEdBj",
    "outputId": "eb60a35e-be66-4857-e1d4-fdcca6f1d81d"
   },
   "outputs": [],
   "source": [
    "model.summary()"
   ]
  },
  {
   "cell_type": "markdown",
   "metadata": {},
   "source": [
    "모델에 데이터를 주입하고 학습을 시작한다. epoch 는 훈련 데이터를 반복 학습 시키는 횟수이다. 배치 크기는 에포크에 학습 시키는 수이다."
   ]
  },
  {
   "cell_type": "code",
   "execution_count": null,
   "metadata": {
    "colab": {
     "base_uri": "https://localhost:8080/",
     "height": 72017
    },
    "colab_type": "code",
    "executionInfo": {
     "elapsed": 21465,
     "status": "ok",
     "timestamp": 1558017536498,
     "user": {
      "displayName": "Hwanhee Kim",
      "photoUrl": "https://lh6.googleusercontent.com/-nodxsDvEvZo/AAAAAAAAAAI/AAAAAAAABHE/Ybrj2myvr5Q/s64/photo.jpg",
      "userId": "04863080312902369470"
     },
     "user_tz": -540
    },
    "id": "Bo-9gEOmh8L-",
    "outputId": "50a9b20a-499c-4070-8dc3-bc6a2b198b0e",
    "tags": []
   },
   "outputs": [],
   "source": [
    "# tf.keras 를 이용한 XOR 네트워크 학습\n",
    "history = model.fit(x, y, epochs=2000, batch_size=1)"
   ]
  },
  {
   "cell_type": "markdown",
   "metadata": {},
   "source": [
    "학습이 끝나고 네트워크를 평가해 보자. y 기대 값에 가까운 결과를 얻고 있다."
   ]
  },
  {
   "cell_type": "code",
   "execution_count": null,
   "metadata": {
    "colab": {
     "base_uri": "https://localhost:8080/",
     "height": 89
    },
    "colab_type": "code",
    "executionInfo": {
     "elapsed": 592,
     "status": "ok",
     "timestamp": 1557931762342,
     "user": {
      "displayName": "Hwanhee Kim",
      "photoUrl": "https://lh6.googleusercontent.com/-nodxsDvEvZo/AAAAAAAAAAI/AAAAAAAABHE/Ybrj2myvr5Q/s64/photo.jpg",
      "userId": "04863080312902369470"
     },
     "user_tz": -540
    },
    "id": "3AqRMyHhTOcB",
    "outputId": "ef451b00-87a7-49cf-815c-d9ff1e5b59c5"
   },
   "outputs": [],
   "source": [
    "# tf.keras 를 이용한 XOR 네트워크 평가\n",
    "model.predict(x)"
   ]
  },
  {
   "cell_type": "markdown",
   "metadata": {},
   "source": [
    "모델을 구성하는 파라미터에서 가중치와 편향을 출력해 보자. 케라스 모델에서 가중치는 `.weights` 이고, 입력과 레이어 또는 레이어 사이의 뉴런을 연결할 때 사용되는 가중치는`.kernel` 이고, 편향과 연결된 가중치는 `.bias` 이다.\n",
    "\n"
   ]
  },
  {
   "cell_type": "code",
   "execution_count": null,
   "metadata": {
    "colab": {
     "base_uri": "https://localhost:8080/",
     "height": 161
    },
    "colab_type": "code",
    "executionInfo": {
     "elapsed": 614,
     "status": "ok",
     "timestamp": 1557932204197,
     "user": {
      "displayName": "Hwanhee Kim",
      "photoUrl": "https://lh6.googleusercontent.com/-nodxsDvEvZo/AAAAAAAAAAI/AAAAAAAABHE/Ybrj2myvr5Q/s64/photo.jpg",
      "userId": "04863080312902369470"
     },
     "user_tz": -540
    },
    "id": "6PWc0Lai_ceb",
    "outputId": "877eb51b-c196-4c6d-8980-e8cd5ae5252e"
   },
   "outputs": [],
   "source": [
    "#  XOR 네트워크의 가중치와 편향 확인\n",
    "for weight in model.weights:\n",
    "    print(weight)"
   ]
  },
  {
   "cell_type": "markdown",
   "metadata": {},
   "source": [
    "네트워크에 가중치 숫자가 많아서 구분을 위해 편의상 가중치에 첨자를 붙여 표시하는데, 레이어의 순서데로 위첨자를 붙이고, 아래 첨자는 각 뉴런의 순서에 맞게 차례로 붙인다. 앞의 그림 처럼 Dense 레이어에 편향까지 볼 수 있다.\n",
    "\n",
    "<img src='https://i.imgur.com/3ECmHMQ.png' width='450'>\n",
    "\n",
    "레이어에 뉴런이 많아지고 네트워크가 커지면 전체 상황을 파악할 방법이 필요하다."
   ]
  },
  {
   "cell_type": "markdown",
   "metadata": {
    "colab_type": "text",
    "id": "eOwSWsJNI_Ee"
   },
   "source": [
    "### XOR 네트워크의 정보 시각화\n",
    "\n",
    "학습이 잘 되는지 확인하기 위해서 측정치 metric 변화량을 나타내는 선 그래프이다. 손실을 선그래프로 그려보자.\n",
    "\n",
    "모델 시각화: https://keras.io/ko/visualization/"
   ]
  },
  {
   "cell_type": "markdown",
   "metadata": {},
   "source": [
    "history 객체를 얻을 수 있는데, 이 history 객체는 다양한 정보를 가지고 있습니다.\n",
    "- acc: 매 epoch 마다의 훈련 정확도\n",
    "- loss: 매 epoch 마다의 훈련 손실 값\n",
    "- val_acc: 매 epoch 마다의 검증 정확도\n",
    "- val_loss: 매 epoch 마다의 검증 손실 값"
   ]
  },
  {
   "cell_type": "code",
   "execution_count": null,
   "metadata": {},
   "outputs": [],
   "source": [
    "print(history.history.keys())"
   ]
  },
  {
   "cell_type": "code",
   "execution_count": null,
   "metadata": {},
   "outputs": [],
   "source": [
    "print(history.history['acc'])\n",
    "print(history.history['loss'])\n",
    "print(history.history['val_acc'])\n",
    "print(history.history['val_loss'])"
   ]
  },
  {
   "cell_type": "code",
   "execution_count": null,
   "metadata": {
    "colab": {
     "base_uri": "https://localhost:8080/",
     "height": 287
    },
    "colab_type": "code",
    "executionInfo": {
     "elapsed": 649,
     "status": "ok",
     "timestamp": 1558017603973,
     "user": {
      "displayName": "Hwanhee Kim",
      "photoUrl": "https://lh6.googleusercontent.com/-nodxsDvEvZo/AAAAAAAAAAI/AAAAAAAABHE/Ybrj2myvr5Q/s64/photo.jpg",
      "userId": "04863080312902369470"
     },
     "user_tz": -540
    },
    "id": "_22lpXzKCHhs",
    "outputId": "89a2011f-94dd-4c4e-924e-e47998d80e33"
   },
   "outputs": [],
   "source": [
    "# 2-레이어 XOR 네트워크의 loss 변화를 선 그래프로 표시\n",
    "import matplotlib.pyplot as plt\n",
    "plt.plot(history.history['loss'])"
   ]
  },
  {
   "cell_type": "markdown",
   "metadata": {},
   "source": [
    "---"
   ]
  },
  {
   "cell_type": "markdown",
   "metadata": {},
   "source": [
    "# 2. 신경망을 위한 데이터\n",
    "\n",
    "최근 머신러닝 시스템은 *텐서* 를 기본 데이터 구조로 사용한다. 텐서(tensor)는 데이터를 위한 컨테이너, 거의 수치형 데이터를 다루므로 숫자를 위한 컨테이너이다. 텐서는 임의 차원 개수를 가진 행렬로 행렬은 아래 같은 종류가 있다.\n",
    "\n",
    " - Scalar : 스칼라 텐서, 0차원 텐서, 0D텐서\n",
    " - Vector: 벡터, 1D텐서. 열을 축으로하는 1차원\n",
    " - Matrix: 행렬, 2D 텐서. 행과 열을 축으로하는 2차원.\n",
    " - tensor: 3차원\n",
    "\n",
    "![image.png](https://i.imgur.com/PRAiV7j.png)"
   ]
  },
  {
   "cell_type": "markdown",
   "metadata": {},
   "source": [
    "## 텐서의 종류\n",
    "\n",
    "![image.png](https://i.imgur.com/Ehn05pP.png)"
   ]
  },
  {
   "cell_type": "markdown",
   "metadata": {},
   "source": [
    "#### 스칼라 (0D tensor)\n",
    "\n",
    "하나의 숫자 값을 담고 있는 텐서로서 0차원, 0D텐서이다. 0차원 텐서의 축의 개수는 0으로 축(ndim)을 랭크(rank)라고도 부른다."
   ]
  },
  {
   "cell_type": "code",
   "execution_count": null,
   "metadata": {},
   "outputs": [],
   "source": [
    "# 스칼라\n",
    "x = np.array(1)\n",
    "x"
   ]
  },
  {
   "cell_type": "code",
   "execution_count": null,
   "metadata": {},
   "outputs": [],
   "source": [
    "x.shape, x.ndim, x"
   ]
  },
  {
   "cell_type": "markdown",
   "metadata": {},
   "source": [
    "#### 벡터 (1D Tensor)\n",
    "\n",
    "숫자 배열을 벡터, 1D 텐서라고 부른다. 1D 텐서는 하나의 축을 가진다."
   ]
  },
  {
   "cell_type": "code",
   "execution_count": null,
   "metadata": {},
   "outputs": [],
   "source": [
    "# 벡터\n",
    "x = np.array([1,2,3,4])\n",
    "x.shape, x.ndim, x"
   ]
  },
  {
   "cell_type": "markdown",
   "metadata": {},
   "source": [
    "위 벡터는 4개의 요소를 가지고 있어서 5차원 벡터라고 부른다. ( 4D 텐서와 혼동하지 말것!)"
   ]
  },
  {
   "cell_type": "markdown",
   "metadata": {},
   "source": [
    "#### 행렬 (2D Tensor)\n",
    "\n",
    "행렬은 2차원으로 구성되어 2개의 축을 가진다."
   ]
  },
  {
   "cell_type": "code",
   "execution_count": null,
   "metadata": {},
   "outputs": [],
   "source": [
    "# 행렬\n",
    "x = np.array([[1,2,3],[4,5,6],[7,8,9]])\n",
    "x.shape, x.ndim, x"
   ]
  },
  {
   "cell_type": "markdown",
   "metadata": {},
   "source": [
    "#### 3차원 배열 ( 3D Tensor)\n",
    "\n",
    "배열의 3차원 축을 가진 배열을 3D Tensor라고 한다."
   ]
  },
  {
   "cell_type": "code",
   "execution_count": null,
   "metadata": {},
   "outputs": [],
   "source": [
    "# 텐서: 3d\n",
    "x = np.array([[[1,2,3,4,5],\n",
    "              [6,7,8,9,10]],\n",
    "             [[0,-1,-2,-3,-4],\n",
    "             [-5,-6,-7,-8,-9]]])\n",
    "x.shape, x.ndim, x"
   ]
  },
  {
   "cell_type": "markdown",
   "metadata": {},
   "source": [
    "#### 텐서의 속성\n",
    "\n",
    "- 축/차원 (Rank): ndim\n",
    "- 형 Shape: shape\n",
    "- 데이터 타입: float32, uint8, float64 등\n",
    "\n",
    "크기 size"
   ]
  },
  {
   "cell_type": "code",
   "execution_count": null,
   "metadata": {},
   "outputs": [],
   "source": [
    "# 축(Axis, Rank), 차원\n",
    "x.ndim"
   ]
  },
  {
   "cell_type": "code",
   "execution_count": null,
   "metadata": {},
   "outputs": [],
   "source": [
    "# 행\n",
    "x.shape"
   ]
  },
  {
   "cell_type": "code",
   "execution_count": null,
   "metadata": {},
   "outputs": [],
   "source": [
    "# 크기\n",
    "x.size"
   ]
  },
  {
   "cell_type": "code",
   "execution_count": null,
   "metadata": {},
   "outputs": [],
   "source": []
  },
  {
   "cell_type": "markdown",
   "metadata": {},
   "source": [
    "### 텐서 조작하기"
   ]
  },
  {
   "cell_type": "code",
   "execution_count": null,
   "metadata": {},
   "outputs": [],
   "source": [
    "from tensorflow.keras.datasets import mnist\n",
    "(train_images, train_labels), (test_images, test_labels) = mnist.load_data()\n"
   ]
  },
  {
   "cell_type": "code",
   "execution_count": null,
   "metadata": {},
   "outputs": [],
   "source": [
    "train_images.shape, train_labels.shape, test_images.shape, test_labels.shape"
   ]
  },
  {
   "cell_type": "code",
   "execution_count": null,
   "metadata": {},
   "outputs": [],
   "source": [
    "# 10:100 사이 데이터\n",
    "slice = train_images[10:100]\n",
    "slice.shape, slice.ndim"
   ]
  },
  {
   "cell_type": "code",
   "execution_count": null,
   "metadata": {},
   "outputs": [],
   "source": [
    "# 10:100 사이의 28x28 데이터를 추출\n",
    "slice = train_images[10:100, :28, :28]\n",
    "slice.shape, slice.ndim"
   ]
  },
  {
   "cell_type": "code",
   "execution_count": null,
   "metadata": {},
   "outputs": [],
   "source": [
    "# 28x28 이미에서 오른쪽 14x14 만 추출\n",
    "slice = train_images[:, 14:, 14:]\n",
    "slice.shape, slice.ndim"
   ]
  },
  {
   "cell_type": "markdown",
   "metadata": {},
   "source": [
    "### 배치 데이터\n",
    "\n",
    "딥러닝 모델은 한 번에 전체 데이터를 처리하지 않고 데이터를 작은 배치(batch) 단위로 나누어 처리한다."
   ]
  },
  {
   "cell_type": "code",
   "execution_count": null,
   "metadata": {},
   "outputs": [],
   "source": [
    "#크기 128인 배치\n",
    "batch = train_images[:128]"
   ]
  },
  {
   "cell_type": "code",
   "execution_count": null,
   "metadata": {},
   "outputs": [],
   "source": [
    "#다음 크기 128인 배치\n",
    "batch = train_images[128:256]\n",
    "#n번째 배치\n",
    "n = 10\n",
    "batch = train_images[128 * n:128 * (n+1)]"
   ]
  },
  {
   "cell_type": "markdown",
   "metadata": {
    "tags": []
   },
   "source": [
    "### 실제 데이터의 텐서\n",
    "\n",
    "- 벡터 데이터: (samples, feature) 크기 2D 텐서\n",
    "- 시계열, 시퀀스 데이터: (samples, timsteps, feature) 크기 3D 텐서\n",
    "- 이미지 데이터: (samples, height, width, channels) , (samples, channels, height, width) 크기의 4D 텐서\n",
    "- 동영상 데이터: (samples, frames, height, width, channels), (samples, frames, channels, height, width) \n"
   ]
  },
  {
   "cell_type": "markdown",
   "metadata": {},
   "source": [
    "#### 벡터 데이터\n",
    "\n",
    "(samples, feature) 형식으로 구성된다.\n",
    " - 10만명의 나이/우편번호/소득 으로 구성된 인구 데이터: (100000, 3) 크기 텐서\n",
    " - 텍스트에 공통단어 2만개에서 단어의 등장횟수로 표현된 경우: (500, 20000) "
   ]
  },
  {
   "cell_type": "markdown",
   "metadata": {},
   "source": [
    "#### 시계열/시퀀스 데이터\n",
    "\n",
    "데이터의 시간/순서가 중요하면 시간축을 포함해 (samples, timsteps, feature) 크기 3차원 텐서로 구성된다.\n",
    " - 주식 가격 데이터: 1분마다 주식가격, 1분마다 최고/최소 가격. \n",
    "     - 하루 거래 (390,3)크기 2D텐서\n",
    "     - 연간 250일 (250, 390, 3) 크기 3D텐서\n",
    " - 트윗 데이터 세트: 트윗은 128개 알파벳, 280 문자로. 128개 2진벡터로 구성( 280, 128)\n",
    "     - 100만개 트쉿은 (1000000, 280, 128) 텐서로 구성"
   ]
  },
  {
   "cell_type": "markdown",
   "metadata": {},
   "source": [
    "####  이미지 데이터 - 4D 텐서\n",
    "이미지는 높이/너비/컬러의 3차원. 흑백도 높이/너비/컬러.\n",
    "\n",
    " - 128개 256x256 크기 흑백 배치: (128, 256, 256, 1) \n",
    " - 128개 256x256 크기 컬러 배치: (128, 256, 256, 3)\n",
    " - 이미지 텐서 크지 지정은 채널 마지막(channel-last) 와 채널 우선(channel-first)\n",
    "    - Theano 는 (128, 1, 256, 256)\n",
    "    - Keras 는 모두 지원\n",
    "\n"
   ]
  },
  {
   "cell_type": "markdown",
   "metadata": {},
   "source": [
    "####  동영상 데이터 - 5D 텐서\n",
    "\n",
    "비디오는 프레임의 연속. 프레임원 컬러 이미지, 현실에서 5D 차원 가진 몇 안되는 데이터\n",
    " - 프레임: (height, width, color_depth) 이고 프레임 연속은 (frames, height, width, color_depth) 의 4차원으로 여러 비디오 배치는 (samples, frames, height, width, color_depth) 인 5차원\n",
    " - 예)60초 144x256 비디오, 초당 4프레임 샘플링시 240 프레임\n",
    "     - (4, 240, 144, 256, 3)\n",
    "\n"
   ]
  },
  {
   "cell_type": "markdown",
   "metadata": {},
   "source": [
    "## 텐서 연산\n",
    "\n",
    " - NumPy 의 연산 참조"
   ]
  },
  {
   "cell_type": "markdown",
   "metadata": {},
   "source": [
    "### 텐서 Dot product\n",
    "\n",
    "NumPy, Keras, Theano, Tensorflow 의 원소별 곱셈을 `*` 연산자를 사용한다.\n",
    "\n",
    "Dot produt (여기서 행렬곱) 계산은\n",
    " - NumPy에서 벡터와 행렬의 내적은 `np.dot()` 함수사용.\n",
    " - Python3.5 이상은 `@`(at이라고 읽는다) 연산자로 계산한다.\n",
    " - 2차원 배열로 표시한 벡터를 내적했을 때는 결과값이 스칼라가 아닌 2차원 배열이다.\n",
    " - Keras는 keras.dot() 연산 사용.\n",
    " - 텐서플로우는 tf.matmul(x, y) 를 사용한다.\n",
    " \n",
    "![](https://i.imgur.com/TahVEIY.png)"
   ]
  },
  {
   "cell_type": "markdown",
   "metadata": {},
   "source": [
    "https://angeloyeo.github.io/2020/09/08/matrix_multiplication.html"
   ]
  },
  {
   "cell_type": "markdown",
   "metadata": {},
   "source": [
    "# Keras 콜백\n",
    "\n",
    "모든 콜백은 `keras.callbacks.Callback` 클래스를 하위 클래스화하며, 훈련, 테스트 및 예측의 다양한 단계에서 호출되는 메서드 세트를 재정의합니다. 콜백은 훈련 중 모델의 내부 상태 및 통계를 볼 때 유용합니다.\n",
    "\n",
    "콜백(키워드 인수 callbacks와 같은)의 목록을 다음 모델 메서드에 전달할 수 있습니다.\n",
    "\n",
    "- keras.Model.fit()\n",
    "- keras.Model.evaluate()\n",
    "- keras.Model.predict()\n"
   ]
  },
  {
   "cell_type": "code",
   "execution_count": null,
   "metadata": {},
   "outputs": [],
   "source": [
    "def random_onehot_labels(shape):\n",
    "    \"\"\"전달받는 shape 차원에 맞는 임의 one-hot encoding 결과를 반환\n",
    "    \"\"\"\n",
    "    n, n_class = shape\n",
    "    classes = np.random.randint(0, n_class, n)\n",
    "    tmp_labels = np.zeros((n, n_class))\n",
    "    tmp_labels[np.arange(n), classes] = 1\n",
    "    return tmp_labels"
   ]
  },
  {
   "cell_type": "code",
   "execution_count": null,
   "metadata": {},
   "outputs": [],
   "source": [
    "data = np.random.random((10000, 32))\n",
    "labels = random_onehot_labels((10000, 10))"
   ]
  },
  {
   "cell_type": "code",
   "execution_count": null,
   "metadata": {},
   "outputs": [],
   "source": [
    "data.shape, labels.shape"
   ]
  },
  {
   "cell_type": "code",
   "execution_count": null,
   "metadata": {},
   "outputs": [],
   "source": [
    "data[:1]"
   ]
  },
  {
   "cell_type": "code",
   "execution_count": null,
   "metadata": {},
   "outputs": [],
   "source": [
    "labels[:1]"
   ]
  },
  {
   "cell_type": "code",
   "execution_count": null,
   "metadata": {},
   "outputs": [],
   "source": [
    "model = tf.keras.Sequential()\n",
    "model.add(tf.keras.layers.Dense(64, activation='relu'))\n",
    "model.add(tf.keras.layers.Dense(64, activation='relu'))\n",
    "model.add(tf.keras.layers.Dense(10, activation='relu'))\n",
    "\n",
    "model.compile(optimizer=tf.compat.v1.train.AdamOptimizer(0.001),\n",
    "             loss='categorical_crossentropy',\n",
    "             metrics=['accuracy'])"
   ]
  },
  {
   "cell_type": "code",
   "execution_count": null,
   "metadata": {
    "tags": []
   },
   "outputs": [],
   "source": [
    "from tqdm.keras import TqdmCallback\n",
    "\n",
    "durations = []\n",
    "\n",
    "for i in range(5): #run N times\n",
    "    # start = timer()\n",
    "    model.fit(data, labels, epochs=500, batch_size=32,\n",
    "              verbose=0,\n",
    "             callbacks=[TqdmCallback()])\n",
    "    # durations.append(timer() - start)\n"
   ]
  },
  {
   "cell_type": "markdown",
   "metadata": {},
   "source": [
    "\n",
    "GPU : Zotac 1080 ti : ***5 회 ***\n",
    "\n",
    "```\n",
    "\tNVIDIA GeForce GTX 1080 Ti\n",
    "\n",
    "\t드라이버 버전:\t30.0.15.1006\n",
    "\t드라이버 날짜:\t2021-08-24\n",
    "\tDirectX 버전:\t12 (FL 12.1)\n",
    "\t실제 위치:\tPCI 버스 9, 장치 0, 기능 0\n",
    "\n",
    "\t사용률\t8% / 51도\n",
    "\t전용 GPU 메모리\t10.8/11.0GB\n",
    "\t공유 GPU 메모리\t0.5/32.0GB\n",
    "\tGPU 메모리\t11.2/43.0GB\n",
    "```\n"
   ]
  },
  {
   "cell_type": "code",
   "execution_count": null,
   "metadata": {},
   "outputs": [],
   "source": [
    "#\n",
    "print(f'tf.version = {tf.version.VERSION}')\n",
    "print(f'tf.keras version = {tf.keras.__version__}')\n",
    "devices = device_lib.list_local_devices() # this may allocate all GPU memory\n",
    "print(f'devices = ({x.name for x in devices})')\n",
    "print(f'model.fit durations: {durations}')"
   ]
  },
  {
   "cell_type": "markdown",
   "metadata": {},
   "source": [
    "---\n",
    "\n",
    "# 참고\n",
    "\n",
    " - [자신만의 콜백 작성하기](https://www.tensorflow.org/guide/keras/custom_callback?hl=ko)\n",
    " - [모델 저장과 복원](https://www.tensorflow.org/tutorials/keras/save_and_load?hl=ko)"
   ]
  }
 ],
 "metadata": {
  "colab": {
   "collapsed_sections": [],
   "name": "Chapter3.ipynb",
   "provenance": [],
   "toc_visible": true
  },
  "kernelspec": {
   "display_name": "Python 3 (ipykernel)",
   "language": "python",
   "name": "python3"
  },
  "language_info": {
   "codemirror_mode": {
    "name": "ipython",
    "version": 3
   },
   "file_extension": ".py",
   "mimetype": "text/x-python",
   "name": "python",
   "nbconvert_exporter": "python",
   "pygments_lexer": "ipython3",
   "version": "3.10.5"
  }
 },
 "nbformat": 4,
 "nbformat_minor": 4
}
