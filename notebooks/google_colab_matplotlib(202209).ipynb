{
 "cells": [
  {
   "cell_type": "markdown",
   "metadata": {
    "id": "sbTOLTwnDyBu",
    "tags": []
   },
   "source": [
    "# 구글 Colab 사용하기\n",
    "\n",
    "## \"Google Drive + Jupyter Notebook\"\n",
    "\n",
    "![Google Colaboratory](https://i.imgur.com/sb1REE1.png)\n",
    "\n"
   ]
  },
  {
   "cell_type": "markdown",
   "metadata": {
    "id": "UQaAURR8EnQT"
   },
   "source": [
    "# Google Colab\n",
    "구글 드라이브 기반 Juputer Noteook  서비스 (2017년 10월 공개)\n",
    "\n",
    "> \"Google Colab = Google Drive + Jupyter Noteook\" based on GCP\n",
    "\n",
    "\n"
   ]
  },
  {
   "cell_type": "markdown",
   "metadata": {
    "id": "i5xtppnt3kWM"
   },
   "source": [
    "https://colab.research.google.com (접속하면 바로 소개문서 노트북)\n",
    "\n",
    "1. Jupyter Notebook 기능 포함 (파이썬 실행, 마크다운, 수식, 차트 표현 등)\n",
    "1. 구글 드라이브의 문서 생성과 공유 기능 (닥스 문서와 동일한 방법으로 생성, 공유)\n",
    "1. Github 연계\n",
    "1. 구글 코랩이 2020년 2월 유료화 정책을 시작(https://colab.research.google.com/signup)하면서 무료 버전에 고용량 RAM 모드를 지원하지 않게 되었습니다."
   ]
  },
  {
   "cell_type": "markdown",
   "metadata": {
    "id": "HhHqW3StKn0j"
   },
   "source": [
    "# 상세 소개\n",
    "https://colab.research.google.com (접속하면 바로 사용가능)\n",
    "\n",
    "1. Jupyter Notebook 기능 포함 (파이썬 실행, 마크다운, 수식, 차트 표현 등)\n",
    "1. 구글 드라이브의 문서 생성과 공유, Github 연계 지원\n",
    "1. 최신 파이썬, 텐서플로우 지원\n",
    "1. 구글 클라우드(GCP)기반, 가상머신 서비스인 구글 컴퓨트 엔진(GCE)\n",
    "1. 딥러닝을 위한 GPU, TPU 지원\n",
    "1. 사이킷런, 텐서플로우 포함 대부분 파이썬 라이브러리 사전 설치 제공\n",
    "\n"
   ]
  },
  {
   "cell_type": "markdown",
   "metadata": {},
   "source": [
    "예제/구글드라이브/깃헙 과 업로드 가능\n",
    "\n",
    "![](https://i.imgur.com/3cpyxB6.png)"
   ]
  },
  {
   "cell_type": "markdown",
   "metadata": {},
   "source": [
    "Locate In Drive\n",
    "\n",
    "사용중인 노트북은 Google Drive 에서 확인 가능하다.\n",
    "\n",
    "![](https://i.imgur.com/KY3qFpn.png)"
   ]
  },
  {
   "cell_type": "code",
   "execution_count": 2,
   "metadata": {
    "colab": {
     "base_uri": "https://localhost:8080/"
    },
    "id": "BLSSS0fWx68Y",
    "outputId": "a44b8081-6a08-484e-9dc9-67958dd22b99"
   },
   "outputs": [
    {
     "name": "stdout",
     "output_type": "stream",
     "text": [
      "2.8.2 1.21.6\n"
     ]
    }
   ],
   "source": [
    "import tensorflow as tf\n",
    "import numpy as np\n",
    "\n",
    "print(tf.__version__, np.__version__)"
   ]
  },
  {
   "cell_type": "markdown",
   "metadata": {
    "id": "1RqXgtgGOkhx"
   },
   "source": [
    "# GPU 사용하기\n",
    "* 노트를 생성한 뒤에 메뉴에서 \"런타임 / 런타임 유형 변경\" 선택 (그림) <br> 무료 하드웨어 가속기(GPU) 사용도 가능\n",
    "\n",
    "<img src=\"https://i.imgur.com/YfSBWIi.png\" >\n"
   ]
  },
  {
   "cell_type": "markdown",
   "metadata": {
    "id": "nJmEvFPvmSp7"
   },
   "source": [
    "# 환경 설정 정보\n",
    "\n",
    "* CPU, 메모리, OS, HDD, GPU (K80)\n",
    "* scipy, numpy, pandas 등 대부분의 파이썬 패키지들이 설치되어 있으며\n",
    "* scikit-learn, tensorflow, keras 등 머신러닝/딥러닝 라이브러리도 설치\n"
   ]
  },
  {
   "cell_type": "code",
   "execution_count": null,
   "metadata": {
    "id": "waPR4o4WyQMf"
   },
   "outputs": [],
   "source": [
    "# 디스크 용량\n",
    "! df -h"
   ]
  },
  {
   "cell_type": "code",
   "execution_count": null,
   "metadata": {
    "id": "vBuRC3SryUO4"
   },
   "outputs": [],
   "source": [
    "# CPU\n",
    "! cat /proc/cpuinfo"
   ]
  },
  {
   "cell_type": "code",
   "execution_count": null,
   "metadata": {
    "id": "fWz2nhIUyV_a"
   },
   "outputs": [],
   "source": [
    "# 메모리\n",
    "! cat /proc/meminfo"
   ]
  },
  {
   "cell_type": "code",
   "execution_count": null,
   "metadata": {
    "id": "JneL9FzpyXui"
   },
   "outputs": [],
   "source": [
    "# 파이썬\n",
    "import sys\n",
    "sys.version_info  "
   ]
  },
  {
   "cell_type": "code",
   "execution_count": null,
   "metadata": {
    "id": "Z4IuCyePywUu"
   },
   "outputs": [],
   "source": [
    "# OS 플랫폼\n",
    "import platform\n",
    "platform.platform()\n"
   ]
  },
  {
   "cell_type": "code",
   "execution_count": null,
   "metadata": {
    "id": "Z95ky3A8yacm"
   },
   "outputs": [],
   "source": [
    "# 설치된 파이썬 패키지 목록\n",
    "import pkg_resources\n",
    "dists = [d for d in pkg_resources.working_set]\n",
    "dists"
   ]
  },
  {
   "cell_type": "code",
   "execution_count": null,
   "metadata": {
    "id": "HV12o-GSy3KI"
   },
   "outputs": [],
   "source": [
    "! pip list"
   ]
  },
  {
   "cell_type": "code",
   "execution_count": null,
   "metadata": {
    "id": "uROn6KXy0cGQ"
   },
   "outputs": [],
   "source": []
  },
  {
   "cell_type": "markdown",
   "metadata": {
    "id": "d0mUiEvApPA6"
   },
   "source": [
    "# 파일 업로드 다운로드와 드라이브 연결\n"
   ]
  },
  {
   "cell_type": "markdown",
   "metadata": {
    "id": "Wk3hUgnSpPA6"
   },
   "source": [
    "## 구글 드라이브에서 Colab 연결하기\n",
    "\n",
    "<img src='https://i.imgur.com/QvmPEvD.png'>\n",
    "\n",
    "검색에서 colab 를 입력하여 Colaboratory 를 찾고 [+연결] 선택"
   ]
  },
  {
   "cell_type": "markdown",
   "metadata": {
    "id": "YmNWtCdX1Hak",
    "tags": []
   },
   "source": [
    "\n",
    "## 파일 업로드, 다운로드\n",
    "\n",
    "Google Colab 화면 왼쪽을  펼치면,  [목차] [코드 스니펫] 이 나오고 코드 스니펫에서 옮겨옴\n",
    "\n",
    "![image.png](data:image/png;base64,iVBORw0KGgoAAAANSUhEUgAAAWUAAAEsCAYAAAAb0qIfAAAgAElEQVR4Ae2df3AV53nv98/GbfwDYyRjgVj9PNIR+gUIhI0wGBmDsTtBJW1ondtzcWtS2pDYQ4gL0fW1USm+uqTjq3qaiqQZ1dijuPgaWhJNa6z2auZkJh6RuVTguPLYjpgUV9xANSbhOHLyvfPsOa+0Z7Xn575H2nPOd2dWu2f33fd93s/77nef87zvHhm3mHdgecAEFxIgARIggYUnYHyq/NNYVlu+8JbQAhIgARIgARifWv5pLKuhKLMvkAAJkIAfCBifWvbrWFaz3A+20AYSIAESKHoCxq+VfQrLqpcVPQgCIAESIAE/EDA+tewWirIfWoI2kAAJkAAA4zfMT2F5DT1l9gYSIAES8AMB447aX0d5gKLsh8agDSRAAukTuHHjRvqJ8yilsWTl7TDrOfsij9qMppJA0RO4ePEi3n///YLkYJSsvB0VFGUtjfviv/wx8K+/M3fVkjszKVoC0zdx/WbR1t614mfPnsXw8LDruXw/aJQ03oqKID1lrw35t+8M47Zv/g7Gvt8FjN4fv/6/s16zL/zrv38EhrETJy/7vKpZ2RnGEcPAzpevZFG5S+hbZ8AoPYRzCyrMXuqQRbWTXCJhi+985zvWWoghDOPu5ttR2UBRTtIHUp6a/uUnCA7+sSXK2wZ3xguyCPSFzwK/mk6Zjz3BlTf7sO+ROpQackPWYfuBk7h03Z6iwPazErsFYJCVnV4E7QpOPVaK0k19OL8A1Z0t0ksdZnPRsSehC/GUZf3BD36gI0tf5WGUtdyBqoYVvjIq34w5MjpoCbJ4yrJ++x+3zxXmf/9mmtW6ife+tRulRik2/0EfTr15Dmdf7sWeTaUwSnfjZGGG0YCsxC5NpDqTZWWnfwQtexT+qIPykkWYZRWPudC8ZcNsW4LqlfxBomw767tTV+IEWUS56aXP4Vc/7JwrzJE0vpv/sBftRil2v/xevEkfhXFEvsZuOwHHmfh0+fopK7FbgMpmZac/BM0brfmtgwitDOQp8RWPWFblIau6qNiyxJflvEqfz4OARsXaEtSsrFB1zNn2l+//DWT95OIz1vrLyWH86sb71ppOoZI27vpYfulcm8s0f/DP/2uOKB//v68DH748V5TfP5LClJs493QpjOZe96+qP+xFi1GKI99PkU3c6esIv7AP2xtKYUgopKode54P4/qIWwz3Oi69dgR71pnRtBI2+UIfzrmFQq9fwqln96C9yrDSljZsx74XzuGKS5Tm+ogtFGOYaA/1InzVcZO7id2Vc+gNbUZdqZRRirpH9qFvJIsYzvQVnHMyePYULn0UBwpIp04uds6p366ncPJf7Xaqur4HK+22GF+rLdyZ2S0LP2vA2HUS0WZQeV2KbyvJS+qkir16CnsMA9u/5fIIHz+B7UYp9p2RxLH8Bs7H9RNpz6devoTZMLYqN7s62OuT7r4IrIiueMN20Z2cnJzJQgm3CLKkUbHmvBbl8lV3obohN56yCO/0W7+Pj181Eq6/+Of7LZEW0XUuckxEPOn1311hlSFlzffy5k8uzBHktaeemjXj0u/PFeapZDGw8zhSaqDleKLoYRiHjGTnZ4uO7r2Hk4+JGJvY+exJnLVCIUews8pAS3OLY2Atlra0Drtn0qqwyXb0/nD29sT7J7G71EBpw24cefkszr15Fief34PNcuyRXpy3id17L0soxoC56whOfvcczn33JI7sMmE0t6DFPvjlELub3z8SzW/THvS9dg7n3jyFvj/YbIV15nyLcFbb/vnmefQ9IqGfzdjzfJTBqW89ZTEw1h1BWNmabp0cdl55bU8s1NQbrd9rJ/CU1M9ox5G3FLOooG3+zE6YYscLp+KZbbLZYbc9tu8myi3r2lFqr5M8dOQBOVOnxA/488+32B78UdtKS0thrIuxVm00I9xiiLc6uFQrrUMirsobThWmUKJsF+20CvFZIqO89S5UBfXHlEVsk4mp2znxhNUi+25pkh2TB8B8Llv/4b/NEeX//Z7Njb3+z3NF+Uf7Ept45RR224VqTsorOLnLgPFsOHpGpkpdvz5nvRnzVq+f2YdSEYfvK3GIZahCIbbZDu99a3uCmHVMrNcp7/09nNhmoPSxk3jP6RXHhK1dPVSunsW+UgPtz4ZtHpfYcBPhZ9stD3tmRkKc2J1Hr4Rqdp2cE6o5/3w7jNJ9OKs8wptz6y9MVI3PH5f0LrF4sbVhO3pHJGUGdYqzU+pyHeffcnqj70Xb6QtnETUzKmgJ7RBGilmsiewbN1GWmSonnH7M1VMW79Knz0XrHwuFHXpT0RD053Co1O5Bx2xrPjT7gLIKjzIxNNXBXp9M90VkkwmziLUIsqTJd0EWNsaKliWoCurzlMW7zUaQRWzFK5YllXedTJh/8d0VaYdEMu0c9vR/86M35gjyb//T8/Yk0f13/3SuMF/9+7np5EimomwJRDR8YIUmJDxhGLHwxnWc/YIBI3QqJgzxRV55eafNUz6P3mYDLc8n8NBV2OQtANZ+C3p/GJ+f+mR5YaVHrPCLPBQMYw9OXVVnbdvLJ7HT/gCyi51VhoGnzrgI7g/7sN0w8NQ/RoUmWg8nAzW1LkW9lDkZ1MltQPLm5TBOvvAU9nRuxs4vHELfy2GE/3rnnJDD5r92infUgPCzSUJW4qO6hC9K1YNZ1SG2fe+vN8MwjiD62L6OU6H4PnD9tT2ONol5wC62uZWbbR0cZmb8UYRXRFdCGs5FxZpTedLO6/z62TBbS1CtUZSv/eVWRL7XkbGXK2IqixdBFrH+2d+14upzdTnnveH1r84R5S/93Ri+/r2P49aT/3QR54ZPzVndDdQZvnB41c4C7SKo4oqJ5tHGBNSKZcdd58wUiIpkVBTs+3NTRsXA1VNO8LCxP3hmrpubse2IowzbmbjdDOrkFOX3vrMHpjVT5hBOSJjluyfRdyAWa58TB3YLzsczi7Mr9sFNHBPW/81DtoctcPPNQyg1tuPEuGQW+0agPGkr/8SMMik3eVu71SrzYxIvtouyEmEJcRTSLAzDXFWC6gY9A30iyB9++RZrzVSYxUuWuHAyLzjVORFkVb7Yksvl7z/4QZwoV379r7Dh6Z9gc8+NlOv/+ZHze7+yNHEc0EqhPFZbhERdOXeb757y5piQzK1Z+kdy7SnHHqJfc4ZngPPHW3zgKQupaCjI+hZkDfApgVYUMxPlhfSUlfBKiELCFbLKvqzqnKpVPm+N8qY7tXjKH4//y4wgKmG0C7N4wBIntmZRTA5bAqzCHMpLlm0i4ZW0Kuas8rAPAtoFWZUvNuVykXCFTIG7s38P2r/yNu47eBn3P3M9qSj/6aAtvudmnMYpcfkeUy49oGKys6Cuv3kIm3f1IqxiyrOnXPeSxpSr6rDvNfFes40pRwVt84uX4suOxdadMybSjil/dB3X1QBkgvBFWjHlmFVWyKL0KRz5WotLOCszUU67DvFEPH8SD1mEVw3mKVGWYxK+kG0+z7iwAzLKVt6BqnrvA30SMlBiaN9+PBKyBNheqH1fecjJBvZUrNl+ndoXgf75P2x3LTvXYYzRyXctUa778+/g3gM/RsfTP0HH1yax+chHCYX57Z98okxPuI3OWNDx8kii2Rel2P2YPaYspszv7IvSx3YnjinLeJRt9kWvmuHx7E6YhtvAYUKUQE5nX9zE+T+TAcvZ2S2nXpBZKKVoXzfXU7ZmOLjMvpidMSHjhtHBUftr1W5hhM2P7UZ73OyL6OyXuLwUltjgnkwrjBv0s85nJspp1UGVq3GrxNg5mCdeshxT4qyxyAXLyrgneBsq67y9Zv3JTz9wFUURZzmXzqK8ZqenrLzjZHkkKz/X3vJnXvsr3HdgAp/p+Xd0HZvEb/3Pa/jtFz7C5/p+Nmf9+vciyaoRd07fa9bx85TNdXvQ++aVBG/QzcM85Zm5uQ4xcIvrXjmHvi9sj81TNjBjexypND7kdJ5yjK9tvrbM770kA6nOmPLAJZz/lnPOuGOe8s3z6N0U/1q1myjLtMnr/3oST6lX8Z3zlB1Ywl8zbNPg7Ccd7WA75VbuznTqYMtD166Irj2e7MxXDfY5j+fjZ+Pu+ls9i/JHQz2uoizH012cYiyfRajTXX7+g7/1bEO6ZRVCuivf2Q3DOBQbpV+AGsVmmhwaWYCy87rIqIjOTItMpy43wzjSbGDPa2nGfNLJc57TqEG9ZMWK11wIS1SUA9485USinC6gRAN8ycIWzrwTecuZPBiceeb957dPYHtVCw5Zc3FttZm+hL5t8VOlbGc17l7CiUdMtLgMhF16cbtjapbGYgs6q8xFORpTXuhfmSvoRtFaOWNp/W2o9CjKUy//4RwvNZN4bqJ4cjqhCzsNt7h2rmdh2Mv3375bTFm9pefyQkUOKuD2Rl9vNm/m5cC2/MwyU1G2zb7IzwoXndXGPcE7ciLKEk9Od0nkKWf66rSbKMsDo7iX+Jiy9TOgiX7PIkeg4n8bIvYbFhLX5pIFgcxEOX6echbF8ZJ5J2DcXXcbzFpv/6PPzVPOZJAvkShnEr4QcvZZH2qfojzvfYoFkgAJeCBglNR+2rMoex1kk2ltuRroE9u4kAAJkEC+EDBKA7fBrPHmKScaZMvEW040JS4db1lH+fnSYLSTBEigsAkYJbW3orymzHMt3eK5Isofv7kt6Q8EyWCe9YZegl+FkxdDks2gEEG2v96twhayLe5BPs9NygxIgAQWgIBRGrgdKzx6ymK322vWH3+vZSYsIR6vxI5FgJUIK+9YtnLM+Zq1/dVpEVgJRUg5IsSyTTQVTwlzrl8cWYD2YpEkQAIFTsAoC96JCo9T4hQju8dqF2S3eLHzmHjM9qlxdkFWIpvJll6yahVuSYAE8omAUbZykec3+uwVljBGpoJsvb0X+x1k8ai9CrLYwIUESIAE8pGAUda8CJX13t7os1fcLQzh9IoTfRZBlutThSWSecwiyBLe4EICJEAC+UjAWN66CFVBfaKsIGTzY/X2l0WyEWbOSVb0uSUBEshXAkbF2rtQs1Lfv4OygxCRlUE85wCe01NO9Dq1eLwizolmdiiPWeLH9I7t5LlPAiSQrwSM2g2lqG3MjSjboYhAS3hCrWoqnD1Nsn0RXZl9ISKtVs6uSEaM50iABPKRgBHceDcCzXr+HVQ+AtBi8/QkxkbGMBn7L0+jR02YR0e1ZK0rk8lXQ7M2OezVVUZa+UyOIXyxMH5iMa36FmiiyAejGP0g/d8Hz38Mo+gxTfTIPw/O8WLUbVyCQFPuPeUc1yPH2U9iMGTCNOeuViNNnsbeYCf634makXtRTmGPC404Uc6JvVM4vc9Exwtjc0uPhNEdNHHwjQgmz+xFYEs/rP/jOTflPB+Jcgy9ukAPibd6YJo98P74jgqGvX82bdmLnjPj0CObczmNvtCEwIEhTM1ziyUs7sogQi73p2LivY3nQ5SjZRh1GxZTlBO2tDoxt1OqM27b+RLlTDpanCg7jNZlb2S4G2awB6OO/wsbGelGINiNsB6FcFjv5WNm7eqlJNdrNYvyjBc3HcHkhQGEggHsP6tDNheYkyu8ZAdzIaC5yNNZh5go16y/c15iys7i8+tzik5pPaVDGIz9GqVT5CIXBrB/Z5PlaTft7MZpzzP2UtgjcC8PodsqM4C2x/sweHz3bPhixt5oJ1DehGevzfKIA46veBGEnwkgEAvnWA+H0CBmfNPpCQwfDaEtaMIMtiH0jVFMiahPDWG/OcsUGEPfBhPdw0rZIxg+bGLHt7343A6OFpceDJ3vR6g9ANNsQtfhIUzMPGQiGPvGXnS2yjemJnQ+0Y9Ru+bdGMPAk11oEo+ttQvdZyZi3Vw4h9D/ah+6Wk3Iw9TqIzbPbkZQs7ox3AVj7MUOmIeHLW9Zyot7iM/0ASkwat/AyGlbn+nH2A0AVjrbN8RY28X18Ri3wbPdVv1muE2Nof/xNgRME4H2EPovqLYDkKjds6q/8yJ3HpJq4o2eWNvKfdGD4cvx1yY+78wzRV+IzzbNT9EyDHP1ragOLk/zomJN5rh5nRjiOjiiN5yKKV8eRCgYwuC7EWA6gomhbnRs6MGorX86s0v9OYU902Po2xJA6NtjlsBFPhhG9xZbnDuZvakLT5pi9OisAFsJI8PoNjvQdyF6WbwoRxB+rgOdR8NRIb42hv6QEo9oHWdE+N0B7JCbW3G1RLoDfReTmpPipINjTIA6nxnGRASITA6jZ4M5421ODR1EYEsPwtdEVKYQPtoJc9/p6Ff46QkMhgIIvTKOyDQQkYfihg70vCUNHb3ZAo/3YfSDKUypts+Vpxyr9fi3d8D8YjTEkFqUTQQeH8CY1O3GOAZCJjpeVKEoByepkX3cxOIW7W+Twu3yaewPBtDUvhcDF6asfj/+SgiBDX2I5pis3VM0WVqnnQIavUi+yQW2HMTp2L1o2RTsxrA8fAAkPx+fZ9K+EM0ui78xUb6n8TdQEfD2K3FZlJ5nl0Q75axHGfMclEAkETkRqXhvbhwDjwbQe94LggT2KA/0rZ7oDTDj4QETr7h5ylEb4m4wL2bJtRf60GELVVghjZmbEYgTZYtbN2ac39iNYT5+2vKkRVQCx6MRV7lux9Ee7Fd5ybUuoZLMzHeIjYs9wsZug3kg6nla5VwbR3hkPCrKwvzRgbhY+az9crPtwMC7DutyKMpTF+PDF6lFOd4+q51i7QA4OLmKcg/Ctv4Wfs6E+Vx4tsL2e8SFs9VPZsqbvSy7vXgBjeYRrcPeM/avNtFxkOg3iFTn4/O0+CTqC9kZPfPwNkrqb8EKDb8Sl7UdeXHh3E4ZZ7a9w8V12Oh1c8Tc8yhucnusDhPzkJSd1rE0HiIqffZbCTME0D0i7uAUhr5oousl9TXeIcqWKNm+Gquv8+rhcrEPHZbQST7iFUu9o+Jh3cSxr+bZ2+rgaLVj/MBb3APryhAOPhxA08796HnpNMYuK5c3Vi9lv31rMZcb2h6KiVmsWZTj+1knDr46O9CXWpTj7bP6i2qHNEXZPmAZx02qa79HUrV79g0auzJeQKMH5Vj8g0eOWyGemTZKdd42+yJJX8je/Kjdxl01t2B59T3Z51MUVzpuXmed7R3ORZT1DLbYC01uz8KKMmB5iM+EEbHiwl0YsMXQ4252uTmV52uvntqfHkVPMITTEn6JpZO8rZjscR2DWA6OqURZ7JIQ1IVhDB7fj67WALq+MWbFbN2Yq2qomK0ac5g5rlmUZ+LS14awP9gZF9rxnSgna/cZQNnupC/Ko8cDsbEWd9GOP28TZTEtQV/I1moV5jLuMH8Ny6soyslBOm5eZ+KEohwb5BKBsl9j+5pnP5z+fgp7FjJ8IZX4YABdwW6cfnX/bMw1Vrk4UZZ0ZrxoI45NdDBv75P70aS8fIkth7rR/ehcryZ9fiqlg2NSUY5g4nwYozbv2ArVxKa0uc4wmamL3PDxnqhlQa5EGfJg7II54+lGY8C7X5n9xhLnucYG+uwPjbh20u0pp2x31T7Zbt1EOdrWesIXyftCtlbPiPLiiltQXuX9R+6zNyQfrnTcvE6TE4oygIt96DQ70f1GdL5B5PIwuh/ej6GZ6QfOzNL5nMIe50DfO6dxMMlAnxVv3ncak5GINUiVjgXJ00Ttk6/T8TeBI3xhhTcC0QEmCfVNT2Hs2yF0vRj1PqUMSxxM+6yL6CyMpB52cuNsZx0ck4qyfNXttNkawfhLIZhqzrXF3IQMElovEUUmMPzMDuw/Kw2dQJQvD2K3uRenJyOIxD21bSamtesiQpFR9EgYKRawtzju7MOoNZAntnXCnHlQzLUvXpQBiRF3HB9FJGZoXHgiBTerCnH3iISjkrd7WtVOmMiFx8xAXjeG5cE6HcH4a/ut8Y/4gb5E5+PzTNoXEtqV6kS0DGNp7a1YUc2BvuS4HDevM3Fch3OMTEtk9Xw/9m6JTomTqUF9YU+KLFKV8GWWmWlPaU2Ji1UkFh+Tm/S0V9NiWU6d2QvTjB/Ek1POm12mRp0+3BWdEmdNQRvEeGw03MrKmnWxH0O28Zk5MzxiZWa+cbRrKnGZnkT4hb2xKXEuU6qmRtH/RGd0SpxM73shHHvLc67oRW2dxNDTO6wpY6HXvICPFwzFYersfgTUTJ/piZmyAu1d6H6xB7szEOXIxX7slqmAwV7rZRdvoiwP4BTtriqR1dadh2Q1caYbXdZ0x1j72UJryc878kzVFzzYbZTV3Q6zmlPismLIi0iABEhAMwFjefB2VNTo/+lOzXYyOxIgARIoCgLGCvnPI7UU5aJobVaSBEjA9wQMs/lOVAVW+N5QGkgCJEACxUDAKG++A5V1FOViaGzWkQRIwP8EjBXNt2v9x6n+rzItJAESIAH/EjDMltsoyv5tH1pGAiRQZASMipZbUVXHKXFF1u6sLgmQgE8JGLVrb+dPd/q0cWgWCZBA8REwmuXfQa3kQF/xNT1rTAIk4EcCxtqtZajnP071Y9vQJhIggSIkYNz/m5VobK3Cv/3bv3ElA/YB9gH2gQXuA8Zvfi6I1rbaInwescokQAIkoJeAOLdeF+P39qzGunuDXvPh9SRAAiRQ9AS0iPKeve24r6Ox6GESAAmQAAl4JaBFlPc/uRGbH2jxaguvJwESIIGiJ6BFlA985X48uHVV0cMkABIgARLwSkCLKH/py2vx4IP0lL02Bq8nARIgAS2i/ORTa7H1oVbSJAESIAES8EhAiygf+Eo7HtpGUfbYFrycBEiABKw53l4xGH/ypVXofLDJaz68ngRIgASKnoAWT/mPnlyNLVspykXfmwiABEjAMwEtovzHB9Zjy0Mc6PPcGsyABEig6AloEeU/OrgBWxhTLvrORAAkQALeCWgR5f3PdGLro23erWEOJEACJFDkBLSI8uH/8Zt4pGt9kaNk9UmABEjAOwEtovxnf/EoHt25zrs1zIEESIAEipyAFlH+773bseMzDF8UeV9i9UmABDQQ0CLK3ccfxcP0lDU0B7MgARIodgJaRPnQX3wGO3YxplzsnYn1J4FCInD16lUcOHAAsk21SJoTJ06klTZVXlpE+atf78KOXfemKovnSYAESCBvCIggh0KhlMIsgnzs2DErrWy9LlpE+UvHHsZWxpS9tgWvJwES8BEB5SknE2a7IIuI61i0iPIffq0DDzzCN/p0NAjzIAES8A+BZMKcC0GWmmsR5d99shmbtq/0D0laQgIkQAKaCLgJc64EWUzWIsqf3VeL+x+q14TAv9lMvTuG8Sn/2kfLSIAEckPAKcwqhqwrZGG3Woso79pXjY1b6+z5pr3/+uuvW0FyqfTbb78N+ZzOOjIyknYZ6SQcPWrCNN3WEAavAHinH51yfks/xiXDK4MImSZCr06mkz3TkAAJ5DkBuzCrOHMuqqRFlD//ZAPufyiYlX1qhFMJslQ2nVWmn+hcoqLchf3He9Ebtw5gVLzja0M42Gqi6cAQLGeZoqwTP/MiAd8TsIcslCjLMd2LFlHec7AFm7ZlF1MWMZZ1oZeoKPdgNF1DKMrpkmI6Esh7AnZBFkdSOZOy1S3MWkT5v3ylGZu2NeY1+NSiPIoeCV8cjcm2myhfCaPviU40WWGQJnQ+1o3Bi/FB6MlwH/ZuaYqGSoJt6Do8iPEbeY2OxpNAQRNwCrJUVo7lSpi1iPJ//eoabH64OeuG0f2kycaQhOGLoYlYdilE+fIgQkETnQcGMHxhAhMXhjHw9A4EzE70no9E84jFpZse68PpkTCGXzqIHUETTU8OgZHpbFqN15BAbgm4CbIqMVfCrEWU93ZvQOcjq5WtGW3VKKZUUAbv5HM6qwwG6lyiouwy0Kc8YyQT5Smc3mfC3NWPsWtTmJpZR9G31YT5xVgc+q0ey0M+ODTrPUeuze7rrA/zIgES8EYgmSCrnHMhzHpE+fBGPJjlj9yrrwCZinJuZl8kiyknEeXpcDS04Tp7Q4Q+lu/0BIYs79lE05bd2P/cAIbfpSirDs4tCfiJgEwmUAN6yeyyC7M4lF4XLaL8+S+vwZaHs/OUpQJSqYVePMWUlSg/F06vGjcmMDZyGgOHd1vx587Dw9EZHeldzVQkQALzQEB0KV2RVWl1TFrQIsqf+6NWPLBtzTxgyl0RnkQZsfBFMITBD2w2Tk9g8GjfjDc8dWEQPY/3YNg2sDf2QhtMMzYX2nYpd0mABIqTgBZR/uwTLVmLsjxhdDxdvDafN1EGcLHfGrQzg20IHe5F73P70dUqoYtO9LwVHeiLvNUTfQGltQv7n+tF7+EQ2oLyQkofxqa91oDXkwAJFAIBLaL8yO8FsLEzux8kUi+KiDjL4J36nGqbm5dHsowpq57gnBL3RA9OvxObeRFLM3V+APt3tSEg8WeZEvdkP8KceqEIcksCRU9AiyhvfGQp1t6X/WvWSmDFY07nFWtJ4wfvuuh7DwGQAAloJ6BFlNdvLcGqtdXajWOGJEACJFBsBESUva7Gxm0rsHptbbGxY31JgARIQDsBEeQf//jHM+vExAQyXY32zeVoWV2j3ThmSAIkQALFRkBE+cqVK/jwww+zXo0195ajuZWecrF1HtaXBEhAPwER5Z/+9Ke4fv06/vM//zOr1WhoLkPDSsaU9TcPcyQBEig2AiLKN27cwM9+9jP8/Oc/t9abN28ik9WoDS5FXbCq2NixviRAAiSgnYCIciQSwS9+8QtMT09ntRo1wTIEKMraG4cZkgAJFB8BEWUR5E8++QS//OUvrfVXv/oVMlkNs7YUNXWVxUePNSYBEiABzQRElMVDFkFWQpxpEUaZuRhVNWam1zE9CZAACZCAg4BTlB2n0/polJTdjoqq8rQSMxEJkAAJkEBiAiLKXheKsleCvJ4ESIAEYgS0iPKSsjtg0lNmpyIBEiABzwQ0ifIiirLnpmAGJEACJADrdy+8cjBKli1GRTUH+ryC5PUkQAIkoMVTFlGupCizN5EACZCAZwJaRLl02Z0UZc9NwQxIgOgfOWsAABiUSURBVARIQFf4omwRRZm9iQRIgAQ0ENDiKZeULUJF1QoN5jALEiABEihuAppE+Q5UVlOUi7srsfYkQAI6CGgR5btXSEyZoqyjQZgHCZBAcRPQIsqlFYtRWVO8oiz/xPXYsWMp/xO3/MNXLiRAAiSQjIAWUS6puBMVRSzKBw4cSCnIoVDISkNhTtYdeY4ESECLKN9ddRcqi/hX4pTgJutOKo1sF0qYxaNP9gBZKLuScZNz+Wp3qnrxPAm4EdAiystqSlEdqHDLvyiOKcFNVlmVRm0XQgDzNcSSr3Yn6w88RwKJCGgRZbP+HlQX8Y/cK6FNBFmOqzT27XwLs71sL/vibYv3Ol+LF1vt18633fPFh+UUFgE9otywFNX1xfufR9SNn6xrqDTO7XwKs7NsL59F4OZrycROsUs8a1ll33ntfNo9X3xYTmER0CPKjSWormf4IlnXcIqD/XOy63SeU2V6zVNXPunaocpLZ3v16tWZbGXf7ZqZBNwhAR8S0CLKFa1LUNNQvL8Sp278TNs32+syLUel11WernyUXam2qrxUW/nWceLEibjs5LPzurgE/EACPiOgRZQD95WgtominGnbKrHI9Lps0+sqT1c+6dZDlZdsq8ISIyMjcfFuN2853XKZjgQWgoAWUW5+qAx1qxi+cGtAEYlEcWMlMm7X5eLYfJenqw7K7mRbNfAoIuz0lqUN7Nfqsov5kEAuCGgR5bW7TDS0V+XCvrzIU93wTmPtYuAmzImuc+aj63O25amwgIid1EkWNZimy7Zk+Si7E23FFvsiNio75bgItaRR19vTcp8E/EZAiyjf+3tVaNpQ67e6zZs9bje7XZDVeacwq+PzZWim5Yn3qa6R8ICazaD2nWKYq3ooGxJtRXTti7LPfsxeF/tx7pOA3whoEeX1n69A80Z9ouy8yfwGzWmPEgt13E2QlaDZhdl5nbo+V9tMy1PiZg8N2OvmB1G28xRudvvEfrFRrZnWP1ftwHxJIBkBLaK87ndNz6KsYoHqxlE3VD4ItLJZgRahkGN270yOSZ3s8U7nder6XG0zKU+Jm52/qpfKxw+ibLdPuNn5Ojmq9nAe52cS8BMBLaK8+rPlaO4IZF0vdbPIzS43ldz8spXPImTKU8u6gBxfqETKXowSC/s5Zz3s5+zX5mo/k/KEv1N0pU5SB7WqOubKXpWvstttaxdh2U9mk9RH8uBCAn4moEWUW7qWexJldbM4RUtuMBFlWf28KLFwszHbc255eT2WzBZn3m6i7EwzX5+V3W5b6RvqYSEP80SL9C11faI0PE4CfiCgRZSbdy5Dy8b6rOqjvibL1m1RN5NTsN3SLtSxZDd7tudyURf18FM2JdoKa9UubtxVmyRqM922p7JbPbglXaJV1VXOcyEBPxPQIsotO8vRsrEuq3qqOGWir51yXG6oZF5QVgVrvEjd8Jlmme11mZaj0ouYphI4sUnS2L+l2NvGflzlm+ttunYrnom2It5uD5lc28/8SSATAlpEec1vVaC5w5soJzNabjJ77DBZ2oU4Jzd7IiFIdVyu9euiBFjqoLxRtU9x82ur0a58J6BFlNf/TgDNG7ITZbm55UZPdJOrr9Hz9VU5mwYV27IRZvFIE9U7GztycY0Is9RPbJUHo5+/seSi/syTBOabgBZR3vC7DVh1/8qsbFfemIia7NsX+zn7ce6TAAmQQKES0CLK9z/WgjWbmrJmJOKrvhYrb0zFmuW4HHMKdtaF8UISIAES8DEBLaK8JbQGbZtbPFVTRNc5COUccPL7V31PAHgxCZAACQDQIso7ntiAdQ+0agPq9IrtnjSFWRtmZkQCJOBDAlpEuetPtmB955qcVo/CnFO8zJwESMAnBLSI8me/vA3rO9tyXiW7MDu96ZwXzgJIgARIYB4I6BHl/VvR/sDqeTA3+tu4DGHMC2oWQgIksAAEtIjyZ/Y+gHWb9cWUF4ADiyQBEiABXxDQIsrbQ/ehbWOzLypEI0iABEggnwnoEeXP34s1HdnPU85ngLSdBEiABHQS0CLKW367Davuze6NPp2VyTYvgcCVDNgH2Ae89oFsNch+ndjgdTHWPlSHxjXZ/8i9VwN4PQmQAAkUCgEtorzy3nLUN1cXChPWgwRIgAQWjIAWUa5svguBxooFqwQLJgESIIFCIaBFlCsa70Jtg1koTFgPEiABElgwAlpEubq5BLUN9JQXrBVZMAmQQMEQ0CLKNS1LURukKBdMr2BFSIAEFoyAFlGubb0btUGGLxasFVkwCZBAwRDQIso1zSWooSgXTKdgRUiABBaOgBZRrmi6C9X1KxauFiyZBEiABAqEgBZRNlfeier68gJBwmqQAAmQwMIR0CLKy4KLUF3PmPLCNSNLJgESKBQCWkS5rF5EmeGLQukUrAcJkMDCEaAoLxx7lkwCJEACcwhQlOcg0XNA/jvK66+/jhMnTsStcowLCZAACSQioEWUrZgyp8TFMQ6FQki0UpjjUPEDCZCAjYAWUS5vWIwavtE3g3VkZCShICcSanX8wIEDlmc9kxl3SIAEioqAJlG+C9X0lGc6TiJRFsFV4ptqy38OO4OTOyRQVAS0iPLyoLw8wilxque4ifKxY8dw9epVK86cSpDlvOTBhQRIoPgIaBHl8oYlqGb4Yqb3OEVZBFkt6QozRVkR45YEiouAFlE2G+W3L/grcarr2EXZLsjqfDrCTFFWtLglgeIioEeUm0pRE6wsLnJJaqtEWWLIIsCy2hf5LDFjmS6XKJRBUbYT4z4JFA8BPaJMTzmuxyhRVoIr4mxf0hnwSy7KEUyMDGN0Mpbr9CRG3whj4oa9FO6TAAnkIwEtolweZPjC3vi5F+Vx9G8JYO+ZmCpPDeFgsAl95+1WcJ8ESCAfCWgR5bLaxaiq4+wL1QFyL8qqJG5JgAQKjYAWUV5asQiVNfzpTtU53ERZQhZqVWGNZNvk4QtVErckQAKFRkCLKJeU3wGzmqKsOocM5CUT3HTOOQcHVd7ckgAJFDYBLaK8uOxWrKhaXtikMqydeLrOHyNK9zPf5ssQNpOTQAER0CLKi0o/jRWVFOUC6hesCgmQwAIR0CLKty/5DZRXUJQXqA1ZLAmQQAER0CLKdyz5NFZQlAuoW7AqJEACC0VAiygvWnIbVlR4H+iTwa1Esw7kN4g5+LVQ3YTlkgAJzBcBLaJ855LbPYuyCK78ToTMTHCKrwx8yXGZUuY8N1+gWA4JkAAJzAcBLaJ8V8kimBXZ/+NUuyAnmnmg5v5SmOejW7AMEiCBhSKw4KKcjiArOBRmRYJbEiCBQiWgRZSXZOkpZyLIqgEozIoEtyRAAoVIQIsol5TciYoswhciyurV43T/mag9vlyIDcI6kQAJFDcBPaJcuhgVFdn9IFEmwkxB9mNnHUWPaaLnLc22vdUDMzQI9eukmnNndiTgWwJ6RHnpnaisyk6UhUw6wpxvgiz2ivfvfLU63W8Evu0xcwzzgShfGUTIDGHwyhzjeIAE8o6AFlEuvcebKAs1uzCLoNkXOaemxNmP+3k/2Y8OFZYwU5T93A9pW/4R8I0oCzoR30SClei4TuT/8R//oSU7NRiZTJgTnZMYu3jXKZfLQ+je1YaAaSLQ3oXuMxOzl0xPIvzCXnS2mjDNJnQ+0Y8x9V9JLK+yB4Nnu9EVO991eAgTU2Pof1zlF0L/hUgsPxHdEPrP9CPUHoBpBtD2xQGMq/wwV5Qn3uiZTft4P0anZk1LuHdjtvymnd0Y/ObB+PDFZBh9T3SiyTRhtnZi7zfGIBZOvhqCKcdia+jVWMAjGYOERvAECSw8AV+J8kLjePHFF/Hhhx96NsOLKCuxdn5biDcq+p9HQq+MIzINRN4dRCjYgb4L0VTj3+hE4PFBjItqTU8hfLQTgWfClojBEuUAQt8ew2QEiFw+jf3BAJra92LgwhQwHcH4KyEENvRhzMouKrqdzwxH/93UtTEMPB6Yzc8hypFwDzq29CB8LVr22DdD8eIaX5HYpykMfTEAqwyxaTJaxmxMOb6+mAqjZ0sA3SOxB4dL+CIpA1cbeJAE/EFAmyhXVef/f7MWUf7qV7/qWZh1iLLkkXgRodyB/ndUiggmzocxejkqUpGpKUzF9MpKIYNmwV6MyoeYpxyeVtcC4edMmM+FZw/EiZyUtRuDl2dP40IfOsxuDFtl2D3lSQyGTHRHT0QviAyj2wzhdLIRO6u8vTgtQq6WsG2gbzqCqWtT1gNInR49aiJw3KpRrE7xMeWkDFQm3JKADwlQlG2NIqIsnqpXYc69KEcw9s3daAq2IXS4H4Mj45iyiSzivrqrr/Y9caIckzOr9iJw5lHbkTmiHC94mA5bIY3owJpdlKP7KpQwu3Vcb2Nu7cpDY8Yzj510zr64YgtfqHCFsjnO3tj1yRg4y+dnEvARAT2ivPROVFUVhqeswgdehDn3ohzrQdfGMXpmAN0SC95yEEPW7IMIRo92RMMXKu4rAmdqFOWY9+suyh3ou5hhD08lypFR9GwIQIVrJPe4B8kcUU7BIEPzmJwE5pOAHlG+ezFF2dZqORfla+MIi3c8U+YUTu8zER3kioYQ4uYNSyhApyi/O4AdruGLCQzsNNH1km3QUWy0e/EzNtt2UoUvrPOxh0rsMivkktBTTsHAVjR3ScBvBLSI8t1L7yooUfbiJUsD516Uh7A/2InuN2KB2mvDlid5cEhkegpDBwLokBkVNyKIfDCMnodl1oQXT9mcGYRDZByDjwfQcXQ0OnDoGOibOrsfgWAIAxejj4ypCwMI7ezDmD3GPecucA70jaJvV2B2gHBqCAeDHegemkDkRgQyu2NH0BZyscIpHeg9H0HEKicFgznl8wAJ+IeANlH28vKIX3Dkz0AfEHlncGZKnNnahf0vRaeIWSyd08vO9M56ti5eZ1woQDKICwdEB/p6X+mbmea24+nB5FPiznSjy5o+Z8Ka3vZOUkWONr/TZseUuMgFNSWvCV2HB3H6+A6Yh4djD4ZYjF2mB6rBP2d+dgZ+6XC0gwRcCFCUbVD8NCVOvG1/LCLKKQbq0jHUEno16Gjfasg7nfKZhgTyhABF2dZQfnh5RA00Fpwo2zhzlwRIIDEBLaJcVlZSEDHlxJgyO6NeC1cCm81W8vDHoslT9kdlaAUJ+J6AFlFevnwJqmvyf0qcztYST9f5Y0Tpfk7+Np9OK5kXCZCA3whoEeXy8sWoqaUo+61xaQ8JkED+EdAiypUVJQgEKvOv9rSYBEiABHxGQIso1wfKUF9f7bOq0RwSIAESyD8CWkS5cWU5gkGKcv41Py0mARLwGwEtotzcZGLlylq/1Y32kAAJkEDeEdAjyo0rKMp51/Q0mARIwI8ENIlyORrpKfuxfWkTCZBAnhHQIsqrmk00NTJ8kWdtT3NJgAR8SECLKK9pqURTY8CH1aNJJEACJJBfBPSIcnMFRTm/2p3WkgAJ+JSAFlFe1WiieSU9ZZ+2Mc0iARLIIwJaRLmpfjkaGxhTzqN2p6kkQAI+JaBFlBvrlmFlsManVaRZJEACJJA/BLSI8sr6cqwM0lPOn2anpSRAAn4loEWU6wPL0UBR9msb0y4SIIE8IqBFlGuqlqK+jr99kUftTlNJgAR8SkCLKJvlJait4U93+rSNaRYJkEAeEdAiyiuWlaC2mqKcR+1OU0mABHxKgKLs04ahWSRAAsVJQIsoLy9bghp6ysXZg1hrEiABrQS0iLL8N+vqKoYvtLYMMyMBEihKAnpE+Z4lqK7iP04tyh7ESpMACWgloEeUy+6aN1G+evWqVgDMjARIgAT8RECTKC9GdXV2nvLbb7+NY8eOWWs6YFTakZGRdJIzDQmQAAnkFQEtonzPPYtQXWVmVfFQKIQDBw5kdK0Is1zHhQRIgAQKjYAWUV66dBGqshBlCUWIuJ44cWIOVzknXrRaZF+FLiS9XKc+qzTckgAJkEC+E9AiynfffQcqKzP3lN1EWY6J56xWAaw8YyXer7/+OkU533se7ScBEnAloEWUly5drE2UlZVKeEWQRYztXrE6Zz+mruOWBEiABPKZgBZRLi2505Moi8g6FwlXSIhCRNm5yCAfwxdOKvxMAiRQCAQWTJTFyxXBlTCFm8crxxKJspyT65wedCE0COtAAiRQ3AT0iHLpIlRWrsiIpHjCIqqJRFnFkeW8c7ELtpugO9PzMwmQAAnkCwE9onz3IlRkKMoCSIUonHOO5biIsoodKwFXAmw/ni+gaScJkAAJpENAiyjfXbYYldXZz75QMWXlOSvvWIm2hDFkXy1KlJVIq+PckgAJkEC+E9AiymVmCaprM/9BIhWGUKIsn2XfLrbiRTs9aYpyvnc72k8CJJCIgBZRNgP3oLauKlEZCY87RTlhQscJirIDCD+SAAkUDAE9olx/D2rrMxdloSihCrdpb8kIyzUS0uBCAiRAAoVGQIsoVzWWIdCQ3T9OFa83E2EWAZfYszOkUWgNw/qQAAkUJwEtolzbuhx1jTWeCNrjyJ4y4sUkQAIkkMcEtIhysM1EsLk2jzHQdBIgARLwBwEtotx4byVWtgb8USNaQQIkQAJ5TECLKDdtrMTK1RTlPO4HNJ0ESMAnBPSI8iYTK1czfOGTNqUZJEACeUxAiyg3P1CJhjUU5TzuBzSdBEjAJwS0iHLTpkoE6Sn7pElpBgmQQD4T0CfKq7xNictniLSdBEiABHQR0CLKjfdXIEhR1tUmzIcESKCICWgR5ZZNNZx9UcSdiFUnARLQR0CLKK95sB6NbfX6rGJOJEACJFCkBLSIcvv2BjSvDRYpQlabBEiABPQR0CLKbVvr0LKOoqyvWZgTCZBAsRLQIsqrt9SgeS3DF8XaiVhvEiABfQS0iHJbZw2a2+r0WcWcSIAESKBICWgR5XVba9Hcxt++KNI+xGqTAAloJKBFlNdsqUQjX7PW2CzMigRIoFgJaBHllvtXoGFVdv95pFjBs94kQAIk4EZAiyi3bjLRwDf63PjyGAmQAAlkRECLKK/aVImVSUT5wy/fArVmZB0TkwAJkECREdAiyq33y38eSfyDREqQZcuFBEiABEggMQEtoty8waQoJ2bMMyRAAiSQNgEtoty0fgUaWugpp02dCUmABEggAQFNomyioSXxfx5h+CIBfR4mARIgAQcBLaLcvN5EQzM9ZQdbfiQBEiCBjAloEeWm9SaCzYnnKdNTzrhdeAEJkECREtAjyvdKTJmiXKR9iNUmARLQSECPKN9HUdbYJsyKBEigiAnoEeUN5WhopadcxP2IVScBEtBEQIsoN29cwTf6NDUIsyEBEihuAlpEedXmCjSu5pS44u5KrD0JkIAOAlpEufUBM+lPd3L2hY6mYh4kQALFQECLKK/yIMqf/PQD/PwHfztnLQb4rCMJkAAJOAloEWX5kftk/3kkmadsP2ffn3r5D5228jMJkAAJFDwBPaL8QHaiLB6yXYid+1efq8O1v9zqun401FPwjcMKkgAJFB8BPaK8qRLNaxL/jz672NoRK1EW8c10lTw/Hv8Xe3bcJwESIIG8J+ALUZa4ciaLpBdRFlHnQgIkQAKFRECLKK/qMNG4KvMpccpTpigXUpdiXUiABLwQ0CLKqzdQlL00Aq8lARIgAUVAiyiv2ViF5tXZx5TpKavm4JYESKDYCWgR5dUbq9BEUS72vsT6kwAJaCCgRZRXbZT/Zs2Ysob2YBYkQAJFTkCbKDeuYviiyPsSq08CJKCBgBZRXrOpBs1r6hOak2qesszCkDnH6a5q1ganxCVEzhMkQAJ5SkCPKD9Qg5a1wYQIEomymm9sP5/JfqYDhAkN5AkSIAES8AkBLaK8bmstWtoy95SFgQireLyZrj7hRzNIgARIQCsBLaK8/qE6NLfVJTTM7v0mTMQTJEACJEAC0CLK6zolfJGdp8w2IAESIAESmCWgSZSrKcqzTLlHAiRAAlkT0CLK6x+SmDLDF1m3Ai8kARIggRgBPaL8YA1FmV2KBEiABDQQ0CTK1WhdS09ZQ3swCxIggSInoEWUN2yrpSgXeUdi9UmABPQQ0CLKHdslfJH5a9Z6qsBcSIAESKBwCOgR5W3VaKUoF06vYE1IgAQWjIAWUd74UDVWraWnvGCtyIJJgAQKhoAWUd7wYAVa2zL/6c6CociKkAAJkIAmAlpEeePWKrSuoShrahNmQwIkUMQENIlyDVrXMHxRxP2IVScBEtBEQIso3/dAFVqS/DsoTbYyGxIgARIoeAJaRHldh4nG1pqCh8UKkgAJkECuCWgR5bUbKMq5bijmTwIkUBwEtIhy+8YKNCf5x6nFgZK1JAESIAHvBFKJ8o9+9CPrN5clXaLVWL+xCs1J/nGqdzOZAwmQAAkUB4FUoiwU9u7dC9M0E65G+8ZKDvQVR39hLUmABHJMIB1RFhOSCfP/B3it6NU63HZrAAAAAElFTkSuQmCC)\n",
    "Colab에 있는 파일을 로컬 PC에 다운로드 하려면,"
   ]
  },
  {
   "cell_type": "markdown",
   "metadata": {
    "id": "hb7drp6y132O"
   },
   "source": []
  },
  {
   "cell_type": "code",
   "execution_count": null,
   "metadata": {
    "id": "rnB9X2Mi16SM"
   },
   "outputs": [],
   "source": [
    "# cat.jpg 다운로드\n",
    "from google.colab import files\n",
    "\n",
    "files.download('cat.jpg')"
   ]
  },
  {
   "cell_type": "markdown",
   "metadata": {
    "id": "YX0V7o4g19HF"
   },
   "source": [
    "업로드는 아래와 같이 한다. (이 코드는 Colab의 [코스 스니펫]에 있다)"
   ]
  },
  {
   "cell_type": "code",
   "execution_count": null,
   "metadata": {
    "id": "gTdah_0f1-Oo"
   },
   "outputs": [],
   "source": [
    "from google.colab import files\n",
    "\n",
    "uploaded = files.upload()\n",
    "\n",
    "for fn in uploaded.keys():\n",
    "  print('User uploaded file \"{name}\" with length {length} bytes'.format(\n",
    "      name=fn, length=len(uploaded[fn])))"
   ]
  },
  {
   "cell_type": "markdown",
   "metadata": {
    "id": "k9OqMIxj2CMD"
   },
   "source": [
    "## 구글 Drive와 연결(mount)하기"
   ]
  },
  {
   "cell_type": "code",
   "execution_count": null,
   "metadata": {
    "id": "0fp7z9pu2BF2"
   },
   "outputs": [],
   "source": [
    "from google.colab import drive\n",
    "drive.mount('/content/drive')"
   ]
  },
  {
   "cell_type": "code",
   "execution_count": null,
   "metadata": {
    "id": "MTIXyb8t2Gke"
   },
   "outputs": [],
   "source": [
    "with open('/drive/MyDrive/foo.txt', 'w') as f:\n",
    "  f.write('Hello Google Drive!')\n",
    "  \n",
    "!cat \"/gdrive/MyDrive/foo.txt\""
   ]
  },
  {
   "cell_type": "markdown",
   "metadata": {
    "id": "xymHrLcH0tOq"
   },
   "source": [
    "새 노트북 만들기\n",
    "노트북 이름 바꾸기\n",
    "노트북 파일 위치 확인\n",
    "코드 입력하고 실행하기 (Shift + Enter)\n"
   ]
  },
  {
   "cell_type": "markdown",
   "metadata": {
    "id": "9vXxyQow05lF"
   },
   "source": [
    "## 수식\n",
    "```\n",
    "$$c = \\sqrt{a^2 + b^2}$$\n",
    "```\n",
    "$$c = \\sqrt{a^2 + b^2}$$\n",
    "\n",
    "```\n",
    "$$N(\\mu ,\\sigma )$$\n",
    "```\n",
    "$$N(\\mu ,\\sigma )$$"
   ]
  },
  {
   "cell_type": "markdown",
   "metadata": {
    "id": "ju5BDciDuf3D"
   },
   "source": [
    "# 간단한 차트 그리기"
   ]
  },
  {
   "cell_type": "code",
   "execution_count": null,
   "metadata": {
    "id": "6RTJJlAfyVj1"
   },
   "outputs": [],
   "source": []
  },
  {
   "cell_type": "code",
   "execution_count": null,
   "metadata": {
    "id": "S53ooIfhW-mJ"
   },
   "outputs": [],
   "source": [
    "import numpy as np\n",
    "\n",
    "data = np.random.randint(-100, 100, 50)\n",
    "data"
   ]
  },
  {
   "cell_type": "code",
   "execution_count": null,
   "metadata": {
    "id": "3qgokxalXUmM"
   },
   "outputs": [],
   "source": [
    "import matplotlib.pyplot as plt\n",
    "\n",
    "plt.plot(data.cumsum())\n",
    "plt.show()"
   ]
  },
  {
   "cell_type": "markdown",
   "metadata": {
    "id": "kFdDCqgm0_cR"
   },
   "source": [
    "## curl 명령으로 파일 가져오기\n",
    "위 이미지 링크를 wget 명령으로 가져와 보자\n",
    "\n",
    "! 를 쓰고 명령을 써준다. \n",
    "\n",
    "아래 예는 curl 명령으로 특정 URL의 이미지를 cat.jpg 로 저장하는 예 이다.\n",
    "\n",
    "```\n",
    "! curl -o cat.jpg https://amp.businessinsider.com/images/5a69a3d400d0efc1008b4754-960-480.jpg\n",
    "\n",
    "! ls -l\n",
    "```"
   ]
  },
  {
   "cell_type": "markdown",
   "metadata": {
    "id": "xxL7u94xBWtY",
    "tags": []
   },
   "source": [
    "## 코랩: 한글 폰트 설치"
   ]
  },
  {
   "cell_type": "markdown",
   "metadata": {
    "colab": {
     "base_uri": "https://localhost:8080/"
    },
    "id": "s2FJvPltgmrh",
    "outputId": "f3935ecc-73c1-492c-dbd3-8ede4eb9921f"
   },
   "source": [
    "1. 한글 폰트 설치\n",
    "\n",
    "```sh\n",
    "#폰트 설치\n",
    "! apt install fonts-nanum*\n",
    "```\n",
    "\n",
    "```sh\n",
    "! apt install fontconfig\n",
    "```\n",
    "\n",
    "2. 폰트 캐시 생성\n",
    "\n",
    "```sh\n",
    "#폰트 캐시 생성\n",
    "!fc-cache -fv\n",
    "```\n",
    "\n",
    "3. matplotlib에 남아있는 font 캐시 삭제\n",
    "\n",
    "```sh\n",
    "# matplotlib에 남아있는 font 캐시 삭제\n",
    "!rm -rf ~/.cache/matplotlib/*\n",
    "```\n",
    "\n",
    "4. Runtime 재실행\n",
    "\n",
    "5. matplotlib 에서 Nanum 한글 폰트 검색 확인\n",
    "\n",
    "```python\n",
    "import matplotlib.pyplot as plt\n",
    "import matplotlib.font_manager as fm\n",
    "\n",
    "# 폰트 목록에서 폰트 찾기\n",
    "for font in fm.fontManager.ttflist:\n",
    "    if 'Nanum' in font.name:\n",
    "        print(font.name, font.fname)\n",
    "```"
   ]
  },
  {
   "cell_type": "markdown",
   "metadata": {
    "id": "TaZb8_nUse1U"
   },
   "source": [
    "### matplotlib 한글 확인"
   ]
  },
  {
   "cell_type": "code",
   "execution_count": 3,
   "metadata": {
    "id": "7LEXOTiBtBV9"
   },
   "outputs": [],
   "source": [
    "import matplotlib.pyplot as plt\n",
    "import matplotlib.font_manager as fm\n",
    "%matplotlib inline"
   ]
  },
  {
   "cell_type": "code",
   "execution_count": 4,
   "metadata": {
    "id": "usCDfVLwsvRT"
   },
   "outputs": [],
   "source": [
    "# 폰트 목록에서 폰트 찾기\n",
    "for font in fm.fontManager.ttflist:\n",
    "    if 'Nanum' in font.name:\n",
    "        print(font.name, font.fname)"
   ]
  },
  {
   "cell_type": "code",
   "execution_count": null,
   "metadata": {
    "id": "233Pb8Nvq_Sq"
   },
   "outputs": [],
   "source": [
    "# 전역 폰트 설정 사용\n",
    "# font_path = 'C:/Windows/Fonts/NanumGothic.ttf'\n",
    "# font_path = '/Users/qkboo/Library/Fonts/NanumGothic.otf'\n",
    "font_path = \"/usr/share/fonts/truetype/nanum/NanumGothic.ttf\"\n",
    "\n",
    "fontname = fm.FontProperties(fname=font_path, size=18).get_name()  # 폰트 패밀리 이름!\n",
    "# plt.rc('font', family=fontname)\n",
    "plt.rcParams[\"font.family\"] = fontname\n",
    "plt.rcParams[\"font.size\"] = 12\n",
    "\n",
    "# matplotlib 설정\n",
    "plt.rcParams[\"axes.grid\"] = True\n",
    "plt.rcParams[\"figure.figsize\"] = (10,3)\n",
    "plt.rcParams[\"axes.formatter.useoffset\"] = False\n",
    "plt.rcParams['axes.unicode_minus'] = False\n",
    "plt.rcParams[\"axes.formatter.limits\"] = -10000, 10000\n",
    "\n",
    "plt.title('한글 타이틀...')"
   ]
  },
  {
   "cell_type": "code",
   "execution_count": null,
   "metadata": {
    "id": "rsXVwm1Nq-05"
   },
   "outputs": [],
   "source": []
  },
  {
   "cell_type": "markdown",
   "metadata": {
    "id": "iGHvT1fpQs5Y"
   },
   "source": [
    "# TensorFlow 2.0"
   ]
  },
  {
   "cell_type": "code",
   "execution_count": null,
   "metadata": {
    "id": "rOrv8xtHQSV1",
    "outputId": "31939504-bc8d-4f4f-ef84-7b7666177efe"
   },
   "outputs": [
    {
     "name": "stderr",
     "output_type": "stream",
     "text": [
      "UsageError: Line magic function `%tensorflow_version` not found.\n"
     ]
    }
   ],
   "source": [
    "%tensorflow_version 2.x"
   ]
  },
  {
   "cell_type": "code",
   "execution_count": null,
   "metadata": {
    "id": "1vi8n_dTtemV"
   },
   "outputs": [],
   "source": [
    "# GPU 사용 가능 확인 ( \"/device:GPU:0\" 문자열이 반환되면 GPU 사용 가능함 의미)\n",
    "\n",
    "import tensorflow as tf\n",
    "device_name = tf.test.gpu_device_name()\n",
    "device_name"
   ]
  },
  {
   "cell_type": "markdown",
   "metadata": {
    "id": "GKrMJc4vIekh"
   },
   "source": [
    "# 케라스 MNIST(손글씨 인식)\n",
    "\n",
    "https://elitedatascience.com/keras-tutorial-deep-learning-in-python"
   ]
  },
  {
   "cell_type": "code",
   "execution_count": null,
   "metadata": {
    "id": "PNrNBrQ0uJYc",
    "outputId": "a95773cd-68f2-4f5b-c22e-4ee13249cc27"
   },
   "outputs": [
    {
     "name": "stdout",
     "output_type": "stream",
     "text": [
      "X_train shape (60000, 28, 28)\n",
      "y_train shape (60000,)\n"
     ]
    }
   ],
   "source": [
    "from tensorflow.keras.models import Sequential\n",
    "from tensorflow.keras.layers import Dense, Dropout, Activation, Flatten\n",
    "from tensorflow.keras.layers import Convolution2D, MaxPooling2D\n",
    "from tensorflow.keras.datasets import mnist\n",
    "from tensorflow.keras.utils import to_categorical\n",
    "\n",
    "import matplotlib.pyplot as plt\n",
    "from datetime import  datetime\n",
    "\n",
    "(X_train, y_train), (X_test, y_test) = mnist.load_data()\n",
    "\n",
    "print(\"X_train shape\", X_train.shape)\n",
    "print(\"y_train shape\", y_train.shape)"
   ]
  },
  {
   "cell_type": "code",
   "execution_count": null,
   "metadata": {
    "id": "pmddnJc1_d4G",
    "outputId": "a0c48048-78d9-4174-c4f9-f0e9ef9f6773"
   },
   "outputs": [
    {
     "data": {
      "image/png": "[encoded data removed]",
      "text/plain": [
       "<Figure size 432x288 with 9 Axes>"
      ]
     },
     "metadata": {
      "needs_background": "light"
     },
     "output_type": "display_data"
    }
   ],
   "source": [
    "\n",
    "for i in range(9):\n",
    "    plt.subplot(3,3,i+1)\n",
    "    plt.imshow(X_train[i], cmap='gray', interpolation='none')\n",
    "    plt.title(\"Class {}\".format(y_train[i]))"
   ]
  },
  {
   "cell_type": "code",
   "execution_count": null,
   "metadata": {
    "id": "TzC9WhFHLIl3",
    "outputId": "54e71c53-66a9-445b-a7c6-c9aeaee7d10e"
   },
   "outputs": [
    {
     "name": "stdout",
     "output_type": "stream",
     "text": [
      "Epoch 1/10\n",
      "1875/1875 [==============================] - 7s 3ms/step - loss: 0.2558 - accuracy: 0.9237\n",
      "Epoch 2/10\n",
      "1875/1875 [==============================] - 6s 3ms/step - loss: 0.1024 - accuracy: 0.9700\n",
      "Epoch 3/10\n",
      "1875/1875 [==============================] - 6s 3ms/step - loss: 0.0808 - accuracy: 0.9765\n",
      "Epoch 4/10\n",
      "1875/1875 [==============================] - 6s 3ms/step - loss: 0.0652 - accuracy: 0.9801\n",
      "Epoch 5/10\n",
      "1875/1875 [==============================] - 6s 3ms/step - loss: 0.0555 - accuracy: 0.9829\n",
      "Epoch 6/10\n",
      "1875/1875 [==============================] - 6s 3ms/step - loss: 0.0500 - accuracy: 0.9845\n",
      "Epoch 7/10\n",
      "1875/1875 [==============================] - 6s 3ms/step - loss: 0.0445 - accuracy: 0.9858\n",
      "Epoch 8/10\n",
      "1875/1875 [==============================] - 6s 3ms/step - loss: 0.0391 - accuracy: 0.9878\n",
      "Epoch 9/10\n",
      "1875/1875 [==============================] - 6s 3ms/step - loss: 0.0364 - accuracy: 0.9884\n",
      "Epoch 10/10\n",
      "1875/1875 [==============================] - 6s 3ms/step - loss: 0.0328 - accuracy: 0.9899\n",
      "Elapsed time : 0:01:00.603713\n"
     ]
    }
   ],
   "source": [
    "X_train = X_train.reshape(X_train.shape[0], 1, 28, 28)\n",
    "X_test = X_test.reshape(X_test.shape[0], 1, 28, 28)\n",
    "X_train = X_train.astype('float32')\n",
    "X_test = X_test.astype('float32')\n",
    "X_train /= 255\n",
    "X_test /= 255\n",
    " \n",
    "Y_train = to_categorical(y_train, 10)\n",
    "Y_test = to_categorical(y_test, 10)\n",
    " \n",
    "model = Sequential()\n",
    "model.add(Convolution2D(32, (3, 3), activation='relu', \n",
    "                        input_shape=(1,28,28), \n",
    "                        data_format='channels_first'))\n",
    "model.add(Convolution2D(32, (3, 3), activation='relu'))\n",
    "model.add(MaxPooling2D(pool_size=(2,2)))\n",
    "model.add(Dropout(0.25))\n",
    " \n",
    "model.add(Flatten())\n",
    "model.add(Dense(128, activation='relu'))\n",
    "model.add(Dropout(0.5))\n",
    "model.add(Dense(10, activation='softmax'))\n",
    " \n",
    "model.compile(loss='categorical_crossentropy',\n",
    "              optimizer='adam',\n",
    "              metrics=['accuracy'])\n",
    " \n",
    "start = datetime.now()\n",
    "model.fit(X_train, Y_train, \n",
    "          batch_size=32, epochs=10, verbose=1)\n",
    "\n",
    "print('Elapsed time :', datetime.now() - start)"
   ]
  },
  {
   "cell_type": "code",
   "execution_count": null,
   "metadata": {
    "id": "N9sMJI8NNEWt",
    "outputId": "1fe77f24-bb3c-4c85-d042-2a654094af9a"
   },
   "outputs": [
    {
     "name": "stdout",
     "output_type": "stream",
     "text": [
      "Test score: 0.030788956210017204\n",
      "Test accuracy: 0.991599977016449\n"
     ]
    }
   ],
   "source": [
    "score = model.evaluate(X_test, Y_test, verbose=0)\n",
    "\n",
    "print('Test score:', score[0])\n",
    "print('Test accuracy:', score[1])"
   ]
  },
  {
   "cell_type": "markdown",
   "metadata": {
    "id": "tXhGQFI-NuPn"
   },
   "source": [
    "# 구글 Colab 요약\n",
    "* 사양: 30G 저장공간, 2.3GHz CPU, 13G 메모리 (우분투 18.04)\n",
    "* Tensorflow, SciKit learn 등 다양한 라이브러리 기본 설치 + GPU 지원\n",
    "* CNN 예제 GPU 미사용시 46분 57초, GPU사용시 3분 42초 소요 (10배 이상 빠르다) \n",
    "* 필요한 패키지 추가 설치 가능 (pip)\n",
    "* 구글 드라이브의 공유와 동시 편집기능은 협업에 매우 유용\n",
    "\n",
    "※ 본 문서 자체가 구글 드라이브에서 생성하고 GitHub에 저장한 문서"
   ]
  },
  {
   "cell_type": "markdown",
   "metadata": {
    "id": "B-vGPr5kNuR6"
   },
   "source": [
    "\n",
    "---\n"
   ]
  }
 ],
 "metadata": {
  "accelerator": "GPU",
  "colab": {
   "collapsed_sections": [],
   "provenance": []
  },
  "kernelspec": {
   "display_name": "Python 3 (ipykernel)",
   "language": "python",
   "name": "python3"
  },
  "language_info": {
   "codemirror_mode": {
    "name": "ipython",
    "version": 3
   },
   "file_extension": ".py",
   "mimetype": "text/x-python",
   "name": "python",
   "nbconvert_exporter": "python",
   "pygments_lexer": "ipython3",
   "version": "3.10.6"
  }
 },
 "nbformat": 4,
 "nbformat_minor": 4
}
