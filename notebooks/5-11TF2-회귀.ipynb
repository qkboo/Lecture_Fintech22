{
 "cells": [
  {
   "cell_type": "code",
   "execution_count": null,
   "metadata": {
    "colab": {},
    "colab_type": "code",
    "id": "v6lUugr1JRBt",
    "tags": []
   },
   "outputs": [],
   "source": [
    "# 텐서플로 2 버전 선택\n",
    "try:\n",
    "    # %tensorflow_version only exists in Colab.\n",
    "    %tensorflow_version 2.x\n",
    "except Exception:\n",
    "    pass"
   ]
  },
  {
   "cell_type": "markdown",
   "metadata": {
    "colab_type": "text",
    "id": "SzBgd4W8N3Js"
   },
   "source": [
    "#  4.1 선형 회귀(Linear Regression)"
   ]
  },
  {
   "cell_type": "code",
   "execution_count": null,
   "metadata": {
    "colab": {
     "base_uri": "https://localhost:8080/",
     "height": 283
    },
    "colab_type": "code",
    "id": "QChWDkRCN_tY",
    "outputId": "a82ca076-42c4-4bb8-cf32-0302b794d6b3"
   },
   "outputs": [],
   "source": [
    "# 지역별 인구증가율과 고령인구비율 시각화\n",
    "import matplotlib.pyplot as plt\n",
    "# 인구증가율\n",
    "population_inc = [0.3, -0.78, 1.26, 0.03, 1.11, 15.17, 0.24, -0.24, -0.47, -0.77, -0.37, -0.85, -0.41, -0.27, 0.02, -0.76, 2.66]\n",
    "# 고령인구비율\n",
    "population_old = [12.27, 14.44, 11.87, 18.75, 17.52, 9.29, 16.37, 19.78, 19.51, 12.65, 14.74, 10.72, 21.94, 12.83, 15.51, 17.14, 14.42]\n",
    "\n",
    "plt.plot(population_inc,population_old,'bo')\n",
    "plt.xlabel('Population Growth Rate (%)')\n",
    "plt.ylabel('Elderly Population Rate (%)')\n",
    "plt.show()"
   ]
  },
  {
   "cell_type": "code",
   "execution_count": null,
   "metadata": {
    "colab": {
     "base_uri": "https://localhost:8080/",
     "height": 283
    },
    "colab_type": "code",
    "id": "RM75JVEDNtKq",
    "outputId": "0815d78c-ff90-4b59-b4b3-2600c43ea909"
   },
   "outputs": [],
   "source": [
    "#지역별 인구증가율과 고령인구비율 시각화: 극단치 제거\n",
    "import matplotlib.pyplot as plt\n",
    "population_inc = [0.3, -0.78, 1.26, 0.03, 1.11, 15.17, 0.24, -0.24, -0.47, -0.77, -0.37, -0.85, -0.41, -0.27, 0.02, -0.76, 2.66]\n",
    "population_inc = population_inc[:5] + population_inc[6:]\n",
    "population_old = [12.27, 14.44, 11.87, 18.75, 17.52, 9.29, 16.37, 19.78, 19.51, 12.65, 14.74, 10.72, 21.94, 12.83, 15.51, 17.14, 14.42]\n",
    "population_old = population_old[:5] + population_old[6:]\n",
    "plt.plot(population_inc,population_old,'bo')\n",
    "plt.xlabel('Population Growth Rate (%)')\n",
    "plt.ylabel('Elderly Population Rate (%)')\n",
    "plt.show()"
   ]
  },
  {
   "cell_type": "code",
   "execution_count": null,
   "metadata": {
    "colab": {
     "base_uri": "https://localhost:8080/",
     "height": 301
    },
    "colab_type": "code",
    "id": "zjA3y39YnuVf",
    "outputId": "93eb5fa0-5be4-4171-8200-aa07d7242b7f"
   },
   "outputs": [],
   "source": [
    "# 최소제곱법으로 회귀선 구하기\n",
    "import numpy as np\n",
    "import matplotlib.pyplot as plt\n",
    "X = [0.3, -0.78, 1.26, 0.03, 1.11, 0.24, -0.24, -0.47, -0.77, -0.37, -0.85, -0.41, -0.27, 0.02, -0.76, 2.66]\n",
    "Y = [12.27, 14.44, 11.87, 18.75, 17.52, 16.37, 19.78, 19.51, 12.65, 14.74, 10.72, 21.94, 12.83, 15.51, 17.14, 14.42]\n",
    "\n",
    "# X, Y의 평균을 구합니다.\n",
    "x_bar = sum(X) / len(X)\n",
    "y_bar = sum(Y) / len(Y)\n",
    "\n",
    "# 최소제곱법으로 a, b를 구합니다.\n",
    "a = sum([(y - y_bar) * (x - x_bar) for y, x in list(zip(Y, X))])\n",
    "a /= sum([(x - x_bar) ** 2 for x in X])\n",
    "b = y_bar - a * x_bar\n",
    "print('a:', a, 'b:', b)\n",
    "\n",
    "# 그래프를 그리기 위해 회귀선의 x, y 데이터를 구합니다.\n",
    "line_x = np.arange(min(X), max(X), 0.01)\n",
    "line_y = a * line_x + b\n",
    "\n",
    "# 붉은색 실선으로 회귀선을 그립니다.\n",
    "plt.plot(line_x,line_y,'r-')\n",
    "\n",
    "plt.plot(X,Y,'bo')\n",
    "plt.xlabel('Population Growth Rate (%)')\n",
    "plt.ylabel('Elderly Population Rate (%)')\n",
    "plt.show()"
   ]
  },
  {
   "cell_type": "code",
   "execution_count": null,
   "metadata": {
    "colab": {
     "base_uri": "https://localhost:8080/",
     "height": 463
    },
    "colab_type": "code",
    "id": "mnpySfdvnu2O",
    "outputId": "b6a23cee-78d0-425c-e8ac-a79a51fdbc14"
   },
   "outputs": [],
   "source": [
    "# 텐서플로를 이용해서 회귀선 구하기\n",
    "import tensorflow as tf\n",
    "import numpy as np\n",
    "import matplotlib.pyplot as plt\n",
    "import random\n",
    "X = [0.3, -0.78, 1.26, 0.03, 1.11, 0.24, -0.24, -0.47, -0.77, -0.37, -0.85, -0.41, -0.27, 0.02, -0.76, 2.66]\n",
    "Y = [12.27, 14.44, 11.87, 18.75, 17.52, 16.37, 19.78, 19.51, 12.65, 14.74, 10.72, 21.94, 12.83, 15.51, 17.14, 14.42]\n",
    "\n",
    "# a와 b를 랜덤한 값으로 초기화합니다.\n",
    "a = tf.Variable(random.random())\n",
    "b = tf.Variable(random.random())\n",
    "\n",
    "# 잔차의 제곱의 평균을 반환하는 함수입니다.\n",
    "def compute_loss():\n",
    "    y_pred = a * X + b\n",
    "    loss = tf.reduce_mean((Y - y_pred) ** 2)\n",
    "    return loss\n",
    "\n",
    "optimizer = tf.keras.optimizers.Adam(lr=0.07)\n",
    "for i in range(1000):\n",
    "    # 잔차의 제곱의 평균을 최소화(minimize)합니다.\n",
    "    optimizer.minimize(compute_loss, var_list=[a,b])\n",
    "    \n",
    "    if i % 100 == 99:\n",
    "        print(i, 'a:', a.numpy(), 'b:', b.numpy(), 'loss:', compute_loss().numpy())\n"
   ]
  },
  {
   "cell_type": "code",
   "execution_count": null,
   "metadata": {},
   "outputs": [],
   "source": [
    "line_x = np.arange(min(X), max(X), 0.01)\n",
    "line_y = a * line_x + b\n",
    "\n",
    "# 그래프를 그립니다.\n",
    "plt.plot(line_x,line_y,'r-')\n",
    "plt.plot(X,Y,'bo')\n",
    "plt.xlabel('Population Growth Rate (%)')\n",
    "plt.ylabel('Elderly Population Rate (%)')\n",
    "plt.show()"
   ]
  },
  {
   "cell_type": "markdown",
   "metadata": {
    "colab_type": "text",
    "id": "gkjyJAqnN8Zs"
   },
   "source": [
    "# 4.2 다항 회귀(Polynomial Regression)\n",
    "\n",
    "$$ ax^2 + bx + c\n",
    "$$"
   ]
  },
  {
   "cell_type": "code",
   "execution_count": null,
   "metadata": {},
   "outputs": [],
   "source": [
    "# 텐서플로우를 이용해서 2차 함수 회귀선 구하기\n",
    "import tensorflow as tf\n",
    "import numpy as np\n",
    "import matplotlib.pyplot as plt\n",
    "import random\n",
    "X = [0.3, -0.78, 1.26, 0.03, 1.11, 0.24, -0.24, -0.47, -0.77, -0.37, -0.85, -0.41, -0.27, 0.02, -0.76, 2.66]\n",
    "Y = [12.27, 14.44, 11.87, 18.75, 17.52, 16.37, 19.78, 19.51, 12.65, 14.74, 10.72, 21.94, 12.83, 15.51, 17.14, 14.42]\n",
    "\n",
    "# a, b, c를 랜덤한 값으로 초기화합니다.\n",
    "a = tf.Variable(random.random())\n",
    "b = tf.Variable(random.random())\n",
    "c = tf.Variable(random.random())"
   ]
  },
  {
   "cell_type": "code",
   "execution_count": null,
   "metadata": {},
   "outputs": [],
   "source": [
    "# 잔차의 제곱의 평균을 반환하는 함수입니다.\n",
    "def compute_loss():\n",
    "    y_pred = a * X*X + b * X + c\n",
    "    loss = tf.reduce_mean((Y - y_pred) ** 2)   # MSE\n",
    "    return loss"
   ]
  },
  {
   "cell_type": "code",
   "execution_count": null,
   "metadata": {},
   "outputs": [],
   "source": [
    "optimizer = tf.keras.optimizers.Adam(lr=0.07)\n",
    "\n",
    "for i in range(1000):  # epochs\n",
    "    # 잔차의 제곱의 평균을 최소화(minimize)합니다.\n",
    "    optimizer.minimize(compute_loss, var_list=[a,b,c])\n",
    "    \n",
    "    if i % 100 == 99:\n",
    "        print(i, 'a:', a.numpy(), 'b:', b.numpy(), 'c:', c.numpy(), 'loss:', compute_loss().numpy())"
   ]
  },
  {
   "cell_type": "code",
   "execution_count": null,
   "metadata": {
    "colab": {
     "base_uri": "https://localhost:8080/",
     "height": 463
    },
    "colab_type": "code",
    "id": "20I8mAhBOAid",
    "outputId": "27f112c3-d732-4aef-ba34-175bf0afef9d"
   },
   "outputs": [],
   "source": [
    "line_x = np.arange(min(X), max(X), 0.01)\n",
    "line_y = a * line_x * line_x + b * line_x + c\n",
    "\n",
    "# 그래프를 그립니다.\n",
    "plt.plot(line_x,line_y,'r-')\n",
    "plt.plot(X,Y,'bo')\n",
    "plt.xlabel('Population Growth Rate (%)')\n",
    "plt.ylabel('Elderly Population Rate (%)')\n",
    "plt.show()"
   ]
  },
  {
   "cell_type": "markdown",
   "metadata": {},
   "source": [
    "$$ ax^3 + bx^2 + cx + d\n",
    "$$"
   ]
  },
  {
   "cell_type": "code",
   "execution_count": null,
   "metadata": {
    "colab": {
     "base_uri": "https://localhost:8080/",
     "height": 463
    },
    "colab_type": "code",
    "id": "eEA2cg-mCBOA",
    "outputId": "8c7ebc4a-500a-4f0f-f1c2-b8a1064e3205"
   },
   "outputs": [],
   "source": [
    "# 텐서플로우를 이용해서 3차 함수 회귀선 구하기\n",
    "import tensorflow as tf\n",
    "import numpy as np\n",
    "import matplotlib.pyplot as plt\n",
    "import random\n",
    "X = [0.3, -0.78, 1.26, 0.03, 1.11, 0.24, -0.24, -0.47, -0.77, -0.37, -0.85, -0.41, -0.27, 0.02, -0.76, 2.66]\n",
    "Y = [12.27, 14.44, 11.87, 18.75, 17.52, 16.37, 19.78, 19.51, 12.65, 14.74, 10.72, 21.94, 12.83, 15.51, 17.14, 14.42]\n",
    "\n",
    "# a, b, c, d를 랜덤한 값으로 초기화합니다.\n",
    "a = tf.Variable(random.random())\n",
    "b = tf.Variable(random.random())\n",
    "c = tf.Variable(random.random())\n",
    "d = tf.Variable(random.random())\n",
    "\n",
    "# 잔차의 제곱의 평균을 반환하는 함수입니다.\n",
    "def compute_loss():\n",
    "    y_pred = a * X*X*X + b * X*X + c * X + d\n",
    "    loss = tf.reduce_mean((Y - y_pred) ** 2)\n",
    "    return loss\n",
    "\n",
    "optimizer = tf.keras.optimizers.Adam(lr=0.07)\n",
    "for i in range(1000):\n",
    "    # 잔차의 제곱의 평균을 최소화(minimize)합니다.\n",
    "    optimizer.minimize(compute_loss, var_list=[a,b,c,d])\n",
    "    \n",
    "    if i % 100 == 99:\n",
    "        print(i, 'a:', a.numpy(), 'b:', b.numpy(), 'c:', c.numpy(), 'd:', d.numpy(), 'loss:', compute_loss().numpy())\n",
    "\n",
    "line_x = np.arange(min(X), max(X), 0.01)\n",
    "line_y = a * line_x * line_x * line_x + b * line_x * line_x + c * line_x + d\n",
    "\n",
    "# 그래프를 그립니다.\n",
    "plt.plot(line_x,line_y,'r-')\n",
    "plt.plot(X,Y,'bo')\n",
    "plt.xlabel('Population Growth Rate (%)')\n",
    "plt.ylabel('Elderly Population Rate (%)')\n",
    "plt.show()"
   ]
  },
  {
   "cell_type": "markdown",
   "metadata": {
    "colab_type": "text",
    "id": "vifwuMeTOAu0"
   },
   "source": [
    "# 4.3 딥러닝 네트워크를 이용한 회귀\n",
    "\n",
    " - https://www.tensorflow.org/api_docs/python/tf/keras/activations\n",
    " - https://www.tensorflow.org/api_docs/python/tf/keras/losses"
   ]
  },
  {
   "cell_type": "code",
   "execution_count": null,
   "metadata": {
    "colab": {
     "base_uri": "https://localhost:8080/",
     "height": 233
    },
    "colab_type": "code",
    "id": "00-h5uNNOM7V",
    "outputId": "f901d014-8163-4fa3-ebb6-8e26dc0c5b12"
   },
   "outputs": [],
   "source": [
    "# 딥러닝 네트워크를 이용한 회귀\n",
    "import tensorflow as tf\n",
    "import numpy as np\n",
    "\n",
    "X = [0.3, -0.78, 1.26, 0.03, 1.11, 0.24, -0.24, -0.47, -0.77, -0.37, -0.85, -0.41, -0.27, 0.02, -0.76, 2.66]\n",
    "Y = [12.27, 14.44, 11.87, 18.75, 17.52, 16.37, 19.78, 19.51, 12.65, 14.74, 10.72, 21.94, 12.83, 15.51, 17.14, 14.42]\n",
    "\n",
    "model = tf.keras.Sequential([\n",
    "    tf.keras.layers.Dense(units=6, activation='tanh', input_shape=(1,)),     #은닉\n",
    "    tf.keras.layers.Dense(units=1)                                           #출력\n",
    "])\n",
    "\n",
    "\n",
    "# model.compile(optimizer=tf.keras.optimizers.Adam(lr=0.1), loss='mse')\n",
    "model.compile(optimizer=tf.keras.optimizers.SGD(lr=0.1), loss='mse')\n",
    "# model.compile(optimizer=tf.keras.optimizers.SGD(learning_rate=0.1), loss='mse')\n",
    "\n",
    "model.summary()"
   ]
  },
  {
   "cell_type": "code",
   "execution_count": null,
   "metadata": {
    "colab": {
     "base_uri": "https://localhost:8080/",
     "height": 395
    },
    "colab_type": "code",
    "id": "QylCvZXCJ16b",
    "outputId": "9cea4b57-272b-40d3-cd09-d2c4ffca5614"
   },
   "outputs": [],
   "source": [
    "# 딥러닝 네트워크의 학습\n",
    "model.fit(X, Y, epochs=10)"
   ]
  },
  {
   "cell_type": "code",
   "execution_count": null,
   "metadata": {
    "colab": {
     "base_uri": "https://localhost:8080/",
     "height": 305
    },
    "colab_type": "code",
    "id": "dKNRgRT-VmNo",
    "outputId": "ade404ad-a424-46bb-dff1-c8a912c0ac21"
   },
   "outputs": [],
   "source": [
    "# 딥러닝 네트워크의 Y값 예측\n",
    "model.predict(X)"
   ]
  },
  {
   "cell_type": "code",
   "execution_count": null,
   "metadata": {
    "colab": {
     "base_uri": "https://localhost:8080/",
     "height": 283
    },
    "colab_type": "code",
    "id": "3hOY981DK93b",
    "outputId": "ae1087c2-0b96-4800-b8c7-66e5a0f73d16"
   },
   "outputs": [],
   "source": [
    "# 딥러닝 네트워크의 회귀선 확인\n",
    "import matplotlib.pyplot as plt\n",
    "\n",
    "line_x = np.arange(min(X), max(X), 0.01)\n",
    "line_y = model.predict(line_x)\n",
    "\n",
    "plt.plot(line_x,line_y,'r-')\n",
    "plt.plot(X,Y,'bo')\n",
    "plt.xlabel('Population Growth Rate (%)')\n",
    "plt.ylabel('Elderly Population Rate (%)')\n",
    "plt.show()"
   ]
  },
  {
   "cell_type": "markdown",
   "metadata": {
    "colab_type": "text",
    "id": "raf-pMEBKfmn"
   },
   "source": [
    "# 4.4 보스턴 주택 가격 데이터세트(Boston Housing Dataset)"
   ]
  },
  {
   "cell_type": "code",
   "execution_count": null,
   "metadata": {
    "colab": {
     "base_uri": "https://localhost:8080/",
     "height": 89
    },
    "colab_type": "code",
    "id": "nYyev2iFKf-M",
    "outputId": "208cbd88-ed60-424e-d71c-7399faefcd5d"
   },
   "outputs": [],
   "source": [
    "# 데이터 불러오기\n",
    "from tensorflow.keras.datasets import boston_housing\n",
    "(train_X, train_Y), (test_X, test_Y) = boston_housing.load_data()\n",
    "\n",
    "print(len(train_X), len(test_X))\n",
    "print(train_X[0])\n",
    "print(train_Y[0])"
   ]
  },
  {
   "cell_type": "code",
   "execution_count": null,
   "metadata": {},
   "outputs": [],
   "source": [
    "train_X.shape"
   ]
  },
  {
   "cell_type": "code",
   "execution_count": null,
   "metadata": {
    "colab": {
     "base_uri": "https://localhost:8080/",
     "height": 89
    },
    "colab_type": "code",
    "id": "SavRNrV6oVxE",
    "outputId": "c7dce322-8f79-4fa6-f850-c1fda0cd4454"
   },
   "outputs": [],
   "source": [
    "# 데이터 전처리(정규화)\n",
    "x_mean = train_X.mean(axis=0)\n",
    "x_std = train_X.std(axis=0)\n",
    "train_X -= x_mean\n",
    "train_X /= x_std\n",
    "test_X -= x_mean\n",
    "test_X /= x_std\n",
    "\n",
    "y_mean = train_Y.mean(axis=0)\n",
    "y_std = train_Y.std(axis=0)\n",
    "train_Y -= y_mean\n",
    "train_Y /= y_std\n",
    "test_Y -= y_mean\n",
    "test_Y /= y_std\n",
    "\n",
    "print(train_X[0])\n",
    "print(train_Y[0])"
   ]
  },
  {
   "cell_type": "code",
   "execution_count": null,
   "metadata": {},
   "outputs": [],
   "source": [
    "(13+1)*52"
   ]
  },
  {
   "cell_type": "code",
   "execution_count": null,
   "metadata": {
    "colab": {
     "base_uri": "https://localhost:8080/",
     "height": 305
    },
    "colab_type": "code",
    "id": "cwSYzQG0Ych9",
    "outputId": "b801bd07-d7e7-44e7-9872-65ac97593f90"
   },
   "outputs": [],
   "source": [
    "# Boston Housing Dataset 회귀 모델 생성\n",
    "model = tf.keras.Sequential([\n",
    "    tf.keras.layers.Dense(units=52, activation='relu', input_shape=(13,)),\n",
    "    tf.keras.layers.Dense(units=39, activation='relu'),\n",
    "    tf.keras.layers.Dense(units=26, activation='relu'),\n",
    "    tf.keras.layers.Dense(units=1)\n",
    "])\n",
    "\n",
    "model.compile(optimizer=tf.keras.optimizers.Adam(lr=0.07), loss='mse')\n",
    "\n",
    "model.summary()"
   ]
  },
  {
   "cell_type": "code",
   "execution_count": null,
   "metadata": {
    "colab": {
     "base_uri": "https://localhost:8080/",
     "height": 265
    },
    "colab_type": "code",
    "id": "TnQV-j20JTgI",
    "jupyter": {
     "source_hidden": true
    },
    "outputId": "6a72133c-1dd9-4d37-acc6-048ec712ee37",
    "tags": []
   },
   "outputs": [],
   "source": [
    "# 출력 코드\n",
    "import math\n",
    "def sigmoid(x):\n",
    "    return 1 / (1 + math.exp(-x))\n",
    "\n",
    "x = np.arange(-5, 5, 0.01)\n",
    "sigmoid_x = [sigmoid(z) for z in x]\n",
    "tanh_x = [math.tanh(z) for z in x]\n",
    "relu = [0 if z < 0 else z for z in x]\n",
    "\n",
    "plt.axhline(0, color='gray')\n",
    "plt.axvline(0, color='gray')\n",
    "plt.plot(x, sigmoid_x, 'b-', label='sigmoid')\n",
    "plt.plot(x, tanh_x, 'r--', label='tanh')\n",
    "plt.plot(x, relu, 'g.', label='relu')\n",
    "plt.legend()\n",
    "plt.show()"
   ]
  },
  {
   "cell_type": "code",
   "execution_count": null,
   "metadata": {
    "colab": {
     "base_uri": "https://localhost:8080/",
     "height": 917
    },
    "colab_type": "code",
    "id": "wnXGDmwWYud1",
    "outputId": "d63b10f2-5981-442b-b130-80a636468811"
   },
   "outputs": [],
   "source": [
    "# 회귀 모델 학습\n",
    "history = model.fit(train_X, train_Y, epochs=25, batch_size=32, validation_split=0.25)"
   ]
  },
  {
   "cell_type": "code",
   "execution_count": null,
   "metadata": {},
   "outputs": [],
   "source": [
    "type(history)"
   ]
  },
  {
   "cell_type": "code",
   "execution_count": null,
   "metadata": {
    "colab": {
     "base_uri": "https://localhost:8080/",
     "height": 279
    },
    "colab_type": "code",
    "id": "oQFhYTeHmkeb",
    "outputId": "5b9902dc-a289-48c9-c781-88d0ea4470c3"
   },
   "outputs": [],
   "source": [
    "# 회귀 모델 학습 결과 시각화\n",
    "import matplotlib.pyplot as plt\n",
    "plt.plot(history.history['loss'], 'b-', label='loss')\n",
    "plt.plot(history.history['val_loss'], 'r--', label='val_loss')\n",
    "# 'accr', 'val_accr'\n",
    "plt.xlabel('Epoch')\n",
    "plt.legend()\n",
    "plt.show()"
   ]
  },
  {
   "cell_type": "code",
   "execution_count": null,
   "metadata": {
    "colab": {
     "base_uri": "https://localhost:8080/",
     "height": 53
    },
    "colab_type": "code",
    "id": "FXIL_Isaao_t",
    "outputId": "a89a1d63-d651-43e8-f225-79c43fcd880a"
   },
   "outputs": [],
   "source": [
    "# 회귀 모델 평가\n",
    "model.evaluate(test_X, test_Y)"
   ]
  },
  {
   "cell_type": "code",
   "execution_count": null,
   "metadata": {
    "colab": {
     "base_uri": "https://localhost:8080/",
     "height": 339
    },
    "colab_type": "code",
    "id": "JchlHj_HH0cb",
    "outputId": "1b266ad5-78e4-4133-ca9d-5d7267a3b83d"
   },
   "outputs": [],
   "source": [
    "# 실제 주택 가격과 예측 주택 가격 시각화\n",
    "import matplotlib.pyplot as plt\n",
    "\n",
    "pred_Y = model.predict(test_X)\n",
    "\n",
    "plt.figure(figsize=(5,5))\n",
    "plt.plot(test_Y, pred_Y, 'b.')\n",
    "plt.axis([min(test_Y), max(test_Y), min(test_Y), max(test_Y)])\n",
    "\n",
    "# y=x에 해당하는 대각선\n",
    "plt.plot([min(test_Y), max(test_Y)], [min(test_Y), max(test_Y)], ls=\"--\", c=\".3\")\n",
    "plt.xlabel('test_Y')\n",
    "plt.ylabel('pred_Y')\n",
    "\n",
    "plt.show()"
   ]
  }
 ],
 "metadata": {
  "accelerator": "GPU",
  "colab": {
   "collapsed_sections": [],
   "name": "Chapter4.ipynb",
   "provenance": [],
   "toc_visible": true
  },
  "kernelspec": {
   "display_name": "Python 3 (ipykernel)",
   "language": "python",
   "name": "python3"
  },
  "language_info": {
   "codemirror_mode": {
    "name": "ipython",
    "version": 3
   },
   "file_extension": ".py",
   "mimetype": "text/x-python",
   "name": "python",
   "nbconvert_exporter": "python",
   "pygments_lexer": "ipython3",
   "version": "3.10.3"
  }
 },
 "nbformat": 4,
 "nbformat_minor": 4
}
