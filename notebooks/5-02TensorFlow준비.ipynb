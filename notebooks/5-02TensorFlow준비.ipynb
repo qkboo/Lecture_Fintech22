{
 "cells": [
  {
   "cell_type": "markdown",
   "metadata": {},
   "source": [
    "`교안tf2-00개발환경과TF준비설치.pdf` "
   ]
  },
  {
   "cell_type": "markdown",
   "metadata": {},
   "source": [
    "1. Tensorflow 설치\n",
    "2. Tensorflow GPU 설치"
   ]
  },
  {
   "cell_type": "markdown",
   "metadata": {},
   "source": [
    "# 1. Tensorflow 설치\n",
    "\n",
    "텐서플로우는 대규모 수치 계산 라이브러리로 텐서는 다차원 행렬 계산을 의미한다. 딥러닝의 특징데로 계산식을 만들고 데이터를 넣어 실행하는 구조를 가지고 있다.\n",
    "\n",
    "다차원 행렬 계산 라이브러리로서 영상처리 라이브러리도 제공하고, OpenCV 라이브러리와 함게 사용된다.\n"
   ]
  },
  {
   "cell_type": "markdown",
   "metadata": {},
   "source": [
    "### TensorFlow 설치하기\n",
    "\n",
    "> https://www.tensorflow.org/install/pip.html\n",
    "\n",
    "64-bit systems 을 권장한다.\n",
    "\n",
    "- Python 3.6~3.9\n",
    "    - Python 3.9 지원에는 TensorFlow 2.5 이상이 필요합니다.\n",
    "    - Python 3.8 지원에는 TensorFlow 2.2 이상이 필요합니다.\n",
    "    - pip 19.0 이상(manylinux2010 지원 필요)\n",
    "- Ubuntu 16.04 or later (64bit)\n",
    "- Windows 7 or later\n",
    "- macOS 10.12.6 (Sierra) or later (no GPU support)\n",
    "     - macOS에는 pip 20.3 이상이 필요합니다.\n",
    "- Raspbian 9.0 or later\n",
    "- GPU 지원에는 CUDA® 지원 카드 필요(Ubuntu 및 Windows)"
   ]
  },
  {
   "cell_type": "markdown",
   "metadata": {},
   "source": [
    "### pip 에서 설치\n",
    "\n",
    "```sh\n",
    "pip install --upgrade pip\n",
    "\n",
    "pip install tensorflow\n",
    "\n",
    "pip install keras --upgrade\n",
    "```\n",
    "\n"
   ]
  },
  {
   "cell_type": "markdown",
   "metadata": {},
   "source": [
    "\n",
    "### conda 로  설치\n",
    "\n",
    "Anaconda 설치가 완료되면 conda 명령으로 TensorFlow를 설치한다.\n",
    "\n",
    "가상환경에 텐서플로우 설치\n",
    "\n",
    "```sh\n",
    "conda install -c conda-forge tensorflow\n",
    "conda install -c conda-forge keras\n",
    "```\n",
    "\n",
    "가상환경과 함게 설치\n",
    "\n",
    "```sh\n",
    "conda create -n tf2 tensorflow keras\n",
    "conda activate tf2\n",
    "```\n"
   ]
  },
  {
   "cell_type": "markdown",
   "metadata": {},
   "source": [
    "#### macOS \n",
    "\n",
    "> macOS 경우 conda 환경에서 python3.9 의 tensorflow 가 지원 안되고 있다. (2021/09)"
   ]
  },
  {
   "cell_type": "markdown",
   "metadata": {},
   "source": [
    "### 텐서플로우 확인"
   ]
  },
  {
   "cell_type": "code",
   "execution_count": 1,
   "metadata": {},
   "outputs": [
    {
     "name": "stdout",
     "output_type": "stream",
     "text": [
      "2.7.0 1.21.4\n"
     ]
    }
   ],
   "source": [
    "# 텐서플로 2 버전 선택\n",
    "try:\n",
    "    # %tensorflow_version only exists in Colab.\n",
    "    %tensorflow_version 2.x\n",
    "except Exception:\n",
    "    pass\n",
    "import tensorflow as tf\n",
    "import numpy as np\n",
    "\n",
    "print(tf.__version__, np.__version__)"
   ]
  },
  {
   "cell_type": "markdown",
   "metadata": {},
   "source": [
    "# 2. Tensorflow GPU 설치\n",
    "\n",
    "https://www.tensorflow.org/install/gpu\n",
    "\n",
    "1. NVIDIA 소프트웨어 호환 버전 확인\n",
    "- https://www.tensorflow.org/install/source_windows#tested_build_configurations\n",
    "\n",
    "2. CUDA Toolkit 과 그래픽 드라이버\n",
    "\n",
    "CUDA toolkit Release note: https://docs.nvidia.com/cuda/cuda-toolkit-release-notes/index.html 의 Table 3에 있는 CUDA Toolkit과 드라이버 버전을 확인해야 한다.\n",
    "\n",
    "\n",
    "설치한 tensorflow 에 따라 다운로드 한다.\n"
   ]
  },
  {
   "cell_type": "markdown",
   "metadata": {},
   "source": [
    "#### NVIDIA Graphics driver\n",
    "\n",
    "2 종류 드라이버 제공.\n",
    "\n",
    "1. 게임 환경에 특화된 게임 레디(Game Ready) 드라이버(GRD)\n",
    "1. 영상 편집 및 그래픽 작업 효율을 끌어올린 스튜디오(Studio) 드라이버(SD)\n",
    "\n",
    "> 이슈: SD드라이버 설치하지 말자 - https://m.blog.naver.com/heraeka/221984564153\n",
    "\n",
    "다음 방법으로 설치.\n",
    "\n",
    "- Geforce Experience 에서 업데이트\n",
    "- https://www.nvidia.com/en-us/geforce/drivers/\n",
    "\n"
   ]
  },
  {
   "cell_type": "markdown",
   "metadata": {},
   "source": [
    "#### pip 를 통해 설치. (리눅스)\n",
    "\n",
    "```\n",
    "(tf25gpu_p39)qkboo@desktop-goyangi:~$ pip install tensorflow==2.6 tensorflow-gpu\n",
    "Collecting tensorflow==2.6\n",
    "  Downloading tensorflow-2.6.0-cp39-cp39-manylinux2010_x86_64.whl (458.4 MB)\n",
    "     |████████████████████████████████| 458.4 MB 9.4 MB/s\n",
    "Collecting tensorflow-gpu\n",
    "  Downloading tensorflow_gpu-2.7.0-cp39-cp39-manylinux2010_x86_64.whl (489.7 MB)\n",
    "     |███████████████████▎            | 294.6 MB 43.5 MB/s eta 0:00:05\n",
    "```"
   ]
  },
  {
   "attachments": {
    "ae97d646-96f5-49e0-ae7c-909877e0815f.png": {
     "image/png": "[encoded data removed]"
    }
   },
   "cell_type": "markdown",
   "metadata": {},
   "source": [
    "### GPU\n",
    "\n",
    "![image.png](attachment:ae97d646-96f5-49e0-ae7c-909877e0815f.png)\n",
    "\n",
    "https://www.tensorflow.org/guide/gpu?hl=ko"
   ]
  },
  {
   "cell_type": "code",
   "execution_count": 3,
   "metadata": {},
   "outputs": [
    {
     "data": {
      "text/plain": [
       "[PhysicalDevice(name='/physical_device:GPU:0', device_type='GPU')]"
      ]
     },
     "execution_count": 3,
     "metadata": {},
     "output_type": "execute_result"
    }
   ],
   "source": [
    "tf.config.list_physical_devices('GPU')"
   ]
  },
  {
   "cell_type": "markdown",
   "metadata": {},
   "source": [
    "#### cuDNN 설치 안된 경우\n",
    "\n",
    "![](https://i.imgur.com/SVMw78z.png)"
   ]
  },
  {
   "cell_type": "code",
   "execution_count": null,
   "metadata": {},
   "outputs": [],
   "source": []
  },
  {
   "cell_type": "markdown",
   "metadata": {},
   "source": [
    "### Windows 10 / Tensorflow:RNN 패키지 NumPy 의존성 문제.\n",
    "\n",
    "Anaconda/Miniconda 기반의 바이너리 배포본의 경우\n",
    " - Tensorflow 2.5/2.6 -> NumPy 1.21 의존성\n",
    " - Tensorflow/RNN 패키지에 NumPy 1.18, 1.19 의 함수 로 다음 에러\n",
    " \n",
    "![](https://i.imgur.com/TQ546Eg.png)\n",
    "\n",
    " - Colab도 Tensorflow 2.7 + NumPy 1.19.5 사용\n"
   ]
  },
  {
   "cell_type": "markdown",
   "metadata": {},
   "source": [
    "### 해결1: 소스 수정\n",
    "\n",
    "윈도우: conda로 NumPy 1.19 기반으로 Tensorflow 2.5 이상 설치는 쉽지 않다\n",
    "- 소스 수정: https://github.com/tensorflow/models/issues/9706\n",
    "\n",
    "에러난 np.prod() 를 tensorflow 함수로 대체하거나 최신 numpy 함수로 대체하면 된다.\n",
    "\n",
    "![](https://i.imgur.com/EHWJ5DD.png)"
   ]
  },
  {
   "cell_type": "markdown",
   "metadata": {},
   "source": [
    "```Python\n",
    "# import \n",
    "from tensorflow.python.ops.math_ops import reduce_prod\n",
    "\n",
    "# 2896 라인: \n",
    "if reduce_prod(shape) < 1000:\n",
    "```"
   ]
  },
  {
   "cell_type": "markdown",
   "metadata": {},
   "source": [
    "### 해결2: 최신 Tensorflow > 2.5 과 NumPy 설치 가능하면,\n",
    "\n",
    "```\n",
    "conda install numpy=1.19.5 -c conda-forge\n",
    "```\n",
    "\n",
    "혹은 새 가상환경\n",
    "\n",
    "```\n",
    "> conda create -n Lec11_AI2 tensorflow numpy=1.19\n",
    "```"
   ]
  },
  {
   "cell_type": "code",
   "execution_count": null,
   "metadata": {},
   "outputs": [],
   "source": []
  },
  {
   "cell_type": "code",
   "execution_count": null,
   "metadata": {},
   "outputs": [],
   "source": []
  },
  {
   "cell_type": "markdown",
   "metadata": {
    "tags": []
   },
   "source": [
    "### RNN 테스트 코드\n",
    " - tensorflow 2.9.1,      numpy 1.22.4\n",
    " - tensorflow 2.6, 2.6, numpy 1.19"
   ]
  },
  {
   "cell_type": "code",
   "execution_count": 1,
   "metadata": {},
   "outputs": [
    {
     "name": "stdout",
     "output_type": "stream",
     "text": [
      "2.9.1 1.22.4\n"
     ]
    }
   ],
   "source": [
    "try:\n",
    "    # %tensorflow_version only exists in Colab.\n",
    "    %tensorflow_version 2.x\n",
    "except Exception:\n",
    "    pass\n",
    "\n",
    "import tensorflow as tf\n",
    "import numpy as np\n",
    "\n",
    "print(tf.__version__, np.__version__)\n"
   ]
  },
  {
   "cell_type": "markdown",
   "metadata": {},
   "source": [
    "다음 RNN 코드가 정상 수행시 성공!"
   ]
  },
  {
   "cell_type": "code",
   "execution_count": 2,
   "metadata": {
    "tags": []
   },
   "outputs": [
    {
     "name": "stderr",
     "output_type": "stream",
     "text": [
      "2022-07-19 14:16:47.436811: I tensorflow/stream_executor/cuda/cuda_gpu_executor.cc:961] could not open file to read NUMA node: /sys/bus/pci/devices/0000:09:00.0/numa_node\n",
      "Your kernel may have been built without NUMA support.\n",
      "2022-07-19 14:16:47.517315: I tensorflow/stream_executor/cuda/cuda_gpu_executor.cc:961] could not open file to read NUMA node: /sys/bus/pci/devices/0000:09:00.0/numa_node\n",
      "Your kernel may have been built without NUMA support.\n",
      "2022-07-19 14:16:47.517833: I tensorflow/stream_executor/cuda/cuda_gpu_executor.cc:961] could not open file to read NUMA node: /sys/bus/pci/devices/0000:09:00.0/numa_node\n",
      "Your kernel may have been built without NUMA support.\n",
      "2022-07-19 14:16:47.519294: I tensorflow/core/platform/cpu_feature_guard.cc:193] This TensorFlow binary is optimized with oneAPI Deep Neural Network Library (oneDNN) to use the following CPU instructions in performance-critical operations:  AVX2 FMA\n",
      "To enable them in other operations, rebuild TensorFlow with the appropriate compiler flags.\n",
      "2022-07-19 14:16:47.521888: I tensorflow/stream_executor/cuda/cuda_gpu_executor.cc:961] could not open file to read NUMA node: /sys/bus/pci/devices/0000:09:00.0/numa_node\n",
      "Your kernel may have been built without NUMA support.\n",
      "2022-07-19 14:16:47.522315: I tensorflow/stream_executor/cuda/cuda_gpu_executor.cc:961] could not open file to read NUMA node: /sys/bus/pci/devices/0000:09:00.0/numa_node\n",
      "Your kernel may have been built without NUMA support.\n",
      "2022-07-19 14:16:47.522840: I tensorflow/stream_executor/cuda/cuda_gpu_executor.cc:961] could not open file to read NUMA node: /sys/bus/pci/devices/0000:09:00.0/numa_node\n",
      "Your kernel may have been built without NUMA support.\n",
      "2022-07-19 14:16:48.400633: I tensorflow/stream_executor/cuda/cuda_gpu_executor.cc:961] could not open file to read NUMA node: /sys/bus/pci/devices/0000:09:00.0/numa_node\n",
      "Your kernel may have been built without NUMA support.\n",
      "2022-07-19 14:16:48.401018: I tensorflow/stream_executor/cuda/cuda_gpu_executor.cc:961] could not open file to read NUMA node: /sys/bus/pci/devices/0000:09:00.0/numa_node\n",
      "Your kernel may have been built without NUMA support.\n",
      "2022-07-19 14:16:48.401030: I tensorflow/core/common_runtime/gpu/gpu_device.cc:1616] Could not identify NUMA node of platform GPU id 0, defaulting to 0.  Your kernel may not have been built with NUMA support.\n",
      "2022-07-19 14:16:48.401398: I tensorflow/stream_executor/cuda/cuda_gpu_executor.cc:961] could not open file to read NUMA node: /sys/bus/pci/devices/0000:09:00.0/numa_node\n",
      "Your kernel may have been built without NUMA support.\n",
      "2022-07-19 14:16:48.401439: I tensorflow/core/common_runtime/gpu/gpu_device.cc:1532] Created device /job:localhost/replica:0/task:0/device:GPU:0 with 9398 MB memory:  -> device: 0, name: NVIDIA GeForce RTX 3080 Ti, pci bus id: 0000:09:00.0, compute capability: 8.6\n"
     ]
    },
    {
     "name": "stdout",
     "output_type": "stream",
     "text": [
      "Model: \"sequential\"\n",
      "_________________________________________________________________\n",
      " Layer (type)                Output Shape              Param #   \n",
      "=================================================================\n",
      " simple_rnn (SimpleRNN)      (None, 10)                120       \n",
      "                                                                 \n",
      " dense (Dense)               (None, 1)                 11        \n",
      "                                                                 \n",
      "=================================================================\n",
      "Total params: 131\n",
      "Trainable params: 131\n",
      "Non-trainable params: 0\n",
      "_________________________________________________________________\n"
     ]
    }
   ],
   "source": [
    "# tensorflow 2.9.1,      numpy 1.22.4\n",
    "# tensorflow 2.6, 2.6,  numpy 1.19\n",
    "# 시퀀스 예측 모델 정의\n",
    "model = tf.keras.Sequential([\n",
    "    tf.keras.layers.SimpleRNN(units=10, return_sequences=False, input_shape=[4,1]),\n",
    "    tf.keras.layers.Dense(1)\n",
    "])\n",
    "\n",
    "model.compile(optimizer='adam', loss='mse')\n",
    "model.summary()"
   ]
  },
  {
   "cell_type": "markdown",
   "metadata": {},
   "source": [
    "# 메모리 확장"
   ]
  },
  {
   "cell_type": "code",
   "execution_count": 1,
   "metadata": {},
   "outputs": [
    {
     "ename": "NameError",
     "evalue": "name 'tf' is not defined",
     "output_type": "error",
     "traceback": [
      "\u001b[0;31m---------------------------------------------------------------------------\u001b[0m",
      "\u001b[0;31mNameError\u001b[0m                                 Traceback (most recent call last)",
      "\u001b[0;32m/tmp/ipykernel_10284/3032901662.py\u001b[0m in \u001b[0;36m<module>\u001b[0;34m\u001b[0m\n\u001b[1;32m      1\u001b[0m \u001b[0;31m#1:\u001b[0m\u001b[0;34m\u001b[0m\u001b[0;34m\u001b[0m\u001b[0m\n\u001b[0;32m----> 2\u001b[0;31m \u001b[0mgpus\u001b[0m \u001b[0;34m=\u001b[0m \u001b[0mtf\u001b[0m\u001b[0;34m.\u001b[0m\u001b[0mconfig\u001b[0m\u001b[0;34m.\u001b[0m\u001b[0mexperimental\u001b[0m\u001b[0;34m.\u001b[0m\u001b[0mlist_physical_devices\u001b[0m\u001b[0;34m(\u001b[0m\u001b[0;34m'GPU'\u001b[0m\u001b[0;34m)\u001b[0m\u001b[0;34m\u001b[0m\u001b[0;34m\u001b[0m\u001b[0m\n\u001b[0m\u001b[1;32m      3\u001b[0m \u001b[0mtf\u001b[0m\u001b[0;34m.\u001b[0m\u001b[0mconfig\u001b[0m\u001b[0;34m.\u001b[0m\u001b[0mexperimental\u001b[0m\u001b[0;34m.\u001b[0m\u001b[0mset_memory_growth\u001b[0m\u001b[0;34m(\u001b[0m\u001b[0mgpus\u001b[0m\u001b[0;34m[\u001b[0m\u001b[0;36m0\u001b[0m\u001b[0;34m]\u001b[0m\u001b[0;34m,\u001b[0m \u001b[0;32mTrue\u001b[0m\u001b[0;34m)\u001b[0m\u001b[0;34m\u001b[0m\u001b[0;34m\u001b[0m\u001b[0m\n",
      "\u001b[0;31mNameError\u001b[0m: name 'tf' is not defined"
     ]
    }
   ],
   "source": [
    "#1: \n",
    "gpus = tf.config.experimental.list_physical_devices('GPU')\n",
    "tf.config.experimental.set_memory_growth(gpus[0], True)"
   ]
  }
 ],
 "metadata": {
  "kernelspec": {
   "display_name": "Python 3 (ipykernel)",
   "language": "python",
   "name": "python3"
  },
  "language_info": {
   "codemirror_mode": {
    "name": "ipython",
    "version": 3
   },
   "file_extension": ".py",
   "mimetype": "text/x-python",
   "name": "python",
   "nbconvert_exporter": "python",
   "pygments_lexer": "ipython3",
   "version": "3.10.5"
  }
 },
 "nbformat": 4,
 "nbformat_minor": 4
}
