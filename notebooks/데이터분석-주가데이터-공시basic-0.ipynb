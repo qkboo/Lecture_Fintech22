{
 "cells": [
  {
   "cell_type": "code",
   "execution_count": null,
   "id": "5593cd49-2aad-48e4-af79-0759b868169f",
   "metadata": {},
   "outputs": [],
   "source": []
  },
  {
   "cell_type": "code",
   "execution_count": null,
   "id": "94fb3917-1314-4332-b773-5415780d1606",
   "metadata": {},
   "outputs": [],
   "source": []
  },
  {
   "cell_type": "markdown",
   "id": "3c17bc41-ee9c-40c7-b367-04bd89dd0fb0",
   "metadata": {
    "id": "xxL7u94xBWtY",
    "tags": []
   },
   "source": [
    "### 코랩: 한글 폰트 설치"
   ]
  },
  {
   "cell_type": "markdown",
   "id": "409e67c3-363a-4b74-bc70-c0639e20fbd9",
   "metadata": {
    "colab": {
     "base_uri": "https://localhost:8080/"
    },
    "id": "s2FJvPltgmrh",
    "outputId": "f3935ecc-73c1-492c-dbd3-8ede4eb9921f"
   },
   "source": [
    "1. 한글 폰트 설치\n",
    "\n",
    "```sh\n",
    "#폰트 설치\n",
    "! apt install fonts-nanum*\n",
    "```\n",
    "\n",
    "```sh\n",
    "! apt install fontconfig\n",
    "```\n",
    "\n",
    "2. 폰트 캐시 생성\n",
    "\n",
    "```sh\n",
    "#폰트 캐시 생성\n",
    "!fc-cache -fv\n",
    "```\n",
    "\n",
    "3. matplotlib에 남아있는 font 캐시 삭제\n",
    "\n",
    "```sh\n",
    "# matplotlib에 남아있는 font 캐시 삭제\n",
    "!rm -rf ~/.cache/matplotlib/*\n",
    "```\n",
    "\n",
    "4. Runtime 재실행\n",
    "\n",
    "5. matplotlib 에서 Nanum 한글 폰트 검색 확인\n",
    "\n",
    "```python\n",
    "import matplotlib.pyplot as plt\n",
    "import matplotlib.font_manager as fm\n",
    "\n",
    "# 폰트 목록에서 폰트 찾기\n",
    "for font in fm.fontManager.ttflist:\n",
    "    if 'Nanum' in font.name:\n",
    "        print(font.name, font.fname)\n",
    "```"
   ]
  },
  {
   "cell_type": "code",
   "execution_count": null,
   "id": "ab71d719-cd8c-4868-a090-3a18a315971e",
   "metadata": {},
   "outputs": [],
   "source": []
  },
  {
   "cell_type": "code",
   "execution_count": 1,
   "id": "handy-spirit",
   "metadata": {},
   "outputs": [],
   "source": [
    "#-*- coding: utf-8 -*-\n",
    "%matplotlib inline\n",
    "\n",
    "import numpy as np\n",
    "import pandas as pd\n",
    "\n",
    "import matplotlib.pyplot as plt"
   ]
  },
  {
   "cell_type": "markdown",
   "id": "9083da27-c251-43a9-8db7-c6f83ea93bc1",
   "metadata": {},
   "source": [
    "# FSS - OpenDartReader\n",
    "\n",
    "금융감독원 전자공시 시스템\n",
    "\n",
    "<img src='https://i.imgur.com/Z1wGQ38.png'>"
   ]
  },
  {
   "cell_type": "markdown",
   "id": "843a085e-02dd-4d87-b152-e855cd514952",
   "metadata": {},
   "source": [
    "1. [사업보고서 조회](#사업보고서-조회)\n",
    "2. [DPS/EPS/배당수익율/배당총액 조회](#DPS,EPS,배당수익율,배당총액-조회)"
   ]
  },
  {
   "cell_type": "markdown",
   "id": "ac728d6c-7ddb-4baa-9c51-928f945afc2b",
   "metadata": {},
   "source": [
    "## OpenDart API\n",
    "\n",
    "금융감독원 전자공시를 오픈에이피아이  \"Open DART\" API를 손쉽게 사용하게 해준다.\n",
    " - https://github.com/FinanceData/OpenDartReader\n",
    "\n",
    "특징\n",
    " - Open DART API는 고유 기업코드로 조회 -> 종목코드로 조회토록 제공\n",
    " - 수신 데이터를 데이터프레임으로 제공\n",
    " \n",
    "사용:\n",
    " - OpenDartrbader 설치\n",
    " - FSS Open Dart API kea 신청\n"
   ]
  },
  {
   "cell_type": "markdown",
   "id": "0d08fa63-1875-4681-8d48-587f652b180e",
   "metadata": {},
   "source": [
    "### opendart api key 발급\n",
    "\n",
    "https://opendart.fss.or.kr/ 에서 이메일 사용자 가입으로 API KEY 발급\n",
    "\n",
    " - ***분당 1000회 이상 데이터를 가져오면 24시간 동안 IP 차단***"
   ]
  },
  {
   "cell_type": "markdown",
   "id": "7625a189-30b4-4d2f-a03b-a29729e37e33",
   "metadata": {},
   "source": [
    "\n",
    "https://opendart.fss.or.kr  로그인\n",
    "\n",
    "<img src='https://i.imgur.com/ITkDsmo.png'>"
   ]
  },
  {
   "cell_type": "markdown",
   "id": "dc6192df-af81-4a37-a059-981f4347ff2f",
   "metadata": {},
   "source": [
    "#### 인증키 확인\n",
    "\n",
    "<img src='https://i.imgur.com/cI4ykNg.png'>"
   ]
  },
  {
   "cell_type": "markdown",
   "id": "elegant-brooklyn",
   "metadata": {},
   "source": [
    "### OpenDartReader 설치\n",
    "\n",
    "```\n",
    "pip install opendartreader\n",
    "```\n",
    "\n",
    "이미 설치되어 있고 업그레이드가 필요하다면 다음과 같이 설치합니다.\n",
    "\n",
    "```\n",
    "pip install --upgrade opendartreader \n",
    "```\n"
   ]
  },
  {
   "cell_type": "code",
   "execution_count": 2,
   "id": "7889723d-cd8e-4852-9687-87ce8796b3e9",
   "metadata": {},
   "outputs": [
    {
     "name": "stdout",
     "output_type": "stream",
     "text": [
      "Collecting opendartreader\n",
      "  Downloading OpenDartReader-0.1.6-py3-none-any.whl (19 kB)\n",
      "Collecting lxml\n",
      "  Using cached lxml-4.9.1-cp310-cp310-macosx_11_0_x86_64.whl\n",
      "Requirement already satisfied: requests>=2.3.0 in /Users/qkboo/.venv/Fintech_2/lib/python3.10/site-packages (from opendartreader) (2.28.1)\n",
      "Collecting requests-file\n",
      "  Using cached requests_file-1.5.1-py2.py3-none-any.whl (3.7 kB)\n",
      "Requirement already satisfied: pandas>=0.19.2 in /Users/qkboo/.venv/Fintech_2/lib/python3.10/site-packages (from opendartreader) (1.5.0)\n",
      "Requirement already satisfied: numpy>=1.21.0 in /Users/qkboo/.venv/Fintech_2/lib/python3.10/site-packages (from pandas>=0.19.2->opendartreader) (1.23.3)\n",
      "Requirement already satisfied: pytz>=2020.1 in /Users/qkboo/.venv/Fintech_2/lib/python3.10/site-packages (from pandas>=0.19.2->opendartreader) (2022.4)\n",
      "Requirement already satisfied: python-dateutil>=2.8.1 in /Users/qkboo/.venv/Fintech_2/lib/python3.10/site-packages (from pandas>=0.19.2->opendartreader) (2.8.2)\n",
      "Requirement already satisfied: idna<4,>=2.5 in /Users/qkboo/.venv/Fintech_2/lib/python3.10/site-packages (from requests>=2.3.0->opendartreader) (3.4)\n",
      "Requirement already satisfied: certifi>=2017.4.17 in /Users/qkboo/.venv/Fintech_2/lib/python3.10/site-packages (from requests>=2.3.0->opendartreader) (2022.9.24)\n",
      "Requirement already satisfied: charset-normalizer<3,>=2 in /Users/qkboo/.venv/Fintech_2/lib/python3.10/site-packages (from requests>=2.3.0->opendartreader) (2.1.1)\n",
      "Requirement already satisfied: urllib3<1.27,>=1.21.1 in /Users/qkboo/.venv/Fintech_2/lib/python3.10/site-packages (from requests>=2.3.0->opendartreader) (1.26.12)\n",
      "Requirement already satisfied: six in /Users/qkboo/.venv/Fintech_2/lib/python3.10/site-packages (from requests-file->opendartreader) (1.16.0)\n",
      "Installing collected packages: lxml, requests-file, opendartreader\n",
      "Successfully installed lxml-4.9.1 opendartreader-0.1.6 requests-file-1.5.1\n",
      "\n",
      "\u001b[1m[\u001b[0m\u001b[34;49mnotice\u001b[0m\u001b[1;39;49m]\u001b[0m\u001b[39;49m A new release of pip available: \u001b[0m\u001b[31;49m22.2.1\u001b[0m\u001b[39;49m -> \u001b[0m\u001b[32;49m22.2.2\u001b[0m\n",
      "\u001b[1m[\u001b[0m\u001b[34;49mnotice\u001b[0m\u001b[1;39;49m]\u001b[0m\u001b[39;49m To update, run: \u001b[0m\u001b[32;49mpip install --upgrade pip\u001b[0m\n"
     ]
    }
   ],
   "source": [
    "!pip install -U opendartreader"
   ]
  },
  {
   "cell_type": "markdown",
   "id": "dominican-frank",
   "metadata": {},
   "source": [
    "# 사업보고서 조회\n",
    "\n",
    "단일회사/다중회사 주요 계정, 재무재표 원본파일(XBBL), \n",
    "- https://opendart.fss.or.kr/guide/main.do?apiGrpCd=DS003\n",
    "\n"
   ]
  },
  {
   "cell_type": "markdown",
   "id": "rocky-preparation",
   "metadata": {},
   "source": [
    "단일회사 주요 계정\n",
    " - https://nbviewer.jupyter.org/github/FinanceData/OpenDartReader/blob/master/docs/OpenDartReader_reference_manual.ipynb#finstate()---%EC%9E%AC%EB%AC%B4-%EC%A0%95%EB%B3%B4\n",
    "\n",
    "```python\n",
    "dart.finstate(corp, bsns_year, reprt_code='11011')\n",
    "```"
   ]
  },
  {
   "cell_type": "markdown",
   "id": "given-wesley",
   "metadata": {},
   "source": [
    "단일회사 전체 재무제표: instate_all() - 단일회사 전체 재무제표\n",
    " - https://nbviewer.org/github/FinanceData/OpenDartReader/blob/master/docs/OpenDartReader_reference_manual.ipynb#finstate_all()---%EB%8B%A8%EC%9D%BC%ED%9A%8C%EC%82%AC-%EC%A0%84%EC%B2%B4-%EC%9E%AC%EB%AC%B4%EC%A0%9C%ED%91%9C\n",
    "\n",
    "```python\n",
    "dart.finstate_all(corp, bsns_year, reprt_code='11011', fs_div='CFS')\n",
    "```"
   ]
  },
  {
   "cell_type": "code",
   "execution_count": null,
   "id": "abstract-running",
   "metadata": {},
   "outputs": [],
   "source": [
    "import OpenDartReader\n",
    "import pandas as pd\n",
    "\n",
    "_apikey = 'API키 입력'\n",
    "dart = OpenDartReader(_apikey)"
   ]
  },
  {
   "cell_type": "markdown",
   "id": "collective-shareware",
   "metadata": {},
   "source": [
    "# 공시정보 조회"
   ]
  },
  {
   "cell_type": "code",
   "execution_count": null,
   "id": "exterior-amplifier",
   "metadata": {},
   "outputs": [],
   "source": [
    "# 기업의 개황정보\n",
    "dart.company('005930')"
   ]
  },
  {
   "cell_type": "code",
   "execution_count": null,
   "id": "settled-proportion",
   "metadata": {},
   "outputs": [],
   "source": [
    "# 회사명에 삼성전자가 포함된 회사들에 대한 개황정보\n",
    "dart.company_by_name('삼성전자')"
   ]
  },
  {
   "cell_type": "code",
   "execution_count": null,
   "id": "naval-illinois",
   "metadata": {
    "scrolled": true,
    "tags": []
   },
   "outputs": [],
   "source": [
    "# 삼성전자 해당 일자 공시 목록 (날짜에 다양한 포맷이 가능합니다)\n",
    "dart.list('005930', end='2021-12-30')"
   ]
  },
  {
   "cell_type": "markdown",
   "id": "allied-transparency",
   "metadata": {},
   "source": [
    "```python\n",
    "# 삼성전자 상장이후 모든 공시 목록 (5,142 건+)\n",
    "dart.list('005930', start='1900') \n",
    "```"
   ]
  },
  {
   "cell_type": "code",
   "execution_count": null,
   "id": "reduced-motel",
   "metadata": {},
   "outputs": [],
   "source": [
    "# 삼성전자 2021-01-01~2021-03-10 모든 공시 목록 (37 건)\n",
    "dart.list('005930', start='2021-01-01', end='2021-03-10') "
   ]
  },
  {
   "cell_type": "markdown",
   "id": "convenient-tuesday",
   "metadata": {},
   "source": [
    "```python\n",
    "# 삼성전자 1999-01-01 이후 모든 정기보고서\n",
    "dart.list('005930', start='1999-01-01', kind='A', final=False)\n",
    "\n",
    "# 삼성전자 1999년~2019년 모든 정기보고서(최종보고서)\n",
    "dart.list('005930', start='1999-01-01', end='2019-12-31', kind='A') \n",
    "\n",
    "\n",
    "# 2020-07-01 하루동안 모든 공시목록\n",
    "dart.list(end='20200701')\n",
    "\n",
    "# 2020-01-01 ~ 2020-01-10 모든 회사의 모든 공시목록 (4,209 건)\n",
    "dart.list(start='2020-01-01', end='2020-01-10')\n",
    "\n",
    "# 2020-01-01 ~ 2020-01-10 모든 회사의 모든 공시목록 (정정된 공시포함) (4,876 건)\n",
    "dart.list(start='2020-01-01', end='2020-01-10', final=False)\n",
    "\n",
    "# 2020-07-01 부터 현재까지 모든 회사의 정기보고서\n",
    "dart.list(start='2020-07-01', kind='A')\n",
    "\n",
    "# 2019-01-01 ~ 2019-03-31 모든 회사의 정기보고서 (961건)\n",
    "dart.list(start='20190101', end='20190331', kind='A')\n",
    "```\n"
   ]
  },
  {
   "cell_type": "markdown",
   "id": "supposed-enlargement",
   "metadata": {},
   "source": [
    "### 지분관련"
   ]
  },
  {
   "cell_type": "code",
   "execution_count": null,
   "id": "fluid-charleston",
   "metadata": {},
   "outputs": [],
   "source": [
    "# ==== 4. 지분공시 ====\n",
    "# 대량보유 상황보고 (종목코드, 종목명, 고유번호 모두 지정 가능)\n",
    "dart.major_shareholders('삼성전자')\n",
    "\n",
    "# 임원ㆍ주요주주 소유보고 (종목코드, 종목명, 고유번호 모두 지정 가능)\n",
    "dart.major_shareholders_exec('005930')"
   ]
  },
  {
   "cell_type": "markdown",
   "id": "laughing-listening",
   "metadata": {},
   "source": [
    "# 사업보고서 조회\n",
    "\n",
    "사업보고서 정보를 조회하는 report() 사용\n",
    "\n",
    " - [dart.report()](https://nbviewer.jupyter.org/github/FinanceData/OpenDartReader/blob/master/docs/OpenDartReader_users_guide.ipynb#2.-%EC%82%AC%EC%97%85%EB%B3%B4%EA%B3%A0%EC%84%9C)\n",
    "\n",
    "```pythan\n",
    "dart.report(corp, key_word, bsns_year, reprt_code='11011')\n",
    "```"
   ]
  },
  {
   "cell_type": "markdown",
   "id": "acute-words",
   "metadata": {},
   "source": [
    "## 사업보고서 주요정보\n",
    "\n",
    "report 로  정보를 조회\n",
    " - key_word: '증자', '배당', '자기주식', '최대주주', '최대주주변동', '소액주주', '임원', '직원', '임원개인보수', '임원전체보수', '개인별보수', '타법인출자' "
   ]
  },
  {
   "cell_type": "code",
   "execution_count": null,
   "id": "chinese-polymer",
   "metadata": {},
   "outputs": [],
   "source": [
    "# 삼성전자 2020년 배당관련 조회\n",
    "df = dart.report(corp='005930', key_word='배당', bsns_year=2020)\n",
    "df"
   ]
  },
  {
   "cell_type": "code",
   "execution_count": null,
   "id": "fd344bb9-bc9a-4c80-adfc-25a3b0178def",
   "metadata": {},
   "outputs": [],
   "source": [
    "df['se'].unique()"
   ]
  },
  {
   "cell_type": "markdown",
   "id": "incredible-humanity",
   "metadata": {},
   "source": [
    "### DPS,EPS,배당수익율,배당총액 조회"
   ]
  },
  {
   "cell_type": "markdown",
   "id": "cognitive-backup",
   "metadata": {},
   "source": [
    "#### 주당순이익 (Earning Per Share)\n",
    "\n",
    "주식 1주에 포함된 당기순이익이 얼마인지 보여준다. \n",
    "\n",
    "$$\n",
    "EPS = \\frac{ \\text{당기순이익} - \\text{배당금} } \n",
    "{ \\text{발행주식수}}\n",
    "$$"
   ]
  },
  {
   "cell_type": "code",
   "execution_count": null,
   "id": "879255ff-eb5e-438f-ac84-6c8d87a0b214",
   "metadata": {},
   "outputs": [],
   "source": [
    "_dps = df[df['se'] == '주당 현금배당금(원)']\n",
    "_dps"
   ]
  },
  {
   "cell_type": "code",
   "execution_count": null,
   "id": "f9eb9d18-a2d3-4dcc-b9d7-b6f9e32e9e78",
   "metadata": {},
   "outputs": [],
   "source": [
    "_eps = df[df['se'].str.contains('주당순이익')]\n",
    "_eps"
   ]
  },
  {
   "cell_type": "code",
   "execution_count": null,
   "id": "d58d7a21-f418-436d-8b93-c7aeb8d5b454",
   "metadata": {},
   "outputs": [],
   "source": [
    "_mdr = df[df['se'].str.contains('현금배당수익률')]\n",
    "_mdr"
   ]
  },
  {
   "cell_type": "code",
   "execution_count": null,
   "id": "7439503b-d59f-4e15-ac1b-a41495fb37e6",
   "metadata": {},
   "outputs": [],
   "source": [
    "_total = df[df['se'].str.contains('현금배당금총액')]\n",
    "_total"
   ]
  },
  {
   "cell_type": "code",
   "execution_count": null,
   "id": "6e15bcb8-4ccc-4d40-8d8d-964e6f4d8b24",
   "metadata": {},
   "outputs": [],
   "source": [
    "eps = int(_eps[['thstrm']].iloc[0,0].replace(',','').strip())  # 주당순이익\n",
    "dps = int(_dps[['thstrm']].iloc[0,0].replace(',','').strip())  # 주당배당금\n",
    "mdr = float(_mdr[['thstrm']].iloc[0,0].replace(',','').strip())  # 현금배당수익률\n",
    "total = int(_total[['thstrm']].iloc[0,0].replace(',','').strip())  # 배당금 총액"
   ]
  },
  {
   "cell_type": "code",
   "execution_count": null,
   "id": "957df476-f36e-4037-b3f3-c24995f1add0",
   "metadata": {},
   "outputs": [],
   "source": [
    "pd.DataFrame({'종목코드':['005930'], '종목명': ['삼성전자'],\n",
    "             'EPS': [eps], 'DPS': [dps], '배당수익률': [mdr], '배당금총액': [total]})"
   ]
  },
  {
   "cell_type": "markdown",
   "id": "israeli-florist",
   "metadata": {},
   "source": [
    "## 사업보고서 원문\n",
    "\n",
    "```\n",
    "# 삼성전자 사업보고서 (2018.12) 원문 텍스트\n",
    "xml_text = dart.document('20190401004781')\n",
    "```"
   ]
  },
  {
   "cell_type": "markdown",
   "id": "instant-press",
   "metadata": {},
   "source": [
    "## 재무정보"
   ]
  },
  {
   "cell_type": "code",
   "execution_count": null,
   "id": "natural-intranet",
   "metadata": {},
   "outputs": [],
   "source": [
    "df005930 = dart.finstate(corp='005930', bsns_year=2020) #사업모고서\n",
    "df005930"
   ]
  },
  {
   "cell_type": "code",
   "execution_count": null,
   "id": "micro-eugene",
   "metadata": {},
   "outputs": [],
   "source": [
    "# 삼성전자 2018Q1 재무제표\n",
    "#dart.finstate('삼성전자', 2018, reprt_code='11013')"
   ]
  },
  {
   "cell_type": "code",
   "execution_count": null,
   "id": "valued-dealer",
   "metadata": {},
   "outputs": [],
   "source": [
    "#여러 종목\n",
    "# dart.finstate('삼성전자, SK하이닉스, 현대자동차', 2018)"
   ]
  },
  {
   "cell_type": "code",
   "execution_count": null,
   "id": "forward-madrid",
   "metadata": {},
   "outputs": [],
   "source": [
    "# 사업보고서(재무제표) XBRL 원본 파일 저장 \n",
    "#dart.finstate_xml('20190401004781', save_as='삼성전자_2018_사업보고서_XBRL.zip')"
   ]
  },
  {
   "cell_type": "code",
   "execution_count": null,
   "id": "perfect-vampire",
   "metadata": {},
   "outputs": [],
   "source": [
    "# XBRL 표준계정과목체계(계정과목)\n",
    "#dart.xbrl_taxonomy('BS1')"
   ]
  },
  {
   "cell_type": "markdown",
   "id": "tracked-selection",
   "metadata": {},
   "source": [
    "## 확장기능\n",
    "\n",
    "Open DART의 API가 제공하지 않는 유용한 확장 기능을 제공합니다."
   ]
  },
  {
   "cell_type": "code",
   "execution_count": null,
   "id": "advisory-symphony",
   "metadata": {},
   "outputs": [],
   "source": [
    "# 지정한 날짜의 공시목록 전체 (시간 정보 포함)\n",
    "dart.list_date_ex('2020-01-03')"
   ]
  },
  {
   "cell_type": "code",
   "execution_count": null,
   "id": "defensive-yield",
   "metadata": {},
   "outputs": [],
   "source": [
    "# 개별 문서 제목과 URL\n",
    "rcp_no = '20190401004781' # 삼성전자 2018년 사업보고서\n",
    "dart.sub_docs(rcp_no)\n",
    "\n",
    "# 제목이 잘 매치되는 순서로 소트\n",
    "dart.sub_docs('20190401004781', match='사업의 내용')\n",
    "\n",
    "# 첨부 문서 제목과 URL\n",
    "dart.attach_doc_list(rcp_no)\n",
    "\n",
    "# 제목이 잘 매치되는 순서로 소트\n",
    "dart.attach_doc_list(rcp_no, match='감사보고서')\n",
    "\n",
    "# 첨부 파일 제목과 URL\n",
    "dart.attach_file_list(rcp_no)"
   ]
  },
  {
   "cell_type": "code",
   "execution_count": null,
   "id": "52d4678a-0efb-442a-a309-d5339b87f3ad",
   "metadata": {},
   "outputs": [],
   "source": []
  },
  {
   "cell_type": "code",
   "execution_count": null,
   "id": "44814733-12b4-43d9-b047-af889de35aab",
   "metadata": {},
   "outputs": [],
   "source": []
  },
  {
   "cell_type": "markdown",
   "id": "e3aa5ee2-4f54-4ee4-b546-98d15ed0f6fb",
   "metadata": {},
   "source": [
    "# 참고"
   ]
  },
  {
   "cell_type": "markdown",
   "id": "6bcaf9be-86ca-48e2-9632-1a03487870ee",
   "metadata": {},
   "source": [
    "1. [OpenDartRedaer 사용 가이드](https://nbviewer.jupyter.org/github/FinanceData/OpenDartReader/blob/master/docs/OpenDartReader_users_guide.ipynb)"
   ]
  }
 ],
 "metadata": {
  "kernelspec": {
   "display_name": "Python 3 (ipykernel)",
   "language": "python",
   "name": "python3"
  },
  "language_info": {
   "codemirror_mode": {
    "name": "ipython",
    "version": 3
   },
   "file_extension": ".py",
   "mimetype": "text/x-python",
   "name": "python",
   "nbconvert_exporter": "python",
   "pygments_lexer": "ipython3",
   "version": "3.10.6"
  }
 },
 "nbformat": 4,
 "nbformat_minor": 5
}
