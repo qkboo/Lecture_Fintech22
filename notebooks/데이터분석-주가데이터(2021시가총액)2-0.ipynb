{
 "cells": [
  {
   "cell_type": "markdown",
   "metadata": {},
   "source": [
    "# 시가총액 데이터 분석 II\n",
    "\n",
    "2021년 주식 시가충액 데이터로 finance data reader 에서 구축한 csv 파일을 병합해 사용했다."
   ]
  },
  {
   "cell_type": "markdown",
   "metadata": {
    "id": "xxL7u94xBWtY",
    "tags": []
   },
   "source": [
    "### 코랩: 한글 폰트 설치"
   ]
  },
  {
   "cell_type": "markdown",
   "metadata": {
    "colab": {
     "base_uri": "https://localhost:8080/"
    },
    "id": "s2FJvPltgmrh",
    "outputId": "f3935ecc-73c1-492c-dbd3-8ede4eb9921f"
   },
   "source": [
    "1. 한글 폰트 설치\n",
    "\n",
    "```sh\n",
    "#폰트 설치\n",
    "! apt install fonts-nanum*\n",
    "```\n",
    "\n",
    "```sh\n",
    "! apt install fontconfig\n",
    "```\n",
    "\n",
    "2. 폰트 캐시 생성\n",
    "\n",
    "```sh\n",
    "#폰트 캐시 생성\n",
    "!fc-cache -fv\n",
    "```\n",
    "\n",
    "3. matplotlib에 남아있는 font 캐시 삭제\n",
    "\n",
    "```sh\n",
    "# matplotlib에 남아있는 font 캐시 삭제\n",
    "!rm -rf ~/.cache/matplotlib/*\n",
    "```\n",
    "\n",
    "4. Runtime 재실행\n",
    "\n",
    "5. matplotlib 에서 Nanum 한글 폰트 검색 확인\n",
    "\n",
    "```python\n",
    "import matplotlib.pyplot as plt\n",
    "import matplotlib.font_manager as fm\n",
    "\n",
    "# 폰트 목록에서 폰트 찾기\n",
    "for font in fm.fontManager.ttflist:\n",
    "    if 'Nanum' in font.name:\n",
    "        print(font.name, font.fname)\n",
    "```"
   ]
  },
  {
   "cell_type": "markdown",
   "metadata": {},
   "source": [
    "### 필요 라이브러리"
   ]
  },
  {
   "cell_type": "code",
   "execution_count": null,
   "metadata": {
    "tags": []
   },
   "outputs": [],
   "source": [
    "import numpy as np\n",
    "import pandas as pd\n",
    "import pickle"
   ]
  },
  {
   "cell_type": "code",
   "execution_count": null,
   "metadata": {},
   "outputs": [],
   "source": [
    "import matplotlib.pyplot as plt\n",
    "import matplotlib.font_manager as fm\n",
    "%matplotlib inline"
   ]
  },
  {
   "cell_type": "code",
   "execution_count": null,
   "metadata": {
    "tags": []
   },
   "outputs": [],
   "source": [
    "# 전역 폰트 설정 사용\n",
    "# font_path = 'C:/Windows/Fonts/NanumGothic.ttf'\n",
    "# font_path = '/Users/qkboo/Library/Fonts/NanumGothic.otf'\n",
    "font_path = \"/usr/share/fonts/truetype/nanum/NanumGothic.ttf\"\n",
    "\n",
    "fontname = fm.FontProperties(fname=font_path, size=18).get_name()  # 폰트 패밀리 이름!\n",
    "# plt.rc('font', family=fontname)\n",
    "plt.rcParams[\"font.family\"] = fontname\n",
    "plt.rcParams[\"font.size\"] = 12\n",
    "\n",
    "# matplotlib 설정\n",
    "plt.rcParams[\"axes.grid\"] = True\n",
    "plt.rcParams[\"figure.figsize\"] = (10,3)\n",
    "plt.rcParams[\"axes.formatter.useoffset\"] = False\n",
    "plt.rcParams['axes.unicode_minus'] = False\n",
    "plt.rcParams[\"axes.formatter.limits\"] = -10000, 10000\n",
    "\n",
    "plt.title('한글 타이틀...')"
   ]
  },
  {
   "cell_type": "markdown",
   "metadata": {},
   "source": [
    "# 2021 시가총액데이터\n",
    "\n",
    "- https://financedata.github.io/marcap/\n",
    "\n",
    "raw 데이터는 폴더에 년도별 gz 압축파일로 저장해서 병합해 사용.\n"
   ]
  },
  {
   "cell_type": "markdown",
   "metadata": {},
   "source": [
    "`marcap-2021.csv.gz` 형식으로 저장되어 있다.\n",
    "\n",
    "\n",
    "Date (날짜)를 인덱스(DatetimeIndex)로 포함하고 있으며, 컬럼 구성은 다음과 같습니다.\n",
    "\n",
    "- Date : 날짜 (DatetimeIndex)\n",
    "- Rank: 시가총액 순위 (당일)\n",
    "- Code : 종목코드\n",
    "- Name : 종명이름\n",
    "- Open : 시가\n",
    "- High : 고가\n",
    "- Low : 저가\n",
    "- Close : 종가\n",
    "- Volume : 거래량\n",
    "- Amount : 거래대금\n",
    "- Changes : 전일대비\n",
    "- ChangeCode: 등락 기호\n",
    "- ChagesRatio : 전일대비 등락률\n",
    "- Marcap : 시가총액(백만원)\n",
    "- Stocks : 상장주식수\n",
    "- MarketId : 시장기호\n",
    "- Market : 시장\n",
    "- Dept : 부서(한국거래소)"
   ]
  },
  {
   "cell_type": "code",
   "execution_count": null,
   "metadata": {},
   "outputs": [],
   "source": [
    "df21 = pd.read_csv('../data/stocks/marcap-2021.csv.gz', dtype={'Code':str}, parse_dates=['Date'])\n",
    "df21.head(10)"
   ]
  },
  {
   "cell_type": "markdown",
   "metadata": {},
   "source": [
    "## 인덱스 변경"
   ]
  },
  {
   "cell_type": "markdown",
   "metadata": {},
   "source": [
    "### 종목코드로 인덱스 변경\n",
    "\n",
    "인덱스를 종목코드로 변경한다."
   ]
  },
  {
   "cell_type": "code",
   "execution_count": null,
   "metadata": {},
   "outputs": [],
   "source": [
    "#종목코드가 인덱스이다.\n",
    "df21.set_index('Code', inplace=True)"
   ]
  },
  {
   "cell_type": "code",
   "execution_count": null,
   "metadata": {},
   "outputs": [],
   "source": [
    "df21.index"
   ]
  },
  {
   "cell_type": "code",
   "execution_count": null,
   "metadata": {},
   "outputs": [],
   "source": [
    "df21.head()"
   ]
  },
  {
   "cell_type": "code",
   "execution_count": null,
   "metadata": {},
   "outputs": [],
   "source": [
    "df21.loc['005930']"
   ]
  },
  {
   "cell_type": "markdown",
   "metadata": {},
   "source": [
    "날짜별 정렬"
   ]
  },
  {
   "cell_type": "code",
   "execution_count": null,
   "metadata": {},
   "outputs": [],
   "source": [
    "df21.sort_values(by='Date', ascending=False).head(3)"
   ]
  },
  {
   "cell_type": "code",
   "execution_count": null,
   "metadata": {},
   "outputs": [],
   "source": [
    "df21.sort_values(by='Name', ascending=True).head(3)"
   ]
  },
  {
   "cell_type": "code",
   "execution_count": null,
   "metadata": {},
   "outputs": [],
   "source": [
    "df21.sort_values(by='Marcap', ascending=True).head(3)"
   ]
  },
  {
   "cell_type": "code",
   "execution_count": null,
   "metadata": {},
   "outputs": [],
   "source": [
    "df21.info()"
   ]
  },
  {
   "cell_type": "markdown",
   "metadata": {},
   "source": [
    "### 날짜 형식으로 인덱스 변경\n",
    "\n",
    " - 날짜 컬럼을 날짜형식으로 변환\n",
    " - groupby 객체 이용"
   ]
  },
  {
   "cell_type": "code",
   "execution_count": null,
   "metadata": {},
   "outputs": [],
   "source": [
    "# 날짜형식으로 변환\n",
    "# df21['Date'] = pd.to_datetime(df21['Date'])\n",
    "# df21.info()"
   ]
  },
  {
   "cell_type": "code",
   "execution_count": null,
   "metadata": {},
   "outputs": [],
   "source": [
    "df21.set_index('Date', drop=False, inplace=True)\n",
    "df21.head()"
   ]
  },
  {
   "cell_type": "code",
   "execution_count": null,
   "metadata": {},
   "outputs": [],
   "source": [
    "####\n",
    "df21.loc['2021-04-01':'2021-06-30']"
   ]
  },
  {
   "cell_type": "markdown",
   "metadata": {},
   "source": [
    "## 일자별 시가총액을 합산"
   ]
  },
  {
   "cell_type": "code",
   "execution_count": null,
   "metadata": {},
   "outputs": [],
   "source": [
    "# 일자별 합산\n",
    "df21.groupby('Date').sum()[:10]"
   ]
  },
  {
   "cell_type": "code",
   "execution_count": null,
   "metadata": {},
   "outputs": [],
   "source": [
    "# 일자별 종목 합산\n",
    "df21.groupby(['Date','Code']).sum()[:10]"
   ]
  },
  {
   "cell_type": "code",
   "execution_count": null,
   "metadata": {},
   "outputs": [],
   "source": [
    "# 일자별 종목 평균\n",
    "df21.groupby(['Date','Code']).mean()[:10]"
   ]
  },
  {
   "cell_type": "code",
   "execution_count": null,
   "metadata": {},
   "outputs": [],
   "source": [
    "# 일자별 종목 평균\n",
    "df21.groupby(['Date','Code']).agg(['sum','mean'])"
   ]
  },
  {
   "cell_type": "code",
   "execution_count": null,
   "metadata": {},
   "outputs": [],
   "source": [
    "# 일자별 종목의 거래량/종가/시가총액 합산/평균 계산\n",
    "df21.groupby(['Date','Code'])[['Close','Volume','Marcap']].agg(['sum','mean'])"
   ]
  },
  {
   "cell_type": "code",
   "execution_count": null,
   "metadata": {},
   "outputs": [],
   "source": [
    "# 날짜별 거래량과 시가총액 합산\n",
    "df21.groupby('Date').sum()[['Volume','Marcap']][:10]"
   ]
  },
  {
   "cell_type": "markdown",
   "metadata": {},
   "source": [
    "### 일자별 시가총액 그래프"
   ]
  },
  {
   "cell_type": "code",
   "execution_count": null,
   "metadata": {},
   "outputs": [],
   "source": [
    "# 일자별 시가총액\n",
    "dailysum  = df21.groupby('Date').sum()['Marcap']"
   ]
  },
  {
   "cell_type": "code",
   "execution_count": null,
   "metadata": {
    "tags": []
   },
   "outputs": [],
   "source": [
    "# 2021년 일자별 시가총액 그래프\n",
    "dailysum.plot(figsize=(10,6), grid=True)"
   ]
  },
  {
   "cell_type": "markdown",
   "metadata": {},
   "source": [
    "### 특정일자의 시가총액 합\n",
    "\n",
    "Groupby 로 그루핑한 일장의 시가총액/볼륨의 양"
   ]
  },
  {
   "cell_type": "code",
   "execution_count": null,
   "metadata": {},
   "outputs": [],
   "source": [
    "# 날짜 그룹이용\n",
    "daily = df21.groupby(['Date'])\n",
    "daily.groups.keys()"
   ]
  },
  {
   "cell_type": "code",
   "execution_count": null,
   "metadata": {},
   "outputs": [],
   "source": [
    "# 일자별 시가총액 합\n",
    "daily.sum()"
   ]
  },
  {
   "cell_type": "markdown",
   "metadata": {},
   "source": [
    "## 월별 거래량 합산\n",
    "\n",
    "월별로 모든 거래량을 합산."
   ]
  },
  {
   "cell_type": "code",
   "execution_count": null,
   "metadata": {},
   "outputs": [],
   "source": [
    "df21.head(3)"
   ]
  },
  {
   "cell_type": "code",
   "execution_count": null,
   "metadata": {},
   "outputs": [],
   "source": [
    "# df['Date'] = pd.to_datetime(df['Date'], format='%Y%m%d')\n",
    "df21.set_index('Date', inplace=True)\n",
    "df21.head()"
   ]
  },
  {
   "cell_type": "code",
   "execution_count": null,
   "metadata": {},
   "outputs": [],
   "source": [
    "df = df21.copy()\n",
    "df.head()"
   ]
  },
  {
   "cell_type": "code",
   "execution_count": null,
   "metadata": {},
   "outputs": [],
   "source": [
    "df.info()"
   ]
  },
  {
   "cell_type": "markdown",
   "metadata": {},
   "source": [
    "날짜 인덱스 기반에서 일자를 기준으로 월별로 거래량의 합산을 계산한다."
   ]
  },
  {
   "cell_type": "code",
   "execution_count": null,
   "metadata": {},
   "outputs": [],
   "source": [
    "pd.pivot_table(df,\n",
    "              index=df.index.day, \n",
    "               columns=df.index.month, \n",
    "               values=['Volume'], aggfunc=np.sum)"
   ]
  },
  {
   "cell_type": "code",
   "execution_count": null,
   "metadata": {},
   "outputs": [],
   "source": [
    "# 월별 평균 값...\n",
    "pd.pivot_table(df, index=df.index.day, columns=df.index.month, values=['Close'], aggfunc=\"mean\")"
   ]
  },
  {
   "cell_type": "markdown",
   "metadata": {},
   "source": [
    "## 종목별 시가총액\n",
    "\n"
   ]
  },
  {
   "cell_type": "code",
   "execution_count": null,
   "metadata": {},
   "outputs": [],
   "source": [
    "df21"
   ]
  },
  {
   "cell_type": "code",
   "execution_count": null,
   "metadata": {},
   "outputs": [],
   "source": [
    "#종목코드가 인덱스이다.\n",
    "df21.set_index('Code', drop=False, inplace=True)"
   ]
  },
  {
   "cell_type": "code",
   "execution_count": null,
   "metadata": {},
   "outputs": [],
   "source": [
    "df005930 = df21.loc['005930']\n",
    "df005930.head(3)"
   ]
  },
  {
   "cell_type": "code",
   "execution_count": null,
   "metadata": {},
   "outputs": [],
   "source": [
    "df005380 = df21.loc['005380']"
   ]
  },
  {
   "cell_type": "code",
   "execution_count": null,
   "metadata": {},
   "outputs": [],
   "source": [
    "df005930[['Close', 'High']].plot()"
   ]
  },
  {
   "cell_type": "code",
   "execution_count": null,
   "metadata": {},
   "outputs": [],
   "source": [
    "# 날자인덱스\n",
    "df005930.plot(x='Date', y='Close')"
   ]
  },
  {
   "cell_type": "code",
   "execution_count": null,
   "metadata": {},
   "outputs": [],
   "source": [
    "df005930.plot(x='Date', y=['Close', 'High'])"
   ]
  },
  {
   "cell_type": "code",
   "execution_count": null,
   "metadata": {},
   "outputs": [],
   "source": []
  },
  {
   "cell_type": "code",
   "execution_count": null,
   "metadata": {},
   "outputs": [],
   "source": []
  },
  {
   "cell_type": "markdown",
   "metadata": {},
   "source": [
    "## 여러 종목"
   ]
  },
  {
   "cell_type": "code",
   "execution_count": null,
   "metadata": {},
   "outputs": [],
   "source": [
    "_stocks = {\n",
    "    '086790': '하나금융지주',\n",
    "    '105560': 'KB금융',\n",
    "    '316140': '우리금융지주',\n",
    "    '055550': '신한지주',\n",
    "    '005830': 'DB손해보험'\n",
    "}"
   ]
  },
  {
   "cell_type": "code",
   "execution_count": null,
   "metadata": {},
   "outputs": [],
   "source": [
    "stocks = df21[df21['Code'].isin(_stocks.keys())]\n",
    "stocks.head()"
   ]
  },
  {
   "cell_type": "code",
   "execution_count": null,
   "metadata": {},
   "outputs": [],
   "source": [
    "# 종목들의 2021/3/1 이후\n",
    "stocks = df21[(df21['Code'].isin(_stocks.keys())) & (df21['Date'] > '2021-03-01')]\n",
    "stocks.head()"
   ]
  },
  {
   "cell_type": "markdown",
   "metadata": {},
   "source": [
    "필터링한 결과를 피벗해 날짜별 종목의 시가총액을 구한다."
   ]
  },
  {
   "cell_type": "code",
   "execution_count": null,
   "metadata": {},
   "outputs": [],
   "source": [
    "# date를 인덱스로 삼았으면\n",
    "# stocks.reset_index()"
   ]
  },
  {
   "cell_type": "markdown",
   "metadata": {},
   "source": [
    "### 일자별 종목의 주가 그래프"
   ]
  },
  {
   "cell_type": "code",
   "execution_count": null,
   "metadata": {},
   "outputs": [],
   "source": [
    "pd.options.display.float_format = '{:.2f}'.format\n",
    "\n",
    "marcap_stocks = stocks.pivot_table(index='Date', columns='Code', values='Marcap')\n",
    "marcap_stocks.rename(columns=_stocks, inplace=True)\n",
    "marcap_stocks.head(5)"
   ]
  },
  {
   "cell_type": "code",
   "execution_count": null,
   "metadata": {},
   "outputs": [],
   "source": [
    "marcap_stocks.plot(figsize=(12,6))"
   ]
  },
  {
   "cell_type": "code",
   "execution_count": null,
   "metadata": {},
   "outputs": [],
   "source": []
  },
  {
   "cell_type": "code",
   "execution_count": null,
   "metadata": {},
   "outputs": [],
   "source": []
  },
  {
   "cell_type": "markdown",
   "metadata": {},
   "source": [
    "### 가격차 있는 주가 그래프\n",
    "\n",
    "숫자 범위가 달라 차이가 클 경우... plot 시 다른 축을 표시한다."
   ]
  },
  {
   "cell_type": "code",
   "execution_count": null,
   "metadata": {},
   "outputs": [],
   "source": [
    "_stocks = {\n",
    "  '005930': '삼성전자', \n",
    "  '005380': '현대차', \n",
    "  '005490': 'POSCO', \n",
    "  '105560': 'KB금융',\n",
    "  '015760': '한국전력',\n",
    "  '005830': 'DB손해보험'\n",
    "}"
   ]
  },
  {
   "cell_type": "code",
   "execution_count": null,
   "metadata": {},
   "outputs": [],
   "source": [
    "stocks = df21[df21['Code'].isin(_stocks.keys())]\n",
    "stocks.head()"
   ]
  },
  {
   "cell_type": "code",
   "execution_count": null,
   "metadata": {},
   "outputs": [],
   "source": [
    "marcap_stocks = stocks.pivot_table(index='Date', columns='Code', values='Marcap')\n",
    "marcap_stocks.rename(columns=_stocks, inplace=True)\n",
    "marcap_stocks.head(3)"
   ]
  },
  {
   "cell_type": "markdown",
   "metadata": {},
   "source": [
    "삼성전자 시가총액이 커서 비교가 어렵다"
   ]
  },
  {
   "cell_type": "code",
   "execution_count": null,
   "metadata": {},
   "outputs": [],
   "source": [
    "marcap_stocks.plot(figsize=(12,6))"
   ]
  },
  {
   "cell_type": "markdown",
   "metadata": {},
   "source": [
    "이럴경우 별도의 `.plot( secondary_y=[])`로 축을 부가할 수 있다."
   ]
  },
  {
   "cell_type": "code",
   "execution_count": null,
   "metadata": {},
   "outputs": [],
   "source": [
    "marcap_stocks.plot(figsize=(12,6), secondary_y=['삼성전자'])"
   ]
  },
  {
   "cell_type": "code",
   "execution_count": null,
   "metadata": {},
   "outputs": [],
   "source": []
  },
  {
   "cell_type": "code",
   "execution_count": null,
   "metadata": {},
   "outputs": [],
   "source": []
  },
  {
   "cell_type": "markdown",
   "metadata": {},
   "source": [
    "## 시가총액 비중(비율)\n",
    "\n",
    "상대비교를 위해서 비중(비율)을 사용해 보자, 종목별 시가총액을 일자별 시가총액으로 나누어 해당 날짜의 시가총액 비중을 구해 보자."
   ]
  },
  {
   "cell_type": "code",
   "execution_count": null,
   "metadata": {},
   "outputs": [],
   "source": [
    "pd.options.display.float_format = '{:.4f}'.format #소수점 이하 4자리 출력\n",
    "\n",
    "# 일별 상장종목시가 합계\n",
    "marcap_daily = df21.groupby('Date').sum()['Marcap']\n",
    "marcap_daily.head(3)"
   ]
  },
  {
   "cell_type": "markdown",
   "metadata": {},
   "source": [
    "앞의 주식 \n",
    "\n",
    "divide 메서드는 element-wise로 `/` 연산.\n",
    "```python\n",
    "DataFrame.divide(other, axis='columns', level=None, fill_value=None\n",
    "```"
   ]
  },
  {
   "cell_type": "code",
   "execution_count": null,
   "metadata": {},
   "outputs": [],
   "source": [
    "# 2021년 주식 데이터에서 총액으로 나눈다.\n",
    "marcap_stocks_ratio = marcap_stocks.divide(marcap_daily, axis=0)\n",
    "marcap_stocks_ratio"
   ]
  },
  {
   "cell_type": "code",
   "execution_count": null,
   "metadata": {},
   "outputs": [],
   "source": [
    "marcap_stocks_ratio.plot(figsize=(12,6))"
   ]
  },
  {
   "cell_type": "markdown",
   "metadata": {},
   "source": [
    "`삼성전자`와 `한국전력` 만을 그려보자"
   ]
  },
  {
   "cell_type": "code",
   "execution_count": null,
   "metadata": {},
   "outputs": [],
   "source": [
    "marcap_stocks_ratio[['DB손해보험','KB금융']].plot(figsize=(12,6))"
   ]
  },
  {
   "cell_type": "code",
   "execution_count": null,
   "metadata": {},
   "outputs": [],
   "source": [
    "marcap_stocks_ratio[['현대차','KB금융', '한국전력', 'POSCO']].plot(figsize=(12,7))"
   ]
  },
  {
   "cell_type": "markdown",
   "metadata": {},
   "source": [
    "#### 시가총액 통계량\n",
    "\n",
    "시가총액 비중의 통계치\n"
   ]
  },
  {
   "cell_type": "code",
   "execution_count": null,
   "metadata": {},
   "outputs": [],
   "source": [
    "marcap_stocks_ratio.describe()"
   ]
  },
  {
   "cell_type": "code",
   "execution_count": null,
   "metadata": {},
   "outputs": [],
   "source": [
    "marcap_stocks_ratio.describe().loc['std', :].sort_values(ascending=False)"
   ]
  },
  {
   "cell_type": "markdown",
   "metadata": {},
   "source": [
    "표준편차가 가장 큰 것은 삼성전자, 작은 것은 KB금융이므로 시가종액 비중의 변화가 삼성전자가 가장 크고, KB금융은 가장 작았다는 것을 알 수 있다."
   ]
  },
  {
   "cell_type": "code",
   "execution_count": null,
   "metadata": {},
   "outputs": [],
   "source": []
  },
  {
   "cell_type": "code",
   "execution_count": null,
   "metadata": {},
   "outputs": [],
   "source": []
  },
  {
   "cell_type": "code",
   "execution_count": null,
   "metadata": {},
   "outputs": [],
   "source": []
  },
  {
   "cell_type": "markdown",
   "metadata": {},
   "source": [
    "## 샘플 객체 삭제"
   ]
  },
  {
   "cell_type": "code",
   "execution_count": null,
   "metadata": {},
   "outputs": [],
   "source": [
    "del df005380"
   ]
  },
  {
   "cell_type": "code",
   "execution_count": null,
   "metadata": {},
   "outputs": [],
   "source": [
    "del df005930"
   ]
  },
  {
   "cell_type": "code",
   "execution_count": null,
   "metadata": {},
   "outputs": [],
   "source": [
    "del df2"
   ]
  },
  {
   "cell_type": "code",
   "execution_count": null,
   "metadata": {},
   "outputs": [],
   "source": [
    "del df21"
   ]
  }
 ],
 "metadata": {
  "kernelspec": {
   "display_name": "Python 3 (ipykernel)",
   "language": "python",
   "name": "python3"
  },
  "language_info": {
   "codemirror_mode": {
    "name": "ipython",
    "version": 3
   },
   "file_extension": ".py",
   "mimetype": "text/x-python",
   "name": "python",
   "nbconvert_exporter": "python",
   "pygments_lexer": "ipython3",
   "version": "3.10.3"
  }
 },
 "nbformat": 4,
 "nbformat_minor": 4
}
