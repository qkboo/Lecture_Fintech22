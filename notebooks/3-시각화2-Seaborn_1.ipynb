{
 "cells": [
  {
   "cell_type": "markdown",
   "metadata": {},
   "source": [
    "# Seaborn\n",
    "\n",
    "\n",
    "\n",
    "1. [1차원 분포 플롯](#1차원-분포-플롯)\n",
    "    - rugplot, kdeplot, distplot\n",
    "1. [2차원_복합_데이터](#2차원-복합-데이터)\n",
    "    - barplot, boxplot, ,pointplot, violinplot, stripplot, swarmplot\n",
    "1. [데이터의 형상](#데이터의-형상)\n",
    "1. [Density Plot](#Density-plot)"
   ]
  },
  {
   "cell_type": "markdown",
   "metadata": {
    "tags": []
   },
   "source": [
    "### 설치\n",
    "\n",
    "pip 환경\n",
    "\n",
    "```sh\n",
    "(env)$ pip install seaborn\n",
    "```\n",
    "\n",
    "conda\n",
    "\n",
    "```sh\n",
    "(base)$ conda install seaborn\n",
    "```"
   ]
  },
  {
   "cell_type": "code",
   "execution_count": 1,
   "metadata": {
    "tags": []
   },
   "outputs": [],
   "source": [
    "import matplotlib.pyplot as plt\n",
    "import matplotlib.font_manager as fm\n",
    "import seaborn as sns\n",
    "%matplotlib inline"
   ]
  },
  {
   "cell_type": "code",
   "execution_count": 2,
   "metadata": {
    "tags": []
   },
   "outputs": [
    {
     "name": "stdout",
     "output_type": "stream",
     "text": [
      "NanumBarunGothic /home/qkboo/.pyenv/versions/DA_p310/lib/python3.10/site-packages/matplotlib/mpl-data/fonts/ttf/NanumBarunGothicBold.ttf\n",
      "NanumSquareRound /home/qkboo/.pyenv/versions/DA_p310/lib/python3.10/site-packages/matplotlib/mpl-data/fonts/ttf/NanumSquareRoundB.ttf\n",
      "NanumMyeongjo /home/qkboo/.pyenv/versions/DA_p310/lib/python3.10/site-packages/matplotlib/mpl-data/fonts/ttf/NanumMyeongjo.ttf\n",
      "NanumGothic /home/qkboo/.pyenv/versions/DA_p310/lib/python3.10/site-packages/matplotlib/mpl-data/fonts/ttf/NanumGothicBold.ttf\n",
      "NanumBarunGothic /home/qkboo/.pyenv/versions/DA_p310/lib/python3.10/site-packages/matplotlib/mpl-data/fonts/ttf/NanumBarunGothic.ttf\n",
      "NanumGothicCoding /home/qkboo/.pyenv/versions/DA_p310/lib/python3.10/site-packages/matplotlib/mpl-data/fonts/ttf/NanumGothicCoding.ttf\n",
      "NanumGothicCoding /home/qkboo/.pyenv/versions/DA_p310/lib/python3.10/site-packages/matplotlib/mpl-data/fonts/ttf/NanumGothicCoding-Bold.ttf\n",
      "NanumSquare /home/qkboo/.pyenv/versions/DA_p310/lib/python3.10/site-packages/matplotlib/mpl-data/fonts/ttf/NanumSquareR.ttf\n",
      "NanumSquare /home/qkboo/.pyenv/versions/DA_p310/lib/python3.10/site-packages/matplotlib/mpl-data/fonts/ttf/NanumSquareB.ttf\n",
      "NanumSquareRound /home/qkboo/.pyenv/versions/DA_p310/lib/python3.10/site-packages/matplotlib/mpl-data/fonts/ttf/NanumSquareRoundR.ttf\n",
      "NanumGothic /home/qkboo/.pyenv/versions/DA_p310/lib/python3.10/site-packages/matplotlib/mpl-data/fonts/ttf/NanumGothic.ttf\n",
      "NanumMyeongjo /home/qkboo/.pyenv/versions/DA_p310/lib/python3.10/site-packages/matplotlib/mpl-data/fonts/ttf/NanumMyeongjoBold.ttf\n",
      "NanumSquareRound /usr/share/fonts/truetype/nanum/NanumSquareRoundR.ttf\n",
      "NanumGothic /usr/share/fonts/truetype/nanum/NanumGothicBold.ttf\n",
      "NanumGothic /usr/share/fonts/truetype/nanum/NanumGothic.ttf\n",
      "NanumSquare /usr/share/fonts/truetype/nanum/NanumSquareB.ttf\n",
      "NanumSquare /usr/share/fonts/truetype/nanum/NanumSquareR.ttf\n",
      "NanumMyeongjo /usr/share/fonts/truetype/nanum/NanumMyeongjo.ttf\n",
      "NanumGothicCoding /usr/share/fonts/truetype/nanum/NanumGothicCoding-Bold.ttf\n",
      "NanumBarunGothic /usr/share/fonts/truetype/nanum/NanumBarunGothic.ttf\n",
      "NanumSquareRound /usr/share/fonts/truetype/nanum/NanumSquareRoundB.ttf\n",
      "NanumBarunGothic /usr/share/fonts/truetype/nanum/NanumBarunGothicBold.ttf\n",
      "NanumMyeongjo /usr/share/fonts/truetype/nanum/NanumMyeongjoBold.ttf\n",
      "NanumGothicCoding /usr/share/fonts/truetype/nanum/NanumGothicCoding.ttf\n"
     ]
    }
   ],
   "source": [
    "for font in fm.fontManager.ttflist:\n",
    "    if 'Nanum' in font.name:\n",
    "        print(font.name, font.fname)"
   ]
  },
  {
   "cell_type": "code",
   "execution_count": 7,
   "metadata": {},
   "outputs": [
    {
     "data": {
      "text/plain": [
       "Text(0.5, 1.0, '한글 타이틀...')"
      ]
     },
     "execution_count": 7,
     "metadata": {},
     "output_type": "execute_result"
    },
    {
     "data": {
      "image/png": "[encoded data removed]",
      "text/plain": [
       "<Figure size 720x216 with 1 Axes>"
      ]
     },
     "metadata": {
      "needs_background": "light"
     },
     "output_type": "display_data"
    }
   ],
   "source": [
    "from matplotlib import rc\n",
    "# 전역 폰트 설정 사용\n",
    "# font_path = 'C:/Windows/Fonts/NanumGothic.ttf'\n",
    "# font_path = '/Users/qkboo/Library/Fonts/NanumGothic.otf'\n",
    "font_path = \"/usr/share/fonts/truetype/nanum/NanumGothic.ttf\"\n",
    "\n",
    "fontname = fm.FontProperties(fname=font_path, size=18).get_name()  # 폰트 패밀리 이름!\n",
    "rc('font', family=fontname)\n",
    "\n",
    "# plt.rcParams[\"font.family\"] = fontname\n",
    "\n",
    "# matplotlib 설정\n",
    "plt.rcParams['axes.unicode_minus'] = False\n",
    "\n",
    "plt.rcParams[\"axes.grid\"] = True\n",
    "plt.rcParams[\"figure.figsize\"] = (10,3)\n",
    "plt.rcParams[\"axes.formatter.useoffset\"] = False\n",
    "plt.rcParams[\"axes.formatter.limits\"] = -10000, 10000\n",
    "\n",
    "plt.title('한글 타이틀...')"
   ]
  },
  {
   "cell_type": "markdown",
   "metadata": {},
   "source": [
    "\n",
    "### 샘플 데이터"
   ]
  },
  {
   "cell_type": "code",
   "execution_count": 3,
   "metadata": {},
   "outputs": [
    {
     "name": "stdout",
     "output_type": "stream",
     "text": [
      "Seaborn 0.11.2\n"
     ]
    }
   ],
   "source": [
    "import numpy as np\n",
    "print(\"Seaborn %s\" % (sns.__version__))"
   ]
  },
  {
   "cell_type": "code",
   "execution_count": 4,
   "metadata": {},
   "outputs": [],
   "source": [
    "tips = sns.load_dataset('tips')\n",
    "iris = sns.load_dataset('iris')\n",
    "titanic = sns.load_dataset('titanic')"
   ]
  },
  {
   "cell_type": "code",
   "execution_count": 5,
   "metadata": {},
   "outputs": [
    {
     "data": {
      "text/plain": [
       "((244, 7), (150, 5), (891, 15))"
      ]
     },
     "execution_count": 5,
     "metadata": {},
     "output_type": "execute_result"
    }
   ],
   "source": [
    "tips.shape, iris.shape, titanic.shape"
   ]
  },
  {
   "cell_type": "markdown",
   "metadata": {},
   "source": [
    "# 1차원 분포 플롯\n",
    "\n",
    "1차원 데이터는 실수 값이면 히스토그람 같은 실수 분포 플롯으로 나타내고 피처 값이면 카운트 플롯으로 나타낸다."
   ]
  },
  {
   "cell_type": "markdown",
   "metadata": {},
   "source": [
    "matplotlib 의 단순 히스토그람과 달리 커널 밀도, 러그(rug) 표시 기능 및 다차원 복합 분포 기능을 제공한다.\n",
    "\n",
    "- rugplot\n",
    "- kdeplot\n",
    "- ~distplot~ : deprecated\n",
    "- displot"
   ]
  },
  {
   "cell_type": "markdown",
   "metadata": {},
   "source": [
    "### Rugplot\n",
    "\n",
    "rugplot은 데이터 위치를 x축 위의 작은 선분(rug)로 나타내어 실제 데이터 위치를 보여준다.\n",
    "- rugplot: http://seaborn.pydata.org/generated/seaborn.rugplot.html"
   ]
  },
  {
   "cell_type": "code",
   "execution_count": 11,
   "metadata": {},
   "outputs": [
    {
     "data": {
      "text/plain": [
       "Text(0.5, 1.0, 'Iris의 꽃잎 길이')"
      ]
     },
     "execution_count": 11,
     "metadata": {},
     "output_type": "execute_result"
    },
    {
     "name": "stderr",
     "output_type": "stream",
     "text": [
      "/home/qkboo/.pyenv/versions/DA_p310/lib/python3.10/site-packages/IPython/core/pylabtools.py:151: UserWarning: Glyph 51032 (\\N{HANGUL SYLLABLE YI}) missing from current font.\n",
      "  fig.canvas.print_figure(bytes_io, **kw)\n",
      "/home/qkboo/.pyenv/versions/DA_p310/lib/python3.10/site-packages/IPython/core/pylabtools.py:151: UserWarning: Glyph 44867 (\\N{HANGUL SYLLABLE GGOC}) missing from current font.\n",
      "  fig.canvas.print_figure(bytes_io, **kw)\n",
      "/home/qkboo/.pyenv/versions/DA_p310/lib/python3.10/site-packages/IPython/core/pylabtools.py:151: UserWarning: Glyph 51086 (\\N{HANGUL SYLLABLE IP}) missing from current font.\n",
      "  fig.canvas.print_figure(bytes_io, **kw)\n",
      "/home/qkboo/.pyenv/versions/DA_p310/lib/python3.10/site-packages/IPython/core/pylabtools.py:151: UserWarning: Glyph 44600 (\\N{HANGUL SYLLABLE GIL}) missing from current font.\n",
      "  fig.canvas.print_figure(bytes_io, **kw)\n",
      "/home/qkboo/.pyenv/versions/DA_p310/lib/python3.10/site-packages/IPython/core/pylabtools.py:151: UserWarning: Glyph 51060 (\\N{HANGUL SYLLABLE I}) missing from current font.\n",
      "  fig.canvas.print_figure(bytes_io, **kw)\n"
     ]
    },
    {
     "data": {
      "image/png": "[encoded data removed]",
      "text/plain": [
       "<Figure size 720x216 with 1 Axes>"
      ]
     },
     "metadata": {},
     "output_type": "display_data"
    }
   ],
   "source": [
    "x = iris.petal_length.values\n",
    "\n",
    "plt.rcParams[\"font.family\"] = 'NanumGothic'\n",
    "sns.set_style(\"whitegrid\")\n",
    "sns.rugplot(x)\n",
    "plt.title(\"Iris의 꽃잎 길이\")"
   ]
  },
  {
   "cell_type": "markdown",
   "metadata": {},
   "source": [
    "### Kdeplot\n",
    "\n",
    "커널 밀도(kernel density)는 커널이라는 함수를 겹치는 방법으로 히스토그램보다 부드러운 형태의 분포 곡선을 보여주는 방법이다.\n",
    "\n",
    "- kdeplot: http://seaborn.pydata.org/generated/seaborn.kdeplot.html\n",
    "\n",
    "커널 밀도 추정에 대한 자세한 내용은 scikit-learn 패키지를 참조한다.\n",
    "\n",
    "- http://scikit-learn.org/stable/modules/density.html"
   ]
  },
  {
   "cell_type": "code",
   "execution_count": 8,
   "metadata": {},
   "outputs": [
    {
     "data": {
      "text/plain": [
       "Text(0.5, 1.0, 'Iris의 꽃잎 길이 Kernel Density plot')"
      ]
     },
     "execution_count": 8,
     "metadata": {},
     "output_type": "execute_result"
    },
    {
     "name": "stderr",
     "output_type": "stream",
     "text": [
      "/home/qkboo/.pyenv/versions/DA_p310/lib/python3.10/site-packages/IPython/core/pylabtools.py:151: UserWarning: Glyph 51032 (\\N{HANGUL SYLLABLE YI}) missing from current font.\n",
      "  fig.canvas.print_figure(bytes_io, **kw)\n",
      "/home/qkboo/.pyenv/versions/DA_p310/lib/python3.10/site-packages/IPython/core/pylabtools.py:151: UserWarning: Glyph 44867 (\\N{HANGUL SYLLABLE GGOC}) missing from current font.\n",
      "  fig.canvas.print_figure(bytes_io, **kw)\n",
      "/home/qkboo/.pyenv/versions/DA_p310/lib/python3.10/site-packages/IPython/core/pylabtools.py:151: UserWarning: Glyph 51086 (\\N{HANGUL SYLLABLE IP}) missing from current font.\n",
      "  fig.canvas.print_figure(bytes_io, **kw)\n",
      "/home/qkboo/.pyenv/versions/DA_p310/lib/python3.10/site-packages/IPython/core/pylabtools.py:151: UserWarning: Glyph 44600 (\\N{HANGUL SYLLABLE GIL}) missing from current font.\n",
      "  fig.canvas.print_figure(bytes_io, **kw)\n",
      "/home/qkboo/.pyenv/versions/DA_p310/lib/python3.10/site-packages/IPython/core/pylabtools.py:151: UserWarning: Glyph 51060 (\\N{HANGUL SYLLABLE I}) missing from current font.\n",
      "  fig.canvas.print_figure(bytes_io, **kw)\n"
     ]
    },
    {
     "data": {
      "image/png": "[encoded data removed]",
      "text/plain": [
       "<Figure size 720x216 with 1 Axes>"
      ]
     },
     "metadata": {},
     "output_type": "display_data"
    }
   ],
   "source": [
    "x = iris.petal_length.values\n",
    "\n",
    "rc('font', family=fontname)\n",
    "sns.set_style(\"whitegrid\")\n",
    "sns.kdeplot(x)\n",
    "plt.title(\"Iris의 꽃잎 길이 Kernel Density plot\")"
   ]
  },
  {
   "cell_type": "markdown",
   "metadata": {},
   "source": [
    "### displot\n",
    "\n",
    "Seaborn의 displot 명령은 러그와 커널 밀도 표시 기능이 있어서 Matplotlib의 hist 명령보다 많이 사용된다.\n",
    "\n",
    "- displot: http://seaborn.pydata.org/generated/seaborn.displot.html"
   ]
  },
  {
   "cell_type": "code",
   "execution_count": null,
   "metadata": {},
   "outputs": [],
   "source": [
    "x = iris.petal_length.values\n",
    "\n",
    "sns.set_style(\"whitegrid\")\n",
    "sns.displot(data=iris, x='petal_length', kde=True, rug=True)\n",
    "plt.title(\"Iris의 꽃잎 길이 Dist plot\")"
   ]
  },
  {
   "cell_type": "markdown",
   "metadata": {},
   "source": [
    "### ~distplot()~ : deprecated\n",
    "\n",
    "Seaborn의 distplot 명령은 러그와 커널 밀도 표시 기능이 있어서 Matplotlib의 hist 명령보다 많이 사용된다.\n",
    "- distplot: http://seaborn.pydata.org/generated/seaborn.distplot.html\n",
    "\n",
    "> seaborn 0.11.1 이후 `distplot()` 은 deprecated 상태이다.\n"
   ]
  },
  {
   "cell_type": "code",
   "execution_count": null,
   "metadata": {},
   "outputs": [],
   "source": [
    "x = iris.petal_length.values\n",
    "sns.set_style(\"whitegrid\")\n",
    "sns.distplot(x, kde=True, rug=True)\n",
    "plt.title(\"Iris의 꽃잎 길이 Dist plot\")"
   ]
  },
  {
   "cell_type": "markdown",
   "metadata": {},
   "source": [
    "### Countplot\n",
    "\n",
    "countplot 명령을 사용하면 각 카테고리 값별로 데이터가 얼마나 있는지 표시할 수 있다.\n",
    "\n",
    "- countplot: http://seaborn.pydata.org/generated/seaborn.countplot.html\n",
    "\n",
    "countplot 명령은 데이터프레임에만 사용할 수 있다. 사용 방법은 다음과 같다.\n",
    "\n"
   ]
  },
  {
   "cell_type": "code",
   "execution_count": null,
   "metadata": {
    "scrolled": true
   },
   "outputs": [],
   "source": [
    "sns.countplot(x=\"class\", data=titanic)\n",
    "plt.title(\"타이타닉호의 각 클래스별, 승객 수\")\n",
    "plt.show()"
   ]
  },
  {
   "cell_type": "code",
   "execution_count": null,
   "metadata": {
    "scrolled": true
   },
   "outputs": [],
   "source": [
    "sns.countplot(x=\"day\", data=tips)\n",
    "plt.title(\"요일별 팁을 준 횟수\")\n",
    "plt.show()"
   ]
  },
  {
   "cell_type": "markdown",
   "metadata": {},
   "source": [
    "\n",
    "\n",
    "# 2차원 복합 데이터\n",
    "\n",
    "만약 데이터가 2차원이고 실수 값, 카테고리 값이 섞여 있다면 기존의 플롯 이외에도 다음과 같은 분포 플롯들을 이용할 수 있다.\n",
    "\n",
    "\n",
    "- [barplot](#barplot)\n",
    "- [boxplot](#Boxplot)\n",
    "- pointplot\n",
    "- violinplot\n",
    "- stripplot\n",
    "- [swarmplot](#Swarmpplot)\n"
   ]
  },
  {
   "cell_type": "code",
   "execution_count": null,
   "metadata": {},
   "outputs": [],
   "source": [
    "tips.head(3)"
   ]
  },
  {
   "cell_type": "markdown",
   "metadata": {},
   "source": [
    "## barplot\n",
    "\n",
    "\n",
    "[seaborn.barplot](https://seaborn.pydata.org/generated/seaborn.barplot.html) 는 카테고리 값에 따른 실수 값의 평균과 편차를 표시하는 기본적인 바 차트를 생성한다. 평균은 막대의 높이로, 편차는 에러바(error bar)로 표시한다.\n",
    "\n",
    "\n",
    "```python\n",
    "barplot(x=, y=, data=)\n",
    "  -data : 데이터프레임, 배열을 지정하면 된다.\n",
    "  -x : 열 레이블\n",
    "  -y : 열 레이블\n",
    "```"
   ]
  },
  {
   "cell_type": "markdown",
   "metadata": {},
   "source": [
    "### 평균치를 집계해 그린다.\n",
    "\n",
    "분류 가능한 변수로 그룹해서 평균치로 집계해서  수직 바 그래프를 그린다.\n",
    " - x, y 로 그룹"
   ]
  },
  {
   "cell_type": "code",
   "execution_count": null,
   "metadata": {},
   "outputs": [],
   "source": [
    "# 날짜별 총액\n",
    "# sns.set(style='whitegrid')\n",
    "ax = sns.barplot(x=('day'), y=('total_bill'), data=tips)"
   ]
  },
  {
   "cell_type": "markdown",
   "metadata": {},
   "source": [
    "seaborn.barplot() 함수는 각 막대에 기본적으로 오차막대(error bar)가 함께 나타나도록 되어 있다 - 위 그래프 수직 바의 긴 검은색 막대."
   ]
  },
  {
   "cell_type": "markdown",
   "metadata": {},
   "source": [
    "### estimator 지정\n",
    "\n",
    "데이터의 대부분은 평균을 보려고 하겠지만 때로는 다른 것들을 보고 싶을 수도 있다. 예를 들면\n",
    "\n",
    " - 데이터에 극단치가 많은 경우 중앙값을 그리는 게 좋을 수 있다.\n",
    " - 데이터가 범주형인 경우 설문 조사 응답과 같이 각 카테고리가 몇 번 표시되는지 계산할 수 있다.\n",
    " \n",
    "매개변수 `estimator`로 함수를 지정해서 결과치에 반영한다."
   ]
  },
  {
   "cell_type": "code",
   "execution_count": null,
   "metadata": {},
   "outputs": [],
   "source": [
    "sns.barplot(x=('day'), y=('total_bill'), data=tips, estimator=np.median)"
   ]
  },
  {
   "cell_type": "code",
   "execution_count": null,
   "metadata": {},
   "outputs": [],
   "source": [
    "# 길이.\n",
    "sns.barplot(x=('day'), y=('total_bill'), data=tips, estimator=len)"
   ]
  },
  {
   "cell_type": "markdown",
   "metadata": {},
   "source": [
    "### 여러 열에서 집단 묶어서 세부 집단 시각화 하기 (hue)\n",
    "\n",
    "날짜별로 총액을 그리는데 \"성별\"로 총액을 보고 싶다면 그룹하고자 피처를 `hue` 로 묶어 주면 된다."
   ]
  },
  {
   "cell_type": "code",
   "execution_count": null,
   "metadata": {},
   "outputs": [],
   "source": [
    "# 날짜별 총액을 성별로 표시\n",
    "ax = sns.barplot(x=('day'), y=('total_bill'), hue='sex', data=tips)"
   ]
  },
  {
   "cell_type": "markdown",
   "metadata": {},
   "source": [
    "날짜별 총액을 *식사 시간대*에 따라 요일별 팁을 출력"
   ]
  },
  {
   "cell_type": "code",
   "execution_count": null,
   "metadata": {},
   "outputs": [],
   "source": [
    "ax = sns.barplot(x=('day'), y=('total_bill'), hue='time', data=tips)"
   ]
  },
  {
   "cell_type": "markdown",
   "metadata": {},
   "source": [
    "### 오차막대 (error bar) 수정하기\n",
    "\n",
    "seaborn은 barplot() 함수를 사용할 때 각 막대에 기본적으로 **_오차막대(error bar)_** 가 함께 나타나도록 되어 있다.\n",
    "\n",
    "오차막대가 표시되는 범위는 기본적으로 **_\"부트 스트랩 신뢰구간(Bootstrap confidence interval)\"_** 이라는 것을 사용한다. 이말은 **\"주어지 데이터를 기반으로 유사한 상황의 95%가 이 범위 내에서 결과를 얻을 것”** 을 의미한다. 이 신뢰 구간은 평균(mean) 외에도 중앙값(median), 최빈값(mode) 등의 다른 값들을 함께 고려해서 계산하는 것이기 때문에 꽤나 훌륭한 수치라고 봐도 된다.\n",
    "\n",
    "만약 이 오차막대에 신뢰구간이 아니라 표준편차를 표현하고 싶다면 sns.barplot() 안에 `ci=\"sd\"`라고 지정한다."
   ]
  },
  {
   "cell_type": "code",
   "execution_count": null,
   "metadata": {},
   "outputs": [],
   "source": [
    "ax = sns.barplot(x=('day'), y=('total_bill'), hue='time', data=tips, ci=\"sd\")"
   ]
  },
  {
   "cell_type": "markdown",
   "metadata": {},
   "source": [
    "## Boxplot\n",
    "\n",
    "박스-휘스커 플롯(Box-Whisker Plot) 혹은 간단히 박스 플롯이라 부르는 차트를 그려준다. 박스 플롯은 박스와 박스 바깥의 선(whisker)으로 이루어진다.\n",
    "\n",
    "- boxplot: http://seaborn.pydata.org/generated/seaborn.boxplot.html\n",
    "\n",
    "박스는 실수 값 분포에서 1사분위수(Q1)와 3사분위수(Q3)를 뜻하고 이 3사분위수와 1사분수의 차이(Q3 - Q1)를 IQR(interquartile range)라고 한다. \n",
    "\n",
    " - 박스 내부의 가로선은 중앙값을 나타낸다. \n",
    " - 박스 외부의 세로선은 1사분위 수보다 1.5 x IQR 만큼 낮은 값과 3사분위 수보다 1.5 x IQR 만큼 높은 값의 구간을 기준으로 그 구간의 내부에 있는 가장 큰 데이터와 가장 작은 데이터를 잇는 선분이다. \n",
    " - 그 바깥의 점은 아웃라이어(outlier)라고 부르는데 일일히 점으로 표시한다."
   ]
  },
  {
   "cell_type": "code",
   "execution_count": null,
   "metadata": {},
   "outputs": [],
   "source": [
    "# plt.figure(figsize=(8,6))\n",
    "sns.boxplot(x=\"day\", y='total_bill', data=tips)\n",
    "plt.title(\"요일 별 팁 총액\")\n",
    "plt.show()"
   ]
  },
  {
   "cell_type": "markdown",
   "metadata": {},
   "source": [
    "### hue 로 그룹 묶기"
   ]
  },
  {
   "cell_type": "code",
   "execution_count": null,
   "metadata": {},
   "outputs": [],
   "source": [
    "#plt.figure(figsize=(8,6))\n",
    "sns.boxplot(x=\"day\", y=\"total_bill\", hue=\"smoker\", data=tips, palette=\"Set3\")\n",
    "plt.title(\"흡연석 - 요일 별 팁 총액\")\n",
    "plt.show()"
   ]
  },
  {
   "cell_type": "markdown",
   "metadata": {},
   "source": [
    "## 데이터의 형상\n",
    "\n",
    "violinplot, striplot, swarmplot 등은 카테고리 값에 따른 각 분포의 실제 데이터나 전체 형상을 보여준다."
   ]
  },
  {
   "cell_type": "markdown",
   "metadata": {},
   "source": [
    "### Violinplot\n",
    "\n",
    "violinplot은 세로 방향으로 값의 밀도를 히스토그램 같이 그려주는데 왼쪽과 오른쪽이 대칭이 되도록 하여 바이올린처럼 보인다.\n",
    "\n",
    "- violinplot: http://seaborn.pydata.org/generated/seaborn.violinplot.html"
   ]
  },
  {
   "cell_type": "code",
   "execution_count": null,
   "metadata": {},
   "outputs": [],
   "source": [
    "sns.violinplot(x=('day'), y=('total_bill'), data=tips)\n",
    "plt.title(\"요일 별 팁 총액\")"
   ]
  },
  {
   "cell_type": "markdown",
   "metadata": {},
   "source": [
    "### Stripplot\n",
    "\n",
    "stripplot은 마치 스캐터 플롯처럼 모든 데이터를 점으로 그려준다. \n",
    "\n",
    "- stripplot: http://seaborn.pydata.org/generated/seaborn.stripplot.html\n",
    "\n",
    "#### jitter\n",
    "\n",
    "`jitter=True` 를 설정하면 가로축상의 위치를 무작위로 바꾸어서 데이터의 수가 많을 경우에 겹치지 않도록 한다."
   ]
  },
  {
   "cell_type": "code",
   "execution_count": null,
   "metadata": {},
   "outputs": [],
   "source": [
    "np.random.seed(0)\n",
    "sns.stripplot(x=\"day\", y=\"total_bill\", data=tips, jitter=True)\n",
    "plt.title(\"요일 별 팁 총액\")\n",
    "plt.show()"
   ]
  },
  {
   "cell_type": "markdown",
   "metadata": {},
   "source": [
    "### Swarmpplot\n",
    "\n",
    "swarmplot은 stripplot과 비슷하지만 데이터를 나타내는 점이 겹치지 않도록 옆으로 이동한다.\n",
    "\n",
    "- swarmplot: http://seaborn.pydata.org/generated/seaborn.swarmplot.html"
   ]
  },
  {
   "cell_type": "code",
   "execution_count": null,
   "metadata": {},
   "outputs": [],
   "source": [
    "#plt.figure(figsize=(8,6))\n",
    "sns.swarmplot(x=\"day\", y=\"total_bill\", data=tips)\n",
    "plt.show()"
   ]
  },
  {
   "cell_type": "markdown",
   "metadata": {},
   "source": [
    "# 다차원 복합 데이터\n",
    "\n",
    "2차원 이상 고차원 데이터도 분석이 가능하다. 이것은 hue 같은 그루핑 묶음 인자를 이용하는데 barplot, violinplot, boxplot 등에서 두 가지 피처 값에 대한 값의 변화를 보기 위해 `hue` 인자를 이용한다.\n",
    "\n",
    "hue 인자 값이 그래프로 시각화 하는 것은 플롯 종류에 따라 다르다."
   ]
  },
  {
   "cell_type": "code",
   "execution_count": null,
   "metadata": {},
   "outputs": [],
   "source": [
    "sns.barplot(x=('day'), y=('total_bill'), hue='sex', data=tips)\n",
    "plt.title(\"요일 별 팁 총액\")"
   ]
  },
  {
   "cell_type": "code",
   "execution_count": null,
   "metadata": {},
   "outputs": [],
   "source": [
    "sns.boxplot(x=('day'), y=('total_bill'), hue='sex', data=tips)\n",
    "plt.title(\"Boxplot: 요일 별, 성별 팁 총액\")"
   ]
  },
  {
   "cell_type": "code",
   "execution_count": null,
   "metadata": {},
   "outputs": [],
   "source": [
    "sns.violinplot(x=('day'), y=('total_bill'), hue='sex', data=tips)\n",
    "plt.title(\"Violinplot: 요일 별, 성별 팁 총액\")"
   ]
  },
  {
   "cell_type": "code",
   "execution_count": null,
   "metadata": {},
   "outputs": [],
   "source": [
    "np.random.seed(0)\n",
    "sns.stripplot(x=('day'), y=('total_bill'), hue='sex', data=tips, jitter=True)\n",
    "plt.title(\"Stripplot: 요일 별, 성별 팁 총액\")\n",
    "plt.legend(loc=1)"
   ]
  },
  {
   "cell_type": "code",
   "execution_count": null,
   "metadata": {},
   "outputs": [],
   "source": [
    "sns.swarmplot(x=('day'), y=('total_bill'), hue='sex', data=tips)\n",
    "plt.title(\"Swarmplot: 요일 별, 성별 팁 총액\")\n",
    "plt.legend(loc=1)"
   ]
  },
  {
   "cell_type": "markdown",
   "metadata": {},
   "source": [
    "## 시각화 방법 변경\n",
    "\n",
    "stripplot, violinplot, swarmplot 등 에서는 split 또는 dodge 옵션으로 시각화 방법을 변경할 수도 있다.\n",
    "\n",
    "- split: 그루핑 피처를 합치는지 여부"
   ]
  },
  {
   "cell_type": "code",
   "execution_count": null,
   "metadata": {},
   "outputs": [],
   "source": [
    "sns.violinplot(x=('day'), y=('total_bill'), hue='sex', data=tips, split=True)\n",
    "plt.title(\"Violinplot: 요일 별, 성별 팁 총액\")"
   ]
  },
  {
   "cell_type": "code",
   "execution_count": null,
   "metadata": {},
   "outputs": [],
   "source": [
    "np.random.seed(0)\n",
    "sns.stripplot(x=\"day\", y=\"total_bill\", \n",
    "              hue=\"sex\", data=tips, jitter=True, dodge=True)\n",
    "plt.title(\"Stripplot: 요일 별, 성별 팁 총액 (dodge)\")\n",
    "plt.legend(loc=1)"
   ]
  },
  {
   "cell_type": "code",
   "execution_count": null,
   "metadata": {
    "scrolled": true
   },
   "outputs": [],
   "source": [
    "sns.swarmplot(x=('day'), y=('total_bill'), hue='sex', data=tips, dodge=True)\n",
    "plt.title(\"Swarmplot: 요일 별, 성별 팁 총액, dodge=True\")\n",
    "plt.legend(loc=1)"
   ]
  },
  {
   "cell_type": "markdown",
   "metadata": {},
   "source": [
    "## Catplot\n",
    "\n",
    "catplot은 색상(hue)과 행(row) 등을 동시에 사용하여 3 개 이상의 카테고리 값에 의한 분포 변화를 보여준다.\n",
    "\n",
    "- catplot: http://seaborn.pydata.org/generated/seaborn.factorplot.html"
   ]
  },
  {
   "cell_type": "code",
   "execution_count": null,
   "metadata": {},
   "outputs": [],
   "source": [
    "tips.head(3)"
   ]
  },
  {
   "cell_type": "code",
   "execution_count": null,
   "metadata": {
    "scrolled": true
   },
   "outputs": [],
   "source": [
    "sns.catplot(x=('day'), y=('total_bill'), row=\"sex\", data=tips,\n",
    "           kind=\"swarm\", dodge=True, height=2, aspect=4)"
   ]
  },
  {
   "cell_type": "code",
   "execution_count": null,
   "metadata": {
    "scrolled": true
   },
   "outputs": [],
   "source": [
    "sns.catplot(x=('day'), y=('total_bill'), row=\"smoker\", data=tips,\n",
    "           kind=\"swarm\", dodge=True, height=2, aspect=4)"
   ]
  },
  {
   "cell_type": "markdown",
   "metadata": {},
   "source": [
    "### 플롯 결합\n",
    "\n",
    "2차원 복합 데이터 플롯을 겹합해 출력할 수 있다."
   ]
  },
  {
   "cell_type": "code",
   "execution_count": null,
   "metadata": {},
   "outputs": [],
   "source": [
    "plt.figure(figsize=(8,6))\n",
    "sns.boxplot(x=\"day\", y=\"total_bill\", data=tips)\n",
    "sns.swarmplot(x=\"day\", y=\"total_bill\", data=tips)#, color=\".25\")\n",
    "plt.title(\"요일 별 팁 총액\")\n",
    "plt.show()"
   ]
  },
  {
   "cell_type": "code",
   "execution_count": null,
   "metadata": {},
   "outputs": [],
   "source": [
    "plt.figure(figsize=(8,6))\n",
    "plt.title(\"요일 별 팁 총액(Violin+Swarm Plot)\")\n",
    "\n",
    "sns.violinplot(x=\"day\", y=\"total_bill\", data=tips, inner=None)\n",
    "sns.swarmplot(x=\"day\", y=\"total_bill\", data=tips, color=\"0.9\")\n",
    "# plt.legend(loc=1)\n",
    "plt.show()"
   ]
  },
  {
   "cell_type": "markdown",
   "metadata": {},
   "source": [
    "### Rotation Lable"
   ]
  },
  {
   "cell_type": "code",
   "execution_count": null,
   "metadata": {},
   "outputs": [],
   "source": []
  },
  {
   "cell_type": "code",
   "execution_count": null,
   "metadata": {
    "scrolled": true
   },
   "outputs": [],
   "source": [
    "# plt.figure(figsize=(8,6))\n",
    "ax = sns.barplot(x=\"day\", y=\"total_bill\", data=tips)\n",
    "for item in ax.get_xticklabels():\n",
    "    item.set_rotation(45)\n",
    "plt.title(\"요일 별 팁 총액\")\n",
    "plt.show()"
   ]
  },
  {
   "cell_type": "markdown",
   "metadata": {},
   "source": [
    "https://matplotlib.org/3.1.1/api/_as_gen/matplotlib.axes.Axes.tick_params.html"
   ]
  },
  {
   "cell_type": "code",
   "execution_count": null,
   "metadata": {},
   "outputs": [],
   "source": [
    "ax = sns.barplot(x=\"day\", y=\"total_bill\", data=tips)\n",
    "ax.set_xticklabels(ax.get_xticklabels(), rotation=45)\n",
    "# ax1.tick_params(rotation=30)\n",
    "\n",
    "plt.title(\"요일 별 팁 총액\")\n",
    "plt.show()"
   ]
  },
  {
   "cell_type": "markdown",
   "metadata": {},
   "source": [
    "# Style\n",
    "\n",
    "eaborn을 임포트하면 색상 등을 Matplotlib에서 제공하는 기본 스타일이 아닌 Seaborn에서 지정한 기본 스타일로 바꾼다. 따라서 동일한 Matplotlib 명령을 수행해도 Seaborn을 임포트 한 것과 하지 않은 플롯은 모양이 다르다. 자세한 내용은 다음 문서를 참조한다.\n",
    "\n",
    "- http://seaborn.pydata.org/tutorial/aesthetics.html\n",
    "\n",
    "set 명령으로 색상, 틱 스타일 등 전반적인 플롯 스타일을 Seaborn 기본 스타일로 바꾼다. set_style 명령은 틱 스타일만 바꿀 수 있다. darkgrid, whitegrid, dark, white, 그리고 ticks 스타일을 제공한다.\n"
   ]
  },
  {
   "cell_type": "code",
   "execution_count": null,
   "metadata": {},
   "outputs": [],
   "source": [
    "x = np.linspace(0, 14, 100)\n",
    "y1 = np.sin(x)\n",
    "y2 = 2*np.sin(x+0.5)\n",
    "y3 = 3*np.sin(x+1.0)\n",
    "y4 = 4*np.sin(x+1.5)\n",
    "\n",
    "# plt.figure(figsize=(10,6))\n",
    "plt.plot(x,y1, x,y2, x,y3, x,y4)\n",
    "plt.show()"
   ]
  },
  {
   "cell_type": "markdown",
   "metadata": {},
   "source": [
    "## seaborn style\n",
    "\n",
    "- set_style: http://seaborn.pydata.org/generated/seaborn.set_style.html\n",
    "\n",
    "```python\n",
    "seaborn.set_style(style=None, rc=None)\n",
    " - style: dict or `darkgrid, whitegrid, dark, white, ticks\n",
    "```"
   ]
  },
  {
   "cell_type": "code",
   "execution_count": null,
   "metadata": {},
   "outputs": [],
   "source": [
    "sns.set_style(\"whitegrid\")\n",
    "\n",
    "# plt.figure(figsize=(10,6))\n",
    "plt.plot(x,y1, x,y2, x,y3, x,y4)\n",
    "\n",
    "sns.despine()\n",
    "\n",
    "plt.show()"
   ]
  },
  {
   "cell_type": "code",
   "execution_count": null,
   "metadata": {},
   "outputs": [],
   "source": [
    "sns.set_style(\"dark\")\n",
    "\n",
    "# plt.figure(figsize=(10,6))\n",
    "plt.plot(x,y1, x,y2, x,y3, x,y4)\n",
    "plt.show()"
   ]
  },
  {
   "cell_type": "markdown",
   "metadata": {},
   "source": [
    "## Heatmap\n",
    "\n",
    "heatmap을 이용해 피처 값에 의한 실수 값 변화를 볼 수 있다.\n",
    "\n",
    "- heatmap: http://seaborn.pydata.org/generated/seaborn.heatmap.html\n",
    "\n",
    "```python\n",
    "seaborn.heatmap(data, vmin=None, vmax=None, cmap=None, center=None, robust=False, annot=None, fmt='.2g', annot_kws=None, linewidths=0, linecolor='white', cbar=True, cbar_kws=None, cbar_ax=None, square=False, xticklabels='auto', yticklabels='auto', mask=None, ax=None, **kwargs)\n",
    "```"
   ]
  },
  {
   "cell_type": "markdown",
   "metadata": {},
   "source": [
    "#### Uniform data"
   ]
  },
  {
   "cell_type": "code",
   "execution_count": null,
   "metadata": {},
   "outputs": [],
   "source": [
    "uniform_data = np.random.rand(10, 12)\n",
    "uniform_data[:2]"
   ]
  },
  {
   "cell_type": "markdown",
   "metadata": {},
   "source": [
    "`fmt` 인자는 문자열로 String formatting code to use when adding annotations.\n",
    " - fmd=\"d\": Annotate each cell with the numeric value using integer formatting:\n",
    " - fmt=\"f\": float formatting\n"
   ]
  },
  {
   "cell_type": "code",
   "execution_count": null,
   "metadata": {},
   "outputs": [],
   "source": [
    "sns.heatmap(uniform_data, annot=True, fmt=\"f\", linewidths=1)\n",
    "plt.show()"
   ]
  },
  {
   "cell_type": "markdown",
   "metadata": {},
   "source": [
    "`vmin`, `vmax` : floats\n",
    "\n",
    "Values to anchor the colormap, otherwise they are inferred from the data and other keyword arguments."
   ]
  },
  {
   "cell_type": "code",
   "execution_count": null,
   "metadata": {},
   "outputs": [],
   "source": [
    "sns.heatmap(uniform_data, vmin=0, vmax=1)\n",
    "plt.show()"
   ]
  },
  {
   "cell_type": "code",
   "execution_count": null,
   "metadata": {},
   "outputs": [],
   "source": [
    "flights = sns.load_dataset(\"flights\")\n",
    "flights.head(5)"
   ]
  },
  {
   "cell_type": "code",
   "execution_count": null,
   "metadata": {},
   "outputs": [],
   "source": [
    "flights = flights.pivot(\"month\", \"year\", \"passengers\")\n",
    "flights.head(5)"
   ]
  },
  {
   "cell_type": "code",
   "execution_count": null,
   "metadata": {},
   "outputs": [],
   "source": [
    "plt.figure(figsize=(8,6))\n",
    "sns.heatmap(flights)\n",
    "plt.show()"
   ]
  },
  {
   "cell_type": "code",
   "execution_count": null,
   "metadata": {},
   "outputs": [],
   "source": [
    "plt.figure(figsize=(8,6))\n",
    "sns.heatmap(flights, annot=True, fmt=\"d\")\n",
    "plt.show()"
   ]
  },
  {
   "cell_type": "markdown",
   "metadata": {},
   "source": [
    "## Despine"
   ]
  },
  {
   "cell_type": "code",
   "execution_count": null,
   "metadata": {},
   "outputs": [],
   "source": [
    "# offset\n",
    "plt.figure(figsize=(10,6))\n",
    "plt.plot(x,y1, x,y2, x,y3, x,y4)\n",
    "\n",
    "sns.despine(offset=10)\n",
    "\n",
    "plt.show()"
   ]
  },
  {
   "cell_type": "code",
   "execution_count": null,
   "metadata": {},
   "outputs": [],
   "source": [
    "sns.set_style(\"darkgrid\")\n",
    "sns.lmplot(x=\"total_bill\", y=\"tip\", data=tips, height=7)\n",
    "plt.show()"
   ]
  },
  {
   "cell_type": "code",
   "execution_count": null,
   "metadata": {},
   "outputs": [],
   "source": [
    "sns.lmplot(x=\"total_bill\", y=\"tip\", hue=\"smoker\", data=tips, height=7)\n",
    "plt.show()"
   ]
  },
  {
   "cell_type": "code",
   "execution_count": null,
   "metadata": {},
   "outputs": [],
   "source": [
    "sns.lmplot(x=\"total_bill\", y=\"tip\", hue=\"smoker\", data=tips, palette=\"Set1\", height=7)\n",
    "plt.show()"
   ]
  },
  {
   "cell_type": "markdown",
   "metadata": {},
   "source": [
    "## pairplot"
   ]
  },
  {
   "cell_type": "code",
   "execution_count": null,
   "metadata": {},
   "outputs": [],
   "source": [
    "iris = sns.load_dataset(\"iris\")\n",
    "iris.head(5)"
   ]
  },
  {
   "cell_type": "code",
   "execution_count": null,
   "metadata": {},
   "outputs": [],
   "source": [
    "sns.set(style=\"ticks\")\n",
    "\n",
    "\n",
    "sns.pairplot(iris)\n",
    "plt.show()"
   ]
  },
  {
   "cell_type": "code",
   "execution_count": null,
   "metadata": {},
   "outputs": [],
   "source": [
    "sns.pairplot(iris, hue=\"species\")\n",
    "plt.show()"
   ]
  },
  {
   "cell_type": "code",
   "execution_count": null,
   "metadata": {},
   "outputs": [],
   "source": [
    "sns.pairplot(iris, vars=[\"sepal_width\", \"sepal_length\"])\n",
    "plt.show()"
   ]
  },
  {
   "cell_type": "code",
   "execution_count": null,
   "metadata": {},
   "outputs": [],
   "source": [
    "sns.pairplot(iris, x_vars=[\"sepal_width\", \"sepal_length\"], \n",
    "             y_vars=[\"petal_width\", \"petal_length\"])\n",
    "plt.show()"
   ]
  },
  {
   "cell_type": "markdown",
   "metadata": {},
   "source": [
    "#### Anscombe data"
   ]
  },
  {
   "cell_type": "code",
   "execution_count": null,
   "metadata": {},
   "outputs": [],
   "source": [
    "anscombe = sns.load_dataset(\"anscombe\")\n",
    "anscombe.head(5)"
   ]
  },
  {
   "cell_type": "code",
   "execution_count": null,
   "metadata": {},
   "outputs": [],
   "source": [
    "sns.set_style(\"darkgrid\")\n",
    "\n",
    "sns.lmplot(x=\"x\", y=\"y\", data=anscombe.query(\"dataset == 'I'\"),  ci=None, size=7)\n",
    "plt.show()"
   ]
  },
  {
   "cell_type": "code",
   "execution_count": null,
   "metadata": {},
   "outputs": [],
   "source": [
    "sns.lmplot(x=\"x\", y=\"y\", data=anscombe.query(\"dataset == 'I'\"),\n",
    "           ci=None, scatter_kws={\"s\": 80}, size=7)\n",
    "plt.show()"
   ]
  },
  {
   "cell_type": "code",
   "execution_count": null,
   "metadata": {},
   "outputs": [],
   "source": [
    "sns.lmplot(x=\"x\", y=\"y\", data=anscombe.query(\"dataset == 'II'\"),\n",
    "           order=1, ci=None, scatter_kws={\"s\": 80}, size=7)\n",
    "plt.show()"
   ]
  },
  {
   "cell_type": "code",
   "execution_count": null,
   "metadata": {},
   "outputs": [],
   "source": [
    "sns.lmplot(x=\"x\", y=\"y\", data=anscombe.query(\"dataset == 'II'\"),\n",
    "           order=2, ci=None, scatter_kws={\"s\": 80}, size=7)\n",
    "plt.show()"
   ]
  },
  {
   "cell_type": "code",
   "execution_count": null,
   "metadata": {},
   "outputs": [],
   "source": [
    "sns.lmplot(x=\"x\", y=\"y\", data=anscombe.query(\"dataset == 'III'\"),\n",
    "           ci=None, scatter_kws={\"s\": 80}, size=7)\n",
    "plt.show()"
   ]
  },
  {
   "cell_type": "code",
   "execution_count": null,
   "metadata": {},
   "outputs": [],
   "source": [
    "sns.lmplot(x=\"x\", y=\"y\", data=anscombe.query(\"dataset == 'III'\"),\n",
    "           robust=True, ci=None, scatter_kws={\"s\": 80}, size=7)\n",
    "plt.show()"
   ]
  },
  {
   "cell_type": "markdown",
   "metadata": {},
   "source": [
    "---\n",
    "\n",
    "## Density plot\n",
    "\n",
    "density 관련해서 Seaborn.kdeplot(), [Seaborn.distplot()](https://seaborn.pydata.org/generated/seaborn.distplot.html) 을 이용할 수 있다."
   ]
  },
  {
   "cell_type": "code",
   "execution_count": null,
   "metadata": {},
   "outputs": [],
   "source": [
    "sns.kdeplot(iris['sepal_width'])\n",
    "plt.show()"
   ]
  },
  {
   "cell_type": "markdown",
   "metadata": {},
   "source": [
    "# anscombe 데이터세트"
   ]
  },
  {
   "cell_type": "code",
   "execution_count": null,
   "metadata": {},
   "outputs": [],
   "source": [
    "# anscombe 데이터셋 불러오기\n",
    "anscombe = sns.load_dataset('anscombe')\n",
    "print(type(anscombe))\n",
    "# from IPython.display import display\n",
    "# display(anscombe)"
   ]
  },
  {
   "cell_type": "code",
   "execution_count": null,
   "metadata": {},
   "outputs": [],
   "source": [
    "# 데이터 셋을 확인\n",
    "anscombe.head()"
   ]
  },
  {
   "cell_type": "code",
   "execution_count": null,
   "metadata": {},
   "outputs": [],
   "source": [
    "anscombe.tail()"
   ]
  },
  {
   "cell_type": "code",
   "execution_count": null,
   "metadata": {},
   "outputs": [],
   "source": [
    "anscombe.shape"
   ]
  },
  {
   "cell_type": "markdown",
   "metadata": {},
   "source": [
    "`nunique()` 로 dataset 컬럼의 중복 제외한 요소의 갯수"
   ]
  },
  {
   "cell_type": "code",
   "execution_count": null,
   "metadata": {},
   "outputs": [],
   "source": [
    "# 데이터 셋은 dataset 컬럼으로 구분\n",
    "# 총 몇 개의 데이터 셋이 있는가\n",
    "anscombe['dataset'].nunique() # dataset 컬럼의 중복 제외한 요소의 갯수"
   ]
  },
  {
   "cell_type": "code",
   "execution_count": null,
   "metadata": {},
   "outputs": [],
   "source": [
    "# 불린 연산으로 데이터셋을 분할\n",
    "ds1 = anscombe[anscombe['dataset'] == 'I']\n",
    "ds2 = anscombe[anscombe['dataset'] == 'II']\n",
    "ds3 = anscombe[anscombe['dataset'] == 'III']\n",
    "ds4 = anscombe[anscombe['dataset'] == 'IV']"
   ]
  },
  {
   "cell_type": "code",
   "execution_count": null,
   "metadata": {},
   "outputs": [],
   "source": [
    "# I 데이터 셋의 기초 통계량\n",
    "ds1.describe()"
   ]
  },
  {
   "cell_type": "code",
   "execution_count": null,
   "metadata": {},
   "outputs": [],
   "source": [
    "ds2.describe()"
   ]
  },
  {
   "cell_type": "code",
   "execution_count": null,
   "metadata": {},
   "outputs": [],
   "source": [
    "# ds1의 그래프\n",
    "import matplotlib.pyplot as plt\n",
    "plt.plot(ds1['x'], ds1['y'], \n",
    "    'o') # 마커\n",
    "# o, *, ^, -(라인그래프)\n",
    "# 점그래프, 선그래프는 plot 함수로 그린다"
   ]
  },
  {
   "cell_type": "code",
   "execution_count": null,
   "metadata": {},
   "outputs": [],
   "source": [
    "# ds2를 시각화\n",
    "plt.plot(ds2['x'], ds2['y'], '*')"
   ]
  },
  {
   "cell_type": "code",
   "execution_count": null,
   "metadata": {},
   "outputs": [],
   "source": [
    "# anscombe의 4분할 그래프\n",
    "# 기본 틀 생성 : figure\n",
    "fig = plt.figure(figsize=(12,8))\n",
    "# 기본 틀에 격자 추가 : add_subplot\n",
    "axe1 = fig.add_subplot(2, 2, 1) # 2 * 2 격자 중 1번째 위치\n",
    "axe2 = fig.add_subplot(2, 2, 2)\n",
    "axe3 = fig.add_subplot(2, 2, 3)\n",
    "axe4 = fig.add_subplot(2, 2, 4)\n",
    "# 서브 플롯에 플롯 그리기\n",
    "axe1.plot(ds1['x'], ds1['y'], 'o')\n",
    "axe2.plot(ds2['x'], ds2['y'], '+', color=\"orange\")\n",
    "axe3.plot(ds3['x'], ds3['y'], '*', color=\"green\")\n",
    "axe4.plot(ds4['x'], ds4['y'], 'o', color='red')\n",
    "\n",
    "# 서브 플롯의 타이틀\n",
    "axe1.set_title(\"dataset I\")\n",
    "axe2.set_title(\"dataset II\")\n",
    "axe3.set_title(\"dataset III\")\n",
    "axe4.set_title(\"dataset IV\")\n",
    "\n",
    "# 전체 타이틀\n",
    "fig.suptitle(\"Anscombe Dataset\")\n",
    "\n",
    "# 레이아웃 조정\n",
    "fig.tight_layout()\n",
    "# 플롯의 저장\n",
    "plt.savefig(\"./data/anscombe.png\")\n",
    "\n",
    "# 플롯 보여주기\n",
    "plt.show()"
   ]
  },
  {
   "cell_type": "markdown",
   "metadata": {},
   "source": [
    "# Figure-level과 axes-level 함수\n",
    "\n",
    "- https://seaborn.pydata.org/tutorial/function_overview.html#figure-level-vs-axes-level-functions"
   ]
  },
  {
   "cell_type": "markdown",
   "metadata": {},
   "source": [
    "<img src='https://seaborn.pydata.org/_images/function_overview_8_0.png' width='600'>"
   ]
  },
  {
   "cell_type": "markdown",
   "metadata": {},
   "source": [
    "# 참고\n",
    "\n",
    "1. [데이터사이언스스크쿨 - Seaborn을 사용한 데이터 분포 시각화](https://datascienceschool.net/01%20python/05.04%20Seaborn%EC%9D%84%20%EC%82%AC%EC%9A%A9%ED%95%9C%20%EB%8D%B0%EC%9D%B4%ED%84%B0%20%EB%B6%84%ED%8F%AC%20%EC%8B%9C%EA%B0%81%ED%99%94.html)"
   ]
  }
 ],
 "metadata": {
  "kernelspec": {
   "display_name": "Python 3 (ipykernel)",
   "language": "python",
   "name": "python3"
  },
  "language_info": {
   "codemirror_mode": {
    "name": "ipython",
    "version": 3
   },
   "file_extension": ".py",
   "mimetype": "text/x-python",
   "name": "python",
   "nbconvert_exporter": "python",
   "pygments_lexer": "ipython3",
   "version": "3.10.5"
  }
 },
 "nbformat": 4,
 "nbformat_minor": 4
}
