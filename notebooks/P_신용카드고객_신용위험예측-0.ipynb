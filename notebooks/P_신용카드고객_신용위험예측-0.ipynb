{
 "cells": [
  {
   "cell_type": "markdown",
   "metadata": {},
   "source": [
    "# [Project] 신용카드 고객 신용 위험 예측\n",
    "\n",
    "- 거래 데이터 분석을 통하여 고객 신용 위험을 예측하는 분류 모델 수행\n",
    "- 신용 위험에 영향을 미치는 피처들에 대한 분석 수행"
   ]
  },
  {
   "cell_type": "markdown",
   "metadata": {},
   "source": [
    "## 프로젝트 목적\n",
    "\n",
    "프로젝트에서는 독일 금융 거래 고객 데이터를 바탕으로 금융 고객의 신용 위험을 예측해보는 분류 모델을 구현합니다. 데이터 분석 및 분류 모델을 바탕으로 새로운 고객의 데이터를 받았을 때, 신용 위험 여부를 예측할 수 있으며, 어떠한 특성 데이터가 위험 여부를 예측하는데 큰 영향을 미쳤는지 또한 알 수 있습니다."
   ]
  },
  {
   "cell_type": "markdown",
   "metadata": {},
   "source": [
    "## 가이드\n",
    "\n",
    "1. *German Creditcard 데이터:** 데이터를 다운로드하고 컬럼 피처 구조와 내용을 확인\n",
    "    \n",
    "\n",
    "    1. 결측값: 비어 있는 데이터 또는 쓸모 없는 데이터를 삭제\n",
    "    2. 데이터 시각화\n",
    "        - 피처의 속성을 시각화\n",
    "        - 피처와 Risk 의 관계를 분석    \n",
    "\n",
    "    3. **데이터 전 처리\n",
    "        - 문자 분류형을 수치 라벨과 원-핫 인코딩\n",
    "        - 학습, 테스트 데이터 분리\n",
    "\n",
    "2. **머신러닝 모델 학습:** 분류 모델을 사용하여 학습 수행<br>\n",
    "    - 기본 분류 모델 학습 - 의사결정나무<br>\n",
    "    - 다양한 분류 모델 학습<br>\n",
    "    - 모델 튜닝 및 K-fold 교차 검증<br>\n",
    "\n",
    "3. **평가 및 예측:** 학습된 모델을 바탕으로 평가 및 예측 수행<br>\n",
    "    - Confusion Matrix<br>\n",
    "    - 테스트 데이터의 예측값 출력<br>\n",
    "\n"
   ]
  },
  {
   "cell_type": "code",
   "execution_count": null,
   "metadata": {
    "id": "1rRo8oNqZ-Rj"
   },
   "outputs": [],
   "source": [
    "import numpy as np\n",
    "import pandas as pd\n",
    "\n",
    "import tensorflow as tf\n",
    "from tensorflow import keras\n",
    "\n",
    "print(tf.__version__)"
   ]
  },
  {
   "cell_type": "code",
   "execution_count": null,
   "metadata": {
    "tags": []
   },
   "outputs": [],
   "source": [
    "import matplotlib.pyplot as plt\n",
    "import matplotlib.font_manager as fm\n",
    "import seaborn as sns\n",
    "%matplotlib inline"
   ]
  },
  {
   "cell_type": "code",
   "execution_count": null,
   "metadata": {
    "tags": []
   },
   "outputs": [],
   "source": [
    "# font_path = 'C:/Windows/Fonts/NanumGothic.ttf'\n",
    "# font_path = '/Users/qkboo/Library/Fonts/NanumGothic.otf'\n",
    "font_path = \"/usr/share/fonts/truetype/nanum/NanumGothic.ttf\"\n",
    "fontname = fm.FontProperties(fname=font_path, size=16).get_name()  # 폰트 패밀리 이름!\n",
    "plt.rc('font', family=fontname)  #  'NanumGothic'\n",
    "# plt.rcParams[\"font.family\"] = fontname\n",
    "\n",
    "plt.rcParams['axes.unicode_minus'] = False #glypy 8722: Axes에 - 표시 안되는 것\n",
    "plt.title('한글 타이틀...')"
   ]
  },
  {
   "cell_type": "markdown",
   "metadata": {},
   "source": [
    "---"
   ]
  },
  {
   "cell_type": "markdown",
   "metadata": {},
   "source": [
    "# 1. German Creditcard 데이터\n",
    "-  https://archive.ics.uci.edu/ml/datasets/statlog+(german+credit+data)"
   ]
  },
  {
   "cell_type": "markdown",
   "metadata": {
    "id": "gFh9ne3FZ-On"
   },
   "source": [
    "### 데이터 다운로드\n",
    "https://archive.ics.uci.edu/ml/datasets/statlog+(german+credit+data) 의 실제 데이터를 정리한 kaggle 의 `german_credit_data.csv`  파일를 사용한다.\n",
    "\n",
    " - https://www.kaggle.com/datasets/uciml/german-credit\n"
   ]
  },
  {
   "cell_type": "markdown",
   "metadata": {},
   "source": [
    "> "
   ]
  },
  {
   "cell_type": "markdown",
   "metadata": {},
   "source": [
    "### 데이터 속성 확인\n",
    "\n",
    "pandas를 사용하여 `german_credit_data.csv` 데이터를 읽고 속성을 파악해 본다.\n",
    "\n",
    "- Age (Numeric: Age in years)\n",
    "- Sex (Categories: male, female)\n",
    "- Job (Categories : 0 - unskilled and non-resident, 1 - unskilled and resident, 2 - skilled, 3 - highly skilled)\n",
    "- Housing (Categories: own, rent, or free)\n",
    "- Saving accounts (Categories: little, moderate, quite rich, rich)\n",
    "- Checking account (Categories: little, moderate, rich)\n",
    "- Credit amount (Numeric: Amount of credit in DM - Deutsche Mark)\n",
    "- Duration (Numeric: Duration for which the credit is given in months)\n",
    "- Purpose (Categories: car, furniture/equipment, radio/TV, domestic appliances, repairs, education, business, vacation/others)\n",
    "- Risk (0 - Person is not at risk, 1 - Person is at risk(defaulter))\n"
   ]
  },
  {
   "cell_type": "code",
   "execution_count": null,
   "metadata": {},
   "outputs": [],
   "source": [
    "df = pd.read_csv(\"data/german_credit_data.csv\")\n",
    "df.head()"
   ]
  },
  {
   "cell_type": "code",
   "execution_count": null,
   "metadata": {},
   "outputs": [],
   "source": [
    "df.columns"
   ]
  },
  {
   "cell_type": "code",
   "execution_count": null,
   "metadata": {
    "scrolled": true
   },
   "outputs": [],
   "source": [
    "df.info()"
   ]
  },
  {
   "cell_type": "markdown",
   "metadata": {},
   "source": [
    "기술통계 표를 출력해 보자."
   ]
  },
  {
   "cell_type": "code",
   "execution_count": null,
   "metadata": {},
   "outputs": [],
   "source": [
    "df.describe()"
   ]
  },
  {
   "cell_type": "markdown",
   "metadata": {},
   "source": [
    " "
   ]
  },
  {
   "cell_type": "markdown",
   "metadata": {},
   "source": [
    "## 결측값 확인"
   ]
  },
  {
   "cell_type": "markdown",
   "metadata": {},
   "source": [
    "1. **결측값(missing value)** 또는 **이상치(outlier)**\n",
    "1. 데이터 형식 변경 등"
   ]
  },
  {
   "cell_type": "markdown",
   "metadata": {},
   "source": [
    "결측값을 확인한다."
   ]
  },
  {
   "cell_type": "code",
   "execution_count": null,
   "metadata": {
    "scrolled": true
   },
   "outputs": [],
   "source": [
    "# 결측값 정보를 출력합니다.\n",
    "df.isna().sum()"
   ]
  },
  {
   "cell_type": "markdown",
   "metadata": {},
   "source": [
    "### 작업용 DataFrame 으로 복사한다."
   ]
  },
  {
   "cell_type": "code",
   "execution_count": null,
   "metadata": {},
   "outputs": [],
   "source": [
    "# 작업용으로 df_work 복사한다. \n",
    "df_work = df.copy()"
   ]
  },
  {
   "cell_type": "markdown",
   "metadata": {},
   "source": [
    "Saving accounts 는 범주형으로 전체 값의 구성을 value_counts 로 확인하자"
   ]
  },
  {
   "cell_type": "code",
   "execution_count": null,
   "metadata": {},
   "outputs": [],
   "source": [
    "df_work['Saving accounts'].value_counts()"
   ]
  },
  {
   "cell_type": "markdown",
   "metadata": {},
   "source": [
    "'Saving accounts' ,'Checking account' 변수에 있는 결측값을 `Others`로 추가해 준다."
   ]
  },
  {
   "cell_type": "code",
   "execution_count": null,
   "metadata": {},
   "outputs": [],
   "source": [
    "df_work['Saving accounts'] = df_work['Saving accounts'].fillna('Others')\n",
    "df_work['Checking account'] = df_work['Checking account'].fillna('Others')"
   ]
  },
  {
   "cell_type": "code",
   "execution_count": null,
   "metadata": {},
   "outputs": [],
   "source": [
    "df_work.isna().sum()"
   ]
  },
  {
   "cell_type": "code",
   "execution_count": null,
   "metadata": {},
   "outputs": [],
   "source": [
    "df_work['Saving accounts'].value_counts()"
   ]
  },
  {
   "cell_type": "code",
   "execution_count": null,
   "metadata": {},
   "outputs": [],
   "source": [
    "df_work['Checking account'].value_counts()"
   ]
  },
  {
   "cell_type": "code",
   "execution_count": null,
   "metadata": {},
   "outputs": [],
   "source": [
    "df_work.info()"
   ]
  },
  {
   "cell_type": "markdown",
   "metadata": {},
   "source": [
    " "
   ]
  },
  {
   "cell_type": "markdown",
   "metadata": {},
   "source": [
    "## 데이터 시각화"
   ]
  },
  {
   "cell_type": "markdown",
   "metadata": {},
   "source": [
    "각 변수 분포를 알아보기 위하여 시각화를 수행하겠습니다."
   ]
  },
  {
   "cell_type": "markdown",
   "metadata": {},
   "source": [
    "### - `Age` 중심 분석"
   ]
  },
  {
   "cell_type": "code",
   "execution_count": null,
   "metadata": {},
   "outputs": [],
   "source": [
    "plt.figure(figsize=(15,5))\n",
    "\n",
    "# sns.set(style='darkgrid')\n",
    "ax = sns.countplot(x='Age', data=df_work)"
   ]
  },
  {
   "cell_type": "markdown",
   "metadata": {},
   "source": [
    "### `- Sex` 기준 분석\n",
    "\n",
    "Sex 속성의 요소별 개수를 확인해 본다."
   ]
  },
  {
   "cell_type": "code",
   "execution_count": null,
   "metadata": {},
   "outputs": [],
   "source": [
    "df_work['Sex'].value_counts()"
   ]
  },
  {
   "cell_type": "markdown",
   "metadata": {},
   "source": [
    "seaborn 을 이용해 Sex 속성의 개수를 그려본다."
   ]
  },
  {
   "cell_type": "code",
   "execution_count": null,
   "metadata": {},
   "outputs": [],
   "source": [
    "sns.countplot(x='Sex', data=df_work)"
   ]
  },
  {
   "cell_type": "markdown",
   "metadata": {},
   "source": [
    "value_counts() 결과를 plot으로 Sex 속성의 개수를 그려본다."
   ]
  },
  {
   "cell_type": "code",
   "execution_count": null,
   "metadata": {},
   "outputs": [],
   "source": [
    "df_work['Sex'].value_counts().plot(kind='bar')"
   ]
  },
  {
   "cell_type": "markdown",
   "metadata": {},
   "source": [
    "Sex 속성 기준으로 신용위험 상태를 표시해 보자."
   ]
  },
  {
   "cell_type": "code",
   "execution_count": null,
   "metadata": {},
   "outputs": [],
   "source": [
    "sns.countplot(x='Risk', hue='Sex', data=df_work)"
   ]
  },
  {
   "cell_type": "code",
   "execution_count": null,
   "metadata": {},
   "outputs": [],
   "source": [
    "sns.countplot(x='Sex', hue='Risk', data=df_work)"
   ]
  },
  {
   "cell_type": "markdown",
   "metadata": {},
   "source": [
    "Sex 속성을 기준으로 나이 분포를 살펴보자."
   ]
  },
  {
   "cell_type": "code",
   "execution_count": null,
   "metadata": {},
   "outputs": [],
   "source": [
    "sns.displot(x='Age', hue='Sex', data=df_work)"
   ]
  },
  {
   "cell_type": "markdown",
   "metadata": {},
   "source": [
    "### - `Job` 기준 분석\n",
    "\n",
    "- Job (Categories : 0 - unskilled and non-resident, 1 - unskilled and resident, 2 - skilled, 3 - highly skilled)"
   ]
  },
  {
   "cell_type": "code",
   "execution_count": null,
   "metadata": {},
   "outputs": [],
   "source": [
    "df_work['Job'].value_counts()"
   ]
  },
  {
   "cell_type": "code",
   "execution_count": null,
   "metadata": {},
   "outputs": [],
   "source": [
    "sns.countplot(x='Job', data=df_work)"
   ]
  },
  {
   "cell_type": "code",
   "execution_count": null,
   "metadata": {},
   "outputs": [],
   "source": [
    "df_work['Job'].value_counts().plot(kind='barh')"
   ]
  },
  {
   "cell_type": "markdown",
   "metadata": {},
   "source": [
    "Job 속성과 신용위험을 비교해 보자"
   ]
  },
  {
   "cell_type": "code",
   "execution_count": null,
   "metadata": {},
   "outputs": [],
   "source": [
    "sns.countplot(x='Job', hue='Risk', data=df_work)"
   ]
  },
  {
   "cell_type": "markdown",
   "metadata": {},
   "source": [
    "### - `Housing ` 분석"
   ]
  },
  {
   "cell_type": "code",
   "execution_count": null,
   "metadata": {},
   "outputs": [],
   "source": [
    "df_work['Housing'].value_counts()"
   ]
  },
  {
   "cell_type": "code",
   "execution_count": null,
   "metadata": {},
   "outputs": [],
   "source": [
    "sns.countplot(x='Housing', data=df_work)"
   ]
  },
  {
   "cell_type": "code",
   "execution_count": null,
   "metadata": {},
   "outputs": [],
   "source": [
    "df_work['Housing'].value_counts().plot(kind='barh')"
   ]
  },
  {
   "cell_type": "markdown",
   "metadata": {},
   "source": [
    "Housing 속성과 신용위험을 비교해 보자"
   ]
  },
  {
   "cell_type": "code",
   "execution_count": null,
   "metadata": {},
   "outputs": [],
   "source": [
    "sns.countplot(x='Housing', hue='Risk', data=df_work)"
   ]
  },
  {
   "cell_type": "markdown",
   "metadata": {},
   "source": [
    "### -`Saving accounts ` 분석\n",
    "\n",
    "Saving accounts 속성을 관련있는 속성과 비교한다.\n",
    "\n",
    "- Saving accounts (Categories: little, moderate, quite rich, rich)\n"
   ]
  },
  {
   "cell_type": "code",
   "execution_count": null,
   "metadata": {},
   "outputs": [],
   "source": [
    "df_work['Saving accounts'].value_counts()"
   ]
  },
  {
   "cell_type": "code",
   "execution_count": null,
   "metadata": {},
   "outputs": [],
   "source": [
    "sns.countplot(x='Saving accounts', data=df_work)"
   ]
  },
  {
   "cell_type": "code",
   "execution_count": null,
   "metadata": {},
   "outputs": [],
   "source": [
    "df_work['Saving accounts'].value_counts().plot(kind='barh')"
   ]
  },
  {
   "cell_type": "markdown",
   "metadata": {},
   "source": [
    "Saving accounts 속성과 신용위험을 비교해 보자"
   ]
  },
  {
   "cell_type": "code",
   "execution_count": null,
   "metadata": {},
   "outputs": [],
   "source": [
    "sns.countplot(x='Saving accounts', hue='Risk', data=df_work)"
   ]
  },
  {
   "cell_type": "markdown",
   "metadata": {},
   "source": [
    "Sex 속성 기준해서 Saving accounts 속성을 비교하자"
   ]
  },
  {
   "cell_type": "code",
   "execution_count": null,
   "metadata": {},
   "outputs": [],
   "source": [
    "sns.countplot(x='Saving accounts', hue='Sex', data=df_work)"
   ]
  },
  {
   "cell_type": "markdown",
   "metadata": {},
   "source": [
    "### - `Checking account ` 시각화\n",
    "\n",
    "Checking account 속성을 관련있는 속성과 비교한다.\n",
    "\n",
    "- Checking account (Categories: little, moderate, rich)"
   ]
  },
  {
   "cell_type": "code",
   "execution_count": null,
   "metadata": {},
   "outputs": [],
   "source": [
    "df_work['Checking account'].value_counts()"
   ]
  },
  {
   "cell_type": "code",
   "execution_count": null,
   "metadata": {},
   "outputs": [],
   "source": [
    "sns.countplot(x='Checking account', data=df_work)"
   ]
  },
  {
   "cell_type": "code",
   "execution_count": null,
   "metadata": {},
   "outputs": [],
   "source": [
    "df_work['Checking account'].value_counts().plot(kind='barh')"
   ]
  },
  {
   "cell_type": "markdown",
   "metadata": {},
   "source": [
    "Checking account 속성과 신용위험을 비교해 보자"
   ]
  },
  {
   "cell_type": "code",
   "execution_count": null,
   "metadata": {},
   "outputs": [],
   "source": [
    "sns.countplot(x='Checking account', hue='Risk', data=df_work)"
   ]
  },
  {
   "cell_type": "markdown",
   "metadata": {},
   "source": [
    "Sex 속성 기준해서 Saving accounts 속성을 비교하자"
   ]
  },
  {
   "cell_type": "code",
   "execution_count": null,
   "metadata": {},
   "outputs": [],
   "source": [
    "sns.countplot(x='Checking account', hue='Sex', data=df_work)"
   ]
  },
  {
   "cell_type": "markdown",
   "metadata": {},
   "source": [
    "### - `Credit amount ` 분석\n",
    "\n",
    "- Credit amount (Numeric: Amount of credit in DM - Deutsche Mark)"
   ]
  },
  {
   "cell_type": "code",
   "execution_count": null,
   "metadata": {},
   "outputs": [],
   "source": [
    "# 수치형 데이터는 boxplot으로 분포를 출력합니다.\n",
    "plt.boxplot(df_work['Credit amount'])"
   ]
  },
  {
   "cell_type": "code",
   "execution_count": null,
   "metadata": {},
   "outputs": [],
   "source": [
    "sns.boxplot(x='Risk', y='Credit amount', data=df_work)"
   ]
  },
  {
   "cell_type": "markdown",
   "metadata": {},
   "source": [
    "### - `Duration ` 시각화"
   ]
  },
  {
   "cell_type": "code",
   "execution_count": null,
   "metadata": {},
   "outputs": [],
   "source": [
    "df_work['Duration'].head()"
   ]
  },
  {
   "cell_type": "markdown",
   "metadata": {},
   "source": [
    "Duration 속성의 사분위수를 살펴보자\n",
    " - boxplot() 사용"
   ]
  },
  {
   "cell_type": "code",
   "execution_count": null,
   "metadata": {},
   "outputs": [],
   "source": [
    "sns.boxplot(y='Duration', data=df_work)"
   ]
  },
  {
   "cell_type": "code",
   "execution_count": null,
   "metadata": {},
   "outputs": [],
   "source": [
    "sns.boxplot(x='Risk', y='Duration', data=df_work)"
   ]
  },
  {
   "cell_type": "markdown",
   "metadata": {},
   "source": [
    "Duration 속성을 Risk 기준에 맞춰 출력하자."
   ]
  },
  {
   "cell_type": "code",
   "execution_count": null,
   "metadata": {},
   "outputs": [],
   "source": [
    "sns.countplot(x='Duration', hue='Risk', data=df_work)\n",
    "plt.xticks(rotation=45)\n",
    "plt.show()"
   ]
  },
  {
   "cell_type": "code",
   "execution_count": null,
   "metadata": {},
   "outputs": [],
   "source": []
  },
  {
   "cell_type": "code",
   "execution_count": null,
   "metadata": {},
   "outputs": [],
   "source": [
    "plt.boxplot(df_work['Duration'])"
   ]
  },
  {
   "cell_type": "code",
   "execution_count": null,
   "metadata": {},
   "outputs": [],
   "source": [
    "sns.boxplot(x='Risk', y='Duration', data=df_work)"
   ]
  },
  {
   "cell_type": "markdown",
   "metadata": {},
   "source": [
    "### - `Purpose` 분석\n",
    "\n",
    " - Purpose (Categories: car, furniture/equipment, radio/TV, domestic appliances, repairs, education, business, vacation/others)"
   ]
  },
  {
   "cell_type": "code",
   "execution_count": null,
   "metadata": {},
   "outputs": [],
   "source": [
    "df_work['Purpose'].value_counts()"
   ]
  },
  {
   "cell_type": "markdown",
   "metadata": {},
   "source": [
    "Purpose 속성의 개수를 그린다."
   ]
  },
  {
   "cell_type": "code",
   "execution_count": null,
   "metadata": {},
   "outputs": [],
   "source": [
    "sns.countplot(x='Purpose', data=df_work)\n",
    "plt.xticks(rotation=45)\n",
    "plt.show()"
   ]
  },
  {
   "cell_type": "code",
   "execution_count": null,
   "metadata": {},
   "outputs": [],
   "source": [
    "df_work['Purpose'].value_counts().plot(kind='barh')"
   ]
  },
  {
   "cell_type": "markdown",
   "metadata": {},
   "source": [
    "Purpose 속성을 Risk 기준에 맞춰 출력하자."
   ]
  },
  {
   "cell_type": "code",
   "execution_count": null,
   "metadata": {},
   "outputs": [],
   "source": [
    "sns.countplot(x='Purpose', hue='Risk', data=df_work)\n",
    "plt.xticks(rotation=45)\n",
    "plt.show()"
   ]
  },
  {
   "cell_type": "code",
   "execution_count": null,
   "metadata": {},
   "outputs": [],
   "source": []
  },
  {
   "cell_type": "markdown",
   "metadata": {},
   "source": [
    "> "
   ]
  },
  {
   "cell_type": "markdown",
   "metadata": {},
   "source": [
    "### \"ex)\" 데이터에서  Age 속성 기준으로 전체와  `Risk` 속성 전부와 속성이 `bad`, `good` 인 구분해 밀집도 그래프를 그려보자.\n",
    "\n",
    " - seaborn.kdeplot() 사용"
   ]
  },
  {
   "cell_type": "code",
   "execution_count": null,
   "metadata": {},
   "outputs": [],
   "source": [
    "sns.kdeplot(df_work['Age'], label='전연령')\n",
    "sns.kdeplot(df_work[df_work['Risk']=='good']['Age'], label='신용good')\n",
    "sns.kdeplot(df_work[df_work['Risk']=='bad']['Age'], label='신용bad')\n",
    "\n",
    "plt.legend(title='Risk')\n",
    "plt.show()"
   ]
  },
  {
   "cell_type": "markdown",
   "metadata": {},
   "source": [
    "> "
   ]
  },
  {
   "cell_type": "markdown",
   "metadata": {},
   "source": [
    "\n",
    "### \"ex)\" 데이터에서 `Risk` 속성이 `bad`이고,  `Sex` 가 male 이고, `Saving accounts`가 모두 `little`인 샘플 수를 살펴보자\n",
    "\n",
    "Saving accounts 에서 little 이 다수로 남녀별 비교를 해보자\n",
    "\n",
    "\n",
    " - `.loc[]` 연산자 사용"
   ]
  },
  {
   "cell_type": "code",
   "execution_count": null,
   "metadata": {},
   "outputs": [],
   "source": [
    "test = df_work.loc[ (df_work['Risk'] == 'bad') & (df_work['Sex'] == 'male')  & (df_work['Saving accounts'] == 'little') ]\n",
    "test.head()"
   ]
  },
  {
   "cell_type": "markdown",
   "metadata": {},
   "source": [
    "위 결과를 이용해 Housing 기준으로 Duration 그래프를 그려보자."
   ]
  },
  {
   "cell_type": "code",
   "execution_count": null,
   "metadata": {},
   "outputs": [],
   "source": [
    "sns.countplot(x='Duration', hue='Housing', data=test)"
   ]
  },
  {
   "cell_type": "code",
   "execution_count": null,
   "metadata": {},
   "outputs": [],
   "source": []
  },
  {
   "cell_type": "markdown",
   "metadata": {},
   "source": [
    " "
   ]
  },
  {
   "cell_type": "markdown",
   "metadata": {},
   "source": [
    "## 데이터 전 처리"
   ]
  },
  {
   "cell_type": "markdown",
   "metadata": {},
   "source": [
    "신용 위험은 Risk 속성에 대해서 good, bad 분류로 구분을 하기 때문에 여기서 분류 모델을 사용해서 모델을 구성한다.\n",
    "\n",
    "데이터를 학습에 적합하게 준비하기 위해서 다음과 같은 전처리를 수행하겠습니다.\n",
    "\n",
    "- Object 자료형 -> 숫자 자료형 변환하기\n",
    "- 학습 데이터와 테스트 데이터로 나누기"
   ]
  },
  {
   "cell_type": "markdown",
   "metadata": {},
   "source": [
    "### 수치형 변경\n",
    "\n",
    "수치형 int64 크기를 int16 으로 줄여도 무방할 정도로 작은 범위 숫자를 사용한다."
   ]
  },
  {
   "cell_type": "code",
   "execution_count": null,
   "metadata": {},
   "outputs": [],
   "source": [
    "df_work.info()"
   ]
  },
  {
   "cell_type": "markdown",
   "metadata": {},
   "source": [
    "Age, Job, Duration 속성의 최대 값을 확인해 보자\n",
    " - max() 사용"
   ]
  },
  {
   "cell_type": "code",
   "execution_count": null,
   "metadata": {},
   "outputs": [],
   "source": [
    "df['Age'].max(), df['Job'].max(), df['Duration'].max()"
   ]
  },
  {
   "cell_type": "markdown",
   "metadata": {},
   "source": [
    "Age, Job, Duration 속성에 int16으로 변경한다.\n",
    " - astype() 사용"
   ]
  },
  {
   "cell_type": "code",
   "execution_count": null,
   "metadata": {},
   "outputs": [],
   "source": [
    "df['Age'] = df['Age'].astype(np.int16)\n",
    "df['Job'] = df['Job'].astype(np.int16)\n",
    "df['Duration'] = df['Duration'].astype(np.int16)"
   ]
  },
  {
   "cell_type": "code",
   "execution_count": null,
   "metadata": {},
   "outputs": [],
   "source": [
    "df.info()"
   ]
  },
  {
   "cell_type": "markdown",
   "metadata": {},
   "source": [
    "###  범주형 Object 를 수치 인코딩하자\n",
    " - LabelEncoder 사용\n",
    " -  get_dummies() 사용"
   ]
  },
  {
   "cell_type": "code",
   "execution_count": null,
   "metadata": {},
   "outputs": [],
   "source": [
    "from sklearn.preprocessing import LabelEncoder\n",
    "\n",
    "enclabel = LabelEncoder()"
   ]
  },
  {
   "cell_type": "markdown",
   "metadata": {},
   "source": [
    "LabelEncoder 를 사용해서 Risk 속성을 수치 분류형으로 변환하고 이를 정답 레이블인 target 에 저장한다."
   ]
  },
  {
   "cell_type": "code",
   "execution_count": null,
   "metadata": {},
   "outputs": [],
   "source": [
    "target = enclabel.fit_transform( df_work['Risk'] )\n",
    "target[:10]"
   ]
  },
  {
   "cell_type": "markdown",
   "metadata": {},
   "source": [
    "Sex','Housing', 'Saving accounts', 'Checking account','Purpose' 속성은 분류형인 object 자료형인데 머신러닝 학습을 위해서 수치 분류형으로 변형해야 한`다.\n",
    "\n",
    "get_dummies 함수를 사용해 범주 값에 원-핫 인코딩 적용해 보자."
   ]
  },
  {
   "cell_type": "code",
   "execution_count": null,
   "metadata": {},
   "outputs": [],
   "source": [
    "pd.get_dummies(df_work['Sex'], prefix='Sex')"
   ]
  },
  {
   "cell_type": "code",
   "execution_count": null,
   "metadata": {},
   "outputs": [],
   "source": [
    "_features = df_work[ ['Sex','Housing', 'Saving accounts', 'Checking account','Purpose'] ]\n",
    "_features"
   ]
  },
  {
   "cell_type": "markdown",
   "metadata": {},
   "source": [
    "이제 주요 피처인 Sex','Housing', 'Saving accounts', 'Checking account','Purpose' 에 대해서 원-핫 인코딩을 해서 학습용 데이터로 저장하자."
   ]
  },
  {
   "cell_type": "code",
   "execution_count": null,
   "metadata": {},
   "outputs": [],
   "source": [
    "train = pd.get_dummies(_features)\n",
    "train"
   ]
  },
  {
   "cell_type": "code",
   "execution_count": null,
   "metadata": {},
   "outputs": [],
   "source": [
    "train = pd.concat([train], axis=1)\n",
    "train.info()"
   ]
  },
  {
   "cell_type": "code",
   "execution_count": null,
   "metadata": {},
   "outputs": [],
   "source": [
    "train.shape, target.shape"
   ]
  },
  {
   "cell_type": "markdown",
   "metadata": {},
   "source": [
    "### 훈련/검증 데이터 분리\n",
    "\n",
    "머신러닝의 성능을 평가 하기 위해서는 전체 데이터를 학습에 사용하지 않고 학습용 데이터와 테스트용 데이터를 나누어 사용합니다."
   ]
  },
  {
   "cell_type": "code",
   "execution_count": null,
   "metadata": {},
   "outputs": [],
   "source": [
    "from sklearn.model_selection import train_test_split\n",
    "\n",
    "X_train, X_test, y_train, y_test = train_test_split(train, target, test_size = 0.2, random_state = 0)"
   ]
  },
  {
   "cell_type": "code",
   "execution_count": null,
   "metadata": {},
   "outputs": [],
   "source": [
    "X_train.shape, X_test.shape"
   ]
  },
  {
   "cell_type": "markdown",
   "metadata": {},
   "source": [
    " "
   ]
  },
  {
   "cell_type": "markdown",
   "metadata": {},
   "source": [
    " "
   ]
  },
  {
   "cell_type": "markdown",
   "metadata": {},
   "source": [
    "# 2. 머신러닝 모델 학습\n",
    "\n",
    "분류 모델인 DecisionTree 를 사용하여 학습을 수행하고, 다양한 모델들을 살펴봅시다."
   ]
  },
  {
   "cell_type": "markdown",
   "metadata": {},
   "source": [
    "### 의사결정나무"
   ]
  },
  {
   "cell_type": "code",
   "execution_count": null,
   "metadata": {},
   "outputs": [],
   "source": [
    "from sklearn.tree import DecisionTreeClassifier\n",
    "\n",
    "model = DecisionTreeClassifier()"
   ]
  },
  {
   "cell_type": "code",
   "execution_count": null,
   "metadata": {},
   "outputs": [],
   "source": [
    "model.fit(X_train, y_train)\n",
    "\n",
    "print('Train score:', model.score(X_train, y_train))\n",
    "print('Test score:', model.score(X_test, y_test))"
   ]
  },
  {
   "cell_type": "markdown",
   "metadata": {},
   "source": [
    "### 다양한 분류 모델 학습"
   ]
  },
  {
   "cell_type": "markdown",
   "metadata": {},
   "source": [
    "로지스틱 분류기 모델 이외의 다양한 분류 알고리즘을 사용하고 그 성능을 비교하여 봅시다."
   ]
  },
  {
   "cell_type": "code",
   "execution_count": null,
   "metadata": {},
   "outputs": [],
   "source": [
    "from sklearn.linear_model import LogisticRegression\n",
    "from sklearn.discriminant_analysis import LinearDiscriminantAnalysis\n",
    "from sklearn.neighbors import KNeighborsClassifier\n",
    "from sklearn.naive_bayes import GaussianNB\n",
    "from sklearn.ensemble import RandomForestClassifier\n",
    "from sklearn.svm import SVC\n",
    "import xgboost as xgb\n",
    "from xgboost.sklearn import XGBClassifier\n",
    "\n",
    "\n",
    "models = []\n",
    "models.append(('LR', LogisticRegression(max_iter =5000))) \n",
    "models.append(('LDA', LinearDiscriminantAnalysis()))  # LDA 모델\n",
    "models.append(('KNN', KNeighborsClassifier()))  # KNN 모델\n",
    "models.append(('NB', GaussianNB())) \n",
    "models.append(('RF', RandomForestClassifier()))  # 랜덤포레스트 모델\n",
    "models.append(('SVM', SVC(gamma='auto')))  # SVM 모델\n",
    "models.append(('XGB', XGBClassifier()))  # XGB 모델\n",
    "\n",
    "for name, model in models:\n",
    "    model.fit(X_train, y_train)\n",
    "    msg = \"%s \\t\\t: Train score: %f \\t\\t Test score : %f\" % (name, model.score(X_train, y_train), model.score(X_test, y_test))\n",
    "    print(msg)"
   ]
  },
  {
   "cell_type": "markdown",
   "metadata": {
    "jp-MarkdownHeadingCollapsed": true,
    "tags": []
   },
   "source": [
    "#### 앙상블인 XGBoost 에서 변수 중요도를 출력합니다."
   ]
  },
  {
   "cell_type": "code",
   "execution_count": null,
   "metadata": {},
   "outputs": [],
   "source": [
    "xgb."
   ]
  },
  {
   "cell_type": "code",
   "execution_count": null,
   "metadata": {},
   "outputs": [],
   "source": [
    "df_work.drop('Risk', axis=1)"
   ]
  },
  {
   "cell_type": "code",
   "execution_count": null,
   "metadata": {},
   "outputs": [],
   "source": [
    "train.columns"
   ]
  },
  {
   "cell_type": "code",
   "execution_count": null,
   "metadata": {},
   "outputs": [],
   "source": [
    "max_num_features = 20\n",
    "ax = xgb.plot_importance(models[-1][1], height = 1, grid = True, importance_type = 'gain', show_values = False, max_num_features = max_num_features)\n",
    "\n",
    "ytick = ax.get_yticklabels()\n",
    "feature_importance = []\n",
    "for i in range(max_num_features):\n",
    "    # feature_importance.append(df_work.drop('Risk', axis=1).columns[int(ytick[i].get_text().split('f')[1])])\n",
    "    feature_importance.append(train.columns[int(ytick[i].get_text().split('f')[1])])\n",
    "\n",
    "ax.set_yticklabels(feature_importance)\n",
    "\n",
    "plt.rcParams['figure.figsize'] = (10, 15)\n",
    "plt.xlabel('The F-Score for each features')\n",
    "plt.ylabel('Importances')\n",
    "plt.show()"
   ]
  },
  {
   "cell_type": "markdown",
   "metadata": {},
   "source": [
    "### 모델 튜닝 및 K-fold 교차 검증"
   ]
  },
  {
   "cell_type": "markdown",
   "metadata": {},
   "source": [
    "머신러닝 모델들은 데이터의 특성에 잘 맞도록 다양한 파라미터를 조절하여 성능을 높일 수 있습니다. 이러한 과정을 모델 튜닝이라 하며 본 과정에서는 GridSearchCV를 사용하여 구현해보겠습니다. 추가로 k-fold 방식 또한 사용하여 학습 과정에서 생길 수 있는 과적합을 예방해 봅시다."
   ]
  },
  {
   "cell_type": "code",
   "execution_count": null,
   "metadata": {
    "scrolled": true
   },
   "outputs": [],
   "source": [
    "from sklearn.model_selection import GridSearchCV\n",
    "from sklearn.model_selection import KFold\n",
    "\n",
    "# 성능 비교에 필요한 모델 파라미터들을 정의합니다.\n",
    "parameters = { 'criterion': ['gini','entropy'], \n",
    "              # 'max_depth': np.arange(1,20,2),\n",
    "              'min_impurity_decrease': np.arange(0, 1.0, 0.01) }\n",
    "kfold = KFold(n_splits=5)\n",
    "\n",
    "dt_clf = DecisionTreeClassifier()\n",
    "\n",
    "gscv = GridSearchCV( dt_clf, parameters, scoring = 'accuracy', cv = kfold, n_jobs= -1)"
   ]
  },
  {
   "cell_type": "code",
   "execution_count": null,
   "metadata": {
    "scrolled": true
   },
   "outputs": [],
   "source": [
    "gscv.fit(X_train, y_train)"
   ]
  },
  {
   "cell_type": "code",
   "execution_count": null,
   "metadata": {
    "scrolled": true
   },
   "outputs": [],
   "source": [
    "# 결과를 출력합니다.\n",
    "print(gscv.score(X_train, y_train))\n",
    "print(gscv.score(X_test, y_test))"
   ]
  },
  {
   "cell_type": "markdown",
   "metadata": {},
   "source": [
    "가장 성능이 좋았던 파라미터를 출력합니다."
   ]
  },
  {
   "cell_type": "code",
   "execution_count": null,
   "metadata": {
    "scrolled": true
   },
   "outputs": [],
   "source": [
    "gscv.best_params_"
   ]
  },
  {
   "cell_type": "markdown",
   "metadata": {},
   "source": [
    "장 성능이 좋았던 파라미터로 수행한 모델을 저장합니다."
   ]
  },
  {
   "cell_type": "code",
   "execution_count": null,
   "metadata": {},
   "outputs": [],
   "source": [
    "best_dt = gscv.best_estimator_\n",
    "best_dt.score(X_test, y_test)"
   ]
  },
  {
   "cell_type": "markdown",
   "metadata": {},
   "source": [
    " "
   ]
  },
  {
   "cell_type": "markdown",
   "metadata": {},
   "source": [
    "## 평가 및 예측"
   ]
  },
  {
   "cell_type": "markdown",
   "metadata": {},
   "source": [
    " - accuracy: 오차행렬로 양성/음성을 전체 수를 양성인 수의 비율로 나타낸다.\n",
    " - 재현율 Recall : 양성+음성 결과에 대해 양성의 비율\n",
    " \n",
    "그러므로 신용 위험 예측에서 중요한 것은 위험 없음을 정확히 예측하는 것 보단 위험 있음 판단할 수 있다. 그래서 recall 방식은 `예측한 위험 있음` 대비 `실제 위험 있음`의 비율을 나타내기에 accuracy에서 놓칠 수 있는 결과 해석을 보충한다."
   ]
  },
  {
   "cell_type": "markdown",
   "metadata": {},
   "source": [
    "### Confusion Matrix"
   ]
  },
  {
   "cell_type": "markdown",
   "metadata": {},
   "source": [
    "기존 score에서 볼 수 있었던 결과는 accuracy 기반의 결과였습니다. confusion matrix를 출력하여 각 class 별로 예측한 결과에 대해서 자세히 알아봅시다."
   ]
  },
  {
   "cell_type": "code",
   "execution_count": null,
   "metadata": {},
   "outputs": [],
   "source": [
    "from sklearn.metrics import confusion_matrix\n",
    "\n",
    "model_predition = models[-1][1].predict(X_test)\n",
    "\n",
    "cm = confusion_matrix(y_test, model_predition)\n",
    "\n",
    "# 출력 파트 - seaborn의 heatmap을 사용\n",
    "plt.rcParams['figure.figsize'] = (5, 5)\n",
    "sns.set(style = 'dark', font_scale = 1.4)\n",
    "ax = sns.heatmap(cm, annot=True)\n",
    "plt.xlabel('Prediction')\n",
    "plt.ylabel('Real Data')\n",
    "plt.show()\n",
    "cm"
   ]
  },
  {
   "cell_type": "markdown",
   "metadata": {},
   "source": [
    "위 confusion matrix에서 x 축은 실제 데이터의 label을 의미하고 y 축은 예측한 데이터의 label을 의미합니다.\n",
    "\n",
    "- **0,0 의 값:** `위험 없음(Pass)` 이라고 예측했을 때, 실제 데이터가 `위험 없음(Pass)`인 경우의 개수\n",
    "- **0,1 의 값:** `위험 있음(Fail)` 이라고 예측했을 때, 실제 데이터가 `위험 없음(Pass)`인 경우의 개수\n",
    "- **1,0 의 값:** `위험 없음(Pass)` 이라고 예측했을 때, 실제 데이터가 `위험 있음(Fail)`인 경우의 개수\n",
    "- **1,1 의 값:** `위험 있음(Fail)` 이라고 에측했을 때, 실제 데이터가 `위험 있음(Fail)`인 경우의 개수"
   ]
  },
  {
   "cell_type": "markdown",
   "metadata": {},
   "source": [
    "### 테스트 데이터의 예측값 출력"
   ]
  },
  {
   "cell_type": "markdown",
   "metadata": {},
   "source": [
    "테스트 데이터를 하나씩 입력하여 그 결과를 출력해 봅시다."
   ]
  },
  {
   "cell_type": "code",
   "execution_count": null,
   "metadata": {},
   "outputs": [],
   "source": [
    "for i in range(10): \n",
    "    item = X_test.iloc[i].values\n",
    "    prediction = models[-1][1].predict( item.reshape(1,-1))\n",
    "    print(\"{} 번째 테스트 데이터의 예측 결과: {}, 실제 데이터: {}\".format(i, prediction[0], y_test[i]))"
   ]
  },
  {
   "cell_type": "markdown",
   "metadata": {},
   "source": [
    ">"
   ]
  },
  {
   "cell_type": "markdown",
   "metadata": {},
   "source": [
    "---"
   ]
  },
  {
   "cell_type": "markdown",
   "metadata": {},
   "source": [
    "# 참고\n",
    "\n",
    " - https://www.kaggle.com/datasets/uciml/german-credit\n",
    " - https://www.realcode4you.com/post/german-credit-analysis-using-python-data-science\n",
    " - `금융 거래 고객 신용 위험 예측`"
   ]
  }
 ],
 "metadata": {
  "kernelspec": {
   "display_name": "Python 3 (ipykernel)",
   "language": "python",
   "name": "python3"
  },
  "language_info": {
   "codemirror_mode": {
    "name": "ipython",
    "version": 3
   },
   "file_extension": ".py",
   "mimetype": "text/x-python",
   "name": "python",
   "nbconvert_exporter": "python",
   "pygments_lexer": "ipython3",
   "version": "3.9.9"
  },
  "toc": {
   "base_numbering": 1,
   "nav_menu": {},
   "number_sections": false,
   "sideBar": true,
   "skip_h1_title": false,
   "title_cell": "Table of Contents",
   "title_sidebar": "Contents",
   "toc_cell": false,
   "toc_position": {
    "height": "calc(100% - 180px)",
    "left": "10px",
    "top": "150px",
    "width": "384px"
   },
   "toc_section_display": true,
   "toc_window_display": true
  }
 },
 "nbformat": 4,
 "nbformat_minor": 4
}
